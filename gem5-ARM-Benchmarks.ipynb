{
 "cells": [
  {
   "cell_type": "markdown",
   "id": "01f08edd",
   "metadata": {},
   "source": [
    "# GEM5 ARM"
   ]
  },
  {
   "cell_type": "code",
   "execution_count": 1,
   "id": "dacd2a99",
   "metadata": {},
   "outputs": [],
   "source": [
    "import os\n",
    "import numpy as np\n",
    "import matplotlib.pyplot as plt\n",
    "from enum import Enum"
   ]
  },
  {
   "cell_type": "markdown",
   "id": "fba9a540",
   "metadata": {},
   "source": [
    "### vars"
   ]
  },
  {
   "cell_type": "code",
   "execution_count": 2,
   "id": "a932c2a7",
   "metadata": {},
   "outputs": [],
   "source": [
    "gem5Path = '/home/anton/Master/tools/gem5/gem5-Arm/' \n",
    "build = 'build/X86/gem5.opt'\n",
    "gem5 = gem5Path + build\n",
    "\n",
    "baseDir = './bench/'  + build.replace('.', '-').replace('/','-') + '/'"
   ]
  },
  {
   "cell_type": "code",
   "execution_count": 3,
   "id": "62c4a9a4",
   "metadata": {},
   "outputs": [],
   "source": [
    "config = gem5Path + 'configs/example/se.py'"
   ]
  },
  {
   "cell_type": "code",
   "execution_count": 4,
   "id": "373de66c",
   "metadata": {},
   "outputs": [],
   "source": [
    "defultOption = \"--cpu-type=TimingSimpleCPU --cpu-clock=2GHz --l1d_size=64kB --l1i_size=16kB --caches\""
   ]
  },
  {
   "cell_type": "code",
   "execution_count": 5,
   "id": "be40e636",
   "metadata": {},
   "outputs": [],
   "source": [
    "darknet = './darknet'\n",
    "yolo = 'bench_yolo'\n",
    "vgg = 'todo' \n",
    "darknet19 = 'bench_darknet19'\n",
    "test = \"\""
   ]
  },
  {
   "cell_type": "code",
   "execution_count": 6,
   "id": "b956401e",
   "metadata": {},
   "outputs": [],
   "source": [
    "class Program(Enum):\n",
    "    BASELINE = 0\n",
    "    NNPACK = 1"
   ]
  },
  {
   "cell_type": "markdown",
   "id": "a1d28d4d",
   "metadata": {},
   "source": [
    "## utils"
   ]
  },
  {
   "cell_type": "code",
   "execution_count": 7,
   "id": "b35e75f0",
   "metadata": {},
   "outputs": [],
   "source": [
    "def make(program):\n",
    "    \n",
    "    values = \"\"\n",
    "    \n",
    "    match program:\n",
    "        case Program.BASELINE: values = 'NNPACK=0'        \n",
    "        case Program.NNPACK:   values = 'NNPACK=1'\n",
    "            \n",
    "    os.system('make clean; make'+ ' ' +values ) "
   ]
  },
  {
   "cell_type": "code",
   "execution_count": 8,
   "id": "b8d96f05",
   "metadata": {},
   "outputs": [],
   "source": [
    "def optionsToSubDir(benchmark, program, tag):\n",
    "    \n",
    "    programStr = 'nan'\n",
    "    \n",
    "    match program:\n",
    "        case Program.BASELINE: programStr = 'baseline'        \n",
    "        case Program.NNPACK: programStr = 'nnpack'\n",
    "\n",
    "    path = '/'.join([benchmark,programStr,tag]) + '/'\n",
    "    \n",
    "    return path"
   ]
  },
  {
   "cell_type": "code",
   "execution_count": 9,
   "id": "e749436e",
   "metadata": {},
   "outputs": [],
   "source": [
    "def cyclesToSetup():\n",
    "    return 0"
   ]
  },
  {
   "cell_type": "code",
   "execution_count": 10,
   "id": "9be48141",
   "metadata": {},
   "outputs": [],
   "source": [
    "def readData(Dirs):\n",
    "    data = []\n",
    "    names = ['simTicks']\n",
    "    for Dir in Dirs: \n",
    "    \n",
    "        result = []\n",
    "    \n",
    "        with open(Dir+'stats.txt', 'r') as fp:\n",
    "            lines = fp.readlines()\n",
    "            for row in lines:\n",
    "                for name in names:\n",
    "                    if row.find(name) == 0:\n",
    "                        value = int(row.split()[1])\n",
    "                        result.append((name,value))\n",
    "    \n",
    "        data.append(result)                \n",
    "        \n",
    "    return data"
   ]
  },
  {
   "cell_type": "code",
   "execution_count": 11,
   "id": "1e538f5a",
   "metadata": {},
   "outputs": [],
   "source": [
    "def bench(benchmark, options, program, tag):\n",
    "\n",
    "    outDir =  baseDir + optionsToSubDir(benchmark, program, tag)\n",
    "    out = '--outdir='+ outDir\n",
    "    \n",
    "    binary = '-c ' + '\"'+ darknet  + '\"' + ' --options ' + '\"' + benchmark + '\"'\n",
    "    \n",
    "    cmd = ' '.join([gem5,out,config,defultOption,options,binary])\n",
    "   \n",
    "    print(cmd + '\\n\\n')\n",
    "    \n",
    "    os.system(cmd)\n",
    "    \n",
    "    return(outDir)"
   ]
  },
  {
   "cell_type": "code",
   "execution_count": 12,
   "id": "f82d8104",
   "metadata": {},
   "outputs": [],
   "source": [
    "def run_benchmark(benchmark, options, nnpack, tag):\n",
    "    out = bench(benchmark, options, nnpack, tag)\n",
    "    return(out)"
   ]
  },
  {
   "cell_type": "code",
   "execution_count": 13,
   "id": "c750a6e8",
   "metadata": {},
   "outputs": [],
   "source": [
    "def benchOptions(benchmark, optionsList, program, tags):\n",
    "    \n",
    "    n = len(optionsList)\n",
    "    \n",
    "    out = [None] * n\n",
    "    \n",
    "    for i in range(n):\n",
    "        out[i] = run_benchmark(benchmark, optionsList[i], program, tags[i])\n",
    "        \n",
    "    return(out)"
   ]
  },
  {
   "cell_type": "code",
   "execution_count": 14,
   "id": "17316b87",
   "metadata": {},
   "outputs": [],
   "source": [
    "def benchOptionsMatrix(benchmark, options1, options2, nnpack, tags1, tags2): #to bench vector and l2 chace\n",
    "    options =[opt1 + ' ' + opt2 for opt1 in options1 for opt2 in options2]\n",
    "    tags = [tag1 + '_' + tag2 for tag1 in tags1 for tag2 in tags2]\n",
    "    \n",
    "    out = benchOptions(benchmark, options, nnpack, tags) \n",
    "    return(out)"
   ]
  },
  {
   "cell_type": "markdown",
   "id": "64896ebd",
   "metadata": {},
   "source": [
    "### util graphs"
   ]
  },
  {
   "cell_type": "code",
   "execution_count": 15,
   "id": "ffae44a3",
   "metadata": {},
   "outputs": [],
   "source": [
    "def plotChaceVsCycle(chaces,data):\n",
    "    cycles = [ i[0][1] for i in data]\n",
    "    fig = plt.figure()\n",
    "    ax = fig.add_axes([0,0,1,1])\n",
    "    ax.bar(chaces,cycles)\n",
    "    plt.show()\n",
    "    \n",
    "    "
   ]
  },
  {
   "cell_type": "markdown",
   "id": "a07b4619",
   "metadata": {},
   "source": [
    "# X86 Darknet19 and L2 chace"
   ]
  },
  {
   "cell_type": "code",
   "execution_count": 16,
   "id": "edae7335",
   "metadata": {},
   "outputs": [
    {
     "data": {
      "text/plain": [
       "['--l2_size=64MB --l2cache']"
      ]
     },
     "execution_count": 16,
     "metadata": {},
     "output_type": "execute_result"
    }
   ],
   "source": [
    "chaceSizes = ['256MB','64MB','8MB','1MB']\n",
    "chaceSizes = ['64MB']\n",
    "chaceOptions = ['--l2_size=' + size + ' --l2cache' for size in chaceSizes]\n",
    "chaceOptions"
   ]
  },
  {
   "cell_type": "markdown",
   "id": "c360ed52",
   "metadata": {},
   "source": [
    "## baseline"
   ]
  },
  {
   "cell_type": "code",
   "execution_count": 17,
   "id": "e6a36166",
   "metadata": {
    "scrolled": false
   },
   "outputs": [
    {
     "name": "stdout",
     "output_type": "stream",
     "text": [
      "rm -rf ./obj/gemm.o ./obj/utils.o ./obj/cuda.o ./obj/deconvolutional_layer.o ./obj/convolutional_layer.o ./obj/list.o ./obj/image.o ./obj/activations.o ./obj/im2col.o ./obj/col2im.o ./obj/blas.o ./obj/crop_layer.o ./obj/dropout_layer.o ./obj/maxpool_layer.o ./obj/softmax_layer.o ./obj/data.o ./obj/matrix.o ./obj/network.o ./obj/connected_layer.o ./obj/cost_layer.o ./obj/parser.o ./obj/option_list.o ./obj/detection_layer.o ./obj/route_layer.o ./obj/upsample_layer.o ./obj/box.o ./obj/normalization_layer.o ./obj/avgpool_layer.o ./obj/layer.o ./obj/local_layer.o ./obj/shortcut_layer.o ./obj/logistic_layer.o ./obj/activation_layer.o ./obj/rnn_layer.o ./obj/gru_layer.o ./obj/crnn_layer.o ./obj/demo.o ./obj/batchnorm_layer.o ./obj/region_layer.o ./obj/reorg_layer.o ./obj/tree.o ./obj/lstm_layer.o ./obj/l2norm_layer.o ./obj/yolo_layer.o ./obj/iseg_layer.o ./obj/image_opencv.o libdarknet.so libdarknet.a darknet ./obj/captcha.o ./obj/lsd.o ./obj/super.o ./obj/art.o ./obj/tag.o ./obj/cifar.o ./obj/go.o ./obj/rnn.o ./obj/segmenter.o ./obj/regressor.o ./obj/classifier.o ./obj/coco.o ./obj/yolo.o ./obj/detector.o ./obj/nightmare.o ./obj/instance-segmenter.o ./obj/darknet.o ./obj/test.o ./obj//*\n",
      "gcc -Iinclude/ -Isrc/ -Wall -Wno-unused-result -Wno-unknown-pragmas -Wfatal-errors -fPIC -static -Ofast -c ./src/gemm.c -o obj/gemm.o\n",
      "gcc -Iinclude/ -Isrc/ -Wall -Wno-unused-result -Wno-unknown-pragmas -Wfatal-errors -fPIC -static -Ofast -c ./src/utils.c -o obj/utils.o\n",
      "gcc -Iinclude/ -Isrc/ -Wall -Wno-unused-result -Wno-unknown-pragmas -Wfatal-errors -fPIC -static -Ofast -c ./src/cuda.c -o obj/cuda.o\n",
      "gcc -Iinclude/ -Isrc/ -Wall -Wno-unused-result -Wno-unknown-pragmas -Wfatal-errors -fPIC -static -Ofast -c ./src/deconvolutional_layer.c -o obj/deconvolutional_layer.o\n",
      "gcc -Iinclude/ -Isrc/ -Wall -Wno-unused-result -Wno-unknown-pragmas -Wfatal-errors -fPIC -static -Ofast -c ./src/convolutional_layer.c -o obj/convolutional_layer.o\n",
      "gcc -Iinclude/ -Isrc/ -Wall -Wno-unused-result -Wno-unknown-pragmas -Wfatal-errors -fPIC -static -Ofast -c ./src/list.c -o obj/list.o\n",
      "gcc -Iinclude/ -Isrc/ -Wall -Wno-unused-result -Wno-unknown-pragmas -Wfatal-errors -fPIC -static -Ofast -c ./src/image.c -o obj/image.o\n",
      "gcc -Iinclude/ -Isrc/ -Wall -Wno-unused-result -Wno-unknown-pragmas -Wfatal-errors -fPIC -static -Ofast -c ./src/activations.c -o obj/activations.o\n",
      "gcc -Iinclude/ -Isrc/ -Wall -Wno-unused-result -Wno-unknown-pragmas -Wfatal-errors -fPIC -static -Ofast -c ./src/im2col.c -o obj/im2col.o\n",
      "gcc -Iinclude/ -Isrc/ -Wall -Wno-unused-result -Wno-unknown-pragmas -Wfatal-errors -fPIC -static -Ofast -c ./src/col2im.c -o obj/col2im.o\n",
      "gcc -Iinclude/ -Isrc/ -Wall -Wno-unused-result -Wno-unknown-pragmas -Wfatal-errors -fPIC -static -Ofast -c ./src/blas.c -o obj/blas.o\n",
      "gcc -Iinclude/ -Isrc/ -Wall -Wno-unused-result -Wno-unknown-pragmas -Wfatal-errors -fPIC -static -Ofast -c ./src/crop_layer.c -o obj/crop_layer.o\n",
      "gcc -Iinclude/ -Isrc/ -Wall -Wno-unused-result -Wno-unknown-pragmas -Wfatal-errors -fPIC -static -Ofast -c ./src/dropout_layer.c -o obj/dropout_layer.o\n",
      "gcc -Iinclude/ -Isrc/ -Wall -Wno-unused-result -Wno-unknown-pragmas -Wfatal-errors -fPIC -static -Ofast -c ./src/maxpool_layer.c -o obj/maxpool_layer.o\n",
      "gcc -Iinclude/ -Isrc/ -Wall -Wno-unused-result -Wno-unknown-pragmas -Wfatal-errors -fPIC -static -Ofast -c ./src/softmax_layer.c -o obj/softmax_layer.o\n",
      "gcc -Iinclude/ -Isrc/ -Wall -Wno-unused-result -Wno-unknown-pragmas -Wfatal-errors -fPIC -static -Ofast -c ./src/data.c -o obj/data.o\n",
      "gcc -Iinclude/ -Isrc/ -Wall -Wno-unused-result -Wno-unknown-pragmas -Wfatal-errors -fPIC -static -Ofast -c ./src/matrix.c -o obj/matrix.o\n",
      "gcc -Iinclude/ -Isrc/ -Wall -Wno-unused-result -Wno-unknown-pragmas -Wfatal-errors -fPIC -static -Ofast -c ./src/network.c -o obj/network.o\n",
      "gcc -Iinclude/ -Isrc/ -Wall -Wno-unused-result -Wno-unknown-pragmas -Wfatal-errors -fPIC -static -Ofast -c ./src/connected_layer.c -o obj/connected_layer.o\n",
      "gcc -Iinclude/ -Isrc/ -Wall -Wno-unused-result -Wno-unknown-pragmas -Wfatal-errors -fPIC -static -Ofast -c ./src/cost_layer.c -o obj/cost_layer.o\n",
      "gcc -Iinclude/ -Isrc/ -Wall -Wno-unused-result -Wno-unknown-pragmas -Wfatal-errors -fPIC -static -Ofast -c ./src/parser.c -o obj/parser.o\n",
      "gcc -Iinclude/ -Isrc/ -Wall -Wno-unused-result -Wno-unknown-pragmas -Wfatal-errors -fPIC -static -Ofast -c ./src/option_list.c -o obj/option_list.o\n",
      "gcc -Iinclude/ -Isrc/ -Wall -Wno-unused-result -Wno-unknown-pragmas -Wfatal-errors -fPIC -static -Ofast -c ./src/detection_layer.c -o obj/detection_layer.o\n",
      "gcc -Iinclude/ -Isrc/ -Wall -Wno-unused-result -Wno-unknown-pragmas -Wfatal-errors -fPIC -static -Ofast -c ./src/route_layer.c -o obj/route_layer.o\n",
      "gcc -Iinclude/ -Isrc/ -Wall -Wno-unused-result -Wno-unknown-pragmas -Wfatal-errors -fPIC -static -Ofast -c ./src/upsample_layer.c -o obj/upsample_layer.o\n",
      "gcc -Iinclude/ -Isrc/ -Wall -Wno-unused-result -Wno-unknown-pragmas -Wfatal-errors -fPIC -static -Ofast -c ./src/box.c -o obj/box.o\n",
      "gcc -Iinclude/ -Isrc/ -Wall -Wno-unused-result -Wno-unknown-pragmas -Wfatal-errors -fPIC -static -Ofast -c ./src/normalization_layer.c -o obj/normalization_layer.o\n",
      "gcc -Iinclude/ -Isrc/ -Wall -Wno-unused-result -Wno-unknown-pragmas -Wfatal-errors -fPIC -static -Ofast -c ./src/avgpool_layer.c -o obj/avgpool_layer.o\n",
      "gcc -Iinclude/ -Isrc/ -Wall -Wno-unused-result -Wno-unknown-pragmas -Wfatal-errors -fPIC -static -Ofast -c ./src/layer.c -o obj/layer.o\n",
      "gcc -Iinclude/ -Isrc/ -Wall -Wno-unused-result -Wno-unknown-pragmas -Wfatal-errors -fPIC -static -Ofast -c ./src/local_layer.c -o obj/local_layer.o\n",
      "gcc -Iinclude/ -Isrc/ -Wall -Wno-unused-result -Wno-unknown-pragmas -Wfatal-errors -fPIC -static -Ofast -c ./src/shortcut_layer.c -o obj/shortcut_layer.o\n",
      "gcc -Iinclude/ -Isrc/ -Wall -Wno-unused-result -Wno-unknown-pragmas -Wfatal-errors -fPIC -static -Ofast -c ./src/logistic_layer.c -o obj/logistic_layer.o\n",
      "gcc -Iinclude/ -Isrc/ -Wall -Wno-unused-result -Wno-unknown-pragmas -Wfatal-errors -fPIC -static -Ofast -c ./src/activation_layer.c -o obj/activation_layer.o\n",
      "gcc -Iinclude/ -Isrc/ -Wall -Wno-unused-result -Wno-unknown-pragmas -Wfatal-errors -fPIC -static -Ofast -c ./src/rnn_layer.c -o obj/rnn_layer.o\n",
      "gcc -Iinclude/ -Isrc/ -Wall -Wno-unused-result -Wno-unknown-pragmas -Wfatal-errors -fPIC -static -Ofast -c ./src/gru_layer.c -o obj/gru_layer.o\n",
      "gcc -Iinclude/ -Isrc/ -Wall -Wno-unused-result -Wno-unknown-pragmas -Wfatal-errors -fPIC -static -Ofast -c ./src/crnn_layer.c -o obj/crnn_layer.o\n",
      "gcc -Iinclude/ -Isrc/ -Wall -Wno-unused-result -Wno-unknown-pragmas -Wfatal-errors -fPIC -static -Ofast -c ./src/demo.c -o obj/demo.o\n",
      "gcc -Iinclude/ -Isrc/ -Wall -Wno-unused-result -Wno-unknown-pragmas -Wfatal-errors -fPIC -static -Ofast -c ./src/batchnorm_layer.c -o obj/batchnorm_layer.o\n",
      "gcc -Iinclude/ -Isrc/ -Wall -Wno-unused-result -Wno-unknown-pragmas -Wfatal-errors -fPIC -static -Ofast -c ./src/region_layer.c -o obj/region_layer.o\n",
      "gcc -Iinclude/ -Isrc/ -Wall -Wno-unused-result -Wno-unknown-pragmas -Wfatal-errors -fPIC -static -Ofast -c ./src/reorg_layer.c -o obj/reorg_layer.o\n",
      "gcc -Iinclude/ -Isrc/ -Wall -Wno-unused-result -Wno-unknown-pragmas -Wfatal-errors -fPIC -static -Ofast -c ./src/tree.c -o obj/tree.o\n",
      "gcc -Iinclude/ -Isrc/ -Wall -Wno-unused-result -Wno-unknown-pragmas -Wfatal-errors -fPIC -static -Ofast -c ./src/lstm_layer.c -o obj/lstm_layer.o\n",
      "gcc -Iinclude/ -Isrc/ -Wall -Wno-unused-result -Wno-unknown-pragmas -Wfatal-errors -fPIC -static -Ofast -c ./src/l2norm_layer.c -o obj/l2norm_layer.o\n",
      "gcc -Iinclude/ -Isrc/ -Wall -Wno-unused-result -Wno-unknown-pragmas -Wfatal-errors -fPIC -static -Ofast -c ./src/yolo_layer.c -o obj/yolo_layer.o\n",
      "gcc -Iinclude/ -Isrc/ -Wall -Wno-unused-result -Wno-unknown-pragmas -Wfatal-errors -fPIC -static -Ofast -c ./src/iseg_layer.c -o obj/iseg_layer.o\n",
      "g++ -Iinclude/ -Isrc/ -Wall -Wno-unused-result -Wno-unknown-pragmas -Wfatal-errors -fPIC -static -Ofast -c ./src/image_opencv.cpp -o obj/image_opencv.o\n",
      "#gcc -Wall -Wno-unused-result -Wno-unknown-pragmas -Wfatal-errors -fPIC -static -Ofast -shared obj/gemm.o obj/utils.o obj/cuda.o obj/deconvolutional_layer.o obj/convolutional_layer.o obj/list.o obj/image.o obj/activations.o obj/im2col.o obj/col2im.o obj/blas.o obj/crop_layer.o obj/dropout_layer.o obj/maxpool_layer.o obj/softmax_layer.o obj/data.o obj/matrix.o obj/network.o obj/connected_layer.o obj/cost_layer.o obj/parser.o obj/option_list.o obj/detection_layer.o obj/route_layer.o obj/upsample_layer.o obj/box.o obj/normalization_layer.o obj/avgpool_layer.o obj/layer.o obj/local_layer.o obj/shortcut_layer.o obj/logistic_layer.o obj/activation_layer.o obj/rnn_layer.o obj/gru_layer.o obj/crnn_layer.o obj/demo.o obj/batchnorm_layer.o obj/region_layer.o obj/reorg_layer.o obj/tree.o obj/lstm_layer.o obj/l2norm_layer.o obj/yolo_layer.o obj/iseg_layer.o obj/image_opencv.o -o libdarknet.so -lm -pthread\n",
      "ar rcs libdarknet.a obj/gemm.o obj/utils.o obj/cuda.o obj/deconvolutional_layer.o obj/convolutional_layer.o obj/list.o obj/image.o obj/activations.o obj/im2col.o obj/col2im.o obj/blas.o obj/crop_layer.o obj/dropout_layer.o obj/maxpool_layer.o obj/softmax_layer.o obj/data.o obj/matrix.o obj/network.o obj/connected_layer.o obj/cost_layer.o obj/parser.o obj/option_list.o obj/detection_layer.o obj/route_layer.o obj/upsample_layer.o obj/box.o obj/normalization_layer.o obj/avgpool_layer.o obj/layer.o obj/local_layer.o obj/shortcut_layer.o obj/logistic_layer.o obj/activation_layer.o obj/rnn_layer.o obj/gru_layer.o obj/crnn_layer.o obj/demo.o obj/batchnorm_layer.o obj/region_layer.o obj/reorg_layer.o obj/tree.o obj/lstm_layer.o obj/l2norm_layer.o obj/yolo_layer.o obj/iseg_layer.o obj/image_opencv.o\n",
      "gcc -Iinclude/ -Isrc/ -Wall -Wno-unused-result -Wno-unknown-pragmas -Wfatal-errors -fPIC -static -Ofast -c ./examples/captcha.c -o obj/captcha.o\n"
     ]
    },
    {
     "name": "stdout",
     "output_type": "stream",
     "text": [
      "gcc -Iinclude/ -Isrc/ -Wall -Wno-unused-result -Wno-unknown-pragmas -Wfatal-errors -fPIC -static -Ofast -c ./examples/lsd.c -o obj/lsd.o\n",
      "gcc -Iinclude/ -Isrc/ -Wall -Wno-unused-result -Wno-unknown-pragmas -Wfatal-errors -fPIC -static -Ofast -c ./examples/super.c -o obj/super.o\n",
      "gcc -Iinclude/ -Isrc/ -Wall -Wno-unused-result -Wno-unknown-pragmas -Wfatal-errors -fPIC -static -Ofast -c ./examples/art.c -o obj/art.o\n",
      "gcc -Iinclude/ -Isrc/ -Wall -Wno-unused-result -Wno-unknown-pragmas -Wfatal-errors -fPIC -static -Ofast -c ./examples/tag.c -o obj/tag.o\n",
      "gcc -Iinclude/ -Isrc/ -Wall -Wno-unused-result -Wno-unknown-pragmas -Wfatal-errors -fPIC -static -Ofast -c ./examples/cifar.c -o obj/cifar.o\n",
      "gcc -Iinclude/ -Isrc/ -Wall -Wno-unused-result -Wno-unknown-pragmas -Wfatal-errors -fPIC -static -Ofast -c ./examples/go.c -o obj/go.o\n",
      "gcc -Iinclude/ -Isrc/ -Wall -Wno-unused-result -Wno-unknown-pragmas -Wfatal-errors -fPIC -static -Ofast -c ./examples/rnn.c -o obj/rnn.o\n",
      "gcc -Iinclude/ -Isrc/ -Wall -Wno-unused-result -Wno-unknown-pragmas -Wfatal-errors -fPIC -static -Ofast -c ./examples/segmenter.c -o obj/segmenter.o\n",
      "gcc -Iinclude/ -Isrc/ -Wall -Wno-unused-result -Wno-unknown-pragmas -Wfatal-errors -fPIC -static -Ofast -c ./examples/regressor.c -o obj/regressor.o\n",
      "gcc -Iinclude/ -Isrc/ -Wall -Wno-unused-result -Wno-unknown-pragmas -Wfatal-errors -fPIC -static -Ofast -c ./examples/classifier.c -o obj/classifier.o\n"
     ]
    },
    {
     "name": "stderr",
     "output_type": "stream",
     "text": [
      "In file included from /usr/include/string.h:535,\n",
      "                 from include/darknet.h:5,\n",
      "                 from ./examples/classifier.c:1:\n",
      "In function ‘strncpy’,\n",
      "    inlined from ‘run_benchmark_classifier’ at ./examples/classifier.c:635:5:\n",
      "/usr/include/x86_64-linux-gnu/bits/string_fortified.h:95:10: warning: ‘__builtin_strncpy’ specified bound 256 equals destination size [-Wstringop-truncation]\n",
      "   95 |   return __builtin___strncpy_chk (__dest, __src, __len,\n",
      "      |          ^~~~~~~~~~~~~~~~~~~~~~~~~~~~~~~~~~~~~~~~~~~~~~\n",
      "   96 |                                   __glibc_objsize (__dest));\n",
      "      |                                   ~~~~~~~~~~~~~~~~~~~~~~~~~\n"
     ]
    },
    {
     "name": "stdout",
     "output_type": "stream",
     "text": [
      "gcc -Iinclude/ -Isrc/ -Wall -Wno-unused-result -Wno-unknown-pragmas -Wfatal-errors -fPIC -static -Ofast -c ./examples/coco.c -o obj/coco.o\n",
      "gcc -Iinclude/ -Isrc/ -Wall -Wno-unused-result -Wno-unknown-pragmas -Wfatal-errors -fPIC -static -Ofast -c ./examples/yolo.c -o obj/yolo.o\n",
      "gcc -Iinclude/ -Isrc/ -Wall -Wno-unused-result -Wno-unknown-pragmas -Wfatal-errors -fPIC -static -Ofast -c ./examples/detector.c -o obj/detector.o\n"
     ]
    },
    {
     "name": "stderr",
     "output_type": "stream",
     "text": [
      "./examples/detector.c: In function ‘test_detector’:\n",
      "./examples/detector.c:585:24: warning: ‘return’ with no value, in function returning non-void [-Wreturn-type]\n",
      "  585 |             if(!input) return;\n",
      "      |                        ^~~~~~\n",
      "./examples/detector.c:562:7: note: declared here\n",
      "  562 | float test_detector(char *datacfg, char *cfgfile, char *weightfile, char *filename, float thresh, float hier_thresh, char *outfile, int fullscreen)\n",
      "      |       ^~~~~~~~~~~~~\n"
     ]
    },
    {
     "name": "stdout",
     "output_type": "stream",
     "text": [
      "gcc -Iinclude/ -Isrc/ -Wall -Wno-unused-result -Wno-unknown-pragmas -Wfatal-errors -fPIC -static -Ofast -c ./examples/nightmare.c -o obj/nightmare.o\n",
      "gcc -Iinclude/ -Isrc/ -Wall -Wno-unused-result -Wno-unknown-pragmas -Wfatal-errors -fPIC -static -Ofast -c ./examples/instance-segmenter.c -o obj/instance-segmenter.o\n",
      "gcc -Iinclude/ -Isrc/ -Wall -Wno-unused-result -Wno-unknown-pragmas -Wfatal-errors -fPIC -static -Ofast -c ./examples/darknet.c -o obj/darknet.o\n",
      "gcc -Iinclude/ -Isrc/ -Wall -Wno-unused-result -Wno-unknown-pragmas -Wfatal-errors -fPIC -static -Ofast -c ./examples/test.c -o obj/test.o\n",
      "gcc -Iinclude/ -Isrc/ -Wall -Wno-unused-result -Wno-unknown-pragmas -Wfatal-errors -fPIC -static -Ofast obj/captcha.o obj/lsd.o obj/super.o obj/art.o obj/tag.o obj/cifar.o obj/go.o obj/rnn.o obj/segmenter.o obj/regressor.o obj/classifier.o obj/coco.o obj/yolo.o obj/detector.o obj/nightmare.o obj/instance-segmenter.o obj/darknet.o obj/test.o libdarknet.a -o darknet -lm -pthread libdarknet.a\n"
     ]
    }
   ],
   "source": [
    "make(Program.BASELINE)"
   ]
  },
  {
   "cell_type": "code",
   "execution_count": 21,
   "id": "709a0c6c",
   "metadata": {
    "scrolled": true
   },
   "outputs": [
    {
     "name": "stdout",
     "output_type": "stream",
     "text": [
      "/home/anton/Master/tools/gem5/gem5-Arm/build/X86/gem5.opt --outdir=./bench/build-X86-gem5-opt/bench_yolo/baseline/64MB/ /home/anton/Master/tools/gem5/gem5-Arm/configs/example/se.py --cpu-type=TimingSimpleCPU --cpu-clock=2GHz --l1d_size=64kB --l1i_size=16kB --caches --l2_size=64MB --l2cache -c \"./darknet\" --options \"bench_yolo\"\n",
      "\n",
      "\n",
      "Global frequency set at 1000000000000 ticks per second\n",
      "gem5 Simulator System.  https://www.gem5.org\n",
      "gem5 is copyrighted software; use the --copyright option for details.\n",
      "\n",
      "gem5 version 22.1.0.0\n",
      "gem5 compiled Jan 24 2023 19:03:31\n",
      "gem5 started Feb  9 2023 11:11:35\n",
      "gem5 executing on anton-mint, pid 7026\n",
      "command line: /home/anton/Master/tools/gem5/gem5-Arm/build/X86/gem5.opt --outdir=./bench/build-X86-gem5-opt/bench_yolo/baseline/64MB/ /home/anton/Master/tools/gem5/gem5-Arm/configs/example/se.py --cpu-type=TimingSimpleCPU --cpu-clock=2GHz --l1d_size=64kB --l1i_size=16kB --caches --l2_size=64MB --l2cache -c ./darknet --options bench_yolo\n",
      "\n",
      "info: Standard input is not a terminal, disabling listeners.\n",
      "**** REAL SIMULATION ****\n",
      "Exiting @ tick 310530500 because exiting with last active thread context\n"
     ]
    }
   ],
   "source": [
    "baseline_darknet19_chace_out = benchOptions(yolo,chaceOptions,Program.BASELINE,chaceSizes)"
   ]
  },
  {
   "cell_type": "code",
   "execution_count": 19,
   "id": "699f30cb",
   "metadata": {},
   "outputs": [],
   "source": [
    "baseline_darknet19_chace_data = readData(baseline_darknet19_chace_out)"
   ]
  },
  {
   "cell_type": "code",
   "execution_count": 20,
   "id": "0163c412",
   "metadata": {},
   "outputs": [
    {
     "ename": "RuntimeError",
     "evalue": "matplotlib does not support generators as input",
     "output_type": "error",
     "traceback": [
      "\u001b[0;31m---------------------------------------------------------------------------\u001b[0m",
      "\u001b[0;31mRuntimeError\u001b[0m                              Traceback (most recent call last)",
      "Cell \u001b[0;32mIn[20], line 1\u001b[0m\n\u001b[0;32m----> 1\u001b[0m \u001b[43mplotChaceVsCycle\u001b[49m\u001b[43m(\u001b[49m\u001b[38;5;28;43mreversed\u001b[39;49m\u001b[43m(\u001b[49m\u001b[43mchaceSizes\u001b[49m\u001b[43m)\u001b[49m\u001b[43m,\u001b[49m\u001b[38;5;28;43mreversed\u001b[39;49m\u001b[43m(\u001b[49m\u001b[43mbaseline_darknet19_chace_data\u001b[49m\u001b[43m)\u001b[49m\u001b[43m)\u001b[49m\n",
      "Cell \u001b[0;32mIn[15], line 5\u001b[0m, in \u001b[0;36mplotChaceVsCycle\u001b[0;34m(chaces, data)\u001b[0m\n\u001b[1;32m      3\u001b[0m fig \u001b[38;5;241m=\u001b[39m plt\u001b[38;5;241m.\u001b[39mfigure()\n\u001b[1;32m      4\u001b[0m ax \u001b[38;5;241m=\u001b[39m fig\u001b[38;5;241m.\u001b[39madd_axes([\u001b[38;5;241m0\u001b[39m,\u001b[38;5;241m0\u001b[39m,\u001b[38;5;241m1\u001b[39m,\u001b[38;5;241m1\u001b[39m])\n\u001b[0;32m----> 5\u001b[0m \u001b[43max\u001b[49m\u001b[38;5;241;43m.\u001b[39;49m\u001b[43mbar\u001b[49m\u001b[43m(\u001b[49m\u001b[43mchaces\u001b[49m\u001b[43m,\u001b[49m\u001b[43mcycles\u001b[49m\u001b[43m)\u001b[49m\n\u001b[1;32m      6\u001b[0m plt\u001b[38;5;241m.\u001b[39mshow()\n",
      "File \u001b[0;32m~/.local/lib/python3.10/site-packages/matplotlib/__init__.py:1433\u001b[0m, in \u001b[0;36m_preprocess_data.<locals>.inner\u001b[0;34m(ax, data, *args, **kwargs)\u001b[0m\n\u001b[1;32m   1430\u001b[0m \u001b[38;5;129m@functools\u001b[39m\u001b[38;5;241m.\u001b[39mwraps(func)\n\u001b[1;32m   1431\u001b[0m \u001b[38;5;28;01mdef\u001b[39;00m \u001b[38;5;21minner\u001b[39m(ax, \u001b[38;5;241m*\u001b[39margs, data\u001b[38;5;241m=\u001b[39m\u001b[38;5;28;01mNone\u001b[39;00m, \u001b[38;5;241m*\u001b[39m\u001b[38;5;241m*\u001b[39mkwargs):\n\u001b[1;32m   1432\u001b[0m     \u001b[38;5;28;01mif\u001b[39;00m data \u001b[38;5;129;01mis\u001b[39;00m \u001b[38;5;28;01mNone\u001b[39;00m:\n\u001b[0;32m-> 1433\u001b[0m         \u001b[38;5;28;01mreturn\u001b[39;00m \u001b[43mfunc\u001b[49m\u001b[43m(\u001b[49m\u001b[43max\u001b[49m\u001b[43m,\u001b[49m\u001b[43m \u001b[49m\u001b[38;5;241;43m*\u001b[39;49m\u001b[38;5;28;43mmap\u001b[39;49m\u001b[43m(\u001b[49m\u001b[43msanitize_sequence\u001b[49m\u001b[43m,\u001b[49m\u001b[43m \u001b[49m\u001b[43margs\u001b[49m\u001b[43m)\u001b[49m\u001b[43m,\u001b[49m\u001b[43m \u001b[49m\u001b[38;5;241;43m*\u001b[39;49m\u001b[38;5;241;43m*\u001b[39;49m\u001b[43mkwargs\u001b[49m\u001b[43m)\u001b[49m\n\u001b[1;32m   1435\u001b[0m     bound \u001b[38;5;241m=\u001b[39m new_sig\u001b[38;5;241m.\u001b[39mbind(ax, \u001b[38;5;241m*\u001b[39margs, \u001b[38;5;241m*\u001b[39m\u001b[38;5;241m*\u001b[39mkwargs)\n\u001b[1;32m   1436\u001b[0m     auto_label \u001b[38;5;241m=\u001b[39m (bound\u001b[38;5;241m.\u001b[39marguments\u001b[38;5;241m.\u001b[39mget(label_namer)\n\u001b[1;32m   1437\u001b[0m                   \u001b[38;5;129;01mor\u001b[39;00m bound\u001b[38;5;241m.\u001b[39mkwargs\u001b[38;5;241m.\u001b[39mget(label_namer))\n",
      "File \u001b[0;32m~/.local/lib/python3.10/site-packages/matplotlib/axes/_axes.py:2372\u001b[0m, in \u001b[0;36mAxes.bar\u001b[0;34m(self, x, height, width, bottom, align, **kwargs)\u001b[0m\n\u001b[1;32m   2369\u001b[0m         x \u001b[38;5;241m=\u001b[39m \u001b[38;5;241m0\u001b[39m\n\u001b[1;32m   2371\u001b[0m \u001b[38;5;28;01mif\u001b[39;00m orientation \u001b[38;5;241m==\u001b[39m \u001b[38;5;124m'\u001b[39m\u001b[38;5;124mvertical\u001b[39m\u001b[38;5;124m'\u001b[39m:\n\u001b[0;32m-> 2372\u001b[0m     \u001b[38;5;28;43mself\u001b[39;49m\u001b[38;5;241;43m.\u001b[39;49m\u001b[43m_process_unit_info\u001b[49m\u001b[43m(\u001b[49m\n\u001b[1;32m   2373\u001b[0m \u001b[43m        \u001b[49m\u001b[43m[\u001b[49m\u001b[43m(\u001b[49m\u001b[38;5;124;43m\"\u001b[39;49m\u001b[38;5;124;43mx\u001b[39;49m\u001b[38;5;124;43m\"\u001b[39;49m\u001b[43m,\u001b[49m\u001b[43m \u001b[49m\u001b[43mx\u001b[49m\u001b[43m)\u001b[49m\u001b[43m,\u001b[49m\u001b[43m \u001b[49m\u001b[43m(\u001b[49m\u001b[38;5;124;43m\"\u001b[39;49m\u001b[38;5;124;43my\u001b[39;49m\u001b[38;5;124;43m\"\u001b[39;49m\u001b[43m,\u001b[49m\u001b[43m \u001b[49m\u001b[43mheight\u001b[49m\u001b[43m)\u001b[49m\u001b[43m]\u001b[49m\u001b[43m,\u001b[49m\u001b[43m \u001b[49m\u001b[43mkwargs\u001b[49m\u001b[43m,\u001b[49m\u001b[43m \u001b[49m\u001b[43mconvert\u001b[49m\u001b[38;5;241;43m=\u001b[39;49m\u001b[38;5;28;43;01mFalse\u001b[39;49;00m\u001b[43m)\u001b[49m\n\u001b[1;32m   2374\u001b[0m     \u001b[38;5;28;01mif\u001b[39;00m log:\n\u001b[1;32m   2375\u001b[0m         \u001b[38;5;28mself\u001b[39m\u001b[38;5;241m.\u001b[39mset_yscale(\u001b[38;5;124m'\u001b[39m\u001b[38;5;124mlog\u001b[39m\u001b[38;5;124m'\u001b[39m, nonpositive\u001b[38;5;241m=\u001b[39m\u001b[38;5;124m'\u001b[39m\u001b[38;5;124mclip\u001b[39m\u001b[38;5;124m'\u001b[39m)\n",
      "File \u001b[0;32m~/.local/lib/python3.10/site-packages/matplotlib/axes/_base.py:2578\u001b[0m, in \u001b[0;36m_AxesBase._process_unit_info\u001b[0;34m(self, datasets, kwargs, convert)\u001b[0m\n\u001b[1;32m   2576\u001b[0m     \u001b[38;5;66;03m# Update from data if axis is already set but no unit is set yet.\u001b[39;00m\n\u001b[1;32m   2577\u001b[0m     \u001b[38;5;28;01mif\u001b[39;00m axis \u001b[38;5;129;01mis\u001b[39;00m \u001b[38;5;129;01mnot\u001b[39;00m \u001b[38;5;28;01mNone\u001b[39;00m \u001b[38;5;129;01mand\u001b[39;00m data \u001b[38;5;129;01mis\u001b[39;00m \u001b[38;5;129;01mnot\u001b[39;00m \u001b[38;5;28;01mNone\u001b[39;00m \u001b[38;5;129;01mand\u001b[39;00m \u001b[38;5;129;01mnot\u001b[39;00m axis\u001b[38;5;241m.\u001b[39mhave_units():\n\u001b[0;32m-> 2578\u001b[0m         \u001b[43maxis\u001b[49m\u001b[38;5;241;43m.\u001b[39;49m\u001b[43mupdate_units\u001b[49m\u001b[43m(\u001b[49m\u001b[43mdata\u001b[49m\u001b[43m)\u001b[49m\n\u001b[1;32m   2579\u001b[0m \u001b[38;5;28;01mfor\u001b[39;00m axis_name, axis \u001b[38;5;129;01min\u001b[39;00m axis_map\u001b[38;5;241m.\u001b[39mitems():\n\u001b[1;32m   2580\u001b[0m     \u001b[38;5;66;03m# Return if no axis is set.\u001b[39;00m\n\u001b[1;32m   2581\u001b[0m     \u001b[38;5;28;01mif\u001b[39;00m axis \u001b[38;5;129;01mis\u001b[39;00m \u001b[38;5;28;01mNone\u001b[39;00m:\n",
      "File \u001b[0;32m~/.local/lib/python3.10/site-packages/matplotlib/axis.py:1602\u001b[0m, in \u001b[0;36mAxis.update_units\u001b[0;34m(self, data)\u001b[0m\n\u001b[1;32m   1596\u001b[0m \u001b[38;5;28;01mdef\u001b[39;00m \u001b[38;5;21mupdate_units\u001b[39m(\u001b[38;5;28mself\u001b[39m, data):\n\u001b[1;32m   1597\u001b[0m     \u001b[38;5;124;03m\"\"\"\u001b[39;00m\n\u001b[1;32m   1598\u001b[0m \u001b[38;5;124;03m    Introspect *data* for units converter and update the\u001b[39;00m\n\u001b[1;32m   1599\u001b[0m \u001b[38;5;124;03m    ``axis.converter`` instance if necessary. Return *True*\u001b[39;00m\n\u001b[1;32m   1600\u001b[0m \u001b[38;5;124;03m    if *data* is registered for unit conversion.\u001b[39;00m\n\u001b[1;32m   1601\u001b[0m \u001b[38;5;124;03m    \"\"\"\u001b[39;00m\n\u001b[0;32m-> 1602\u001b[0m     converter \u001b[38;5;241m=\u001b[39m \u001b[43mmunits\u001b[49m\u001b[38;5;241;43m.\u001b[39;49m\u001b[43mregistry\u001b[49m\u001b[38;5;241;43m.\u001b[39;49m\u001b[43mget_converter\u001b[49m\u001b[43m(\u001b[49m\u001b[43mdata\u001b[49m\u001b[43m)\u001b[49m\n\u001b[1;32m   1603\u001b[0m     \u001b[38;5;28;01mif\u001b[39;00m converter \u001b[38;5;129;01mis\u001b[39;00m \u001b[38;5;28;01mNone\u001b[39;00m:\n\u001b[1;32m   1604\u001b[0m         \u001b[38;5;28;01mreturn\u001b[39;00m \u001b[38;5;28;01mFalse\u001b[39;00m\n",
      "File \u001b[0;32m~/.local/lib/python3.10/site-packages/matplotlib/units.py:200\u001b[0m, in \u001b[0;36mRegistry.get_converter\u001b[0;34m(self, x)\u001b[0m\n\u001b[1;32m    198\u001b[0m         \u001b[38;5;28;01mpass\u001b[39;00m\n\u001b[1;32m    199\u001b[0m \u001b[38;5;28;01mtry\u001b[39;00m:  \u001b[38;5;66;03m# If cache lookup fails, look up based on first element...\u001b[39;00m\n\u001b[0;32m--> 200\u001b[0m     first \u001b[38;5;241m=\u001b[39m \u001b[43mcbook\u001b[49m\u001b[38;5;241;43m.\u001b[39;49m\u001b[43m_safe_first_finite\u001b[49m\u001b[43m(\u001b[49m\u001b[43mx\u001b[49m\u001b[43m)\u001b[49m\n\u001b[1;32m    201\u001b[0m \u001b[38;5;28;01mexcept\u001b[39;00m (\u001b[38;5;167;01mTypeError\u001b[39;00m, \u001b[38;5;167;01mStopIteration\u001b[39;00m):\n\u001b[1;32m    202\u001b[0m     \u001b[38;5;28;01mpass\u001b[39;00m\n",
      "File \u001b[0;32m~/.local/lib/python3.10/site-packages/matplotlib/cbook/__init__.py:1746\u001b[0m, in \u001b[0;36m_safe_first_finite\u001b[0;34m(obj, skip_nonfinite)\u001b[0m\n\u001b[1;32m   1744\u001b[0m     \u001b[38;5;28;01mreturn\u001b[39;00m obj[\u001b[38;5;241m0\u001b[39m]\n\u001b[1;32m   1745\u001b[0m \u001b[38;5;28;01melif\u001b[39;00m \u001b[38;5;28misinstance\u001b[39m(obj, collections\u001b[38;5;241m.\u001b[39mabc\u001b[38;5;241m.\u001b[39mIterator):\n\u001b[0;32m-> 1746\u001b[0m     \u001b[38;5;28;01mraise\u001b[39;00m \u001b[38;5;167;01mRuntimeError\u001b[39;00m(\u001b[38;5;124m\"\u001b[39m\u001b[38;5;124mmatplotlib does not \u001b[39m\u001b[38;5;124m\"\u001b[39m\n\u001b[1;32m   1747\u001b[0m                        \u001b[38;5;124m\"\u001b[39m\u001b[38;5;124msupport generators as input\u001b[39m\u001b[38;5;124m\"\u001b[39m)\n\u001b[1;32m   1748\u001b[0m \u001b[38;5;28;01melse\u001b[39;00m:\n\u001b[1;32m   1749\u001b[0m     \u001b[38;5;28;01mreturn\u001b[39;00m \u001b[38;5;28mnext\u001b[39m(val \u001b[38;5;28;01mfor\u001b[39;00m val \u001b[38;5;129;01min\u001b[39;00m obj \u001b[38;5;28;01mif\u001b[39;00m safe_isfinite(val))\n",
      "\u001b[0;31mRuntimeError\u001b[0m: matplotlib does not support generators as input"
     ]
    },
    {
     "data": {
      "image/png": "[encoded data removed]",
      "text/plain": [
       "<Figure size 640x480 with 1 Axes>"
      ]
     },
     "metadata": {},
     "output_type": "display_data"
    }
   ],
   "source": [
    "plotChaceVsCycle(reversed(chaceSizes),reversed(baseline_darknet19_chace_data))"
   ]
  },
  {
   "cell_type": "code",
   "execution_count": null,
   "id": "608aece9",
   "metadata": {},
   "outputs": [],
   "source": []
  },
  {
   "cell_type": "markdown",
   "id": "14cc4663",
   "metadata": {},
   "source": [
    "## nnpack"
   ]
  },
  {
   "cell_type": "code",
   "execution_count": null,
   "id": "3fb088d7",
   "metadata": {},
   "outputs": [],
   "source": [
    "#make(Program.NNPACK)"
   ]
  },
  {
   "cell_type": "code",
   "execution_count": null,
   "id": "8e2e823b",
   "metadata": {},
   "outputs": [],
   "source": [
    "#nnpack_darknet19_chace_out = benchOptions(darknet19,chaceOptions,Program.NNPACK,chaceSizes)"
   ]
  },
  {
   "cell_type": "code",
   "execution_count": null,
   "id": "7a4dede5",
   "metadata": {},
   "outputs": [],
   "source": [
    "#nnpack_darknet19_chace_data = readdata(nnpack_darknet19_chace_out)"
   ]
  },
  {
   "cell_type": "code",
   "execution_count": null,
   "id": "43a7fb19",
   "metadata": {},
   "outputs": [],
   "source": [
    "plotChaceVsCycle(chaceSize.reverse(),baseline_darknet19_chace_data.reverse())"
   ]
  },
  {
   "cell_type": "code",
   "execution_count": null,
   "id": "56b96680",
   "metadata": {},
   "outputs": [],
   "source": [
    "\n"
   ]
  }
 ],
 "metadata": {
  "kernelspec": {
   "display_name": "Python 3 (ipykernel)",
   "language": "python",
   "name": "python3"
  },
  "language_info": {
   "codemirror_mode": {
    "name": "ipython",
    "version": 3
   },
   "file_extension": ".py",
   "mimetype": "text/x-python",
   "name": "python",
   "nbconvert_exporter": "python",
   "pygments_lexer": "ipython3",
   "version": "3.10.6"
  }
 },
 "nbformat": 4,
 "nbformat_minor": 5
}
