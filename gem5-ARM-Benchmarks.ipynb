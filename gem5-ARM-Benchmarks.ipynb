{
 "cells": [
  {
   "cell_type": "markdown",
   "id": "01f08edd",
   "metadata": {},
   "source": [
    "# GEM5 ARM"
   ]
  },
  {
   "cell_type": "code",
   "execution_count": 1,
   "id": "dacd2a99",
   "metadata": {},
   "outputs": [],
   "source": [
    "import os\n",
    "import numpy as np\n",
    "import matplotlib.pyplot as plt\n",
    "from enum import Enum"
   ]
  },
  {
   "cell_type": "markdown",
   "id": "fba9a540",
   "metadata": {},
   "source": [
    "### vars"
   ]
  },
  {
   "cell_type": "code",
   "execution_count": 2,
   "id": "a932c2a7",
   "metadata": {},
   "outputs": [],
   "source": [
    "#gem5Path = '/home/anton/Master/tools/gem5/gem5-Arm/' \n",
    "#build = 'build/X86/gem5.opt'\n",
    "gem5Path = '/home/fft_vec/gem5/'\n",
    "build = 'build/ARM/gem5.opt'\n",
    "\n",
    "gem5 = gem5Path + build\n",
    "\n",
    "baseDir = './bench/'  + build.replace('.', '-').replace('/','-') + '/'"
   ]
  },
  {
   "cell_type": "code",
   "execution_count": 3,
   "id": "62c4a9a4",
   "metadata": {},
   "outputs": [],
   "source": [
    "config = gem5Path + 'configs/example/se.py'"
   ]
  },
  {
   "cell_type": "code",
   "execution_count": 4,
   "id": "373de66c",
   "metadata": {},
   "outputs": [],
   "source": [
    "defultOption = \"--cpu-type=TimingSimpleCPU --cpu-clock=2GHz --l1d_size=64kB --l1i_size=16kB --caches\""
   ]
  },
  {
   "cell_type": "code",
   "execution_count": 5,
   "id": "be40e636",
   "metadata": {},
   "outputs": [],
   "source": [
    "darknet = './darknet'\n",
    "yolo = 'bench_yolo'\n",
    "#vgg = 'todo' \n",
    "#darknet19 = 'bench_darknet19'\n",
    "#test = \"\""
   ]
  },
  {
   "cell_type": "code",
   "execution_count": 6,
   "id": "845e9659",
   "metadata": {},
   "outputs": [],
   "source": [
    "armCompileOptions = 'CC=aarch64-none-linux-gnu-gcc CPP=aarch64-none-linux-gnu-g++' "
   ]
  },
  {
   "cell_type": "code",
   "execution_count": 7,
   "id": "b956401e",
   "metadata": {},
   "outputs": [],
   "source": [
    "class Program(Enum):\n",
    "    BASELINE = 0\n",
    "    NNPACK_FT8 = 1\n",
    "    NO_PREDICT = 2\n",
    "    NO_PREDICT_NPP = 3\n",
    "    NNPACK_GEMM = 4\n",
    "    NNPACK_FT16 = 5\n",
    "    NNPACK_WT = 6"
   ]
  },
  {
   "cell_type": "markdown",
   "id": "a1d28d4d",
   "metadata": {},
   "source": [
    "## utils"
   ]
  },
  {
   "cell_type": "code",
   "execution_count": 8,
   "id": "b35e75f0",
   "metadata": {},
   "outputs": [],
   "source": [
    "def make(program):\n",
    "    \n",
    "    values = \"\"\n",
    "    \n",
    "    match program:\n",
    "        case Program.BASELINE: values = 'NNPACK=0'        \n",
    "        case Program.NNPACK_FT8:   values = 'NNPACK=1 FT8=1'\n",
    "        case Program.NNPACK_FT16:   values = 'NNPACK=1 FT16=1'\n",
    "        case Program.NNPACK_WT:   values = 'NNPACK=1 WT=1'\n",
    "        case Program.NNPACK_GEMM: values = 'NNPACK=1 GEMM=1' \n",
    "        case Program.NO_PREDICT_NPP: values = 'NNPACK=1 NO_PREDICT=1 FT8=1' \n",
    "        case Program.NO_PREDICT: values = 'NNPACK=0 NO_PREDICT=1' \n",
    "        \n",
    "            \n",
    "    os.system('make clean; make'+ ' ' + values + ' ' + armCompileOptions) "
   ]
  },
  {
   "cell_type": "code",
   "execution_count": 9,
   "id": "b8d96f05",
   "metadata": {},
   "outputs": [],
   "source": [
    "def optionsToSubDir(benchmark, program, tag):\n",
    "    \n",
    "    if benchmark == '':\n",
    "        benchmark = 'NAN' \n",
    "    \n",
    "    programStr = 'NAN'\n",
    "    \n",
    "    match program:\n",
    "        case Program.BASELINE: programStr = 'BASELINE'        \n",
    "        case Program.NNPACK_FT8:   programStr = 'FT8'\n",
    "        case Program.NNPACK_FT16:   programStr = 'FT16'\n",
    "        case Program.NNPACK_WT:   programStr = 'WT'\n",
    "        case Program.NNPACK_GEMM: programStr = 'GEMM' \n",
    "        case Program.NO_PREDICT_NPP: programStr = 'NO_PREDICT_NPP' \n",
    "        case Program.NO_PREDICT: programStr = 'NO_PREDICT' \n",
    "\n",
    "    path = '/'.join([benchmark,programStr,tag]) + '/'\n",
    "    \n",
    "    return path"
   ]
  },
  {
   "cell_type": "code",
   "execution_count": 10,
   "id": "e749436e",
   "metadata": {},
   "outputs": [],
   "source": [
    "def cyclesToSetup(program, benchmark_to_run,tag):\n",
    "    make(program);\n",
    "    out = bench(benchmark_to_run,'--l2_size=64MB --l2cache',program, tag)\n",
    "    print(out)\n",
    "    data = readData([out])\n",
    "    print(data)\n",
    "    return ([out], data)\n",
    "\n",
    "def cyclesToSetup_baseline(benchmark_to_run):\n",
    "    return cyclesToSetup(Program.NO_PREDICT,benchmark_to_run,'setup_baseline')\n",
    "\n",
    "def cyclesToSetup_npp(benchmark_to_run):\n",
    "    return cyclesToSetup(Program.NO_PREDICT_NPP,benchmark_to_run,'setup_npp')"
   ]
  },
  {
   "cell_type": "code",
   "execution_count": 11,
   "id": "9be48141",
   "metadata": {},
   "outputs": [],
   "source": [
    "def readData(Dirs):\n",
    "    data = []\n",
    "    names = ['simTicks']\n",
    "    for Dir in Dirs: \n",
    "    \n",
    "        result = []\n",
    "    \n",
    "        file = Dir+'stats.txt'\n",
    "        print(\"reading data from file: \",file,\"\\n \")\n",
    "        with open(file, 'r') as fp:\n",
    "            lines = fp.readlines()\n",
    "            for row in lines:\n",
    "                for name in names:\n",
    "                    if row.find(name) == 0:\n",
    "                        value = int(row.split()[1])\n",
    "                        result.append((name,value))\n",
    "    \n",
    "        data.append(result)                \n",
    "        \n",
    "    return data"
   ]
  },
  {
   "cell_type": "code",
   "execution_count": 12,
   "id": "1e538f5a",
   "metadata": {},
   "outputs": [],
   "source": [
    "def bench(benchmark, options, program, tag):\n",
    "\n",
    "    outDir =  baseDir + optionsToSubDir(benchmark, program, tag)\n",
    "    out = '--outdir='+ outDir\n",
    "    \n",
    "    binary = '-c ' + '\"'+ darknet  + '\"' + ' --options ' + '\"' + benchmark + '\"'\n",
    "    \n",
    "    cmd = ' '.join([gem5,out,config,defultOption,'--output=stdout.txt  --errout=stderr.txt',options,binary])\n",
    "   \n",
    "    print(cmd + '\\n\\n')\n",
    "    \n",
    "    os.system(cmd)\n",
    "    \n",
    "    return(outDir)"
   ]
  },
  {
   "cell_type": "code",
   "execution_count": 13,
   "id": "f82d8104",
   "metadata": {},
   "outputs": [],
   "source": [
    "def run_benchmark(benchmark, options, nnpack, tag):\n",
    "    out = bench(benchmark, options, nnpack, tag)\n",
    "    return(out)"
   ]
  },
  {
   "cell_type": "code",
   "execution_count": 14,
   "id": "c750a6e8",
   "metadata": {},
   "outputs": [],
   "source": [
    "def benchOptions(benchmark, optionsList, program, tags):\n",
    "    \n",
    "    n = len(optionsList)\n",
    "    \n",
    "    out = [None] * n\n",
    "    \n",
    "    for i in range(n):\n",
    "        out[i] = run_benchmark(benchmark, optionsList[i], program, tags[i])\n",
    "        \n",
    "    return(out)"
   ]
  },
  {
   "cell_type": "code",
   "execution_count": 15,
   "id": "17316b87",
   "metadata": {},
   "outputs": [],
   "source": [
    "def benchOptionsMatrix(benchmark, options1, options2, nnpack, tags1, tags2): #to bench vector and l2 chace\n",
    "    options =[opt1 + ' ' + opt2 for opt1 in options1 for opt2 in options2]\n",
    "    tags = [tag1 + '_' + tag2 for tag1 in tags1 for tag2 in tags2]\n",
    "    \n",
    "    out = benchOptions(benchmark, options, nnpack, tags) \n",
    "    return(out)"
   ]
  },
  {
   "cell_type": "markdown",
   "id": "64896ebd",
   "metadata": {},
   "source": [
    "### util graphs"
   ]
  },
  {
   "cell_type": "code",
   "execution_count": 16,
   "id": "ffae44a3",
   "metadata": {},
   "outputs": [],
   "source": [
    "def plotChaceVsCycle(chaces,data, setupcost):\n",
    "    cycles = [ i[0][1]-setupcost[0][1] for i in data]\n",
    "    fig = plt.figure()\n",
    "    ax = fig.add_axes([0,0,1,1])\n",
    "    print(cycles)\n",
    "    print(chaces)\n",
    "    ax.bar(chaces,cycles)\n",
    "    plt.show()\n",
    "    \n",
    "    "
   ]
  },
  {
   "cell_type": "code",
   "execution_count": 17,
   "id": "4a8c6e03",
   "metadata": {},
   "outputs": [],
   "source": [
    "def runandPlot(program,benchmark_to_run ,options, tags, setup_cost ):\n",
    "    make(program)\n",
    "    out = benchOptions(benchmark_to_run,options,program,tags)\n",
    "    print(out)\n",
    "    data = readData(out)\n",
    "    print(data)\n",
    "    plotChaceVsCycle(tags[::-1],data[::-1], setup_cost[1][0])\n",
    "    return(out,data)\n",
    "    "
   ]
  },
  {
   "cell_type": "code",
   "execution_count": 18,
   "id": "2f588e3e",
   "metadata": {},
   "outputs": [],
   "source": [
    "def readandplot(dirs,x_line,setupticks):\n",
    "    y_line = readData(dirs)\n",
    "    plotChaceVsCycle(x_line,y_line, setupticks[1][0])\n",
    "    "
   ]
  },
  {
   "cell_type": "markdown",
   "id": "a07b4619",
   "metadata": {},
   "source": [
    "# X86 YOLO and L2 chace"
   ]
  },
  {
   "cell_type": "code",
   "execution_count": 19,
   "id": "a100c7b5",
   "metadata": {},
   "outputs": [],
   "source": [
    "#yolo = ''"
   ]
  },
  {
   "cell_type": "code",
   "execution_count": 20,
   "id": "a7a70aea",
   "metadata": {},
   "outputs": [
    {
     "name": "stdout",
     "output_type": "stream",
     "text": [
      "rm -rf ./obj/gemm.o ./obj/utils.o ./obj/cuda.o ./obj/deconvolutional_layer.o ./obj/convolutional_layer.o ./obj/list.o ./obj/image.o ./obj/activations.o ./obj/im2col.o ./obj/col2im.o ./obj/blas.o ./obj/crop_layer.o ./obj/dropout_layer.o ./obj/maxpool_layer.o ./obj/softmax_layer.o ./obj/data.o ./obj/matrix.o ./obj/network.o ./obj/connected_layer.o ./obj/cost_layer.o ./obj/parser.o ./obj/option_list.o ./obj/detection_layer.o ./obj/route_layer.o ./obj/upsample_layer.o ./obj/box.o ./obj/normalization_layer.o ./obj/avgpool_layer.o ./obj/layer.o ./obj/local_layer.o ./obj/shortcut_layer.o ./obj/logistic_layer.o ./obj/activation_layer.o ./obj/rnn_layer.o ./obj/gru_layer.o ./obj/crnn_layer.o ./obj/demo.o ./obj/batchnorm_layer.o ./obj/region_layer.o ./obj/reorg_layer.o ./obj/tree.o ./obj/lstm_layer.o ./obj/l2norm_layer.o ./obj/yolo_layer.o ./obj/iseg_layer.o ./obj/image_opencv.o libdarknet.so libdarknet.a darknet ./obj/captcha.o ./obj/lsd.o ./obj/super.o ./obj/art.o ./obj/tag.o ./obj/cifar.o ./obj/go.o ./obj/rnn.o ./obj/segmenter.o ./obj/regressor.o ./obj/classifier.o ./obj/coco.o ./obj/yolo.o ./obj/detector.o ./obj/nightmare.o ./obj/instance-segmenter.o ./obj/darknet.o ./obj/test.o ./obj//*\n",
      "NNPACK=0\n",
      "NO_PREDICT=1\n",
      "gcc -Iinclude/ -Isrc/ -Wall -Wno-unused-result -Wno-unknown-pragmas -Wfatal-errors -static -Ofast -c ./src/gemm.c -o obj/gemm.o\n",
      "gcc -Iinclude/ -Isrc/ -Wall -Wno-unused-result -Wno-unknown-pragmas -Wfatal-errors -static -Ofast -c ./src/utils.c -o obj/utils.o\n",
      "gcc -Iinclude/ -Isrc/ -Wall -Wno-unused-result -Wno-unknown-pragmas -Wfatal-errors -static -Ofast -c ./src/cuda.c -o obj/cuda.o\n",
      "gcc -Iinclude/ -Isrc/ -Wall -Wno-unused-result -Wno-unknown-pragmas -Wfatal-errors -static -Ofast -c ./src/deconvolutional_layer.c -o obj/deconvolutional_layer.o\n",
      "gcc -Iinclude/ -Isrc/ -Wall -Wno-unused-result -Wno-unknown-pragmas -Wfatal-errors -static -Ofast -c ./src/convolutional_layer.c -o obj/convolutional_layer.o\n",
      "gcc -Iinclude/ -Isrc/ -Wall -Wno-unused-result -Wno-unknown-pragmas -Wfatal-errors -static -Ofast -c ./src/list.c -o obj/list.o\n",
      "gcc -Iinclude/ -Isrc/ -Wall -Wno-unused-result -Wno-unknown-pragmas -Wfatal-errors -static -Ofast -c ./src/image.c -o obj/image.o\n",
      "gcc -Iinclude/ -Isrc/ -Wall -Wno-unused-result -Wno-unknown-pragmas -Wfatal-errors -static -Ofast -c ./src/activations.c -o obj/activations.o\n",
      "gcc -Iinclude/ -Isrc/ -Wall -Wno-unused-result -Wno-unknown-pragmas -Wfatal-errors -static -Ofast -c ./src/im2col.c -o obj/im2col.o\n",
      "gcc -Iinclude/ -Isrc/ -Wall -Wno-unused-result -Wno-unknown-pragmas -Wfatal-errors -static -Ofast -c ./src/col2im.c -o obj/col2im.o\n",
      "gcc -Iinclude/ -Isrc/ -Wall -Wno-unused-result -Wno-unknown-pragmas -Wfatal-errors -static -Ofast -c ./src/blas.c -o obj/blas.o\n",
      "gcc -Iinclude/ -Isrc/ -Wall -Wno-unused-result -Wno-unknown-pragmas -Wfatal-errors -static -Ofast -c ./src/crop_layer.c -o obj/crop_layer.o\n",
      "gcc -Iinclude/ -Isrc/ -Wall -Wno-unused-result -Wno-unknown-pragmas -Wfatal-errors -static -Ofast -c ./src/dropout_layer.c -o obj/dropout_layer.o\n",
      "gcc -Iinclude/ -Isrc/ -Wall -Wno-unused-result -Wno-unknown-pragmas -Wfatal-errors -static -Ofast -c ./src/maxpool_layer.c -o obj/maxpool_layer.o\n",
      "gcc -Iinclude/ -Isrc/ -Wall -Wno-unused-result -Wno-unknown-pragmas -Wfatal-errors -static -Ofast -c ./src/softmax_layer.c -o obj/softmax_layer.o\n",
      "gcc -Iinclude/ -Isrc/ -Wall -Wno-unused-result -Wno-unknown-pragmas -Wfatal-errors -static -Ofast -c ./src/data.c -o obj/data.o\n",
      "gcc -Iinclude/ -Isrc/ -Wall -Wno-unused-result -Wno-unknown-pragmas -Wfatal-errors -static -Ofast -c ./src/matrix.c -o obj/matrix.o\n",
      "gcc -Iinclude/ -Isrc/ -Wall -Wno-unused-result -Wno-unknown-pragmas -Wfatal-errors -static -Ofast -c ./src/network.c -o obj/network.o\n",
      "gcc -Iinclude/ -Isrc/ -Wall -Wno-unused-result -Wno-unknown-pragmas -Wfatal-errors -static -Ofast -c ./src/connected_layer.c -o obj/connected_layer.o\n",
      "gcc -Iinclude/ -Isrc/ -Wall -Wno-unused-result -Wno-unknown-pragmas -Wfatal-errors -static -Ofast -c ./src/cost_layer.c -o obj/cost_layer.o\n",
      "gcc -Iinclude/ -Isrc/ -Wall -Wno-unused-result -Wno-unknown-pragmas -Wfatal-errors -static -Ofast -c ./src/parser.c -o obj/parser.o\n",
      "gcc -Iinclude/ -Isrc/ -Wall -Wno-unused-result -Wno-unknown-pragmas -Wfatal-errors -static -Ofast -c ./src/option_list.c -o obj/option_list.o\n",
      "gcc -Iinclude/ -Isrc/ -Wall -Wno-unused-result -Wno-unknown-pragmas -Wfatal-errors -static -Ofast -c ./src/detection_layer.c -o obj/detection_layer.o\n",
      "gcc -Iinclude/ -Isrc/ -Wall -Wno-unused-result -Wno-unknown-pragmas -Wfatal-errors -static -Ofast -c ./src/route_layer.c -o obj/route_layer.o\n",
      "gcc -Iinclude/ -Isrc/ -Wall -Wno-unused-result -Wno-unknown-pragmas -Wfatal-errors -static -Ofast -c ./src/upsample_layer.c -o obj/upsample_layer.o\n",
      "gcc -Iinclude/ -Isrc/ -Wall -Wno-unused-result -Wno-unknown-pragmas -Wfatal-errors -static -Ofast -c ./src/box.c -o obj/box.o\n",
      "gcc -Iinclude/ -Isrc/ -Wall -Wno-unused-result -Wno-unknown-pragmas -Wfatal-errors -static -Ofast -c ./src/normalization_layer.c -o obj/normalization_layer.o\n",
      "gcc -Iinclude/ -Isrc/ -Wall -Wno-unused-result -Wno-unknown-pragmas -Wfatal-errors -static -Ofast -c ./src/avgpool_layer.c -o obj/avgpool_layer.o\n",
      "gcc -Iinclude/ -Isrc/ -Wall -Wno-unused-result -Wno-unknown-pragmas -Wfatal-errors -static -Ofast -c ./src/layer.c -o obj/layer.o\n",
      "gcc -Iinclude/ -Isrc/ -Wall -Wno-unused-result -Wno-unknown-pragmas -Wfatal-errors -static -Ofast -c ./src/local_layer.c -o obj/local_layer.o\n",
      "gcc -Iinclude/ -Isrc/ -Wall -Wno-unused-result -Wno-unknown-pragmas -Wfatal-errors -static -Ofast -c ./src/shortcut_layer.c -o obj/shortcut_layer.o\n",
      "gcc -Iinclude/ -Isrc/ -Wall -Wno-unused-result -Wno-unknown-pragmas -Wfatal-errors -static -Ofast -c ./src/logistic_layer.c -o obj/logistic_layer.o\n",
      "gcc -Iinclude/ -Isrc/ -Wall -Wno-unused-result -Wno-unknown-pragmas -Wfatal-errors -static -Ofast -c ./src/activation_layer.c -o obj/activation_layer.o\n",
      "gcc -Iinclude/ -Isrc/ -Wall -Wno-unused-result -Wno-unknown-pragmas -Wfatal-errors -static -Ofast -c ./src/rnn_layer.c -o obj/rnn_layer.o\n",
      "gcc -Iinclude/ -Isrc/ -Wall -Wno-unused-result -Wno-unknown-pragmas -Wfatal-errors -static -Ofast -c ./src/gru_layer.c -o obj/gru_layer.o\n",
      "gcc -Iinclude/ -Isrc/ -Wall -Wno-unused-result -Wno-unknown-pragmas -Wfatal-errors -static -Ofast -c ./src/crnn_layer.c -o obj/crnn_layer.o\n",
      "gcc -Iinclude/ -Isrc/ -Wall -Wno-unused-result -Wno-unknown-pragmas -Wfatal-errors -static -Ofast -c ./src/demo.c -o obj/demo.o\n",
      "gcc -Iinclude/ -Isrc/ -Wall -Wno-unused-result -Wno-unknown-pragmas -Wfatal-errors -static -Ofast -c ./src/batchnorm_layer.c -o obj/batchnorm_layer.o\n",
      "gcc -Iinclude/ -Isrc/ -Wall -Wno-unused-result -Wno-unknown-pragmas -Wfatal-errors -static -Ofast -c ./src/region_layer.c -o obj/region_layer.o\n",
      "gcc -Iinclude/ -Isrc/ -Wall -Wno-unused-result -Wno-unknown-pragmas -Wfatal-errors -static -Ofast -c ./src/reorg_layer.c -o obj/reorg_layer.o\n",
      "gcc -Iinclude/ -Isrc/ -Wall -Wno-unused-result -Wno-unknown-pragmas -Wfatal-errors -static -Ofast -c ./src/tree.c -o obj/tree.o\n",
      "gcc -Iinclude/ -Isrc/ -Wall -Wno-unused-result -Wno-unknown-pragmas -Wfatal-errors -static -Ofast -c ./src/lstm_layer.c -o obj/lstm_layer.o\n",
      "gcc -Iinclude/ -Isrc/ -Wall -Wno-unused-result -Wno-unknown-pragmas -Wfatal-errors -static -Ofast -c ./src/l2norm_layer.c -o obj/l2norm_layer.o\n",
      "gcc -Iinclude/ -Isrc/ -Wall -Wno-unused-result -Wno-unknown-pragmas -Wfatal-errors -static -Ofast -c ./src/yolo_layer.c -o obj/yolo_layer.o\n",
      "gcc -Iinclude/ -Isrc/ -Wall -Wno-unused-result -Wno-unknown-pragmas -Wfatal-errors -static -Ofast -c ./src/iseg_layer.c -o obj/iseg_layer.o\n",
      "g++ -Iinclude/ -Isrc/ -Wall -Wno-unused-result -Wno-unknown-pragmas -Wfatal-errors -static -Ofast -c ./src/image_opencv.cpp -o obj/image_opencv.o\n",
      "ar rcs libdarknet.a obj/gemm.o obj/utils.o obj/cuda.o obj/deconvolutional_layer.o obj/convolutional_layer.o obj/list.o obj/image.o obj/activations.o obj/im2col.o obj/col2im.o obj/blas.o obj/crop_layer.o obj/dropout_layer.o obj/maxpool_layer.o obj/softmax_layer.o obj/data.o obj/matrix.o obj/network.o obj/connected_layer.o obj/cost_layer.o obj/parser.o obj/option_list.o obj/detection_layer.o obj/route_layer.o obj/upsample_layer.o obj/box.o obj/normalization_layer.o obj/avgpool_layer.o obj/layer.o obj/local_layer.o obj/shortcut_layer.o obj/logistic_layer.o obj/activation_layer.o obj/rnn_layer.o obj/gru_layer.o obj/crnn_layer.o obj/demo.o obj/batchnorm_layer.o obj/region_layer.o obj/reorg_layer.o obj/tree.o obj/lstm_layer.o obj/l2norm_layer.o obj/yolo_layer.o obj/iseg_layer.o obj/image_opencv.o\n",
      "gcc -Iinclude/ -Isrc/ -Wall -Wno-unused-result -Wno-unknown-pragmas -Wfatal-errors -static -Ofast -c ./examples/captcha.c -o obj/captcha.o\n"
     ]
    },
    {
     "name": "stdout",
     "output_type": "stream",
     "text": [
      "gcc -Iinclude/ -Isrc/ -Wall -Wno-unused-result -Wno-unknown-pragmas -Wfatal-errors -static -Ofast -c ./examples/lsd.c -o obj/lsd.o\n",
      "gcc -Iinclude/ -Isrc/ -Wall -Wno-unused-result -Wno-unknown-pragmas -Wfatal-errors -static -Ofast -c ./examples/super.c -o obj/super.o\n",
      "gcc -Iinclude/ -Isrc/ -Wall -Wno-unused-result -Wno-unknown-pragmas -Wfatal-errors -static -Ofast -c ./examples/art.c -o obj/art.o\n",
      "gcc -Iinclude/ -Isrc/ -Wall -Wno-unused-result -Wno-unknown-pragmas -Wfatal-errors -static -Ofast -c ./examples/tag.c -o obj/tag.o\n",
      "gcc -Iinclude/ -Isrc/ -Wall -Wno-unused-result -Wno-unknown-pragmas -Wfatal-errors -static -Ofast -c ./examples/cifar.c -o obj/cifar.o\n",
      "gcc -Iinclude/ -Isrc/ -Wall -Wno-unused-result -Wno-unknown-pragmas -Wfatal-errors -static -Ofast -c ./examples/go.c -o obj/go.o\n",
      "gcc -Iinclude/ -Isrc/ -Wall -Wno-unused-result -Wno-unknown-pragmas -Wfatal-errors -static -Ofast -c ./examples/rnn.c -o obj/rnn.o\n",
      "gcc -Iinclude/ -Isrc/ -Wall -Wno-unused-result -Wno-unknown-pragmas -Wfatal-errors -static -Ofast -c ./examples/segmenter.c -o obj/segmenter.o\n",
      "gcc -Iinclude/ -Isrc/ -Wall -Wno-unused-result -Wno-unknown-pragmas -Wfatal-errors -static -Ofast -c ./examples/regressor.c -o obj/regressor.o\n",
      "gcc -Iinclude/ -Isrc/ -Wall -Wno-unused-result -Wno-unknown-pragmas -Wfatal-errors -static -Ofast -c ./examples/classifier.c -o obj/classifier.o\n",
      "gcc -Iinclude/ -Isrc/ -Wall -Wno-unused-result -Wno-unknown-pragmas -Wfatal-errors -static -Ofast -c ./examples/coco.c -o obj/coco.o\n",
      "gcc -Iinclude/ -Isrc/ -Wall -Wno-unused-result -Wno-unknown-pragmas -Wfatal-errors -static -Ofast -c ./examples/yolo.c -o obj/yolo.o\n",
      "gcc -Iinclude/ -Isrc/ -Wall -Wno-unused-result -Wno-unknown-pragmas -Wfatal-errors -static -Ofast -c ./examples/detector.c -o obj/detector.o\n"
     ]
    },
    {
     "name": "stderr",
     "output_type": "stream",
     "text": [
      "./examples/detector.c: In function ‘test_detector’:\n",
      "./examples/detector.c:585:24: warning: ‘return’ with no value, in function returning non-void [-Wreturn-type]\n",
      "  585 |             if(!input) return;\n",
      "      |                        ^~~~~~\n",
      "./examples/detector.c:562:7: note: declared here\n",
      "  562 | float test_detector(char *datacfg, char *cfgfile, char *weightfile, char *filename, float thresh, float hier_thresh, char *outfile, int fullscreen)\n",
      "      |       ^~~~~~~~~~~~~\n"
     ]
    },
    {
     "name": "stdout",
     "output_type": "stream",
     "text": [
      "gcc -Iinclude/ -Isrc/ -Wall -Wno-unused-result -Wno-unknown-pragmas -Wfatal-errors -static -Ofast -c ./examples/nightmare.c -o obj/nightmare.o\n",
      "gcc -Iinclude/ -Isrc/ -Wall -Wno-unused-result -Wno-unknown-pragmas -Wfatal-errors -static -Ofast -c ./examples/instance-segmenter.c -o obj/instance-segmenter.o\n",
      "gcc -Iinclude/ -Isrc/ -Wall -Wno-unused-result -Wno-unknown-pragmas -Wfatal-errors -static -Ofast -c ./examples/darknet.c -o obj/darknet.o\n",
      "gcc -Iinclude/ -Isrc/ -Wall -Wno-unused-result -Wno-unknown-pragmas -Wfatal-errors -static -Ofast -c ./examples/test.c -o obj/test.o\n",
      "gcc -Iinclude/ -Isrc/ -Wall -Wno-unused-result -Wno-unknown-pragmas -Wfatal-errors -static -Ofast obj/captcha.o obj/lsd.o obj/super.o obj/art.o obj/tag.o obj/cifar.o obj/go.o obj/rnn.o obj/segmenter.o obj/regressor.o obj/classifier.o obj/coco.o obj/yolo.o obj/detector.o obj/nightmare.o obj/instance-segmenter.o obj/darknet.o obj/test.o libdarknet.a -o darknet -lm -pthread libdarknet.a\n",
      "/home/anton/Master/tools/gem5/gem5-Arm/build/X86/gem5.opt --outdir=./bench/build-X86-gem5-opt/NAN/NO_PREDICT/setup_baseline/ /home/anton/Master/tools/gem5/gem5-Arm/configs/example/se.py --cpu-type=TimingSimpleCPU --cpu-clock=2GHz --l1d_size=64kB --l1i_size=16kB --caches --output=stdout.txt  --errout=stderr.txt --l2_size=64MB --l2cache -c \"./darknet\" --options \"\"\n",
      "\n",
      "\n"
     ]
    },
    {
     "name": "stderr",
     "output_type": "stream",
     "text": [
      "warn: The `get_runtime_isa` function is deprecated. Please migrate away from using this function.\n",
      "warn: The `get_runtime_isa` function is deprecated. Please migrate away from using this function.\n",
      "warn: failed to generate dot output from ./bench/build-X86-gem5-opt/NAN/NO_PREDICT/setup_baseline/config.dot\n",
      "build/X86/mem/dram_interface.cc:690: warn: DRAM device capacity (8192 Mbytes) does not match the address range assigned (512 Mbytes)\n"
     ]
    },
    {
     "name": "stdout",
     "output_type": "stream",
     "text": [
      "Global frequency set at 1000000000000 ticks per second\n"
     ]
    },
    {
     "name": "stderr",
     "output_type": "stream",
     "text": [
      "build/X86/base/remote_gdb.cc:416: warn: Sockets disabled, not accepting gdb connections\n",
      "build/X86/sim/simulate.cc:192: info: Entering event queue @ 0.  Starting simulation...\n",
      "build/X86/sim/syscall_emul.cc:74: warn: ignoring syscall set_robust_list(...)\n",
      "build/X86/sim/syscall_emul.cc:74: warn: ignoring syscall rseq(...)\n",
      "build/X86/sim/mem_state.cc:443: info: Increasing stack size by one page.\n",
      "build/X86/sim/syscall_emul.cc:74: warn: ignoring syscall mprotect(...)\n",
      "build/X86/sim/mem_state.cc:443: info: Increasing stack size by one page.\n"
     ]
    },
    {
     "name": "stdout",
     "output_type": "stream",
     "text": [
      "gem5 Simulator System.  https://www.gem5.org\n",
      "gem5 is copyrighted software; use the --copyright option for details.\n",
      "\n",
      "gem5 version 22.1.0.0\n",
      "gem5 compiled Jan 24 2023 19:03:31\n",
      "gem5 started Feb 12 2023 16:58:12\n",
      "gem5 executing on anton-mint, pid 14525\n",
      "command line: /home/anton/Master/tools/gem5/gem5-Arm/build/X86/gem5.opt --outdir=./bench/build-X86-gem5-opt/NAN/NO_PREDICT/setup_baseline/ /home/anton/Master/tools/gem5/gem5-Arm/configs/example/se.py --cpu-type=TimingSimpleCPU --cpu-clock=2GHz --l1d_size=64kB --l1i_size=16kB --caches --output=stdout.txt --errout=stderr.txt --l2_size=64MB --l2cache -c ./darknet --options ''\n",
      "\n",
      "info: Standard input is not a terminal, disabling listeners.\n",
      "**** REAL SIMULATION ****\n",
      "Exiting @ tick 87820500 because exiting with last active thread context\n",
      "./bench/build-X86-gem5-opt/NAN/NO_PREDICT/setup_baseline/\n",
      "reading data from file:  ./bench/build-X86-gem5-opt/NAN/NO_PREDICT/setup_baseline/stats.txt \n",
      " \n",
      "[[('simTicks', 87820500)]]\n"
     ]
    },
    {
     "data": {
      "text/plain": [
       "(['./bench/build-X86-gem5-opt/NAN/NO_PREDICT/setup_baseline/'],\n",
       " [[('simTicks', 87820500)]])"
      ]
     },
     "execution_count": 20,
     "metadata": {},
     "output_type": "execute_result"
    }
   ],
   "source": [
    "setupticks = cyclesToSetup_baseline(yolo)\n",
    "setupticks"
   ]
  },
  {
   "cell_type": "code",
   "execution_count": 21,
   "id": "cc93a941",
   "metadata": {},
   "outputs": [
    {
     "name": "stdout",
     "output_type": "stream",
     "text": [
      "rm -rf ./obj/gemm.o ./obj/utils.o ./obj/cuda.o ./obj/deconvolutional_layer.o ./obj/convolutional_layer.o ./obj/list.o ./obj/image.o ./obj/activations.o ./obj/im2col.o ./obj/col2im.o ./obj/blas.o ./obj/crop_layer.o ./obj/dropout_layer.o ./obj/maxpool_layer.o ./obj/softmax_layer.o ./obj/data.o ./obj/matrix.o ./obj/network.o ./obj/connected_layer.o ./obj/cost_layer.o ./obj/parser.o ./obj/option_list.o ./obj/detection_layer.o ./obj/route_layer.o ./obj/upsample_layer.o ./obj/box.o ./obj/normalization_layer.o ./obj/avgpool_layer.o ./obj/layer.o ./obj/local_layer.o ./obj/shortcut_layer.o ./obj/logistic_layer.o ./obj/activation_layer.o ./obj/rnn_layer.o ./obj/gru_layer.o ./obj/crnn_layer.o ./obj/demo.o ./obj/batchnorm_layer.o ./obj/region_layer.o ./obj/reorg_layer.o ./obj/tree.o ./obj/lstm_layer.o ./obj/l2norm_layer.o ./obj/yolo_layer.o ./obj/iseg_layer.o ./obj/image_opencv.o libdarknet.so libdarknet.a darknet ./obj/captcha.o ./obj/lsd.o ./obj/super.o ./obj/art.o ./obj/tag.o ./obj/cifar.o ./obj/go.o ./obj/rnn.o ./obj/segmenter.o ./obj/regressor.o ./obj/classifier.o ./obj/coco.o ./obj/yolo.o ./obj/detector.o ./obj/nightmare.o ./obj/instance-segmenter.o ./obj/darknet.o ./obj/test.o ./obj//*\n",
      "NNPACK=1\n",
      "NO_PREDICT=1\n",
      "FT8=1\n",
      "gcc -Iinclude/ -Isrc/ -Wall -Wno-unused-result -Wno-unknown-pragmas -Wfatal-errors -static -Ofast -DNNPACK -c ./src/gemm.c -o obj/gemm.o\n",
      "gcc -Iinclude/ -Isrc/ -Wall -Wno-unused-result -Wno-unknown-pragmas -Wfatal-errors -static -Ofast -DNNPACK -c ./src/utils.c -o obj/utils.o\n",
      "gcc -Iinclude/ -Isrc/ -Wall -Wno-unused-result -Wno-unknown-pragmas -Wfatal-errors -static -Ofast -DNNPACK -c ./src/cuda.c -o obj/cuda.o\n",
      "gcc -Iinclude/ -Isrc/ -Wall -Wno-unused-result -Wno-unknown-pragmas -Wfatal-errors -static -Ofast -DNNPACK -c ./src/deconvolutional_layer.c -o obj/deconvolutional_layer.o\n",
      "gcc -Iinclude/ -Isrc/ -Wall -Wno-unused-result -Wno-unknown-pragmas -Wfatal-errors -static -Ofast -DNNPACK -c ./src/convolutional_layer.c -o obj/convolutional_layer.o\n"
     ]
    },
    {
     "name": "stderr",
     "output_type": "stream",
     "text": [
      "./src/convolutional_layer.c: In function ‘forward_convolutional_layer_nnp’:\n",
      "./src/convolutional_layer.c:549:9: warning: unused variable ‘k’ [-Wunused-variable]\n",
      "  549 |     int k = l.size*l.size*l.c/l.groups;\n",
      "      |         ^\n"
     ]
    },
    {
     "name": "stdout",
     "output_type": "stream",
     "text": [
      "gcc -Iinclude/ -Isrc/ -Wall -Wno-unused-result -Wno-unknown-pragmas -Wfatal-errors -static -Ofast -DNNPACK -c ./src/list.c -o obj/list.o\n",
      "gcc -Iinclude/ -Isrc/ -Wall -Wno-unused-result -Wno-unknown-pragmas -Wfatal-errors -static -Ofast -DNNPACK -c ./src/image.c -o obj/image.o\n",
      "gcc -Iinclude/ -Isrc/ -Wall -Wno-unused-result -Wno-unknown-pragmas -Wfatal-errors -static -Ofast -DNNPACK -c ./src/activations.c -o obj/activations.o\n",
      "gcc -Iinclude/ -Isrc/ -Wall -Wno-unused-result -Wno-unknown-pragmas -Wfatal-errors -static -Ofast -DNNPACK -c ./src/im2col.c -o obj/im2col.o\n",
      "gcc -Iinclude/ -Isrc/ -Wall -Wno-unused-result -Wno-unknown-pragmas -Wfatal-errors -static -Ofast -DNNPACK -c ./src/col2im.c -o obj/col2im.o\n",
      "gcc -Iinclude/ -Isrc/ -Wall -Wno-unused-result -Wno-unknown-pragmas -Wfatal-errors -static -Ofast -DNNPACK -c ./src/blas.c -o obj/blas.o\n",
      "gcc -Iinclude/ -Isrc/ -Wall -Wno-unused-result -Wno-unknown-pragmas -Wfatal-errors -static -Ofast -DNNPACK -c ./src/crop_layer.c -o obj/crop_layer.o\n",
      "gcc -Iinclude/ -Isrc/ -Wall -Wno-unused-result -Wno-unknown-pragmas -Wfatal-errors -static -Ofast -DNNPACK -c ./src/dropout_layer.c -o obj/dropout_layer.o\n",
      "gcc -Iinclude/ -Isrc/ -Wall -Wno-unused-result -Wno-unknown-pragmas -Wfatal-errors -static -Ofast -DNNPACK -c ./src/maxpool_layer.c -o obj/maxpool_layer.o\n",
      "gcc -Iinclude/ -Isrc/ -Wall -Wno-unused-result -Wno-unknown-pragmas -Wfatal-errors -static -Ofast -DNNPACK -c ./src/softmax_layer.c -o obj/softmax_layer.o\n",
      "gcc -Iinclude/ -Isrc/ -Wall -Wno-unused-result -Wno-unknown-pragmas -Wfatal-errors -static -Ofast -DNNPACK -c ./src/data.c -o obj/data.o\n",
      "gcc -Iinclude/ -Isrc/ -Wall -Wno-unused-result -Wno-unknown-pragmas -Wfatal-errors -static -Ofast -DNNPACK -c ./src/matrix.c -o obj/matrix.o\n",
      "gcc -Iinclude/ -Isrc/ -Wall -Wno-unused-result -Wno-unknown-pragmas -Wfatal-errors -static -Ofast -DNNPACK -c ./src/network.c -o obj/network.o\n",
      "gcc -Iinclude/ -Isrc/ -Wall -Wno-unused-result -Wno-unknown-pragmas -Wfatal-errors -static -Ofast -DNNPACK -c ./src/connected_layer.c -o obj/connected_layer.o\n",
      "gcc -Iinclude/ -Isrc/ -Wall -Wno-unused-result -Wno-unknown-pragmas -Wfatal-errors -static -Ofast -DNNPACK -c ./src/cost_layer.c -o obj/cost_layer.o\n",
      "gcc -Iinclude/ -Isrc/ -Wall -Wno-unused-result -Wno-unknown-pragmas -Wfatal-errors -static -Ofast -DNNPACK -c ./src/parser.c -o obj/parser.o\n",
      "gcc -Iinclude/ -Isrc/ -Wall -Wno-unused-result -Wno-unknown-pragmas -Wfatal-errors -static -Ofast -DNNPACK -c ./src/option_list.c -o obj/option_list.o\n",
      "gcc -Iinclude/ -Isrc/ -Wall -Wno-unused-result -Wno-unknown-pragmas -Wfatal-errors -static -Ofast -DNNPACK -c ./src/detection_layer.c -o obj/detection_layer.o\n",
      "gcc -Iinclude/ -Isrc/ -Wall -Wno-unused-result -Wno-unknown-pragmas -Wfatal-errors -static -Ofast -DNNPACK -c ./src/route_layer.c -o obj/route_layer.o\n",
      "gcc -Iinclude/ -Isrc/ -Wall -Wno-unused-result -Wno-unknown-pragmas -Wfatal-errors -static -Ofast -DNNPACK -c ./src/upsample_layer.c -o obj/upsample_layer.o\n",
      "gcc -Iinclude/ -Isrc/ -Wall -Wno-unused-result -Wno-unknown-pragmas -Wfatal-errors -static -Ofast -DNNPACK -c ./src/box.c -o obj/box.o\n",
      "gcc -Iinclude/ -Isrc/ -Wall -Wno-unused-result -Wno-unknown-pragmas -Wfatal-errors -static -Ofast -DNNPACK -c ./src/normalization_layer.c -o obj/normalization_layer.o\n",
      "gcc -Iinclude/ -Isrc/ -Wall -Wno-unused-result -Wno-unknown-pragmas -Wfatal-errors -static -Ofast -DNNPACK -c ./src/avgpool_layer.c -o obj/avgpool_layer.o\n",
      "gcc -Iinclude/ -Isrc/ -Wall -Wno-unused-result -Wno-unknown-pragmas -Wfatal-errors -static -Ofast -DNNPACK -c ./src/layer.c -o obj/layer.o\n",
      "gcc -Iinclude/ -Isrc/ -Wall -Wno-unused-result -Wno-unknown-pragmas -Wfatal-errors -static -Ofast -DNNPACK -c ./src/local_layer.c -o obj/local_layer.o\n",
      "gcc -Iinclude/ -Isrc/ -Wall -Wno-unused-result -Wno-unknown-pragmas -Wfatal-errors -static -Ofast -DNNPACK -c ./src/shortcut_layer.c -o obj/shortcut_layer.o\n",
      "gcc -Iinclude/ -Isrc/ -Wall -Wno-unused-result -Wno-unknown-pragmas -Wfatal-errors -static -Ofast -DNNPACK -c ./src/logistic_layer.c -o obj/logistic_layer.o\n",
      "gcc -Iinclude/ -Isrc/ -Wall -Wno-unused-result -Wno-unknown-pragmas -Wfatal-errors -static -Ofast -DNNPACK -c ./src/activation_layer.c -o obj/activation_layer.o\n",
      "gcc -Iinclude/ -Isrc/ -Wall -Wno-unused-result -Wno-unknown-pragmas -Wfatal-errors -static -Ofast -DNNPACK -c ./src/rnn_layer.c -o obj/rnn_layer.o\n",
      "gcc -Iinclude/ -Isrc/ -Wall -Wno-unused-result -Wno-unknown-pragmas -Wfatal-errors -static -Ofast -DNNPACK -c ./src/gru_layer.c -o obj/gru_layer.o\n",
      "gcc -Iinclude/ -Isrc/ -Wall -Wno-unused-result -Wno-unknown-pragmas -Wfatal-errors -static -Ofast -DNNPACK -c ./src/crnn_layer.c -o obj/crnn_layer.o\n",
      "gcc -Iinclude/ -Isrc/ -Wall -Wno-unused-result -Wno-unknown-pragmas -Wfatal-errors -static -Ofast -DNNPACK -c ./src/demo.c -o obj/demo.o\n",
      "gcc -Iinclude/ -Isrc/ -Wall -Wno-unused-result -Wno-unknown-pragmas -Wfatal-errors -static -Ofast -DNNPACK -c ./src/batchnorm_layer.c -o obj/batchnorm_layer.o\n",
      "gcc -Iinclude/ -Isrc/ -Wall -Wno-unused-result -Wno-unknown-pragmas -Wfatal-errors -static -Ofast -DNNPACK -c ./src/region_layer.c -o obj/region_layer.o\n",
      "gcc -Iinclude/ -Isrc/ -Wall -Wno-unused-result -Wno-unknown-pragmas -Wfatal-errors -static -Ofast -DNNPACK -c ./src/reorg_layer.c -o obj/reorg_layer.o\n",
      "gcc -Iinclude/ -Isrc/ -Wall -Wno-unused-result -Wno-unknown-pragmas -Wfatal-errors -static -Ofast -DNNPACK -c ./src/tree.c -o obj/tree.o\n",
      "gcc -Iinclude/ -Isrc/ -Wall -Wno-unused-result -Wno-unknown-pragmas -Wfatal-errors -static -Ofast -DNNPACK -c ./src/lstm_layer.c -o obj/lstm_layer.o\n",
      "gcc -Iinclude/ -Isrc/ -Wall -Wno-unused-result -Wno-unknown-pragmas -Wfatal-errors -static -Ofast -DNNPACK -c ./src/l2norm_layer.c -o obj/l2norm_layer.o\n",
      "gcc -Iinclude/ -Isrc/ -Wall -Wno-unused-result -Wno-unknown-pragmas -Wfatal-errors -static -Ofast -DNNPACK -c ./src/yolo_layer.c -o obj/yolo_layer.o\n",
      "gcc -Iinclude/ -Isrc/ -Wall -Wno-unused-result -Wno-unknown-pragmas -Wfatal-errors -static -Ofast -DNNPACK -c ./src/iseg_layer.c -o obj/iseg_layer.o\n",
      "g++ -Iinclude/ -Isrc/ -Wall -Wno-unused-result -Wno-unknown-pragmas -Wfatal-errors -static -Ofast -DNNPACK -c ./src/image_opencv.cpp -o obj/image_opencv.o\n",
      "ar rcs libdarknet.a obj/gemm.o obj/utils.o obj/cuda.o obj/deconvolutional_layer.o obj/convolutional_layer.o obj/list.o obj/image.o obj/activations.o obj/im2col.o obj/col2im.o obj/blas.o obj/crop_layer.o obj/dropout_layer.o obj/maxpool_layer.o obj/softmax_layer.o obj/data.o obj/matrix.o obj/network.o obj/connected_layer.o obj/cost_layer.o obj/parser.o obj/option_list.o obj/detection_layer.o obj/route_layer.o obj/upsample_layer.o obj/box.o obj/normalization_layer.o obj/avgpool_layer.o obj/layer.o obj/local_layer.o obj/shortcut_layer.o obj/logistic_layer.o obj/activation_layer.o obj/rnn_layer.o obj/gru_layer.o obj/crnn_layer.o obj/demo.o obj/batchnorm_layer.o obj/region_layer.o obj/reorg_layer.o obj/tree.o obj/lstm_layer.o obj/l2norm_layer.o obj/yolo_layer.o obj/iseg_layer.o obj/image_opencv.o\n",
      "gcc -Iinclude/ -Isrc/ -Wall -Wno-unused-result -Wno-unknown-pragmas -Wfatal-errors -static -Ofast -DNNPACK -c ./examples/captcha.c -o obj/captcha.o\n",
      "gcc -Iinclude/ -Isrc/ -Wall -Wno-unused-result -Wno-unknown-pragmas -Wfatal-errors -static -Ofast -DNNPACK -c ./examples/lsd.c -o obj/lsd.o\n",
      "gcc -Iinclude/ -Isrc/ -Wall -Wno-unused-result -Wno-unknown-pragmas -Wfatal-errors -static -Ofast -DNNPACK -c ./examples/super.c -o obj/super.o\n",
      "gcc -Iinclude/ -Isrc/ -Wall -Wno-unused-result -Wno-unknown-pragmas -Wfatal-errors -static -Ofast -DNNPACK -c ./examples/art.c -o obj/art.o\n",
      "gcc -Iinclude/ -Isrc/ -Wall -Wno-unused-result -Wno-unknown-pragmas -Wfatal-errors -static -Ofast -DNNPACK -c ./examples/tag.c -o obj/tag.o\n",
      "gcc -Iinclude/ -Isrc/ -Wall -Wno-unused-result -Wno-unknown-pragmas -Wfatal-errors -static -Ofast -DNNPACK -c ./examples/cifar.c -o obj/cifar.o\n",
      "gcc -Iinclude/ -Isrc/ -Wall -Wno-unused-result -Wno-unknown-pragmas -Wfatal-errors -static -Ofast -DNNPACK -c ./examples/go.c -o obj/go.o\n",
      "gcc -Iinclude/ -Isrc/ -Wall -Wno-unused-result -Wno-unknown-pragmas -Wfatal-errors -static -Ofast -DNNPACK -c ./examples/rnn.c -o obj/rnn.o\n",
      "gcc -Iinclude/ -Isrc/ -Wall -Wno-unused-result -Wno-unknown-pragmas -Wfatal-errors -static -Ofast -DNNPACK -c ./examples/segmenter.c -o obj/segmenter.o\n",
      "gcc -Iinclude/ -Isrc/ -Wall -Wno-unused-result -Wno-unknown-pragmas -Wfatal-errors -static -Ofast -DNNPACK -c ./examples/regressor.c -o obj/regressor.o\n"
     ]
    },
    {
     "name": "stdout",
     "output_type": "stream",
     "text": [
      "gcc -Iinclude/ -Isrc/ -Wall -Wno-unused-result -Wno-unknown-pragmas -Wfatal-errors -static -Ofast -DNNPACK -c ./examples/classifier.c -o obj/classifier.o\n",
      "gcc -Iinclude/ -Isrc/ -Wall -Wno-unused-result -Wno-unknown-pragmas -Wfatal-errors -static -Ofast -DNNPACK -c ./examples/coco.c -o obj/coco.o\n",
      "gcc -Iinclude/ -Isrc/ -Wall -Wno-unused-result -Wno-unknown-pragmas -Wfatal-errors -static -Ofast -DNNPACK -c ./examples/yolo.c -o obj/yolo.o\n",
      "gcc -Iinclude/ -Isrc/ -Wall -Wno-unused-result -Wno-unknown-pragmas -Wfatal-errors -static -Ofast -DNNPACK -c ./examples/detector.c -o obj/detector.o\n"
     ]
    },
    {
     "name": "stderr",
     "output_type": "stream",
     "text": [
      "./examples/detector.c: In function ‘test_detector’:\n",
      "./examples/detector.c:585:24: warning: ‘return’ with no value, in function returning non-void [-Wreturn-type]\n",
      "  585 |             if(!input) return;\n",
      "      |                        ^~~~~~\n",
      "./examples/detector.c:562:7: note: declared here\n",
      "  562 | float test_detector(char *datacfg, char *cfgfile, char *weightfile, char *filename, float thresh, float hier_thresh, char *outfile, int fullscreen)\n",
      "      |       ^~~~~~~~~~~~~\n"
     ]
    },
    {
     "name": "stdout",
     "output_type": "stream",
     "text": [
      "gcc -Iinclude/ -Isrc/ -Wall -Wno-unused-result -Wno-unknown-pragmas -Wfatal-errors -static -Ofast -DNNPACK -c ./examples/nightmare.c -o obj/nightmare.o\n",
      "gcc -Iinclude/ -Isrc/ -Wall -Wno-unused-result -Wno-unknown-pragmas -Wfatal-errors -static -Ofast -DNNPACK -c ./examples/instance-segmenter.c -o obj/instance-segmenter.o\n",
      "gcc -Iinclude/ -Isrc/ -Wall -Wno-unused-result -Wno-unknown-pragmas -Wfatal-errors -static -Ofast -DNNPACK -c ./examples/darknet.c -o obj/darknet.o\n",
      "gcc -Iinclude/ -Isrc/ -Wall -Wno-unused-result -Wno-unknown-pragmas -Wfatal-errors -static -Ofast -DNNPACK -c ./examples/test.c -o obj/test.o\n",
      "gcc -Iinclude/ -Isrc/ -Wall -Wno-unused-result -Wno-unknown-pragmas -Wfatal-errors -static -Ofast -DNNPACK obj/captcha.o obj/lsd.o obj/super.o obj/art.o obj/tag.o obj/cifar.o obj/go.o obj/rnn.o obj/segmenter.o obj/regressor.o obj/classifier.o obj/coco.o obj/yolo.o obj/detector.o obj/nightmare.o obj/instance-segmenter.o obj/darknet.o obj/test.o libdarknet.a -o darknet -lm -pthread -l:libnnpack.a -l:libpthreadpool.a -l:libcpuinfo.a -l:libclog.a libdarknet.a\n",
      "/home/anton/Master/tools/gem5/gem5-Arm/build/X86/gem5.opt --outdir=./bench/build-X86-gem5-opt/NAN/NO_PREDICT_NPP/setup_npp/ /home/anton/Master/tools/gem5/gem5-Arm/configs/example/se.py --cpu-type=TimingSimpleCPU --cpu-clock=2GHz --l1d_size=64kB --l1i_size=16kB --caches --output=stdout.txt  --errout=stderr.txt --l2_size=64MB --l2cache -c \"./darknet\" --options \"\"\n",
      "\n",
      "\n"
     ]
    },
    {
     "name": "stderr",
     "output_type": "stream",
     "text": [
      "warn: The `get_runtime_isa` function is deprecated. Please migrate away from using this function.\n",
      "warn: The `get_runtime_isa` function is deprecated. Please migrate away from using this function.\n",
      "warn: failed to generate dot output from ./bench/build-X86-gem5-opt/NAN/NO_PREDICT_NPP/setup_npp/config.dot\n",
      "build/X86/mem/dram_interface.cc:690: warn: DRAM device capacity (8192 Mbytes) does not match the address range assigned (512 Mbytes)\n"
     ]
    },
    {
     "name": "stdout",
     "output_type": "stream",
     "text": [
      "Global frequency set at 1000000000000 ticks per second\n"
     ]
    },
    {
     "name": "stderr",
     "output_type": "stream",
     "text": [
      "build/X86/base/remote_gdb.cc:416: warn: Sockets disabled, not accepting gdb connections\n",
      "build/X86/sim/simulate.cc:192: info: Entering event queue @ 0.  Starting simulation...\n",
      "build/X86/sim/syscall_emul.cc:74: warn: ignoring syscall set_robust_list(...)\n",
      "build/X86/sim/syscall_emul.cc:74: warn: ignoring syscall rseq(...)\n",
      "build/X86/sim/mem_state.cc:443: info: Increasing stack size by one page.\n",
      "build/X86/sim/syscall_emul.cc:74: warn: ignoring syscall mprotect(...)\n",
      "build/X86/arch/x86/cpuid.cc:180: warn: x86 cpuid family 0x0000: unimplemented function 2\n",
      "build/X86/sim/mem_state.cc:443: info: Increasing stack size by one page.\n"
     ]
    },
    {
     "name": "stdout",
     "output_type": "stream",
     "text": [
      "gem5 Simulator System.  https://www.gem5.org\n",
      "gem5 is copyrighted software; use the --copyright option for details.\n",
      "\n",
      "gem5 version 22.1.0.0\n",
      "gem5 compiled Jan 24 2023 19:03:31\n",
      "gem5 started Feb 12 2023 16:58:29\n",
      "gem5 executing on anton-mint, pid 14729\n",
      "command line: /home/anton/Master/tools/gem5/gem5-Arm/build/X86/gem5.opt --outdir=./bench/build-X86-gem5-opt/NAN/NO_PREDICT_NPP/setup_npp/ /home/anton/Master/tools/gem5/gem5-Arm/configs/example/se.py --cpu-type=TimingSimpleCPU --cpu-clock=2GHz --l1d_size=64kB --l1i_size=16kB --caches --output=stdout.txt --errout=stderr.txt --l2_size=64MB --l2cache -c ./darknet --options ''\n",
      "\n",
      "info: Standard input is not a terminal, disabling listeners.\n",
      "**** REAL SIMULATION ****\n",
      "Exiting @ tick 177698500 because exiting with last active thread context\n",
      "./bench/build-X86-gem5-opt/NAN/NO_PREDICT_NPP/setup_npp/\n",
      "reading data from file:  ./bench/build-X86-gem5-opt/NAN/NO_PREDICT_NPP/setup_npp/stats.txt \n",
      " \n",
      "[[('simTicks', 177698500)]]\n"
     ]
    },
    {
     "data": {
      "text/plain": [
       "(['./bench/build-X86-gem5-opt/NAN/NO_PREDICT_NPP/setup_npp/'],\n",
       " [[('simTicks', 177698500)]])"
      ]
     },
     "execution_count": 21,
     "metadata": {},
     "output_type": "execute_result"
    }
   ],
   "source": [
    "setupnppticks_npp = cyclesToSetup_npp(yolo)\n",
    "setupnppticks_npp"
   ]
  },
  {
   "cell_type": "code",
   "execution_count": 22,
   "id": "edae7335",
   "metadata": {},
   "outputs": [
    {
     "data": {
      "text/plain": [
       "['--l2_size=256MB --l2cache',\n",
       " '--l2_size=64MB --l2cache',\n",
       " '--l2_size=8MB --l2cache',\n",
       " '--l2_size=1MB --l2cache']"
      ]
     },
     "execution_count": 22,
     "metadata": {},
     "output_type": "execute_result"
    }
   ],
   "source": [
    "chaceSizes = ['256MB','64MB','8MB','1MB']\n",
    "chaceOptions = ['--l2_size=' + size + ' --l2cache' for size in chaceSizes]\n",
    "chaceOptions"
   ]
  },
  {
   "cell_type": "markdown",
   "id": "c360ed52",
   "metadata": {},
   "source": [
    "## baseline"
   ]
  },
  {
   "cell_type": "code",
   "execution_count": 23,
   "id": "8715745f",
   "metadata": {},
   "outputs": [
    {
     "name": "stdout",
     "output_type": "stream",
     "text": [
      "rm -rf ./obj/gemm.o ./obj/utils.o ./obj/cuda.o ./obj/deconvolutional_layer.o ./obj/convolutional_layer.o ./obj/list.o ./obj/image.o ./obj/activations.o ./obj/im2col.o ./obj/col2im.o ./obj/blas.o ./obj/crop_layer.o ./obj/dropout_layer.o ./obj/maxpool_layer.o ./obj/softmax_layer.o ./obj/data.o ./obj/matrix.o ./obj/network.o ./obj/connected_layer.o ./obj/cost_layer.o ./obj/parser.o ./obj/option_list.o ./obj/detection_layer.o ./obj/route_layer.o ./obj/upsample_layer.o ./obj/box.o ./obj/normalization_layer.o ./obj/avgpool_layer.o ./obj/layer.o ./obj/local_layer.o ./obj/shortcut_layer.o ./obj/logistic_layer.o ./obj/activation_layer.o ./obj/rnn_layer.o ./obj/gru_layer.o ./obj/crnn_layer.o ./obj/demo.o ./obj/batchnorm_layer.o ./obj/region_layer.o ./obj/reorg_layer.o ./obj/tree.o ./obj/lstm_layer.o ./obj/l2norm_layer.o ./obj/yolo_layer.o ./obj/iseg_layer.o ./obj/image_opencv.o libdarknet.so libdarknet.a darknet ./obj/captcha.o ./obj/lsd.o ./obj/super.o ./obj/art.o ./obj/tag.o ./obj/cifar.o ./obj/go.o ./obj/rnn.o ./obj/segmenter.o ./obj/regressor.o ./obj/classifier.o ./obj/coco.o ./obj/yolo.o ./obj/detector.o ./obj/nightmare.o ./obj/instance-segmenter.o ./obj/darknet.o ./obj/test.o ./obj//*\n",
      "NNPACK=0\n",
      "gcc -Iinclude/ -Isrc/ -Wall -Wno-unused-result -Wno-unknown-pragmas -Wfatal-errors -static -Ofast -c ./src/gemm.c -o obj/gemm.o\n",
      "gcc -Iinclude/ -Isrc/ -Wall -Wno-unused-result -Wno-unknown-pragmas -Wfatal-errors -static -Ofast -c ./src/utils.c -o obj/utils.o\n",
      "gcc -Iinclude/ -Isrc/ -Wall -Wno-unused-result -Wno-unknown-pragmas -Wfatal-errors -static -Ofast -c ./src/cuda.c -o obj/cuda.o\n",
      "gcc -Iinclude/ -Isrc/ -Wall -Wno-unused-result -Wno-unknown-pragmas -Wfatal-errors -static -Ofast -c ./src/deconvolutional_layer.c -o obj/deconvolutional_layer.o\n",
      "gcc -Iinclude/ -Isrc/ -Wall -Wno-unused-result -Wno-unknown-pragmas -Wfatal-errors -static -Ofast -c ./src/convolutional_layer.c -o obj/convolutional_layer.o\n",
      "gcc -Iinclude/ -Isrc/ -Wall -Wno-unused-result -Wno-unknown-pragmas -Wfatal-errors -static -Ofast -c ./src/list.c -o obj/list.o\n",
      "gcc -Iinclude/ -Isrc/ -Wall -Wno-unused-result -Wno-unknown-pragmas -Wfatal-errors -static -Ofast -c ./src/image.c -o obj/image.o\n",
      "gcc -Iinclude/ -Isrc/ -Wall -Wno-unused-result -Wno-unknown-pragmas -Wfatal-errors -static -Ofast -c ./src/activations.c -o obj/activations.o\n",
      "gcc -Iinclude/ -Isrc/ -Wall -Wno-unused-result -Wno-unknown-pragmas -Wfatal-errors -static -Ofast -c ./src/im2col.c -o obj/im2col.o\n",
      "gcc -Iinclude/ -Isrc/ -Wall -Wno-unused-result -Wno-unknown-pragmas -Wfatal-errors -static -Ofast -c ./src/col2im.c -o obj/col2im.o\n",
      "gcc -Iinclude/ -Isrc/ -Wall -Wno-unused-result -Wno-unknown-pragmas -Wfatal-errors -static -Ofast -c ./src/blas.c -o obj/blas.o\n",
      "gcc -Iinclude/ -Isrc/ -Wall -Wno-unused-result -Wno-unknown-pragmas -Wfatal-errors -static -Ofast -c ./src/crop_layer.c -o obj/crop_layer.o\n",
      "gcc -Iinclude/ -Isrc/ -Wall -Wno-unused-result -Wno-unknown-pragmas -Wfatal-errors -static -Ofast -c ./src/dropout_layer.c -o obj/dropout_layer.o\n",
      "gcc -Iinclude/ -Isrc/ -Wall -Wno-unused-result -Wno-unknown-pragmas -Wfatal-errors -static -Ofast -c ./src/maxpool_layer.c -o obj/maxpool_layer.o\n",
      "gcc -Iinclude/ -Isrc/ -Wall -Wno-unused-result -Wno-unknown-pragmas -Wfatal-errors -static -Ofast -c ./src/softmax_layer.c -o obj/softmax_layer.o\n",
      "gcc -Iinclude/ -Isrc/ -Wall -Wno-unused-result -Wno-unknown-pragmas -Wfatal-errors -static -Ofast -c ./src/data.c -o obj/data.o\n",
      "gcc -Iinclude/ -Isrc/ -Wall -Wno-unused-result -Wno-unknown-pragmas -Wfatal-errors -static -Ofast -c ./src/matrix.c -o obj/matrix.o\n",
      "gcc -Iinclude/ -Isrc/ -Wall -Wno-unused-result -Wno-unknown-pragmas -Wfatal-errors -static -Ofast -c ./src/network.c -o obj/network.o\n",
      "gcc -Iinclude/ -Isrc/ -Wall -Wno-unused-result -Wno-unknown-pragmas -Wfatal-errors -static -Ofast -c ./src/connected_layer.c -o obj/connected_layer.o\n",
      "gcc -Iinclude/ -Isrc/ -Wall -Wno-unused-result -Wno-unknown-pragmas -Wfatal-errors -static -Ofast -c ./src/cost_layer.c -o obj/cost_layer.o\n",
      "gcc -Iinclude/ -Isrc/ -Wall -Wno-unused-result -Wno-unknown-pragmas -Wfatal-errors -static -Ofast -c ./src/parser.c -o obj/parser.o\n",
      "gcc -Iinclude/ -Isrc/ -Wall -Wno-unused-result -Wno-unknown-pragmas -Wfatal-errors -static -Ofast -c ./src/option_list.c -o obj/option_list.o\n",
      "gcc -Iinclude/ -Isrc/ -Wall -Wno-unused-result -Wno-unknown-pragmas -Wfatal-errors -static -Ofast -c ./src/detection_layer.c -o obj/detection_layer.o\n",
      "gcc -Iinclude/ -Isrc/ -Wall -Wno-unused-result -Wno-unknown-pragmas -Wfatal-errors -static -Ofast -c ./src/route_layer.c -o obj/route_layer.o\n",
      "gcc -Iinclude/ -Isrc/ -Wall -Wno-unused-result -Wno-unknown-pragmas -Wfatal-errors -static -Ofast -c ./src/upsample_layer.c -o obj/upsample_layer.o\n",
      "gcc -Iinclude/ -Isrc/ -Wall -Wno-unused-result -Wno-unknown-pragmas -Wfatal-errors -static -Ofast -c ./src/box.c -o obj/box.o\n",
      "gcc -Iinclude/ -Isrc/ -Wall -Wno-unused-result -Wno-unknown-pragmas -Wfatal-errors -static -Ofast -c ./src/normalization_layer.c -o obj/normalization_layer.o\n",
      "gcc -Iinclude/ -Isrc/ -Wall -Wno-unused-result -Wno-unknown-pragmas -Wfatal-errors -static -Ofast -c ./src/avgpool_layer.c -o obj/avgpool_layer.o\n",
      "gcc -Iinclude/ -Isrc/ -Wall -Wno-unused-result -Wno-unknown-pragmas -Wfatal-errors -static -Ofast -c ./src/layer.c -o obj/layer.o\n",
      "gcc -Iinclude/ -Isrc/ -Wall -Wno-unused-result -Wno-unknown-pragmas -Wfatal-errors -static -Ofast -c ./src/local_layer.c -o obj/local_layer.o\n",
      "gcc -Iinclude/ -Isrc/ -Wall -Wno-unused-result -Wno-unknown-pragmas -Wfatal-errors -static -Ofast -c ./src/shortcut_layer.c -o obj/shortcut_layer.o\n",
      "gcc -Iinclude/ -Isrc/ -Wall -Wno-unused-result -Wno-unknown-pragmas -Wfatal-errors -static -Ofast -c ./src/logistic_layer.c -o obj/logistic_layer.o\n",
      "gcc -Iinclude/ -Isrc/ -Wall -Wno-unused-result -Wno-unknown-pragmas -Wfatal-errors -static -Ofast -c ./src/activation_layer.c -o obj/activation_layer.o\n",
      "gcc -Iinclude/ -Isrc/ -Wall -Wno-unused-result -Wno-unknown-pragmas -Wfatal-errors -static -Ofast -c ./src/rnn_layer.c -o obj/rnn_layer.o\n",
      "gcc -Iinclude/ -Isrc/ -Wall -Wno-unused-result -Wno-unknown-pragmas -Wfatal-errors -static -Ofast -c ./src/gru_layer.c -o obj/gru_layer.o\n",
      "gcc -Iinclude/ -Isrc/ -Wall -Wno-unused-result -Wno-unknown-pragmas -Wfatal-errors -static -Ofast -c ./src/crnn_layer.c -o obj/crnn_layer.o\n",
      "gcc -Iinclude/ -Isrc/ -Wall -Wno-unused-result -Wno-unknown-pragmas -Wfatal-errors -static -Ofast -c ./src/demo.c -o obj/demo.o\n",
      "gcc -Iinclude/ -Isrc/ -Wall -Wno-unused-result -Wno-unknown-pragmas -Wfatal-errors -static -Ofast -c ./src/batchnorm_layer.c -o obj/batchnorm_layer.o\n",
      "gcc -Iinclude/ -Isrc/ -Wall -Wno-unused-result -Wno-unknown-pragmas -Wfatal-errors -static -Ofast -c ./src/region_layer.c -o obj/region_layer.o\n",
      "gcc -Iinclude/ -Isrc/ -Wall -Wno-unused-result -Wno-unknown-pragmas -Wfatal-errors -static -Ofast -c ./src/reorg_layer.c -o obj/reorg_layer.o\n",
      "gcc -Iinclude/ -Isrc/ -Wall -Wno-unused-result -Wno-unknown-pragmas -Wfatal-errors -static -Ofast -c ./src/tree.c -o obj/tree.o\n",
      "gcc -Iinclude/ -Isrc/ -Wall -Wno-unused-result -Wno-unknown-pragmas -Wfatal-errors -static -Ofast -c ./src/lstm_layer.c -o obj/lstm_layer.o\n",
      "gcc -Iinclude/ -Isrc/ -Wall -Wno-unused-result -Wno-unknown-pragmas -Wfatal-errors -static -Ofast -c ./src/l2norm_layer.c -o obj/l2norm_layer.o\n",
      "gcc -Iinclude/ -Isrc/ -Wall -Wno-unused-result -Wno-unknown-pragmas -Wfatal-errors -static -Ofast -c ./src/yolo_layer.c -o obj/yolo_layer.o\n",
      "gcc -Iinclude/ -Isrc/ -Wall -Wno-unused-result -Wno-unknown-pragmas -Wfatal-errors -static -Ofast -c ./src/iseg_layer.c -o obj/iseg_layer.o\n",
      "g++ -Iinclude/ -Isrc/ -Wall -Wno-unused-result -Wno-unknown-pragmas -Wfatal-errors -static -Ofast -c ./src/image_opencv.cpp -o obj/image_opencv.o\n",
      "ar rcs libdarknet.a obj/gemm.o obj/utils.o obj/cuda.o obj/deconvolutional_layer.o obj/convolutional_layer.o obj/list.o obj/image.o obj/activations.o obj/im2col.o obj/col2im.o obj/blas.o obj/crop_layer.o obj/dropout_layer.o obj/maxpool_layer.o obj/softmax_layer.o obj/data.o obj/matrix.o obj/network.o obj/connected_layer.o obj/cost_layer.o obj/parser.o obj/option_list.o obj/detection_layer.o obj/route_layer.o obj/upsample_layer.o obj/box.o obj/normalization_layer.o obj/avgpool_layer.o obj/layer.o obj/local_layer.o obj/shortcut_layer.o obj/logistic_layer.o obj/activation_layer.o obj/rnn_layer.o obj/gru_layer.o obj/crnn_layer.o obj/demo.o obj/batchnorm_layer.o obj/region_layer.o obj/reorg_layer.o obj/tree.o obj/lstm_layer.o obj/l2norm_layer.o obj/yolo_layer.o obj/iseg_layer.o obj/image_opencv.o\n"
     ]
    },
    {
     "name": "stdout",
     "output_type": "stream",
     "text": [
      "gcc -Iinclude/ -Isrc/ -Wall -Wno-unused-result -Wno-unknown-pragmas -Wfatal-errors -static -Ofast -c ./examples/captcha.c -o obj/captcha.o\n",
      "gcc -Iinclude/ -Isrc/ -Wall -Wno-unused-result -Wno-unknown-pragmas -Wfatal-errors -static -Ofast -c ./examples/lsd.c -o obj/lsd.o\n",
      "gcc -Iinclude/ -Isrc/ -Wall -Wno-unused-result -Wno-unknown-pragmas -Wfatal-errors -static -Ofast -c ./examples/super.c -o obj/super.o\n",
      "gcc -Iinclude/ -Isrc/ -Wall -Wno-unused-result -Wno-unknown-pragmas -Wfatal-errors -static -Ofast -c ./examples/art.c -o obj/art.o\n",
      "gcc -Iinclude/ -Isrc/ -Wall -Wno-unused-result -Wno-unknown-pragmas -Wfatal-errors -static -Ofast -c ./examples/tag.c -o obj/tag.o\n",
      "gcc -Iinclude/ -Isrc/ -Wall -Wno-unused-result -Wno-unknown-pragmas -Wfatal-errors -static -Ofast -c ./examples/cifar.c -o obj/cifar.o\n",
      "gcc -Iinclude/ -Isrc/ -Wall -Wno-unused-result -Wno-unknown-pragmas -Wfatal-errors -static -Ofast -c ./examples/go.c -o obj/go.o\n",
      "gcc -Iinclude/ -Isrc/ -Wall -Wno-unused-result -Wno-unknown-pragmas -Wfatal-errors -static -Ofast -c ./examples/rnn.c -o obj/rnn.o\n",
      "gcc -Iinclude/ -Isrc/ -Wall -Wno-unused-result -Wno-unknown-pragmas -Wfatal-errors -static -Ofast -c ./examples/segmenter.c -o obj/segmenter.o\n",
      "gcc -Iinclude/ -Isrc/ -Wall -Wno-unused-result -Wno-unknown-pragmas -Wfatal-errors -static -Ofast -c ./examples/regressor.c -o obj/regressor.o\n",
      "gcc -Iinclude/ -Isrc/ -Wall -Wno-unused-result -Wno-unknown-pragmas -Wfatal-errors -static -Ofast -c ./examples/classifier.c -o obj/classifier.o\n",
      "gcc -Iinclude/ -Isrc/ -Wall -Wno-unused-result -Wno-unknown-pragmas -Wfatal-errors -static -Ofast -c ./examples/coco.c -o obj/coco.o\n",
      "gcc -Iinclude/ -Isrc/ -Wall -Wno-unused-result -Wno-unknown-pragmas -Wfatal-errors -static -Ofast -c ./examples/yolo.c -o obj/yolo.o\n",
      "gcc -Iinclude/ -Isrc/ -Wall -Wno-unused-result -Wno-unknown-pragmas -Wfatal-errors -static -Ofast -c ./examples/detector.c -o obj/detector.o\n"
     ]
    },
    {
     "name": "stderr",
     "output_type": "stream",
     "text": [
      "./examples/detector.c: In function ‘test_detector’:\n",
      "./examples/detector.c:585:24: warning: ‘return’ with no value, in function returning non-void [-Wreturn-type]\n",
      "  585 |             if(!input) return;\n",
      "      |                        ^~~~~~\n",
      "./examples/detector.c:562:7: note: declared here\n",
      "  562 | float test_detector(char *datacfg, char *cfgfile, char *weightfile, char *filename, float thresh, float hier_thresh, char *outfile, int fullscreen)\n",
      "      |       ^~~~~~~~~~~~~\n"
     ]
    },
    {
     "name": "stdout",
     "output_type": "stream",
     "text": [
      "gcc -Iinclude/ -Isrc/ -Wall -Wno-unused-result -Wno-unknown-pragmas -Wfatal-errors -static -Ofast -c ./examples/nightmare.c -o obj/nightmare.o\n",
      "gcc -Iinclude/ -Isrc/ -Wall -Wno-unused-result -Wno-unknown-pragmas -Wfatal-errors -static -Ofast -c ./examples/instance-segmenter.c -o obj/instance-segmenter.o\n",
      "gcc -Iinclude/ -Isrc/ -Wall -Wno-unused-result -Wno-unknown-pragmas -Wfatal-errors -static -Ofast -c ./examples/darknet.c -o obj/darknet.o\n",
      "gcc -Iinclude/ -Isrc/ -Wall -Wno-unused-result -Wno-unknown-pragmas -Wfatal-errors -static -Ofast -c ./examples/test.c -o obj/test.o\n",
      "gcc -Iinclude/ -Isrc/ -Wall -Wno-unused-result -Wno-unknown-pragmas -Wfatal-errors -static -Ofast obj/captcha.o obj/lsd.o obj/super.o obj/art.o obj/tag.o obj/cifar.o obj/go.o obj/rnn.o obj/segmenter.o obj/regressor.o obj/classifier.o obj/coco.o obj/yolo.o obj/detector.o obj/nightmare.o obj/instance-segmenter.o obj/darknet.o obj/test.o libdarknet.a -o darknet -lm -pthread libdarknet.a\n",
      "/home/anton/Master/tools/gem5/gem5-Arm/build/X86/gem5.opt --outdir=./bench/build-X86-gem5-opt/NAN/BASELINE/256MB/ /home/anton/Master/tools/gem5/gem5-Arm/configs/example/se.py --cpu-type=TimingSimpleCPU --cpu-clock=2GHz --l1d_size=64kB --l1i_size=16kB --caches --output=stdout.txt  --errout=stderr.txt --l2_size=256MB --l2cache -c \"./darknet\" --options \"\"\n",
      "\n",
      "\n"
     ]
    },
    {
     "name": "stderr",
     "output_type": "stream",
     "text": [
      "warn: The `get_runtime_isa` function is deprecated. Please migrate away from using this function.\n",
      "warn: The `get_runtime_isa` function is deprecated. Please migrate away from using this function.\n",
      "warn: failed to generate dot output from ./bench/build-X86-gem5-opt/NAN/BASELINE/256MB/config.dot\n",
      "build/X86/mem/dram_interface.cc:690: warn: DRAM device capacity (8192 Mbytes) does not match the address range assigned (512 Mbytes)\n"
     ]
    },
    {
     "name": "stdout",
     "output_type": "stream",
     "text": [
      "Global frequency set at 1000000000000 ticks per second\n"
     ]
    },
    {
     "name": "stderr",
     "output_type": "stream",
     "text": [
      "build/X86/base/remote_gdb.cc:416: warn: Sockets disabled, not accepting gdb connections\n",
      "build/X86/sim/simulate.cc:192: info: Entering event queue @ 0.  Starting simulation...\n",
      "build/X86/sim/syscall_emul.cc:74: warn: ignoring syscall set_robust_list(...)\n",
      "build/X86/sim/syscall_emul.cc:74: warn: ignoring syscall rseq(...)\n",
      "build/X86/sim/mem_state.cc:443: info: Increasing stack size by one page.\n",
      "build/X86/sim/syscall_emul.cc:74: warn: ignoring syscall mprotect(...)\n",
      "build/X86/sim/mem_state.cc:443: info: Increasing stack size by one page.\n"
     ]
    },
    {
     "name": "stdout",
     "output_type": "stream",
     "text": [
      "gem5 Simulator System.  https://www.gem5.org\n",
      "gem5 is copyrighted software; use the --copyright option for details.\n",
      "\n",
      "gem5 version 22.1.0.0\n",
      "gem5 compiled Jan 24 2023 19:03:31\n",
      "gem5 started Feb 12 2023 16:58:47\n",
      "gem5 executing on anton-mint, pid 14934\n",
      "command line: /home/anton/Master/tools/gem5/gem5-Arm/build/X86/gem5.opt --outdir=./bench/build-X86-gem5-opt/NAN/BASELINE/256MB/ /home/anton/Master/tools/gem5/gem5-Arm/configs/example/se.py --cpu-type=TimingSimpleCPU --cpu-clock=2GHz --l1d_size=64kB --l1i_size=16kB --caches --output=stdout.txt --errout=stderr.txt --l2_size=256MB --l2cache -c ./darknet --options ''\n",
      "\n",
      "info: Standard input is not a terminal, disabling listeners.\n",
      "**** REAL SIMULATION ****\n",
      "Exiting @ tick 87820500 because exiting with last active thread context\n",
      "/home/anton/Master/tools/gem5/gem5-Arm/build/X86/gem5.opt --outdir=./bench/build-X86-gem5-opt/NAN/BASELINE/64MB/ /home/anton/Master/tools/gem5/gem5-Arm/configs/example/se.py --cpu-type=TimingSimpleCPU --cpu-clock=2GHz --l1d_size=64kB --l1i_size=16kB --caches --output=stdout.txt  --errout=stderr.txt --l2_size=64MB --l2cache -c \"./darknet\" --options \"\"\n",
      "\n",
      "\n"
     ]
    },
    {
     "name": "stderr",
     "output_type": "stream",
     "text": [
      "warn: The `get_runtime_isa` function is deprecated. Please migrate away from using this function.\n",
      "warn: The `get_runtime_isa` function is deprecated. Please migrate away from using this function.\n",
      "warn: failed to generate dot output from ./bench/build-X86-gem5-opt/NAN/BASELINE/64MB/config.dot\n",
      "build/X86/mem/dram_interface.cc:690: warn: DRAM device capacity (8192 Mbytes) does not match the address range assigned (512 Mbytes)\n"
     ]
    },
    {
     "name": "stdout",
     "output_type": "stream",
     "text": [
      "Global frequency set at 1000000000000 ticks per second\n"
     ]
    },
    {
     "name": "stderr",
     "output_type": "stream",
     "text": [
      "build/X86/base/remote_gdb.cc:416: warn: Sockets disabled, not accepting gdb connections\n",
      "build/X86/sim/simulate.cc:192: info: Entering event queue @ 0.  Starting simulation...\n",
      "build/X86/sim/syscall_emul.cc:74: warn: ignoring syscall set_robust_list(...)\n",
      "build/X86/sim/syscall_emul.cc:74: warn: ignoring syscall rseq(...)\n",
      "build/X86/sim/mem_state.cc:443: info: Increasing stack size by one page.\n",
      "build/X86/sim/syscall_emul.cc:74: warn: ignoring syscall mprotect(...)\n",
      "build/X86/sim/mem_state.cc:443: info: Increasing stack size by one page.\n"
     ]
    },
    {
     "name": "stdout",
     "output_type": "stream",
     "text": [
      "gem5 Simulator System.  https://www.gem5.org\n",
      "gem5 is copyrighted software; use the --copyright option for details.\n",
      "\n",
      "gem5 version 22.1.0.0\n",
      "gem5 compiled Jan 24 2023 19:03:31\n",
      "gem5 started Feb 12 2023 16:58:48\n",
      "gem5 executing on anton-mint, pid 14937\n",
      "command line: /home/anton/Master/tools/gem5/gem5-Arm/build/X86/gem5.opt --outdir=./bench/build-X86-gem5-opt/NAN/BASELINE/64MB/ /home/anton/Master/tools/gem5/gem5-Arm/configs/example/se.py --cpu-type=TimingSimpleCPU --cpu-clock=2GHz --l1d_size=64kB --l1i_size=16kB --caches --output=stdout.txt --errout=stderr.txt --l2_size=64MB --l2cache -c ./darknet --options ''\n",
      "\n",
      "info: Standard input is not a terminal, disabling listeners.\n",
      "**** REAL SIMULATION ****\n",
      "Exiting @ tick 87820500 because exiting with last active thread context\n",
      "/home/anton/Master/tools/gem5/gem5-Arm/build/X86/gem5.opt --outdir=./bench/build-X86-gem5-opt/NAN/BASELINE/8MB/ /home/anton/Master/tools/gem5/gem5-Arm/configs/example/se.py --cpu-type=TimingSimpleCPU --cpu-clock=2GHz --l1d_size=64kB --l1i_size=16kB --caches --output=stdout.txt  --errout=stderr.txt --l2_size=8MB --l2cache -c \"./darknet\" --options \"\"\n",
      "\n",
      "\n"
     ]
    },
    {
     "name": "stderr",
     "output_type": "stream",
     "text": [
      "warn: The `get_runtime_isa` function is deprecated. Please migrate away from using this function.\n",
      "warn: The `get_runtime_isa` function is deprecated. Please migrate away from using this function.\n",
      "warn: failed to generate dot output from ./bench/build-X86-gem5-opt/NAN/BASELINE/8MB/config.dot\n",
      "build/X86/mem/dram_interface.cc:690: warn: DRAM device capacity (8192 Mbytes) does not match the address range assigned (512 Mbytes)\n"
     ]
    },
    {
     "name": "stdout",
     "output_type": "stream",
     "text": [
      "Global frequency set at 1000000000000 ticks per second\n"
     ]
    },
    {
     "name": "stderr",
     "output_type": "stream",
     "text": [
      "build/X86/base/remote_gdb.cc:416: warn: Sockets disabled, not accepting gdb connections\n",
      "build/X86/sim/simulate.cc:192: info: Entering event queue @ 0.  Starting simulation...\n",
      "build/X86/sim/syscall_emul.cc:74: warn: ignoring syscall set_robust_list(...)\n",
      "build/X86/sim/syscall_emul.cc:74: warn: ignoring syscall rseq(...)\n",
      "build/X86/sim/mem_state.cc:443: info: Increasing stack size by one page.\n",
      "build/X86/sim/syscall_emul.cc:74: warn: ignoring syscall mprotect(...)\n",
      "build/X86/sim/mem_state.cc:443: info: Increasing stack size by one page.\n"
     ]
    },
    {
     "name": "stdout",
     "output_type": "stream",
     "text": [
      "gem5 Simulator System.  https://www.gem5.org\n",
      "gem5 is copyrighted software; use the --copyright option for details.\n",
      "\n",
      "gem5 version 22.1.0.0\n",
      "gem5 compiled Jan 24 2023 19:03:31\n",
      "gem5 started Feb 12 2023 16:58:49\n",
      "gem5 executing on anton-mint, pid 14940\n",
      "command line: /home/anton/Master/tools/gem5/gem5-Arm/build/X86/gem5.opt --outdir=./bench/build-X86-gem5-opt/NAN/BASELINE/8MB/ /home/anton/Master/tools/gem5/gem5-Arm/configs/example/se.py --cpu-type=TimingSimpleCPU --cpu-clock=2GHz --l1d_size=64kB --l1i_size=16kB --caches --output=stdout.txt --errout=stderr.txt --l2_size=8MB --l2cache -c ./darknet --options ''\n",
      "\n",
      "info: Standard input is not a terminal, disabling listeners.\n",
      "**** REAL SIMULATION ****\n",
      "Exiting @ tick 87820500 because exiting with last active thread context\n",
      "/home/anton/Master/tools/gem5/gem5-Arm/build/X86/gem5.opt --outdir=./bench/build-X86-gem5-opt/NAN/BASELINE/1MB/ /home/anton/Master/tools/gem5/gem5-Arm/configs/example/se.py --cpu-type=TimingSimpleCPU --cpu-clock=2GHz --l1d_size=64kB --l1i_size=16kB --caches --output=stdout.txt  --errout=stderr.txt --l2_size=1MB --l2cache -c \"./darknet\" --options \"\"\n",
      "\n",
      "\n"
     ]
    },
    {
     "name": "stderr",
     "output_type": "stream",
     "text": [
      "warn: The `get_runtime_isa` function is deprecated. Please migrate away from using this function.\n",
      "warn: The `get_runtime_isa` function is deprecated. Please migrate away from using this function.\n",
      "warn: failed to generate dot output from ./bench/build-X86-gem5-opt/NAN/BASELINE/1MB/config.dot\n",
      "build/X86/mem/dram_interface.cc:690: warn: DRAM device capacity (8192 Mbytes) does not match the address range assigned (512 Mbytes)\n",
      "build/X86/base/remote_gdb.cc:416: warn: Sockets disabled, not accepting gdb connections\n"
     ]
    },
    {
     "name": "stdout",
     "output_type": "stream",
     "text": [
      "Global frequency set at 1000000000000 ticks per second\n",
      "gem5 Simulator System.  https://www.gem5.org\n",
      "gem5 is copyrighted software; use the --copyright option for details.\n",
      "\n",
      "gem5 version 22.1.0.0\n",
      "gem5 compiled Jan 24 2023 19:03:31\n",
      "gem5 started Feb 12 2023 16:58:50\n",
      "gem5 executing on anton-mint, pid 14943\n",
      "command line: /home/anton/Master/tools/gem5/gem5-Arm/build/X86/gem5.opt --outdir=./bench/build-X86-gem5-opt/NAN/BASELINE/1MB/ /home/anton/Master/tools/gem5/gem5-Arm/configs/example/se.py --cpu-type=TimingSimpleCPU --cpu-clock=2GHz --l1d_size=64kB --l1i_size=16kB --caches --output=stdout.txt --errout=stderr.txt --l2_size=1MB --l2cache -c ./darknet --options ''\n",
      "\n",
      "info: Standard input is not a terminal, disabling listeners.\n",
      "**** REAL SIMULATION ****\n",
      "Exiting @ tick 87820500 because exiting with last active thread context\n",
      "['./bench/build-X86-gem5-opt/NAN/BASELINE/256MB/', './bench/build-X86-gem5-opt/NAN/BASELINE/64MB/', './bench/build-X86-gem5-opt/NAN/BASELINE/8MB/', './bench/build-X86-gem5-opt/NAN/BASELINE/1MB/']\n",
      "reading data from file:  ./bench/build-X86-gem5-opt/NAN/BASELINE/256MB/stats.txt \n",
      " \n",
      "reading data from file:  ./bench/build-X86-gem5-opt/NAN/BASELINE/64MB/stats.txt \n",
      " \n",
      "reading data from file:  ./bench/build-X86-gem5-opt/NAN/BASELINE/8MB/stats.txt \n",
      " \n",
      "reading data from file:  ./bench/build-X86-gem5-opt/NAN/BASELINE/1MB/stats.txt \n",
      " \n",
      "[[('simTicks', 87820500)], [('simTicks', 87820500)], [('simTicks', 87820500)], [('simTicks', 87820500)]]\n",
      "[0, 0, 0, 0]\n",
      "['1MB', '8MB', '64MB', '256MB']\n"
     ]
    },
    {
     "name": "stderr",
     "output_type": "stream",
     "text": [
      "build/X86/sim/simulate.cc:192: info: Entering event queue @ 0.  Starting simulation...\n",
      "build/X86/sim/syscall_emul.cc:74: warn: ignoring syscall set_robust_list(...)\n",
      "build/X86/sim/syscall_emul.cc:74: warn: ignoring syscall rseq(...)\n",
      "build/X86/sim/mem_state.cc:443: info: Increasing stack size by one page.\n",
      "build/X86/sim/syscall_emul.cc:74: warn: ignoring syscall mprotect(...)\n",
      "build/X86/sim/mem_state.cc:443: info: Increasing stack size by one page.\n"
     ]
    },
    {
     "data": {
      "image/png": "[encoded data removed]",
      "text/plain": [
       "<Figure size 640x480 with 1 Axes>"
      ]
     },
     "metadata": {},
     "output_type": "display_data"
    }
   ],
   "source": [
    "baslineResult = runandPlot(Program.BASELINE,yolo ,chaceOptions, chaceSizes, setupticks)"
   ]
  },
  {
   "cell_type": "code",
   "execution_count": 24,
   "id": "cedd3292",
   "metadata": {
    "scrolled": false
   },
   "outputs": [
    {
     "name": "stdout",
     "output_type": "stream",
     "text": [
      "reading data from file:  ./bench/build-X86-gem5-opt/NAN/BASELINE/256MB/stats.txt \n",
      " \n",
      "reading data from file:  ./bench/build-X86-gem5-opt/NAN/BASELINE/64MB/stats.txt \n",
      " \n",
      "reading data from file:  ./bench/build-X86-gem5-opt/NAN/BASELINE/8MB/stats.txt \n",
      " \n",
      "reading data from file:  ./bench/build-X86-gem5-opt/NAN/BASELINE/1MB/stats.txt \n",
      " \n",
      "[0, 0, 0, 0]\n",
      "['256MB', '64MB', '8MB', '1MB']\n"
     ]
    },
    {
     "data": {
      "image/png": "[encoded data removed]",
      "text/plain": [
       "<Figure size 640x480 with 1 Axes>"
      ]
     },
     "metadata": {},
     "output_type": "display_data"
    }
   ],
   "source": [
    "readandplot(baslineResult[0],chaceSizes,setupticks)"
   ]
  },
  {
   "cell_type": "markdown",
   "id": "6b050d5b",
   "metadata": {},
   "source": [
    "# FT8"
   ]
  },
  {
   "cell_type": "code",
   "execution_count": 25,
   "id": "faf4f748",
   "metadata": {},
   "outputs": [
    {
     "name": "stdout",
     "output_type": "stream",
     "text": [
      "rm -rf ./obj/gemm.o ./obj/utils.o ./obj/cuda.o ./obj/deconvolutional_layer.o ./obj/convolutional_layer.o ./obj/list.o ./obj/image.o ./obj/activations.o ./obj/im2col.o ./obj/col2im.o ./obj/blas.o ./obj/crop_layer.o ./obj/dropout_layer.o ./obj/maxpool_layer.o ./obj/softmax_layer.o ./obj/data.o ./obj/matrix.o ./obj/network.o ./obj/connected_layer.o ./obj/cost_layer.o ./obj/parser.o ./obj/option_list.o ./obj/detection_layer.o ./obj/route_layer.o ./obj/upsample_layer.o ./obj/box.o ./obj/normalization_layer.o ./obj/avgpool_layer.o ./obj/layer.o ./obj/local_layer.o ./obj/shortcut_layer.o ./obj/logistic_layer.o ./obj/activation_layer.o ./obj/rnn_layer.o ./obj/gru_layer.o ./obj/crnn_layer.o ./obj/demo.o ./obj/batchnorm_layer.o ./obj/region_layer.o ./obj/reorg_layer.o ./obj/tree.o ./obj/lstm_layer.o ./obj/l2norm_layer.o ./obj/yolo_layer.o ./obj/iseg_layer.o ./obj/image_opencv.o libdarknet.so libdarknet.a darknet ./obj/captcha.o ./obj/lsd.o ./obj/super.o ./obj/art.o ./obj/tag.o ./obj/cifar.o ./obj/go.o ./obj/rnn.o ./obj/segmenter.o ./obj/regressor.o ./obj/classifier.o ./obj/coco.o ./obj/yolo.o ./obj/detector.o ./obj/nightmare.o ./obj/instance-segmenter.o ./obj/darknet.o ./obj/test.o ./obj//*\n",
      "NNPACK=1\n",
      "FT8=1\n",
      "gcc -Iinclude/ -Isrc/ -Wall -Wno-unused-result -Wno-unknown-pragmas -Wfatal-errors -static -Ofast -DNNPACK -c ./src/gemm.c -o obj/gemm.o\n",
      "gcc -Iinclude/ -Isrc/ -Wall -Wno-unused-result -Wno-unknown-pragmas -Wfatal-errors -static -Ofast -DNNPACK -c ./src/utils.c -o obj/utils.o\n",
      "gcc -Iinclude/ -Isrc/ -Wall -Wno-unused-result -Wno-unknown-pragmas -Wfatal-errors -static -Ofast -DNNPACK -c ./src/cuda.c -o obj/cuda.o\n",
      "gcc -Iinclude/ -Isrc/ -Wall -Wno-unused-result -Wno-unknown-pragmas -Wfatal-errors -static -Ofast -DNNPACK -c ./src/deconvolutional_layer.c -o obj/deconvolutional_layer.o\n",
      "gcc -Iinclude/ -Isrc/ -Wall -Wno-unused-result -Wno-unknown-pragmas -Wfatal-errors -static -Ofast -DNNPACK -c ./src/convolutional_layer.c -o obj/convolutional_layer.o\n"
     ]
    },
    {
     "name": "stderr",
     "output_type": "stream",
     "text": [
      "./src/convolutional_layer.c: In function ‘forward_convolutional_layer_nnp’:\n",
      "./src/convolutional_layer.c:549:9: warning: unused variable ‘k’ [-Wunused-variable]\n",
      "  549 |     int k = l.size*l.size*l.c/l.groups;\n",
      "      |         ^\n"
     ]
    },
    {
     "name": "stdout",
     "output_type": "stream",
     "text": [
      "gcc -Iinclude/ -Isrc/ -Wall -Wno-unused-result -Wno-unknown-pragmas -Wfatal-errors -static -Ofast -DNNPACK -c ./src/list.c -o obj/list.o\n",
      "gcc -Iinclude/ -Isrc/ -Wall -Wno-unused-result -Wno-unknown-pragmas -Wfatal-errors -static -Ofast -DNNPACK -c ./src/image.c -o obj/image.o\n",
      "gcc -Iinclude/ -Isrc/ -Wall -Wno-unused-result -Wno-unknown-pragmas -Wfatal-errors -static -Ofast -DNNPACK -c ./src/activations.c -o obj/activations.o\n",
      "gcc -Iinclude/ -Isrc/ -Wall -Wno-unused-result -Wno-unknown-pragmas -Wfatal-errors -static -Ofast -DNNPACK -c ./src/im2col.c -o obj/im2col.o\n",
      "gcc -Iinclude/ -Isrc/ -Wall -Wno-unused-result -Wno-unknown-pragmas -Wfatal-errors -static -Ofast -DNNPACK -c ./src/col2im.c -o obj/col2im.o\n",
      "gcc -Iinclude/ -Isrc/ -Wall -Wno-unused-result -Wno-unknown-pragmas -Wfatal-errors -static -Ofast -DNNPACK -c ./src/blas.c -o obj/blas.o\n",
      "gcc -Iinclude/ -Isrc/ -Wall -Wno-unused-result -Wno-unknown-pragmas -Wfatal-errors -static -Ofast -DNNPACK -c ./src/crop_layer.c -o obj/crop_layer.o\n",
      "gcc -Iinclude/ -Isrc/ -Wall -Wno-unused-result -Wno-unknown-pragmas -Wfatal-errors -static -Ofast -DNNPACK -c ./src/dropout_layer.c -o obj/dropout_layer.o\n",
      "gcc -Iinclude/ -Isrc/ -Wall -Wno-unused-result -Wno-unknown-pragmas -Wfatal-errors -static -Ofast -DNNPACK -c ./src/maxpool_layer.c -o obj/maxpool_layer.o\n",
      "gcc -Iinclude/ -Isrc/ -Wall -Wno-unused-result -Wno-unknown-pragmas -Wfatal-errors -static -Ofast -DNNPACK -c ./src/softmax_layer.c -o obj/softmax_layer.o\n",
      "gcc -Iinclude/ -Isrc/ -Wall -Wno-unused-result -Wno-unknown-pragmas -Wfatal-errors -static -Ofast -DNNPACK -c ./src/data.c -o obj/data.o\n",
      "gcc -Iinclude/ -Isrc/ -Wall -Wno-unused-result -Wno-unknown-pragmas -Wfatal-errors -static -Ofast -DNNPACK -c ./src/matrix.c -o obj/matrix.o\n",
      "gcc -Iinclude/ -Isrc/ -Wall -Wno-unused-result -Wno-unknown-pragmas -Wfatal-errors -static -Ofast -DNNPACK -c ./src/network.c -o obj/network.o\n",
      "gcc -Iinclude/ -Isrc/ -Wall -Wno-unused-result -Wno-unknown-pragmas -Wfatal-errors -static -Ofast -DNNPACK -c ./src/connected_layer.c -o obj/connected_layer.o\n",
      "gcc -Iinclude/ -Isrc/ -Wall -Wno-unused-result -Wno-unknown-pragmas -Wfatal-errors -static -Ofast -DNNPACK -c ./src/cost_layer.c -o obj/cost_layer.o\n",
      "gcc -Iinclude/ -Isrc/ -Wall -Wno-unused-result -Wno-unknown-pragmas -Wfatal-errors -static -Ofast -DNNPACK -c ./src/parser.c -o obj/parser.o\n",
      "gcc -Iinclude/ -Isrc/ -Wall -Wno-unused-result -Wno-unknown-pragmas -Wfatal-errors -static -Ofast -DNNPACK -c ./src/option_list.c -o obj/option_list.o\n",
      "gcc -Iinclude/ -Isrc/ -Wall -Wno-unused-result -Wno-unknown-pragmas -Wfatal-errors -static -Ofast -DNNPACK -c ./src/detection_layer.c -o obj/detection_layer.o\n",
      "gcc -Iinclude/ -Isrc/ -Wall -Wno-unused-result -Wno-unknown-pragmas -Wfatal-errors -static -Ofast -DNNPACK -c ./src/route_layer.c -o obj/route_layer.o\n",
      "gcc -Iinclude/ -Isrc/ -Wall -Wno-unused-result -Wno-unknown-pragmas -Wfatal-errors -static -Ofast -DNNPACK -c ./src/upsample_layer.c -o obj/upsample_layer.o\n",
      "gcc -Iinclude/ -Isrc/ -Wall -Wno-unused-result -Wno-unknown-pragmas -Wfatal-errors -static -Ofast -DNNPACK -c ./src/box.c -o obj/box.o\n",
      "gcc -Iinclude/ -Isrc/ -Wall -Wno-unused-result -Wno-unknown-pragmas -Wfatal-errors -static -Ofast -DNNPACK -c ./src/normalization_layer.c -o obj/normalization_layer.o\n",
      "gcc -Iinclude/ -Isrc/ -Wall -Wno-unused-result -Wno-unknown-pragmas -Wfatal-errors -static -Ofast -DNNPACK -c ./src/avgpool_layer.c -o obj/avgpool_layer.o\n",
      "gcc -Iinclude/ -Isrc/ -Wall -Wno-unused-result -Wno-unknown-pragmas -Wfatal-errors -static -Ofast -DNNPACK -c ./src/layer.c -o obj/layer.o\n",
      "gcc -Iinclude/ -Isrc/ -Wall -Wno-unused-result -Wno-unknown-pragmas -Wfatal-errors -static -Ofast -DNNPACK -c ./src/local_layer.c -o obj/local_layer.o\n",
      "gcc -Iinclude/ -Isrc/ -Wall -Wno-unused-result -Wno-unknown-pragmas -Wfatal-errors -static -Ofast -DNNPACK -c ./src/shortcut_layer.c -o obj/shortcut_layer.o\n",
      "gcc -Iinclude/ -Isrc/ -Wall -Wno-unused-result -Wno-unknown-pragmas -Wfatal-errors -static -Ofast -DNNPACK -c ./src/logistic_layer.c -o obj/logistic_layer.o\n",
      "gcc -Iinclude/ -Isrc/ -Wall -Wno-unused-result -Wno-unknown-pragmas -Wfatal-errors -static -Ofast -DNNPACK -c ./src/activation_layer.c -o obj/activation_layer.o\n",
      "gcc -Iinclude/ -Isrc/ -Wall -Wno-unused-result -Wno-unknown-pragmas -Wfatal-errors -static -Ofast -DNNPACK -c ./src/rnn_layer.c -o obj/rnn_layer.o\n",
      "gcc -Iinclude/ -Isrc/ -Wall -Wno-unused-result -Wno-unknown-pragmas -Wfatal-errors -static -Ofast -DNNPACK -c ./src/gru_layer.c -o obj/gru_layer.o\n",
      "gcc -Iinclude/ -Isrc/ -Wall -Wno-unused-result -Wno-unknown-pragmas -Wfatal-errors -static -Ofast -DNNPACK -c ./src/crnn_layer.c -o obj/crnn_layer.o\n",
      "gcc -Iinclude/ -Isrc/ -Wall -Wno-unused-result -Wno-unknown-pragmas -Wfatal-errors -static -Ofast -DNNPACK -c ./src/demo.c -o obj/demo.o\n",
      "gcc -Iinclude/ -Isrc/ -Wall -Wno-unused-result -Wno-unknown-pragmas -Wfatal-errors -static -Ofast -DNNPACK -c ./src/batchnorm_layer.c -o obj/batchnorm_layer.o\n",
      "gcc -Iinclude/ -Isrc/ -Wall -Wno-unused-result -Wno-unknown-pragmas -Wfatal-errors -static -Ofast -DNNPACK -c ./src/region_layer.c -o obj/region_layer.o\n",
      "gcc -Iinclude/ -Isrc/ -Wall -Wno-unused-result -Wno-unknown-pragmas -Wfatal-errors -static -Ofast -DNNPACK -c ./src/reorg_layer.c -o obj/reorg_layer.o\n",
      "gcc -Iinclude/ -Isrc/ -Wall -Wno-unused-result -Wno-unknown-pragmas -Wfatal-errors -static -Ofast -DNNPACK -c ./src/tree.c -o obj/tree.o\n",
      "gcc -Iinclude/ -Isrc/ -Wall -Wno-unused-result -Wno-unknown-pragmas -Wfatal-errors -static -Ofast -DNNPACK -c ./src/lstm_layer.c -o obj/lstm_layer.o\n",
      "gcc -Iinclude/ -Isrc/ -Wall -Wno-unused-result -Wno-unknown-pragmas -Wfatal-errors -static -Ofast -DNNPACK -c ./src/l2norm_layer.c -o obj/l2norm_layer.o\n",
      "gcc -Iinclude/ -Isrc/ -Wall -Wno-unused-result -Wno-unknown-pragmas -Wfatal-errors -static -Ofast -DNNPACK -c ./src/yolo_layer.c -o obj/yolo_layer.o\n",
      "gcc -Iinclude/ -Isrc/ -Wall -Wno-unused-result -Wno-unknown-pragmas -Wfatal-errors -static -Ofast -DNNPACK -c ./src/iseg_layer.c -o obj/iseg_layer.o\n",
      "g++ -Iinclude/ -Isrc/ -Wall -Wno-unused-result -Wno-unknown-pragmas -Wfatal-errors -static -Ofast -DNNPACK -c ./src/image_opencv.cpp -o obj/image_opencv.o\n",
      "ar rcs libdarknet.a obj/gemm.o obj/utils.o obj/cuda.o obj/deconvolutional_layer.o obj/convolutional_layer.o obj/list.o obj/image.o obj/activations.o obj/im2col.o obj/col2im.o obj/blas.o obj/crop_layer.o obj/dropout_layer.o obj/maxpool_layer.o obj/softmax_layer.o obj/data.o obj/matrix.o obj/network.o obj/connected_layer.o obj/cost_layer.o obj/parser.o obj/option_list.o obj/detection_layer.o obj/route_layer.o obj/upsample_layer.o obj/box.o obj/normalization_layer.o obj/avgpool_layer.o obj/layer.o obj/local_layer.o obj/shortcut_layer.o obj/logistic_layer.o obj/activation_layer.o obj/rnn_layer.o obj/gru_layer.o obj/crnn_layer.o obj/demo.o obj/batchnorm_layer.o obj/region_layer.o obj/reorg_layer.o obj/tree.o obj/lstm_layer.o obj/l2norm_layer.o obj/yolo_layer.o obj/iseg_layer.o obj/image_opencv.o\n",
      "gcc -Iinclude/ -Isrc/ -Wall -Wno-unused-result -Wno-unknown-pragmas -Wfatal-errors -static -Ofast -DNNPACK -c ./examples/captcha.c -o obj/captcha.o\n",
      "gcc -Iinclude/ -Isrc/ -Wall -Wno-unused-result -Wno-unknown-pragmas -Wfatal-errors -static -Ofast -DNNPACK -c ./examples/lsd.c -o obj/lsd.o\n",
      "gcc -Iinclude/ -Isrc/ -Wall -Wno-unused-result -Wno-unknown-pragmas -Wfatal-errors -static -Ofast -DNNPACK -c ./examples/super.c -o obj/super.o\n",
      "gcc -Iinclude/ -Isrc/ -Wall -Wno-unused-result -Wno-unknown-pragmas -Wfatal-errors -static -Ofast -DNNPACK -c ./examples/art.c -o obj/art.o\n",
      "gcc -Iinclude/ -Isrc/ -Wall -Wno-unused-result -Wno-unknown-pragmas -Wfatal-errors -static -Ofast -DNNPACK -c ./examples/tag.c -o obj/tag.o\n",
      "gcc -Iinclude/ -Isrc/ -Wall -Wno-unused-result -Wno-unknown-pragmas -Wfatal-errors -static -Ofast -DNNPACK -c ./examples/cifar.c -o obj/cifar.o\n",
      "gcc -Iinclude/ -Isrc/ -Wall -Wno-unused-result -Wno-unknown-pragmas -Wfatal-errors -static -Ofast -DNNPACK -c ./examples/go.c -o obj/go.o\n",
      "gcc -Iinclude/ -Isrc/ -Wall -Wno-unused-result -Wno-unknown-pragmas -Wfatal-errors -static -Ofast -DNNPACK -c ./examples/rnn.c -o obj/rnn.o\n",
      "gcc -Iinclude/ -Isrc/ -Wall -Wno-unused-result -Wno-unknown-pragmas -Wfatal-errors -static -Ofast -DNNPACK -c ./examples/segmenter.c -o obj/segmenter.o\n",
      "gcc -Iinclude/ -Isrc/ -Wall -Wno-unused-result -Wno-unknown-pragmas -Wfatal-errors -static -Ofast -DNNPACK -c ./examples/regressor.c -o obj/regressor.o\n"
     ]
    },
    {
     "name": "stdout",
     "output_type": "stream",
     "text": [
      "gcc -Iinclude/ -Isrc/ -Wall -Wno-unused-result -Wno-unknown-pragmas -Wfatal-errors -static -Ofast -DNNPACK -c ./examples/classifier.c -o obj/classifier.o\n",
      "gcc -Iinclude/ -Isrc/ -Wall -Wno-unused-result -Wno-unknown-pragmas -Wfatal-errors -static -Ofast -DNNPACK -c ./examples/coco.c -o obj/coco.o\n",
      "gcc -Iinclude/ -Isrc/ -Wall -Wno-unused-result -Wno-unknown-pragmas -Wfatal-errors -static -Ofast -DNNPACK -c ./examples/yolo.c -o obj/yolo.o\n",
      "gcc -Iinclude/ -Isrc/ -Wall -Wno-unused-result -Wno-unknown-pragmas -Wfatal-errors -static -Ofast -DNNPACK -c ./examples/detector.c -o obj/detector.o\n"
     ]
    },
    {
     "name": "stderr",
     "output_type": "stream",
     "text": [
      "./examples/detector.c: In function ‘test_detector’:\n",
      "./examples/detector.c:585:24: warning: ‘return’ with no value, in function returning non-void [-Wreturn-type]\n",
      "  585 |             if(!input) return;\n",
      "      |                        ^~~~~~\n",
      "./examples/detector.c:562:7: note: declared here\n",
      "  562 | float test_detector(char *datacfg, char *cfgfile, char *weightfile, char *filename, float thresh, float hier_thresh, char *outfile, int fullscreen)\n",
      "      |       ^~~~~~~~~~~~~\n"
     ]
    },
    {
     "name": "stdout",
     "output_type": "stream",
     "text": [
      "gcc -Iinclude/ -Isrc/ -Wall -Wno-unused-result -Wno-unknown-pragmas -Wfatal-errors -static -Ofast -DNNPACK -c ./examples/nightmare.c -o obj/nightmare.o\n",
      "gcc -Iinclude/ -Isrc/ -Wall -Wno-unused-result -Wno-unknown-pragmas -Wfatal-errors -static -Ofast -DNNPACK -c ./examples/instance-segmenter.c -o obj/instance-segmenter.o\n",
      "gcc -Iinclude/ -Isrc/ -Wall -Wno-unused-result -Wno-unknown-pragmas -Wfatal-errors -static -Ofast -DNNPACK -c ./examples/darknet.c -o obj/darknet.o\n",
      "gcc -Iinclude/ -Isrc/ -Wall -Wno-unused-result -Wno-unknown-pragmas -Wfatal-errors -static -Ofast -DNNPACK -c ./examples/test.c -o obj/test.o\n",
      "gcc -Iinclude/ -Isrc/ -Wall -Wno-unused-result -Wno-unknown-pragmas -Wfatal-errors -static -Ofast -DNNPACK obj/captcha.o obj/lsd.o obj/super.o obj/art.o obj/tag.o obj/cifar.o obj/go.o obj/rnn.o obj/segmenter.o obj/regressor.o obj/classifier.o obj/coco.o obj/yolo.o obj/detector.o obj/nightmare.o obj/instance-segmenter.o obj/darknet.o obj/test.o libdarknet.a -o darknet -lm -pthread -l:libnnpack.a -l:libpthreadpool.a -l:libcpuinfo.a -l:libclog.a libdarknet.a\n",
      "/home/anton/Master/tools/gem5/gem5-Arm/build/X86/gem5.opt --outdir=./bench/build-X86-gem5-opt/NAN/FT8/256MB/ /home/anton/Master/tools/gem5/gem5-Arm/configs/example/se.py --cpu-type=TimingSimpleCPU --cpu-clock=2GHz --l1d_size=64kB --l1i_size=16kB --caches --output=stdout.txt  --errout=stderr.txt --l2_size=256MB --l2cache -c \"./darknet\" --options \"\"\n",
      "\n",
      "\n"
     ]
    },
    {
     "name": "stderr",
     "output_type": "stream",
     "text": [
      "warn: The `get_runtime_isa` function is deprecated. Please migrate away from using this function.\n",
      "warn: The `get_runtime_isa` function is deprecated. Please migrate away from using this function.\n",
      "warn: failed to generate dot output from ./bench/build-X86-gem5-opt/NAN/FT8/256MB/config.dot\n",
      "build/X86/mem/dram_interface.cc:690: warn: DRAM device capacity (8192 Mbytes) does not match the address range assigned (512 Mbytes)\n"
     ]
    },
    {
     "name": "stdout",
     "output_type": "stream",
     "text": [
      "Global frequency set at 1000000000000 ticks per second\n"
     ]
    },
    {
     "name": "stderr",
     "output_type": "stream",
     "text": [
      "build/X86/base/remote_gdb.cc:416: warn: Sockets disabled, not accepting gdb connections\n",
      "build/X86/sim/simulate.cc:192: info: Entering event queue @ 0.  Starting simulation...\n",
      "build/X86/sim/syscall_emul.cc:74: warn: ignoring syscall set_robust_list(...)\n",
      "build/X86/sim/syscall_emul.cc:74: warn: ignoring syscall rseq(...)\n",
      "build/X86/sim/mem_state.cc:443: info: Increasing stack size by one page.\n",
      "build/X86/sim/syscall_emul.cc:74: warn: ignoring syscall mprotect(...)\n",
      "build/X86/arch/x86/cpuid.cc:180: warn: x86 cpuid family 0x0000: unimplemented function 2\n",
      "build/X86/sim/mem_state.cc:443: info: Increasing stack size by one page.\n"
     ]
    },
    {
     "name": "stdout",
     "output_type": "stream",
     "text": [
      "gem5 Simulator System.  https://www.gem5.org\n",
      "gem5 is copyrighted software; use the --copyright option for details.\n",
      "\n",
      "gem5 version 22.1.0.0\n",
      "gem5 compiled Jan 24 2023 19:03:31\n",
      "gem5 started Feb 12 2023 16:59:07\n",
      "gem5 executing on anton-mint, pid 15148\n",
      "command line: /home/anton/Master/tools/gem5/gem5-Arm/build/X86/gem5.opt --outdir=./bench/build-X86-gem5-opt/NAN/FT8/256MB/ /home/anton/Master/tools/gem5/gem5-Arm/configs/example/se.py --cpu-type=TimingSimpleCPU --cpu-clock=2GHz --l1d_size=64kB --l1i_size=16kB --caches --output=stdout.txt --errout=stderr.txt --l2_size=256MB --l2cache -c ./darknet --options ''\n",
      "\n",
      "info: Standard input is not a terminal, disabling listeners.\n",
      "**** REAL SIMULATION ****\n",
      "Exiting @ tick 177698500 because exiting with last active thread context\n",
      "/home/anton/Master/tools/gem5/gem5-Arm/build/X86/gem5.opt --outdir=./bench/build-X86-gem5-opt/NAN/FT8/64MB/ /home/anton/Master/tools/gem5/gem5-Arm/configs/example/se.py --cpu-type=TimingSimpleCPU --cpu-clock=2GHz --l1d_size=64kB --l1i_size=16kB --caches --output=stdout.txt  --errout=stderr.txt --l2_size=64MB --l2cache -c \"./darknet\" --options \"\"\n",
      "\n",
      "\n"
     ]
    },
    {
     "name": "stderr",
     "output_type": "stream",
     "text": [
      "warn: The `get_runtime_isa` function is deprecated. Please migrate away from using this function.\n",
      "warn: The `get_runtime_isa` function is deprecated. Please migrate away from using this function.\n"
     ]
    },
    {
     "name": "stdout",
     "output_type": "stream",
     "text": [
      "Global frequency set at 1000000000000 ticks per second\n"
     ]
    },
    {
     "name": "stderr",
     "output_type": "stream",
     "text": [
      "warn: failed to generate dot output from ./bench/build-X86-gem5-opt/NAN/FT8/64MB/config.dot\n",
      "build/X86/mem/dram_interface.cc:690: warn: DRAM device capacity (8192 Mbytes) does not match the address range assigned (512 Mbytes)\n",
      "build/X86/base/remote_gdb.cc:416: warn: Sockets disabled, not accepting gdb connections\n",
      "build/X86/sim/simulate.cc:192: info: Entering event queue @ 0.  Starting simulation...\n",
      "build/X86/sim/syscall_emul.cc:74: warn: ignoring syscall set_robust_list(...)\n",
      "build/X86/sim/syscall_emul.cc:74: warn: ignoring syscall rseq(...)\n",
      "build/X86/sim/mem_state.cc:443: info: Increasing stack size by one page.\n"
     ]
    },
    {
     "name": "stdout",
     "output_type": "stream",
     "text": [
      "gem5 Simulator System.  https://www.gem5.org\n",
      "gem5 is copyrighted software; use the --copyright option for details.\n",
      "\n",
      "gem5 version 22.1.0.0\n",
      "gem5 compiled Jan 24 2023 19:03:31\n",
      "gem5 started Feb 12 2023 16:59:09\n",
      "gem5 executing on anton-mint, pid 15151\n",
      "command line: /home/anton/Master/tools/gem5/gem5-Arm/build/X86/gem5.opt --outdir=./bench/build-X86-gem5-opt/NAN/FT8/64MB/ /home/anton/Master/tools/gem5/gem5-Arm/configs/example/se.py --cpu-type=TimingSimpleCPU --cpu-clock=2GHz --l1d_size=64kB --l1i_size=16kB --caches --output=stdout.txt --errout=stderr.txt --l2_size=64MB --l2cache -c ./darknet --options ''\n",
      "\n",
      "info: Standard input is not a terminal, disabling listeners.\n",
      "**** REAL SIMULATION ****\n"
     ]
    },
    {
     "name": "stderr",
     "output_type": "stream",
     "text": [
      "build/X86/sim/syscall_emul.cc:74: warn: ignoring syscall mprotect(...)\n",
      "build/X86/arch/x86/cpuid.cc:180: warn: x86 cpuid family 0x0000: unimplemented function 2\n",
      "build/X86/sim/mem_state.cc:443: info: Increasing stack size by one page.\n"
     ]
    },
    {
     "name": "stdout",
     "output_type": "stream",
     "text": [
      "Exiting @ tick 177698500 because exiting with last active thread context\n",
      "/home/anton/Master/tools/gem5/gem5-Arm/build/X86/gem5.opt --outdir=./bench/build-X86-gem5-opt/NAN/FT8/8MB/ /home/anton/Master/tools/gem5/gem5-Arm/configs/example/se.py --cpu-type=TimingSimpleCPU --cpu-clock=2GHz --l1d_size=64kB --l1i_size=16kB --caches --output=stdout.txt  --errout=stderr.txt --l2_size=8MB --l2cache -c \"./darknet\" --options \"\"\n",
      "\n",
      "\n"
     ]
    },
    {
     "name": "stderr",
     "output_type": "stream",
     "text": [
      "warn: The `get_runtime_isa` function is deprecated. Please migrate away from using this function.\n",
      "warn: The `get_runtime_isa` function is deprecated. Please migrate away from using this function.\n"
     ]
    },
    {
     "name": "stdout",
     "output_type": "stream",
     "text": [
      "Global frequency set at 1000000000000 ticks per second\n"
     ]
    },
    {
     "name": "stderr",
     "output_type": "stream",
     "text": [
      "warn: failed to generate dot output from ./bench/build-X86-gem5-opt/NAN/FT8/8MB/config.dot\n",
      "build/X86/mem/dram_interface.cc:690: warn: DRAM device capacity (8192 Mbytes) does not match the address range assigned (512 Mbytes)\n",
      "build/X86/base/remote_gdb.cc:416: warn: Sockets disabled, not accepting gdb connections\n",
      "build/X86/sim/simulate.cc:192: info: Entering event queue @ 0.  Starting simulation...\n",
      "build/X86/sim/syscall_emul.cc:74: warn: ignoring syscall set_robust_list(...)\n",
      "build/X86/sim/syscall_emul.cc:74: warn: ignoring syscall rseq(...)\n",
      "build/X86/sim/mem_state.cc:443: info: Increasing stack size by one page.\n",
      "build/X86/sim/syscall_emul.cc:74: warn: ignoring syscall mprotect(...)\n",
      "build/X86/arch/x86/cpuid.cc:180: warn: x86 cpuid family 0x0000: unimplemented function 2\n",
      "build/X86/sim/mem_state.cc:443: info: Increasing stack size by one page.\n"
     ]
    },
    {
     "name": "stdout",
     "output_type": "stream",
     "text": [
      "gem5 Simulator System.  https://www.gem5.org\n",
      "gem5 is copyrighted software; use the --copyright option for details.\n",
      "\n",
      "gem5 version 22.1.0.0\n",
      "gem5 compiled Jan 24 2023 19:03:31\n",
      "gem5 started Feb 12 2023 16:59:10\n",
      "gem5 executing on anton-mint, pid 15154\n",
      "command line: /home/anton/Master/tools/gem5/gem5-Arm/build/X86/gem5.opt --outdir=./bench/build-X86-gem5-opt/NAN/FT8/8MB/ /home/anton/Master/tools/gem5/gem5-Arm/configs/example/se.py --cpu-type=TimingSimpleCPU --cpu-clock=2GHz --l1d_size=64kB --l1i_size=16kB --caches --output=stdout.txt --errout=stderr.txt --l2_size=8MB --l2cache -c ./darknet --options ''\n",
      "\n",
      "info: Standard input is not a terminal, disabling listeners.\n",
      "**** REAL SIMULATION ****\n",
      "Exiting @ tick 177698500 because exiting with last active thread context\n",
      "/home/anton/Master/tools/gem5/gem5-Arm/build/X86/gem5.opt --outdir=./bench/build-X86-gem5-opt/NAN/FT8/1MB/ /home/anton/Master/tools/gem5/gem5-Arm/configs/example/se.py --cpu-type=TimingSimpleCPU --cpu-clock=2GHz --l1d_size=64kB --l1i_size=16kB --caches --output=stdout.txt  --errout=stderr.txt --l2_size=1MB --l2cache -c \"./darknet\" --options \"\"\n",
      "\n",
      "\n"
     ]
    },
    {
     "name": "stderr",
     "output_type": "stream",
     "text": [
      "warn: The `get_runtime_isa` function is deprecated. Please migrate away from using this function.\n",
      "warn: The `get_runtime_isa` function is deprecated. Please migrate away from using this function.\n"
     ]
    },
    {
     "name": "stdout",
     "output_type": "stream",
     "text": [
      "Global frequency set at 1000000000000 ticks per second\n"
     ]
    },
    {
     "name": "stderr",
     "output_type": "stream",
     "text": [
      "warn: failed to generate dot output from ./bench/build-X86-gem5-opt/NAN/FT8/1MB/config.dot\n",
      "build/X86/mem/dram_interface.cc:690: warn: DRAM device capacity (8192 Mbytes) does not match the address range assigned (512 Mbytes)\n",
      "build/X86/base/remote_gdb.cc:416: warn: Sockets disabled, not accepting gdb connections\n",
      "build/X86/sim/simulate.cc:192: info: Entering event queue @ 0.  Starting simulation...\n",
      "build/X86/sim/syscall_emul.cc:74: warn: ignoring syscall set_robust_list(...)\n",
      "build/X86/sim/syscall_emul.cc:74: warn: ignoring syscall rseq(...)\n",
      "build/X86/sim/mem_state.cc:443: info: Increasing stack size by one page.\n",
      "build/X86/sim/syscall_emul.cc:74: warn: ignoring syscall mprotect(...)\n",
      "build/X86/arch/x86/cpuid.cc:180: warn: x86 cpuid family 0x0000: unimplemented function 2\n",
      "build/X86/sim/mem_state.cc:443: info: Increasing stack size by one page.\n"
     ]
    },
    {
     "name": "stdout",
     "output_type": "stream",
     "text": [
      "gem5 Simulator System.  https://www.gem5.org\n",
      "gem5 is copyrighted software; use the --copyright option for details.\n",
      "\n",
      "gem5 version 22.1.0.0\n",
      "gem5 compiled Jan 24 2023 19:03:31\n",
      "gem5 started Feb 12 2023 16:59:11\n",
      "gem5 executing on anton-mint, pid 15157\n",
      "command line: /home/anton/Master/tools/gem5/gem5-Arm/build/X86/gem5.opt --outdir=./bench/build-X86-gem5-opt/NAN/FT8/1MB/ /home/anton/Master/tools/gem5/gem5-Arm/configs/example/se.py --cpu-type=TimingSimpleCPU --cpu-clock=2GHz --l1d_size=64kB --l1i_size=16kB --caches --output=stdout.txt --errout=stderr.txt --l2_size=1MB --l2cache -c ./darknet --options ''\n",
      "\n",
      "info: Standard input is not a terminal, disabling listeners.\n",
      "**** REAL SIMULATION ****\n",
      "Exiting @ tick 177698500 because exiting with last active thread context\n",
      "['./bench/build-X86-gem5-opt/NAN/FT8/256MB/', './bench/build-X86-gem5-opt/NAN/FT8/64MB/', './bench/build-X86-gem5-opt/NAN/FT8/8MB/', './bench/build-X86-gem5-opt/NAN/FT8/1MB/']\n",
      "reading data from file:  ./bench/build-X86-gem5-opt/NAN/FT8/256MB/stats.txt \n",
      " \n",
      "reading data from file:  ./bench/build-X86-gem5-opt/NAN/FT8/64MB/stats.txt \n",
      " \n",
      "reading data from file:  ./bench/build-X86-gem5-opt/NAN/FT8/8MB/stats.txt \n",
      " \n",
      "reading data from file:  ./bench/build-X86-gem5-opt/NAN/FT8/1MB/stats.txt \n",
      " \n",
      "[[('simTicks', 177698500)], [('simTicks', 177698500)], [('simTicks', 177698500)], [('simTicks', 177698500)]]\n",
      "[0, 0, 0, 0]\n",
      "['1MB', '8MB', '64MB', '256MB']\n"
     ]
    },
    {
     "data": {
      "image/png": "[encoded data removed]",
      "text/plain": [
       "<Figure size 640x480 with 1 Axes>"
      ]
     },
     "metadata": {},
     "output_type": "display_data"
    }
   ],
   "source": [
    "ft8Result = runandPlot(Program.NNPACK_FT8,yolo ,chaceOptions, chaceSizes, setupnppticks_npp)"
   ]
  },
  {
   "cell_type": "code",
   "execution_count": 26,
   "id": "c7560ea6",
   "metadata": {},
   "outputs": [
    {
     "name": "stdout",
     "output_type": "stream",
     "text": [
      "reading data from file:  ./bench/build-X86-gem5-opt/NAN/FT8/256MB/stats.txt \n",
      " \n",
      "reading data from file:  ./bench/build-X86-gem5-opt/NAN/FT8/64MB/stats.txt \n",
      " \n",
      "reading data from file:  ./bench/build-X86-gem5-opt/NAN/FT8/8MB/stats.txt \n",
      " \n",
      "reading data from file:  ./bench/build-X86-gem5-opt/NAN/FT8/1MB/stats.txt \n",
      " \n",
      "[0, 0, 0, 0]\n",
      "['256MB', '64MB', '8MB', '1MB']\n"
     ]
    },
    {
     "data": {
      "image/png": "[encoded data removed]",
      "text/plain": [
       "<Figure size 640x480 with 1 Axes>"
      ]
     },
     "metadata": {},
     "output_type": "display_data"
    }
   ],
   "source": [
    "readandplot(ft8Result[0],chaceSizes,setupnppticks_npp)"
   ]
  },
  {
   "cell_type": "markdown",
   "id": "25c09a1f",
   "metadata": {},
   "source": [
    "# FT16"
   ]
  },
  {
   "cell_type": "code",
   "execution_count": 27,
   "id": "0c40e544",
   "metadata": {},
   "outputs": [
    {
     "name": "stdout",
     "output_type": "stream",
     "text": [
      "rm -rf ./obj/gemm.o ./obj/utils.o ./obj/cuda.o ./obj/deconvolutional_layer.o ./obj/convolutional_layer.o ./obj/list.o ./obj/image.o ./obj/activations.o ./obj/im2col.o ./obj/col2im.o ./obj/blas.o ./obj/crop_layer.o ./obj/dropout_layer.o ./obj/maxpool_layer.o ./obj/softmax_layer.o ./obj/data.o ./obj/matrix.o ./obj/network.o ./obj/connected_layer.o ./obj/cost_layer.o ./obj/parser.o ./obj/option_list.o ./obj/detection_layer.o ./obj/route_layer.o ./obj/upsample_layer.o ./obj/box.o ./obj/normalization_layer.o ./obj/avgpool_layer.o ./obj/layer.o ./obj/local_layer.o ./obj/shortcut_layer.o ./obj/logistic_layer.o ./obj/activation_layer.o ./obj/rnn_layer.o ./obj/gru_layer.o ./obj/crnn_layer.o ./obj/demo.o ./obj/batchnorm_layer.o ./obj/region_layer.o ./obj/reorg_layer.o ./obj/tree.o ./obj/lstm_layer.o ./obj/l2norm_layer.o ./obj/yolo_layer.o ./obj/iseg_layer.o ./obj/image_opencv.o libdarknet.so libdarknet.a darknet ./obj/captcha.o ./obj/lsd.o ./obj/super.o ./obj/art.o ./obj/tag.o ./obj/cifar.o ./obj/go.o ./obj/rnn.o ./obj/segmenter.o ./obj/regressor.o ./obj/classifier.o ./obj/coco.o ./obj/yolo.o ./obj/detector.o ./obj/nightmare.o ./obj/instance-segmenter.o ./obj/darknet.o ./obj/test.o ./obj//*\n",
      "NNPACK=1\n",
      "FT16=1\n",
      "gcc -Iinclude/ -Isrc/ -Wall -Wno-unused-result -Wno-unknown-pragmas -Wfatal-errors -static -Ofast -DNNPACK -c ./src/gemm.c -o obj/gemm.o\n",
      "gcc -Iinclude/ -Isrc/ -Wall -Wno-unused-result -Wno-unknown-pragmas -Wfatal-errors -static -Ofast -DNNPACK -c ./src/utils.c -o obj/utils.o\n",
      "gcc -Iinclude/ -Isrc/ -Wall -Wno-unused-result -Wno-unknown-pragmas -Wfatal-errors -static -Ofast -DNNPACK -c ./src/cuda.c -o obj/cuda.o\n",
      "gcc -Iinclude/ -Isrc/ -Wall -Wno-unused-result -Wno-unknown-pragmas -Wfatal-errors -static -Ofast -DNNPACK -c ./src/deconvolutional_layer.c -o obj/deconvolutional_layer.o\n",
      "gcc -Iinclude/ -Isrc/ -Wall -Wno-unused-result -Wno-unknown-pragmas -Wfatal-errors -static -Ofast -DNNPACK -c ./src/convolutional_layer.c -o obj/convolutional_layer.o\n"
     ]
    },
    {
     "name": "stderr",
     "output_type": "stream",
     "text": [
      "./src/convolutional_layer.c: In function ‘forward_convolutional_layer_nnp’:\n",
      "./src/convolutional_layer.c:549:9: warning: unused variable ‘k’ [-Wunused-variable]\n",
      "  549 |     int k = l.size*l.size*l.c/l.groups;\n",
      "      |         ^\n"
     ]
    },
    {
     "name": "stdout",
     "output_type": "stream",
     "text": [
      "gcc -Iinclude/ -Isrc/ -Wall -Wno-unused-result -Wno-unknown-pragmas -Wfatal-errors -static -Ofast -DNNPACK -c ./src/list.c -o obj/list.o\n",
      "gcc -Iinclude/ -Isrc/ -Wall -Wno-unused-result -Wno-unknown-pragmas -Wfatal-errors -static -Ofast -DNNPACK -c ./src/image.c -o obj/image.o\n",
      "gcc -Iinclude/ -Isrc/ -Wall -Wno-unused-result -Wno-unknown-pragmas -Wfatal-errors -static -Ofast -DNNPACK -c ./src/activations.c -o obj/activations.o\n",
      "gcc -Iinclude/ -Isrc/ -Wall -Wno-unused-result -Wno-unknown-pragmas -Wfatal-errors -static -Ofast -DNNPACK -c ./src/im2col.c -o obj/im2col.o\n",
      "gcc -Iinclude/ -Isrc/ -Wall -Wno-unused-result -Wno-unknown-pragmas -Wfatal-errors -static -Ofast -DNNPACK -c ./src/col2im.c -o obj/col2im.o\n",
      "gcc -Iinclude/ -Isrc/ -Wall -Wno-unused-result -Wno-unknown-pragmas -Wfatal-errors -static -Ofast -DNNPACK -c ./src/blas.c -o obj/blas.o\n",
      "gcc -Iinclude/ -Isrc/ -Wall -Wno-unused-result -Wno-unknown-pragmas -Wfatal-errors -static -Ofast -DNNPACK -c ./src/crop_layer.c -o obj/crop_layer.o\n",
      "gcc -Iinclude/ -Isrc/ -Wall -Wno-unused-result -Wno-unknown-pragmas -Wfatal-errors -static -Ofast -DNNPACK -c ./src/dropout_layer.c -o obj/dropout_layer.o\n",
      "gcc -Iinclude/ -Isrc/ -Wall -Wno-unused-result -Wno-unknown-pragmas -Wfatal-errors -static -Ofast -DNNPACK -c ./src/maxpool_layer.c -o obj/maxpool_layer.o\n",
      "gcc -Iinclude/ -Isrc/ -Wall -Wno-unused-result -Wno-unknown-pragmas -Wfatal-errors -static -Ofast -DNNPACK -c ./src/softmax_layer.c -o obj/softmax_layer.o\n",
      "gcc -Iinclude/ -Isrc/ -Wall -Wno-unused-result -Wno-unknown-pragmas -Wfatal-errors -static -Ofast -DNNPACK -c ./src/data.c -o obj/data.o\n",
      "gcc -Iinclude/ -Isrc/ -Wall -Wno-unused-result -Wno-unknown-pragmas -Wfatal-errors -static -Ofast -DNNPACK -c ./src/matrix.c -o obj/matrix.o\n",
      "gcc -Iinclude/ -Isrc/ -Wall -Wno-unused-result -Wno-unknown-pragmas -Wfatal-errors -static -Ofast -DNNPACK -c ./src/network.c -o obj/network.o\n",
      "gcc -Iinclude/ -Isrc/ -Wall -Wno-unused-result -Wno-unknown-pragmas -Wfatal-errors -static -Ofast -DNNPACK -c ./src/connected_layer.c -o obj/connected_layer.o\n",
      "gcc -Iinclude/ -Isrc/ -Wall -Wno-unused-result -Wno-unknown-pragmas -Wfatal-errors -static -Ofast -DNNPACK -c ./src/cost_layer.c -o obj/cost_layer.o\n",
      "gcc -Iinclude/ -Isrc/ -Wall -Wno-unused-result -Wno-unknown-pragmas -Wfatal-errors -static -Ofast -DNNPACK -c ./src/parser.c -o obj/parser.o\n",
      "gcc -Iinclude/ -Isrc/ -Wall -Wno-unused-result -Wno-unknown-pragmas -Wfatal-errors -static -Ofast -DNNPACK -c ./src/option_list.c -o obj/option_list.o\n",
      "gcc -Iinclude/ -Isrc/ -Wall -Wno-unused-result -Wno-unknown-pragmas -Wfatal-errors -static -Ofast -DNNPACK -c ./src/detection_layer.c -o obj/detection_layer.o\n",
      "gcc -Iinclude/ -Isrc/ -Wall -Wno-unused-result -Wno-unknown-pragmas -Wfatal-errors -static -Ofast -DNNPACK -c ./src/route_layer.c -o obj/route_layer.o\n",
      "gcc -Iinclude/ -Isrc/ -Wall -Wno-unused-result -Wno-unknown-pragmas -Wfatal-errors -static -Ofast -DNNPACK -c ./src/upsample_layer.c -o obj/upsample_layer.o\n",
      "gcc -Iinclude/ -Isrc/ -Wall -Wno-unused-result -Wno-unknown-pragmas -Wfatal-errors -static -Ofast -DNNPACK -c ./src/box.c -o obj/box.o\n",
      "gcc -Iinclude/ -Isrc/ -Wall -Wno-unused-result -Wno-unknown-pragmas -Wfatal-errors -static -Ofast -DNNPACK -c ./src/normalization_layer.c -o obj/normalization_layer.o\n",
      "gcc -Iinclude/ -Isrc/ -Wall -Wno-unused-result -Wno-unknown-pragmas -Wfatal-errors -static -Ofast -DNNPACK -c ./src/avgpool_layer.c -o obj/avgpool_layer.o\n",
      "gcc -Iinclude/ -Isrc/ -Wall -Wno-unused-result -Wno-unknown-pragmas -Wfatal-errors -static -Ofast -DNNPACK -c ./src/layer.c -o obj/layer.o\n",
      "gcc -Iinclude/ -Isrc/ -Wall -Wno-unused-result -Wno-unknown-pragmas -Wfatal-errors -static -Ofast -DNNPACK -c ./src/local_layer.c -o obj/local_layer.o\n",
      "gcc -Iinclude/ -Isrc/ -Wall -Wno-unused-result -Wno-unknown-pragmas -Wfatal-errors -static -Ofast -DNNPACK -c ./src/shortcut_layer.c -o obj/shortcut_layer.o\n",
      "gcc -Iinclude/ -Isrc/ -Wall -Wno-unused-result -Wno-unknown-pragmas -Wfatal-errors -static -Ofast -DNNPACK -c ./src/logistic_layer.c -o obj/logistic_layer.o\n",
      "gcc -Iinclude/ -Isrc/ -Wall -Wno-unused-result -Wno-unknown-pragmas -Wfatal-errors -static -Ofast -DNNPACK -c ./src/activation_layer.c -o obj/activation_layer.o\n",
      "gcc -Iinclude/ -Isrc/ -Wall -Wno-unused-result -Wno-unknown-pragmas -Wfatal-errors -static -Ofast -DNNPACK -c ./src/rnn_layer.c -o obj/rnn_layer.o\n",
      "gcc -Iinclude/ -Isrc/ -Wall -Wno-unused-result -Wno-unknown-pragmas -Wfatal-errors -static -Ofast -DNNPACK -c ./src/gru_layer.c -o obj/gru_layer.o\n",
      "gcc -Iinclude/ -Isrc/ -Wall -Wno-unused-result -Wno-unknown-pragmas -Wfatal-errors -static -Ofast -DNNPACK -c ./src/crnn_layer.c -o obj/crnn_layer.o\n",
      "gcc -Iinclude/ -Isrc/ -Wall -Wno-unused-result -Wno-unknown-pragmas -Wfatal-errors -static -Ofast -DNNPACK -c ./src/demo.c -o obj/demo.o\n",
      "gcc -Iinclude/ -Isrc/ -Wall -Wno-unused-result -Wno-unknown-pragmas -Wfatal-errors -static -Ofast -DNNPACK -c ./src/batchnorm_layer.c -o obj/batchnorm_layer.o\n",
      "gcc -Iinclude/ -Isrc/ -Wall -Wno-unused-result -Wno-unknown-pragmas -Wfatal-errors -static -Ofast -DNNPACK -c ./src/region_layer.c -o obj/region_layer.o\n",
      "gcc -Iinclude/ -Isrc/ -Wall -Wno-unused-result -Wno-unknown-pragmas -Wfatal-errors -static -Ofast -DNNPACK -c ./src/reorg_layer.c -o obj/reorg_layer.o\n",
      "gcc -Iinclude/ -Isrc/ -Wall -Wno-unused-result -Wno-unknown-pragmas -Wfatal-errors -static -Ofast -DNNPACK -c ./src/tree.c -o obj/tree.o\n",
      "gcc -Iinclude/ -Isrc/ -Wall -Wno-unused-result -Wno-unknown-pragmas -Wfatal-errors -static -Ofast -DNNPACK -c ./src/lstm_layer.c -o obj/lstm_layer.o\n",
      "gcc -Iinclude/ -Isrc/ -Wall -Wno-unused-result -Wno-unknown-pragmas -Wfatal-errors -static -Ofast -DNNPACK -c ./src/l2norm_layer.c -o obj/l2norm_layer.o\n",
      "gcc -Iinclude/ -Isrc/ -Wall -Wno-unused-result -Wno-unknown-pragmas -Wfatal-errors -static -Ofast -DNNPACK -c ./src/yolo_layer.c -o obj/yolo_layer.o\n",
      "gcc -Iinclude/ -Isrc/ -Wall -Wno-unused-result -Wno-unknown-pragmas -Wfatal-errors -static -Ofast -DNNPACK -c ./src/iseg_layer.c -o obj/iseg_layer.o\n",
      "g++ -Iinclude/ -Isrc/ -Wall -Wno-unused-result -Wno-unknown-pragmas -Wfatal-errors -static -Ofast -DNNPACK -c ./src/image_opencv.cpp -o obj/image_opencv.o\n",
      "ar rcs libdarknet.a obj/gemm.o obj/utils.o obj/cuda.o obj/deconvolutional_layer.o obj/convolutional_layer.o obj/list.o obj/image.o obj/activations.o obj/im2col.o obj/col2im.o obj/blas.o obj/crop_layer.o obj/dropout_layer.o obj/maxpool_layer.o obj/softmax_layer.o obj/data.o obj/matrix.o obj/network.o obj/connected_layer.o obj/cost_layer.o obj/parser.o obj/option_list.o obj/detection_layer.o obj/route_layer.o obj/upsample_layer.o obj/box.o obj/normalization_layer.o obj/avgpool_layer.o obj/layer.o obj/local_layer.o obj/shortcut_layer.o obj/logistic_layer.o obj/activation_layer.o obj/rnn_layer.o obj/gru_layer.o obj/crnn_layer.o obj/demo.o obj/batchnorm_layer.o obj/region_layer.o obj/reorg_layer.o obj/tree.o obj/lstm_layer.o obj/l2norm_layer.o obj/yolo_layer.o obj/iseg_layer.o obj/image_opencv.o\n",
      "gcc -Iinclude/ -Isrc/ -Wall -Wno-unused-result -Wno-unknown-pragmas -Wfatal-errors -static -Ofast -DNNPACK -c ./examples/captcha.c -o obj/captcha.o\n",
      "gcc -Iinclude/ -Isrc/ -Wall -Wno-unused-result -Wno-unknown-pragmas -Wfatal-errors -static -Ofast -DNNPACK -c ./examples/lsd.c -o obj/lsd.o\n",
      "gcc -Iinclude/ -Isrc/ -Wall -Wno-unused-result -Wno-unknown-pragmas -Wfatal-errors -static -Ofast -DNNPACK -c ./examples/super.c -o obj/super.o\n",
      "gcc -Iinclude/ -Isrc/ -Wall -Wno-unused-result -Wno-unknown-pragmas -Wfatal-errors -static -Ofast -DNNPACK -c ./examples/art.c -o obj/art.o\n",
      "gcc -Iinclude/ -Isrc/ -Wall -Wno-unused-result -Wno-unknown-pragmas -Wfatal-errors -static -Ofast -DNNPACK -c ./examples/tag.c -o obj/tag.o\n",
      "gcc -Iinclude/ -Isrc/ -Wall -Wno-unused-result -Wno-unknown-pragmas -Wfatal-errors -static -Ofast -DNNPACK -c ./examples/cifar.c -o obj/cifar.o\n",
      "gcc -Iinclude/ -Isrc/ -Wall -Wno-unused-result -Wno-unknown-pragmas -Wfatal-errors -static -Ofast -DNNPACK -c ./examples/go.c -o obj/go.o\n",
      "gcc -Iinclude/ -Isrc/ -Wall -Wno-unused-result -Wno-unknown-pragmas -Wfatal-errors -static -Ofast -DNNPACK -c ./examples/rnn.c -o obj/rnn.o\n",
      "gcc -Iinclude/ -Isrc/ -Wall -Wno-unused-result -Wno-unknown-pragmas -Wfatal-errors -static -Ofast -DNNPACK -c ./examples/segmenter.c -o obj/segmenter.o\n",
      "gcc -Iinclude/ -Isrc/ -Wall -Wno-unused-result -Wno-unknown-pragmas -Wfatal-errors -static -Ofast -DNNPACK -c ./examples/regressor.c -o obj/regressor.o\n"
     ]
    },
    {
     "name": "stdout",
     "output_type": "stream",
     "text": [
      "gcc -Iinclude/ -Isrc/ -Wall -Wno-unused-result -Wno-unknown-pragmas -Wfatal-errors -static -Ofast -DNNPACK -c ./examples/classifier.c -o obj/classifier.o\n",
      "gcc -Iinclude/ -Isrc/ -Wall -Wno-unused-result -Wno-unknown-pragmas -Wfatal-errors -static -Ofast -DNNPACK -c ./examples/coco.c -o obj/coco.o\n",
      "gcc -Iinclude/ -Isrc/ -Wall -Wno-unused-result -Wno-unknown-pragmas -Wfatal-errors -static -Ofast -DNNPACK -c ./examples/yolo.c -o obj/yolo.o\n",
      "gcc -Iinclude/ -Isrc/ -Wall -Wno-unused-result -Wno-unknown-pragmas -Wfatal-errors -static -Ofast -DNNPACK -c ./examples/detector.c -o obj/detector.o\n"
     ]
    },
    {
     "name": "stderr",
     "output_type": "stream",
     "text": [
      "./examples/detector.c: In function ‘test_detector’:\n",
      "./examples/detector.c:585:24: warning: ‘return’ with no value, in function returning non-void [-Wreturn-type]\n",
      "  585 |             if(!input) return;\n",
      "      |                        ^~~~~~\n",
      "./examples/detector.c:562:7: note: declared here\n",
      "  562 | float test_detector(char *datacfg, char *cfgfile, char *weightfile, char *filename, float thresh, float hier_thresh, char *outfile, int fullscreen)\n",
      "      |       ^~~~~~~~~~~~~\n"
     ]
    },
    {
     "name": "stdout",
     "output_type": "stream",
     "text": [
      "gcc -Iinclude/ -Isrc/ -Wall -Wno-unused-result -Wno-unknown-pragmas -Wfatal-errors -static -Ofast -DNNPACK -c ./examples/nightmare.c -o obj/nightmare.o\n",
      "gcc -Iinclude/ -Isrc/ -Wall -Wno-unused-result -Wno-unknown-pragmas -Wfatal-errors -static -Ofast -DNNPACK -c ./examples/instance-segmenter.c -o obj/instance-segmenter.o\n",
      "gcc -Iinclude/ -Isrc/ -Wall -Wno-unused-result -Wno-unknown-pragmas -Wfatal-errors -static -Ofast -DNNPACK -c ./examples/darknet.c -o obj/darknet.o\n",
      "gcc -Iinclude/ -Isrc/ -Wall -Wno-unused-result -Wno-unknown-pragmas -Wfatal-errors -static -Ofast -DNNPACK -c ./examples/test.c -o obj/test.o\n",
      "gcc -Iinclude/ -Isrc/ -Wall -Wno-unused-result -Wno-unknown-pragmas -Wfatal-errors -static -Ofast -DNNPACK obj/captcha.o obj/lsd.o obj/super.o obj/art.o obj/tag.o obj/cifar.o obj/go.o obj/rnn.o obj/segmenter.o obj/regressor.o obj/classifier.o obj/coco.o obj/yolo.o obj/detector.o obj/nightmare.o obj/instance-segmenter.o obj/darknet.o obj/test.o libdarknet.a -o darknet -lm -pthread -l:libnnpack.a -l:libpthreadpool.a -l:libcpuinfo.a -l:libclog.a libdarknet.a\n",
      "/home/anton/Master/tools/gem5/gem5-Arm/build/X86/gem5.opt --outdir=./bench/build-X86-gem5-opt/NAN/FT16/256MB/ /home/anton/Master/tools/gem5/gem5-Arm/configs/example/se.py --cpu-type=TimingSimpleCPU --cpu-clock=2GHz --l1d_size=64kB --l1i_size=16kB --caches --output=stdout.txt  --errout=stderr.txt --l2_size=256MB --l2cache -c \"./darknet\" --options \"\"\n",
      "\n",
      "\n"
     ]
    },
    {
     "name": "stderr",
     "output_type": "stream",
     "text": [
      "warn: The `get_runtime_isa` function is deprecated. Please migrate away from using this function.\n",
      "warn: The `get_runtime_isa` function is deprecated. Please migrate away from using this function.\n",
      "warn: failed to generate dot output from ./bench/build-X86-gem5-opt/NAN/FT16/256MB/config.dot\n",
      "build/X86/mem/dram_interface.cc:690: warn: DRAM device capacity (8192 Mbytes) does not match the address range assigned (512 Mbytes)\n"
     ]
    },
    {
     "name": "stdout",
     "output_type": "stream",
     "text": [
      "Global frequency set at 1000000000000 ticks per second\n"
     ]
    },
    {
     "name": "stderr",
     "output_type": "stream",
     "text": [
      "build/X86/base/remote_gdb.cc:416: warn: Sockets disabled, not accepting gdb connections\n",
      "build/X86/sim/simulate.cc:192: info: Entering event queue @ 0.  Starting simulation...\n",
      "build/X86/sim/syscall_emul.cc:74: warn: ignoring syscall set_robust_list(...)\n",
      "build/X86/sim/syscall_emul.cc:74: warn: ignoring syscall rseq(...)\n",
      "build/X86/sim/mem_state.cc:443: info: Increasing stack size by one page.\n",
      "build/X86/sim/syscall_emul.cc:74: warn: ignoring syscall mprotect(...)\n",
      "build/X86/arch/x86/cpuid.cc:180: warn: x86 cpuid family 0x0000: unimplemented function 2\n",
      "build/X86/sim/mem_state.cc:443: info: Increasing stack size by one page.\n"
     ]
    },
    {
     "name": "stdout",
     "output_type": "stream",
     "text": [
      "gem5 Simulator System.  https://www.gem5.org\n",
      "gem5 is copyrighted software; use the --copyright option for details.\n",
      "\n",
      "gem5 version 22.1.0.0\n",
      "gem5 compiled Jan 24 2023 19:03:31\n",
      "gem5 started Feb 12 2023 16:59:30\n",
      "gem5 executing on anton-mint, pid 15361\n",
      "command line: /home/anton/Master/tools/gem5/gem5-Arm/build/X86/gem5.opt --outdir=./bench/build-X86-gem5-opt/NAN/FT16/256MB/ /home/anton/Master/tools/gem5/gem5-Arm/configs/example/se.py --cpu-type=TimingSimpleCPU --cpu-clock=2GHz --l1d_size=64kB --l1i_size=16kB --caches --output=stdout.txt --errout=stderr.txt --l2_size=256MB --l2cache -c ./darknet --options ''\n",
      "\n",
      "info: Standard input is not a terminal, disabling listeners.\n",
      "**** REAL SIMULATION ****\n",
      "Exiting @ tick 177698500 because exiting with last active thread context\n",
      "/home/anton/Master/tools/gem5/gem5-Arm/build/X86/gem5.opt --outdir=./bench/build-X86-gem5-opt/NAN/FT16/64MB/ /home/anton/Master/tools/gem5/gem5-Arm/configs/example/se.py --cpu-type=TimingSimpleCPU --cpu-clock=2GHz --l1d_size=64kB --l1i_size=16kB --caches --output=stdout.txt  --errout=stderr.txt --l2_size=64MB --l2cache -c \"./darknet\" --options \"\"\n",
      "\n",
      "\n"
     ]
    },
    {
     "name": "stderr",
     "output_type": "stream",
     "text": [
      "warn: The `get_runtime_isa` function is deprecated. Please migrate away from using this function.\n",
      "warn: The `get_runtime_isa` function is deprecated. Please migrate away from using this function.\n",
      "warn: failed to generate dot output from ./bench/build-X86-gem5-opt/NAN/FT16/64MB/config.dot\n",
      "build/X86/mem/dram_interface.cc:690: warn: DRAM device capacity (8192 Mbytes) does not match the address range assigned (512 Mbytes)\n"
     ]
    },
    {
     "name": "stdout",
     "output_type": "stream",
     "text": [
      "Global frequency set at 1000000000000 ticks per second\n"
     ]
    },
    {
     "name": "stderr",
     "output_type": "stream",
     "text": [
      "build/X86/base/remote_gdb.cc:416: warn: Sockets disabled, not accepting gdb connections\n",
      "build/X86/sim/simulate.cc:192: info: Entering event queue @ 0.  Starting simulation...\n",
      "build/X86/sim/syscall_emul.cc:74: warn: ignoring syscall set_robust_list(...)\n",
      "build/X86/sim/syscall_emul.cc:74: warn: ignoring syscall rseq(...)\n",
      "build/X86/sim/mem_state.cc:443: info: Increasing stack size by one page.\n",
      "build/X86/sim/syscall_emul.cc:74: warn: ignoring syscall mprotect(...)\n",
      "build/X86/arch/x86/cpuid.cc:180: warn: x86 cpuid family 0x0000: unimplemented function 2\n",
      "build/X86/sim/mem_state.cc:443: info: Increasing stack size by one page.\n"
     ]
    },
    {
     "name": "stdout",
     "output_type": "stream",
     "text": [
      "gem5 Simulator System.  https://www.gem5.org\n",
      "gem5 is copyrighted software; use the --copyright option for details.\n",
      "\n",
      "gem5 version 22.1.0.0\n",
      "gem5 compiled Jan 24 2023 19:03:31\n",
      "gem5 started Feb 12 2023 16:59:31\n",
      "gem5 executing on anton-mint, pid 15364\n",
      "command line: /home/anton/Master/tools/gem5/gem5-Arm/build/X86/gem5.opt --outdir=./bench/build-X86-gem5-opt/NAN/FT16/64MB/ /home/anton/Master/tools/gem5/gem5-Arm/configs/example/se.py --cpu-type=TimingSimpleCPU --cpu-clock=2GHz --l1d_size=64kB --l1i_size=16kB --caches --output=stdout.txt --errout=stderr.txt --l2_size=64MB --l2cache -c ./darknet --options ''\n",
      "\n",
      "info: Standard input is not a terminal, disabling listeners.\n",
      "**** REAL SIMULATION ****\n",
      "Exiting @ tick 177698500 because exiting with last active thread context\n",
      "/home/anton/Master/tools/gem5/gem5-Arm/build/X86/gem5.opt --outdir=./bench/build-X86-gem5-opt/NAN/FT16/8MB/ /home/anton/Master/tools/gem5/gem5-Arm/configs/example/se.py --cpu-type=TimingSimpleCPU --cpu-clock=2GHz --l1d_size=64kB --l1i_size=16kB --caches --output=stdout.txt  --errout=stderr.txt --l2_size=8MB --l2cache -c \"./darknet\" --options \"\"\n",
      "\n",
      "\n"
     ]
    },
    {
     "name": "stderr",
     "output_type": "stream",
     "text": [
      "warn: The `get_runtime_isa` function is deprecated. Please migrate away from using this function.\n",
      "warn: The `get_runtime_isa` function is deprecated. Please migrate away from using this function.\n",
      "warn: failed to generate dot output from ./bench/build-X86-gem5-opt/NAN/FT16/8MB/config.dot\n",
      "build/X86/mem/dram_interface.cc:690: warn: DRAM device capacity (8192 Mbytes) does not match the address range assigned (512 Mbytes)\n"
     ]
    },
    {
     "name": "stdout",
     "output_type": "stream",
     "text": [
      "Global frequency set at 1000000000000 ticks per second\n"
     ]
    },
    {
     "name": "stderr",
     "output_type": "stream",
     "text": [
      "build/X86/base/remote_gdb.cc:416: warn: Sockets disabled, not accepting gdb connections\n",
      "build/X86/sim/simulate.cc:192: info: Entering event queue @ 0.  Starting simulation...\n",
      "build/X86/sim/syscall_emul.cc:74: warn: ignoring syscall set_robust_list(...)\n",
      "build/X86/sim/syscall_emul.cc:74: warn: ignoring syscall rseq(...)\n",
      "build/X86/sim/mem_state.cc:443: info: Increasing stack size by one page.\n",
      "build/X86/sim/syscall_emul.cc:74: warn: ignoring syscall mprotect(...)\n",
      "build/X86/arch/x86/cpuid.cc:180: warn: x86 cpuid family 0x0000: unimplemented function 2\n",
      "build/X86/sim/mem_state.cc:443: info: Increasing stack size by one page.\n"
     ]
    },
    {
     "name": "stdout",
     "output_type": "stream",
     "text": [
      "gem5 Simulator System.  https://www.gem5.org\n",
      "gem5 is copyrighted software; use the --copyright option for details.\n",
      "\n",
      "gem5 version 22.1.0.0\n",
      "gem5 compiled Jan 24 2023 19:03:31\n",
      "gem5 started Feb 12 2023 16:59:32\n",
      "gem5 executing on anton-mint, pid 15367\n",
      "command line: /home/anton/Master/tools/gem5/gem5-Arm/build/X86/gem5.opt --outdir=./bench/build-X86-gem5-opt/NAN/FT16/8MB/ /home/anton/Master/tools/gem5/gem5-Arm/configs/example/se.py --cpu-type=TimingSimpleCPU --cpu-clock=2GHz --l1d_size=64kB --l1i_size=16kB --caches --output=stdout.txt --errout=stderr.txt --l2_size=8MB --l2cache -c ./darknet --options ''\n",
      "\n",
      "info: Standard input is not a terminal, disabling listeners.\n",
      "**** REAL SIMULATION ****\n",
      "Exiting @ tick 177698500 because exiting with last active thread context\n",
      "/home/anton/Master/tools/gem5/gem5-Arm/build/X86/gem5.opt --outdir=./bench/build-X86-gem5-opt/NAN/FT16/1MB/ /home/anton/Master/tools/gem5/gem5-Arm/configs/example/se.py --cpu-type=TimingSimpleCPU --cpu-clock=2GHz --l1d_size=64kB --l1i_size=16kB --caches --output=stdout.txt  --errout=stderr.txt --l2_size=1MB --l2cache -c \"./darknet\" --options \"\"\n",
      "\n",
      "\n"
     ]
    },
    {
     "name": "stderr",
     "output_type": "stream",
     "text": [
      "warn: The `get_runtime_isa` function is deprecated. Please migrate away from using this function.\n",
      "warn: The `get_runtime_isa` function is deprecated. Please migrate away from using this function.\n",
      "warn: failed to generate dot output from ./bench/build-X86-gem5-opt/NAN/FT16/1MB/config.dot\n",
      "build/X86/mem/dram_interface.cc:690: warn: DRAM device capacity (8192 Mbytes) does not match the address range assigned (512 Mbytes)\n",
      "build/X86/base/remote_gdb.cc:416: warn: Sockets disabled, not accepting gdb connections\n"
     ]
    },
    {
     "name": "stdout",
     "output_type": "stream",
     "text": [
      "Global frequency set at 1000000000000 ticks per second\n",
      "gem5 Simulator System.  https://www.gem5.org\n",
      "gem5 is copyrighted software; use the --copyright option for details.\n",
      "\n",
      "gem5 version 22.1.0.0\n",
      "gem5 compiled Jan 24 2023 19:03:31\n",
      "gem5 started Feb 12 2023 16:59:33\n",
      "gem5 executing on anton-mint, pid 15370\n",
      "command line: /home/anton/Master/tools/gem5/gem5-Arm/build/X86/gem5.opt --outdir=./bench/build-X86-gem5-opt/NAN/FT16/1MB/ /home/anton/Master/tools/gem5/gem5-Arm/configs/example/se.py --cpu-type=TimingSimpleCPU --cpu-clock=2GHz --l1d_size=64kB --l1i_size=16kB --caches --output=stdout.txt --errout=stderr.txt --l2_size=1MB --l2cache -c ./darknet --options ''\n",
      "\n",
      "info: Standard input is not a terminal, disabling listeners.\n",
      "**** REAL SIMULATION ****\n"
     ]
    },
    {
     "name": "stderr",
     "output_type": "stream",
     "text": [
      "build/X86/sim/simulate.cc:192: info: Entering event queue @ 0.  Starting simulation...\n",
      "build/X86/sim/syscall_emul.cc:74: warn: ignoring syscall set_robust_list(...)\n",
      "build/X86/sim/syscall_emul.cc:74: warn: ignoring syscall rseq(...)\n",
      "build/X86/sim/mem_state.cc:443: info: Increasing stack size by one page.\n",
      "build/X86/sim/syscall_emul.cc:74: warn: ignoring syscall mprotect(...)\n",
      "build/X86/arch/x86/cpuid.cc:180: warn: x86 cpuid family 0x0000: unimplemented function 2\n",
      "build/X86/sim/mem_state.cc:443: info: Increasing stack size by one page.\n"
     ]
    },
    {
     "name": "stdout",
     "output_type": "stream",
     "text": [
      "Exiting @ tick 177698500 because exiting with last active thread context\n",
      "['./bench/build-X86-gem5-opt/NAN/FT16/256MB/', './bench/build-X86-gem5-opt/NAN/FT16/64MB/', './bench/build-X86-gem5-opt/NAN/FT16/8MB/', './bench/build-X86-gem5-opt/NAN/FT16/1MB/']\n",
      "reading data from file:  ./bench/build-X86-gem5-opt/NAN/FT16/256MB/stats.txt \n",
      " \n",
      "reading data from file:  ./bench/build-X86-gem5-opt/NAN/FT16/64MB/stats.txt \n",
      " \n",
      "reading data from file:  ./bench/build-X86-gem5-opt/NAN/FT16/8MB/stats.txt \n",
      " \n",
      "reading data from file:  ./bench/build-X86-gem5-opt/NAN/FT16/1MB/stats.txt \n",
      " \n",
      "[[('simTicks', 177698500)], [('simTicks', 177698500)], [('simTicks', 177698500)], [('simTicks', 177698500)]]\n",
      "[0, 0, 0, 0]\n",
      "['1MB', '8MB', '64MB', '256MB']\n"
     ]
    },
    {
     "data": {
      "image/png": "[encoded data removed]",
      "text/plain": [
       "<Figure size 640x480 with 1 Axes>"
      ]
     },
     "metadata": {},
     "output_type": "display_data"
    }
   ],
   "source": [
    "ft16Result = runandPlot(Program.NNPACK_FT16,yolo ,chaceOptions, chaceSizes, setupnppticks_npp)"
   ]
  },
  {
   "cell_type": "code",
   "execution_count": 28,
   "id": "931e818f",
   "metadata": {},
   "outputs": [
    {
     "name": "stdout",
     "output_type": "stream",
     "text": [
      "reading data from file:  ./bench/build-X86-gem5-opt/NAN/FT16/256MB/stats.txt \n",
      " \n",
      "reading data from file:  ./bench/build-X86-gem5-opt/NAN/FT16/64MB/stats.txt \n",
      " \n",
      "reading data from file:  ./bench/build-X86-gem5-opt/NAN/FT16/8MB/stats.txt \n",
      " \n",
      "reading data from file:  ./bench/build-X86-gem5-opt/NAN/FT16/1MB/stats.txt \n",
      " \n",
      "[0, 0, 0, 0]\n",
      "['256MB', '64MB', '8MB', '1MB']\n"
     ]
    },
    {
     "data": {
      "image/png": "[encoded data removed]",
      "text/plain": [
       "<Figure size 640x480 with 1 Axes>"
      ]
     },
     "metadata": {},
     "output_type": "display_data"
    }
   ],
   "source": [
    "readandplot(ft16Result[0],chaceSizes,setupnppticks_npp)"
   ]
  },
  {
   "cell_type": "markdown",
   "id": "0870483e",
   "metadata": {},
   "source": [
    "# GEMM"
   ]
  },
  {
   "cell_type": "code",
   "execution_count": 29,
   "id": "2c2b9960",
   "metadata": {},
   "outputs": [
    {
     "name": "stdout",
     "output_type": "stream",
     "text": [
      "rm -rf ./obj/gemm.o ./obj/utils.o ./obj/cuda.o ./obj/deconvolutional_layer.o ./obj/convolutional_layer.o ./obj/list.o ./obj/image.o ./obj/activations.o ./obj/im2col.o ./obj/col2im.o ./obj/blas.o ./obj/crop_layer.o ./obj/dropout_layer.o ./obj/maxpool_layer.o ./obj/softmax_layer.o ./obj/data.o ./obj/matrix.o ./obj/network.o ./obj/connected_layer.o ./obj/cost_layer.o ./obj/parser.o ./obj/option_list.o ./obj/detection_layer.o ./obj/route_layer.o ./obj/upsample_layer.o ./obj/box.o ./obj/normalization_layer.o ./obj/avgpool_layer.o ./obj/layer.o ./obj/local_layer.o ./obj/shortcut_layer.o ./obj/logistic_layer.o ./obj/activation_layer.o ./obj/rnn_layer.o ./obj/gru_layer.o ./obj/crnn_layer.o ./obj/demo.o ./obj/batchnorm_layer.o ./obj/region_layer.o ./obj/reorg_layer.o ./obj/tree.o ./obj/lstm_layer.o ./obj/l2norm_layer.o ./obj/yolo_layer.o ./obj/iseg_layer.o ./obj/image_opencv.o libdarknet.so libdarknet.a darknet ./obj/captcha.o ./obj/lsd.o ./obj/super.o ./obj/art.o ./obj/tag.o ./obj/cifar.o ./obj/go.o ./obj/rnn.o ./obj/segmenter.o ./obj/regressor.o ./obj/classifier.o ./obj/coco.o ./obj/yolo.o ./obj/detector.o ./obj/nightmare.o ./obj/instance-segmenter.o ./obj/darknet.o ./obj/test.o ./obj//*\n",
      "NNPACK=1\n",
      "GEMM=1\n",
      "gcc -Iinclude/ -Isrc/ -Wall -Wno-unused-result -Wno-unknown-pragmas -Wfatal-errors -static -Ofast -DNNPACK -c ./src/gemm.c -o obj/gemm.o\n",
      "gcc -Iinclude/ -Isrc/ -Wall -Wno-unused-result -Wno-unknown-pragmas -Wfatal-errors -static -Ofast -DNNPACK -c ./src/utils.c -o obj/utils.o\n",
      "gcc -Iinclude/ -Isrc/ -Wall -Wno-unused-result -Wno-unknown-pragmas -Wfatal-errors -static -Ofast -DNNPACK -c ./src/cuda.c -o obj/cuda.o\n",
      "gcc -Iinclude/ -Isrc/ -Wall -Wno-unused-result -Wno-unknown-pragmas -Wfatal-errors -static -Ofast -DNNPACK -c ./src/deconvolutional_layer.c -o obj/deconvolutional_layer.o\n",
      "gcc -Iinclude/ -Isrc/ -Wall -Wno-unused-result -Wno-unknown-pragmas -Wfatal-errors -static -Ofast -DNNPACK -c ./src/convolutional_layer.c -o obj/convolutional_layer.o\n"
     ]
    },
    {
     "name": "stderr",
     "output_type": "stream",
     "text": [
      "./src/convolutional_layer.c: In function ‘forward_convolutional_layer_nnp’:\n",
      "./src/convolutional_layer.c:549:9: warning: unused variable ‘k’ [-Wunused-variable]\n",
      "  549 |     int k = l.size*l.size*l.c/l.groups;\n",
      "      |         ^\n"
     ]
    },
    {
     "name": "stdout",
     "output_type": "stream",
     "text": [
      "gcc -Iinclude/ -Isrc/ -Wall -Wno-unused-result -Wno-unknown-pragmas -Wfatal-errors -static -Ofast -DNNPACK -c ./src/list.c -o obj/list.o\n",
      "gcc -Iinclude/ -Isrc/ -Wall -Wno-unused-result -Wno-unknown-pragmas -Wfatal-errors -static -Ofast -DNNPACK -c ./src/image.c -o obj/image.o\n",
      "gcc -Iinclude/ -Isrc/ -Wall -Wno-unused-result -Wno-unknown-pragmas -Wfatal-errors -static -Ofast -DNNPACK -c ./src/activations.c -o obj/activations.o\n",
      "gcc -Iinclude/ -Isrc/ -Wall -Wno-unused-result -Wno-unknown-pragmas -Wfatal-errors -static -Ofast -DNNPACK -c ./src/im2col.c -o obj/im2col.o\n",
      "gcc -Iinclude/ -Isrc/ -Wall -Wno-unused-result -Wno-unknown-pragmas -Wfatal-errors -static -Ofast -DNNPACK -c ./src/col2im.c -o obj/col2im.o\n",
      "gcc -Iinclude/ -Isrc/ -Wall -Wno-unused-result -Wno-unknown-pragmas -Wfatal-errors -static -Ofast -DNNPACK -c ./src/blas.c -o obj/blas.o\n",
      "gcc -Iinclude/ -Isrc/ -Wall -Wno-unused-result -Wno-unknown-pragmas -Wfatal-errors -static -Ofast -DNNPACK -c ./src/crop_layer.c -o obj/crop_layer.o\n",
      "gcc -Iinclude/ -Isrc/ -Wall -Wno-unused-result -Wno-unknown-pragmas -Wfatal-errors -static -Ofast -DNNPACK -c ./src/dropout_layer.c -o obj/dropout_layer.o\n",
      "gcc -Iinclude/ -Isrc/ -Wall -Wno-unused-result -Wno-unknown-pragmas -Wfatal-errors -static -Ofast -DNNPACK -c ./src/maxpool_layer.c -o obj/maxpool_layer.o\n",
      "gcc -Iinclude/ -Isrc/ -Wall -Wno-unused-result -Wno-unknown-pragmas -Wfatal-errors -static -Ofast -DNNPACK -c ./src/softmax_layer.c -o obj/softmax_layer.o\n",
      "gcc -Iinclude/ -Isrc/ -Wall -Wno-unused-result -Wno-unknown-pragmas -Wfatal-errors -static -Ofast -DNNPACK -c ./src/data.c -o obj/data.o\n",
      "gcc -Iinclude/ -Isrc/ -Wall -Wno-unused-result -Wno-unknown-pragmas -Wfatal-errors -static -Ofast -DNNPACK -c ./src/matrix.c -o obj/matrix.o\n",
      "gcc -Iinclude/ -Isrc/ -Wall -Wno-unused-result -Wno-unknown-pragmas -Wfatal-errors -static -Ofast -DNNPACK -c ./src/network.c -o obj/network.o\n",
      "gcc -Iinclude/ -Isrc/ -Wall -Wno-unused-result -Wno-unknown-pragmas -Wfatal-errors -static -Ofast -DNNPACK -c ./src/connected_layer.c -o obj/connected_layer.o\n",
      "gcc -Iinclude/ -Isrc/ -Wall -Wno-unused-result -Wno-unknown-pragmas -Wfatal-errors -static -Ofast -DNNPACK -c ./src/cost_layer.c -o obj/cost_layer.o\n",
      "gcc -Iinclude/ -Isrc/ -Wall -Wno-unused-result -Wno-unknown-pragmas -Wfatal-errors -static -Ofast -DNNPACK -c ./src/parser.c -o obj/parser.o\n",
      "gcc -Iinclude/ -Isrc/ -Wall -Wno-unused-result -Wno-unknown-pragmas -Wfatal-errors -static -Ofast -DNNPACK -c ./src/option_list.c -o obj/option_list.o\n",
      "gcc -Iinclude/ -Isrc/ -Wall -Wno-unused-result -Wno-unknown-pragmas -Wfatal-errors -static -Ofast -DNNPACK -c ./src/detection_layer.c -o obj/detection_layer.o\n",
      "gcc -Iinclude/ -Isrc/ -Wall -Wno-unused-result -Wno-unknown-pragmas -Wfatal-errors -static -Ofast -DNNPACK -c ./src/route_layer.c -o obj/route_layer.o\n",
      "gcc -Iinclude/ -Isrc/ -Wall -Wno-unused-result -Wno-unknown-pragmas -Wfatal-errors -static -Ofast -DNNPACK -c ./src/upsample_layer.c -o obj/upsample_layer.o\n",
      "gcc -Iinclude/ -Isrc/ -Wall -Wno-unused-result -Wno-unknown-pragmas -Wfatal-errors -static -Ofast -DNNPACK -c ./src/box.c -o obj/box.o\n",
      "gcc -Iinclude/ -Isrc/ -Wall -Wno-unused-result -Wno-unknown-pragmas -Wfatal-errors -static -Ofast -DNNPACK -c ./src/normalization_layer.c -o obj/normalization_layer.o\n",
      "gcc -Iinclude/ -Isrc/ -Wall -Wno-unused-result -Wno-unknown-pragmas -Wfatal-errors -static -Ofast -DNNPACK -c ./src/avgpool_layer.c -o obj/avgpool_layer.o\n",
      "gcc -Iinclude/ -Isrc/ -Wall -Wno-unused-result -Wno-unknown-pragmas -Wfatal-errors -static -Ofast -DNNPACK -c ./src/layer.c -o obj/layer.o\n",
      "gcc -Iinclude/ -Isrc/ -Wall -Wno-unused-result -Wno-unknown-pragmas -Wfatal-errors -static -Ofast -DNNPACK -c ./src/local_layer.c -o obj/local_layer.o\n",
      "gcc -Iinclude/ -Isrc/ -Wall -Wno-unused-result -Wno-unknown-pragmas -Wfatal-errors -static -Ofast -DNNPACK -c ./src/shortcut_layer.c -o obj/shortcut_layer.o\n",
      "gcc -Iinclude/ -Isrc/ -Wall -Wno-unused-result -Wno-unknown-pragmas -Wfatal-errors -static -Ofast -DNNPACK -c ./src/logistic_layer.c -o obj/logistic_layer.o\n",
      "gcc -Iinclude/ -Isrc/ -Wall -Wno-unused-result -Wno-unknown-pragmas -Wfatal-errors -static -Ofast -DNNPACK -c ./src/activation_layer.c -o obj/activation_layer.o\n",
      "gcc -Iinclude/ -Isrc/ -Wall -Wno-unused-result -Wno-unknown-pragmas -Wfatal-errors -static -Ofast -DNNPACK -c ./src/rnn_layer.c -o obj/rnn_layer.o\n",
      "gcc -Iinclude/ -Isrc/ -Wall -Wno-unused-result -Wno-unknown-pragmas -Wfatal-errors -static -Ofast -DNNPACK -c ./src/gru_layer.c -o obj/gru_layer.o\n",
      "gcc -Iinclude/ -Isrc/ -Wall -Wno-unused-result -Wno-unknown-pragmas -Wfatal-errors -static -Ofast -DNNPACK -c ./src/crnn_layer.c -o obj/crnn_layer.o\n",
      "gcc -Iinclude/ -Isrc/ -Wall -Wno-unused-result -Wno-unknown-pragmas -Wfatal-errors -static -Ofast -DNNPACK -c ./src/demo.c -o obj/demo.o\n",
      "gcc -Iinclude/ -Isrc/ -Wall -Wno-unused-result -Wno-unknown-pragmas -Wfatal-errors -static -Ofast -DNNPACK -c ./src/batchnorm_layer.c -o obj/batchnorm_layer.o\n",
      "gcc -Iinclude/ -Isrc/ -Wall -Wno-unused-result -Wno-unknown-pragmas -Wfatal-errors -static -Ofast -DNNPACK -c ./src/region_layer.c -o obj/region_layer.o\n",
      "gcc -Iinclude/ -Isrc/ -Wall -Wno-unused-result -Wno-unknown-pragmas -Wfatal-errors -static -Ofast -DNNPACK -c ./src/reorg_layer.c -o obj/reorg_layer.o\n",
      "gcc -Iinclude/ -Isrc/ -Wall -Wno-unused-result -Wno-unknown-pragmas -Wfatal-errors -static -Ofast -DNNPACK -c ./src/tree.c -o obj/tree.o\n",
      "gcc -Iinclude/ -Isrc/ -Wall -Wno-unused-result -Wno-unknown-pragmas -Wfatal-errors -static -Ofast -DNNPACK -c ./src/lstm_layer.c -o obj/lstm_layer.o\n",
      "gcc -Iinclude/ -Isrc/ -Wall -Wno-unused-result -Wno-unknown-pragmas -Wfatal-errors -static -Ofast -DNNPACK -c ./src/l2norm_layer.c -o obj/l2norm_layer.o\n",
      "gcc -Iinclude/ -Isrc/ -Wall -Wno-unused-result -Wno-unknown-pragmas -Wfatal-errors -static -Ofast -DNNPACK -c ./src/yolo_layer.c -o obj/yolo_layer.o\n",
      "gcc -Iinclude/ -Isrc/ -Wall -Wno-unused-result -Wno-unknown-pragmas -Wfatal-errors -static -Ofast -DNNPACK -c ./src/iseg_layer.c -o obj/iseg_layer.o\n",
      "g++ -Iinclude/ -Isrc/ -Wall -Wno-unused-result -Wno-unknown-pragmas -Wfatal-errors -static -Ofast -DNNPACK -c ./src/image_opencv.cpp -o obj/image_opencv.o\n",
      "ar rcs libdarknet.a obj/gemm.o obj/utils.o obj/cuda.o obj/deconvolutional_layer.o obj/convolutional_layer.o obj/list.o obj/image.o obj/activations.o obj/im2col.o obj/col2im.o obj/blas.o obj/crop_layer.o obj/dropout_layer.o obj/maxpool_layer.o obj/softmax_layer.o obj/data.o obj/matrix.o obj/network.o obj/connected_layer.o obj/cost_layer.o obj/parser.o obj/option_list.o obj/detection_layer.o obj/route_layer.o obj/upsample_layer.o obj/box.o obj/normalization_layer.o obj/avgpool_layer.o obj/layer.o obj/local_layer.o obj/shortcut_layer.o obj/logistic_layer.o obj/activation_layer.o obj/rnn_layer.o obj/gru_layer.o obj/crnn_layer.o obj/demo.o obj/batchnorm_layer.o obj/region_layer.o obj/reorg_layer.o obj/tree.o obj/lstm_layer.o obj/l2norm_layer.o obj/yolo_layer.o obj/iseg_layer.o obj/image_opencv.o\n",
      "gcc -Iinclude/ -Isrc/ -Wall -Wno-unused-result -Wno-unknown-pragmas -Wfatal-errors -static -Ofast -DNNPACK -c ./examples/captcha.c -o obj/captcha.o\n",
      "gcc -Iinclude/ -Isrc/ -Wall -Wno-unused-result -Wno-unknown-pragmas -Wfatal-errors -static -Ofast -DNNPACK -c ./examples/lsd.c -o obj/lsd.o\n",
      "gcc -Iinclude/ -Isrc/ -Wall -Wno-unused-result -Wno-unknown-pragmas -Wfatal-errors -static -Ofast -DNNPACK -c ./examples/super.c -o obj/super.o\n",
      "gcc -Iinclude/ -Isrc/ -Wall -Wno-unused-result -Wno-unknown-pragmas -Wfatal-errors -static -Ofast -DNNPACK -c ./examples/art.c -o obj/art.o\n",
      "gcc -Iinclude/ -Isrc/ -Wall -Wno-unused-result -Wno-unknown-pragmas -Wfatal-errors -static -Ofast -DNNPACK -c ./examples/tag.c -o obj/tag.o\n",
      "gcc -Iinclude/ -Isrc/ -Wall -Wno-unused-result -Wno-unknown-pragmas -Wfatal-errors -static -Ofast -DNNPACK -c ./examples/cifar.c -o obj/cifar.o\n",
      "gcc -Iinclude/ -Isrc/ -Wall -Wno-unused-result -Wno-unknown-pragmas -Wfatal-errors -static -Ofast -DNNPACK -c ./examples/go.c -o obj/go.o\n",
      "gcc -Iinclude/ -Isrc/ -Wall -Wno-unused-result -Wno-unknown-pragmas -Wfatal-errors -static -Ofast -DNNPACK -c ./examples/rnn.c -o obj/rnn.o\n",
      "gcc -Iinclude/ -Isrc/ -Wall -Wno-unused-result -Wno-unknown-pragmas -Wfatal-errors -static -Ofast -DNNPACK -c ./examples/segmenter.c -o obj/segmenter.o\n",
      "gcc -Iinclude/ -Isrc/ -Wall -Wno-unused-result -Wno-unknown-pragmas -Wfatal-errors -static -Ofast -DNNPACK -c ./examples/regressor.c -o obj/regressor.o\n"
     ]
    },
    {
     "name": "stdout",
     "output_type": "stream",
     "text": [
      "gcc -Iinclude/ -Isrc/ -Wall -Wno-unused-result -Wno-unknown-pragmas -Wfatal-errors -static -Ofast -DNNPACK -c ./examples/classifier.c -o obj/classifier.o\n",
      "gcc -Iinclude/ -Isrc/ -Wall -Wno-unused-result -Wno-unknown-pragmas -Wfatal-errors -static -Ofast -DNNPACK -c ./examples/coco.c -o obj/coco.o\n",
      "gcc -Iinclude/ -Isrc/ -Wall -Wno-unused-result -Wno-unknown-pragmas -Wfatal-errors -static -Ofast -DNNPACK -c ./examples/yolo.c -o obj/yolo.o\n",
      "gcc -Iinclude/ -Isrc/ -Wall -Wno-unused-result -Wno-unknown-pragmas -Wfatal-errors -static -Ofast -DNNPACK -c ./examples/detector.c -o obj/detector.o\n"
     ]
    },
    {
     "name": "stderr",
     "output_type": "stream",
     "text": [
      "./examples/detector.c: In function ‘test_detector’:\n",
      "./examples/detector.c:585:24: warning: ‘return’ with no value, in function returning non-void [-Wreturn-type]\n",
      "  585 |             if(!input) return;\n",
      "      |                        ^~~~~~\n",
      "./examples/detector.c:562:7: note: declared here\n",
      "  562 | float test_detector(char *datacfg, char *cfgfile, char *weightfile, char *filename, float thresh, float hier_thresh, char *outfile, int fullscreen)\n",
      "      |       ^~~~~~~~~~~~~\n"
     ]
    },
    {
     "name": "stdout",
     "output_type": "stream",
     "text": [
      "gcc -Iinclude/ -Isrc/ -Wall -Wno-unused-result -Wno-unknown-pragmas -Wfatal-errors -static -Ofast -DNNPACK -c ./examples/nightmare.c -o obj/nightmare.o\n",
      "gcc -Iinclude/ -Isrc/ -Wall -Wno-unused-result -Wno-unknown-pragmas -Wfatal-errors -static -Ofast -DNNPACK -c ./examples/instance-segmenter.c -o obj/instance-segmenter.o\n",
      "gcc -Iinclude/ -Isrc/ -Wall -Wno-unused-result -Wno-unknown-pragmas -Wfatal-errors -static -Ofast -DNNPACK -c ./examples/darknet.c -o obj/darknet.o\n",
      "gcc -Iinclude/ -Isrc/ -Wall -Wno-unused-result -Wno-unknown-pragmas -Wfatal-errors -static -Ofast -DNNPACK -c ./examples/test.c -o obj/test.o\n",
      "gcc -Iinclude/ -Isrc/ -Wall -Wno-unused-result -Wno-unknown-pragmas -Wfatal-errors -static -Ofast -DNNPACK obj/captcha.o obj/lsd.o obj/super.o obj/art.o obj/tag.o obj/cifar.o obj/go.o obj/rnn.o obj/segmenter.o obj/regressor.o obj/classifier.o obj/coco.o obj/yolo.o obj/detector.o obj/nightmare.o obj/instance-segmenter.o obj/darknet.o obj/test.o libdarknet.a -o darknet -lm -pthread -l:libnnpack.a -l:libpthreadpool.a -l:libcpuinfo.a -l:libclog.a libdarknet.a\n",
      "/home/anton/Master/tools/gem5/gem5-Arm/build/X86/gem5.opt --outdir=./bench/build-X86-gem5-opt/NAN/GEMM/256MB/ /home/anton/Master/tools/gem5/gem5-Arm/configs/example/se.py --cpu-type=TimingSimpleCPU --cpu-clock=2GHz --l1d_size=64kB --l1i_size=16kB --caches --output=stdout.txt  --errout=stderr.txt --l2_size=256MB --l2cache -c \"./darknet\" --options \"\"\n",
      "\n",
      "\n"
     ]
    },
    {
     "name": "stderr",
     "output_type": "stream",
     "text": [
      "warn: The `get_runtime_isa` function is deprecated. Please migrate away from using this function.\n",
      "warn: The `get_runtime_isa` function is deprecated. Please migrate away from using this function.\n",
      "warn: failed to generate dot output from ./bench/build-X86-gem5-opt/NAN/GEMM/256MB/config.dot\n",
      "build/X86/mem/dram_interface.cc:690: warn: DRAM device capacity (8192 Mbytes) does not match the address range assigned (512 Mbytes)\n"
     ]
    },
    {
     "name": "stdout",
     "output_type": "stream",
     "text": [
      "Global frequency set at 1000000000000 ticks per second\n"
     ]
    },
    {
     "name": "stderr",
     "output_type": "stream",
     "text": [
      "build/X86/base/remote_gdb.cc:416: warn: Sockets disabled, not accepting gdb connections\n",
      "build/X86/sim/simulate.cc:192: info: Entering event queue @ 0.  Starting simulation...\n",
      "build/X86/sim/syscall_emul.cc:74: warn: ignoring syscall set_robust_list(...)\n",
      "build/X86/sim/syscall_emul.cc:74: warn: ignoring syscall rseq(...)\n",
      "build/X86/sim/mem_state.cc:443: info: Increasing stack size by one page.\n",
      "build/X86/sim/syscall_emul.cc:74: warn: ignoring syscall mprotect(...)\n",
      "build/X86/arch/x86/cpuid.cc:180: warn: x86 cpuid family 0x0000: unimplemented function 2\n",
      "build/X86/sim/mem_state.cc:443: info: Increasing stack size by one page.\n"
     ]
    },
    {
     "name": "stdout",
     "output_type": "stream",
     "text": [
      "gem5 Simulator System.  https://www.gem5.org\n",
      "gem5 is copyrighted software; use the --copyright option for details.\n",
      "\n",
      "gem5 version 22.1.0.0\n",
      "gem5 compiled Jan 24 2023 19:03:31\n",
      "gem5 started Feb 12 2023 16:59:50\n",
      "gem5 executing on anton-mint, pid 15574\n",
      "command line: /home/anton/Master/tools/gem5/gem5-Arm/build/X86/gem5.opt --outdir=./bench/build-X86-gem5-opt/NAN/GEMM/256MB/ /home/anton/Master/tools/gem5/gem5-Arm/configs/example/se.py --cpu-type=TimingSimpleCPU --cpu-clock=2GHz --l1d_size=64kB --l1i_size=16kB --caches --output=stdout.txt --errout=stderr.txt --l2_size=256MB --l2cache -c ./darknet --options ''\n",
      "\n",
      "info: Standard input is not a terminal, disabling listeners.\n",
      "**** REAL SIMULATION ****\n",
      "Exiting @ tick 177698500 because exiting with last active thread context\n",
      "/home/anton/Master/tools/gem5/gem5-Arm/build/X86/gem5.opt --outdir=./bench/build-X86-gem5-opt/NAN/GEMM/64MB/ /home/anton/Master/tools/gem5/gem5-Arm/configs/example/se.py --cpu-type=TimingSimpleCPU --cpu-clock=2GHz --l1d_size=64kB --l1i_size=16kB --caches --output=stdout.txt  --errout=stderr.txt --l2_size=64MB --l2cache -c \"./darknet\" --options \"\"\n",
      "\n",
      "\n"
     ]
    },
    {
     "name": "stderr",
     "output_type": "stream",
     "text": [
      "warn: The `get_runtime_isa` function is deprecated. Please migrate away from using this function.\n",
      "warn: The `get_runtime_isa` function is deprecated. Please migrate away from using this function.\n",
      "warn: failed to generate dot output from ./bench/build-X86-gem5-opt/NAN/GEMM/64MB/config.dot\n",
      "build/X86/mem/dram_interface.cc:690: warn: DRAM device capacity (8192 Mbytes) does not match the address range assigned (512 Mbytes)\n"
     ]
    },
    {
     "name": "stdout",
     "output_type": "stream",
     "text": [
      "Global frequency set at 1000000000000 ticks per second\n"
     ]
    },
    {
     "name": "stderr",
     "output_type": "stream",
     "text": [
      "build/X86/base/remote_gdb.cc:416: warn: Sockets disabled, not accepting gdb connections\n",
      "build/X86/sim/simulate.cc:192: info: Entering event queue @ 0.  Starting simulation...\n",
      "build/X86/sim/syscall_emul.cc:74: warn: ignoring syscall set_robust_list(...)\n",
      "build/X86/sim/syscall_emul.cc:74: warn: ignoring syscall rseq(...)\n",
      "build/X86/sim/mem_state.cc:443: info: Increasing stack size by one page.\n",
      "build/X86/sim/syscall_emul.cc:74: warn: ignoring syscall mprotect(...)\n",
      "build/X86/arch/x86/cpuid.cc:180: warn: x86 cpuid family 0x0000: unimplemented function 2\n",
      "build/X86/sim/mem_state.cc:443: info: Increasing stack size by one page.\n"
     ]
    },
    {
     "name": "stdout",
     "output_type": "stream",
     "text": [
      "gem5 Simulator System.  https://www.gem5.org\n",
      "gem5 is copyrighted software; use the --copyright option for details.\n",
      "\n",
      "gem5 version 22.1.0.0\n",
      "gem5 compiled Jan 24 2023 19:03:31\n",
      "gem5 started Feb 12 2023 16:59:51\n",
      "gem5 executing on anton-mint, pid 15577\n",
      "command line: /home/anton/Master/tools/gem5/gem5-Arm/build/X86/gem5.opt --outdir=./bench/build-X86-gem5-opt/NAN/GEMM/64MB/ /home/anton/Master/tools/gem5/gem5-Arm/configs/example/se.py --cpu-type=TimingSimpleCPU --cpu-clock=2GHz --l1d_size=64kB --l1i_size=16kB --caches --output=stdout.txt --errout=stderr.txt --l2_size=64MB --l2cache -c ./darknet --options ''\n",
      "\n",
      "info: Standard input is not a terminal, disabling listeners.\n",
      "**** REAL SIMULATION ****\n",
      "Exiting @ tick 177698500 because exiting with last active thread context\n",
      "/home/anton/Master/tools/gem5/gem5-Arm/build/X86/gem5.opt --outdir=./bench/build-X86-gem5-opt/NAN/GEMM/8MB/ /home/anton/Master/tools/gem5/gem5-Arm/configs/example/se.py --cpu-type=TimingSimpleCPU --cpu-clock=2GHz --l1d_size=64kB --l1i_size=16kB --caches --output=stdout.txt  --errout=stderr.txt --l2_size=8MB --l2cache -c \"./darknet\" --options \"\"\n",
      "\n",
      "\n"
     ]
    },
    {
     "name": "stderr",
     "output_type": "stream",
     "text": [
      "warn: The `get_runtime_isa` function is deprecated. Please migrate away from using this function.\n",
      "warn: The `get_runtime_isa` function is deprecated. Please migrate away from using this function.\n",
      "warn: failed to generate dot output from ./bench/build-X86-gem5-opt/NAN/GEMM/8MB/config.dot\n",
      "build/X86/mem/dram_interface.cc:690: warn: DRAM device capacity (8192 Mbytes) does not match the address range assigned (512 Mbytes)\n"
     ]
    },
    {
     "name": "stdout",
     "output_type": "stream",
     "text": [
      "Global frequency set at 1000000000000 ticks per second\n"
     ]
    },
    {
     "name": "stderr",
     "output_type": "stream",
     "text": [
      "build/X86/base/remote_gdb.cc:416: warn: Sockets disabled, not accepting gdb connections\n",
      "build/X86/sim/simulate.cc:192: info: Entering event queue @ 0.  Starting simulation...\n",
      "build/X86/sim/syscall_emul.cc:74: warn: ignoring syscall set_robust_list(...)\n",
      "build/X86/sim/syscall_emul.cc:74: warn: ignoring syscall rseq(...)\n",
      "build/X86/sim/mem_state.cc:443: info: Increasing stack size by one page.\n",
      "build/X86/sim/syscall_emul.cc:74: warn: ignoring syscall mprotect(...)\n",
      "build/X86/arch/x86/cpuid.cc:180: warn: x86 cpuid family 0x0000: unimplemented function 2\n",
      "build/X86/sim/mem_state.cc:443: info: Increasing stack size by one page.\n"
     ]
    },
    {
     "name": "stdout",
     "output_type": "stream",
     "text": [
      "gem5 Simulator System.  https://www.gem5.org\n",
      "gem5 is copyrighted software; use the --copyright option for details.\n",
      "\n",
      "gem5 version 22.1.0.0\n",
      "gem5 compiled Jan 24 2023 19:03:31\n",
      "gem5 started Feb 12 2023 16:59:52\n",
      "gem5 executing on anton-mint, pid 15583\n",
      "command line: /home/anton/Master/tools/gem5/gem5-Arm/build/X86/gem5.opt --outdir=./bench/build-X86-gem5-opt/NAN/GEMM/8MB/ /home/anton/Master/tools/gem5/gem5-Arm/configs/example/se.py --cpu-type=TimingSimpleCPU --cpu-clock=2GHz --l1d_size=64kB --l1i_size=16kB --caches --output=stdout.txt --errout=stderr.txt --l2_size=8MB --l2cache -c ./darknet --options ''\n",
      "\n",
      "info: Standard input is not a terminal, disabling listeners.\n",
      "**** REAL SIMULATION ****\n",
      "Exiting @ tick 177698500 because exiting with last active thread context\n",
      "/home/anton/Master/tools/gem5/gem5-Arm/build/X86/gem5.opt --outdir=./bench/build-X86-gem5-opt/NAN/GEMM/1MB/ /home/anton/Master/tools/gem5/gem5-Arm/configs/example/se.py --cpu-type=TimingSimpleCPU --cpu-clock=2GHz --l1d_size=64kB --l1i_size=16kB --caches --output=stdout.txt  --errout=stderr.txt --l2_size=1MB --l2cache -c \"./darknet\" --options \"\"\n",
      "\n",
      "\n"
     ]
    },
    {
     "name": "stderr",
     "output_type": "stream",
     "text": [
      "warn: The `get_runtime_isa` function is deprecated. Please migrate away from using this function.\n",
      "warn: The `get_runtime_isa` function is deprecated. Please migrate away from using this function.\n",
      "warn: failed to generate dot output from ./bench/build-X86-gem5-opt/NAN/GEMM/1MB/config.dot\n",
      "build/X86/mem/dram_interface.cc:690: warn: DRAM device capacity (8192 Mbytes) does not match the address range assigned (512 Mbytes)\n",
      "build/X86/base/remote_gdb.cc:416: warn: Sockets disabled, not accepting gdb connections\n"
     ]
    },
    {
     "name": "stdout",
     "output_type": "stream",
     "text": [
      "Global frequency set at 1000000000000 ticks per second\n",
      "gem5 Simulator System.  https://www.gem5.org\n",
      "gem5 is copyrighted software; use the --copyright option for details.\n",
      "\n",
      "gem5 version 22.1.0.0\n",
      "gem5 compiled Jan 24 2023 19:03:31\n",
      "gem5 started Feb 12 2023 16:59:53\n",
      "gem5 executing on anton-mint, pid 15586\n",
      "command line: /home/anton/Master/tools/gem5/gem5-Arm/build/X86/gem5.opt --outdir=./bench/build-X86-gem5-opt/NAN/GEMM/1MB/ /home/anton/Master/tools/gem5/gem5-Arm/configs/example/se.py --cpu-type=TimingSimpleCPU --cpu-clock=2GHz --l1d_size=64kB --l1i_size=16kB --caches --output=stdout.txt --errout=stderr.txt --l2_size=1MB --l2cache -c ./darknet --options ''\n",
      "\n",
      "info: Standard input is not a terminal, disabling listeners.\n",
      "**** REAL SIMULATION ****\n"
     ]
    },
    {
     "name": "stderr",
     "output_type": "stream",
     "text": [
      "build/X86/sim/simulate.cc:192: info: Entering event queue @ 0.  Starting simulation...\n",
      "build/X86/sim/syscall_emul.cc:74: warn: ignoring syscall set_robust_list(...)\n",
      "build/X86/sim/syscall_emul.cc:74: warn: ignoring syscall rseq(...)\n",
      "build/X86/sim/mem_state.cc:443: info: Increasing stack size by one page.\n",
      "build/X86/sim/syscall_emul.cc:74: warn: ignoring syscall mprotect(...)\n",
      "build/X86/arch/x86/cpuid.cc:180: warn: x86 cpuid family 0x0000: unimplemented function 2\n",
      "build/X86/sim/mem_state.cc:443: info: Increasing stack size by one page.\n"
     ]
    },
    {
     "name": "stdout",
     "output_type": "stream",
     "text": [
      "Exiting @ tick 177698500 because exiting with last active thread context\n",
      "['./bench/build-X86-gem5-opt/NAN/GEMM/256MB/', './bench/build-X86-gem5-opt/NAN/GEMM/64MB/', './bench/build-X86-gem5-opt/NAN/GEMM/8MB/', './bench/build-X86-gem5-opt/NAN/GEMM/1MB/']\n",
      "reading data from file:  ./bench/build-X86-gem5-opt/NAN/GEMM/256MB/stats.txt \n",
      " \n",
      "reading data from file:  ./bench/build-X86-gem5-opt/NAN/GEMM/64MB/stats.txt \n",
      " \n",
      "reading data from file:  ./bench/build-X86-gem5-opt/NAN/GEMM/8MB/stats.txt \n",
      " \n",
      "reading data from file:  ./bench/build-X86-gem5-opt/NAN/GEMM/1MB/stats.txt \n",
      " \n",
      "[[('simTicks', 177698500)], [('simTicks', 177698500)], [('simTicks', 177698500)], [('simTicks', 177698500)]]\n",
      "[0, 0, 0, 0]\n",
      "['1MB', '8MB', '64MB', '256MB']\n"
     ]
    },
    {
     "data": {
      "image/png": "[encoded data removed]",
      "text/plain": [
       "<Figure size 640x480 with 1 Axes>"
      ]
     },
     "metadata": {},
     "output_type": "display_data"
    }
   ],
   "source": [
    "gemmResult = runandPlot(Program.NNPACK_GEMM,yolo ,chaceOptions, chaceSizes, setupnppticks_npp)"
   ]
  },
  {
   "cell_type": "code",
   "execution_count": 30,
   "id": "614fc483",
   "metadata": {},
   "outputs": [
    {
     "name": "stdout",
     "output_type": "stream",
     "text": [
      "reading data from file:  ./bench/build-X86-gem5-opt/NAN/GEMM/256MB/stats.txt \n",
      " \n",
      "reading data from file:  ./bench/build-X86-gem5-opt/NAN/GEMM/64MB/stats.txt \n",
      " \n",
      "reading data from file:  ./bench/build-X86-gem5-opt/NAN/GEMM/8MB/stats.txt \n",
      " \n",
      "reading data from file:  ./bench/build-X86-gem5-opt/NAN/GEMM/1MB/stats.txt \n",
      " \n",
      "[0, 0, 0, 0]\n",
      "['256MB', '64MB', '8MB', '1MB']\n"
     ]
    },
    {
     "data": {
      "image/png": "[encoded data removed]",
      "text/plain": [
       "<Figure size 640x480 with 1 Axes>"
      ]
     },
     "metadata": {},
     "output_type": "display_data"
    }
   ],
   "source": [
    "readandplot(gemmResult[0],chaceSizes,setupnppticks_npp)"
   ]
  },
  {
   "cell_type": "markdown",
   "id": "4b3ede89",
   "metadata": {},
   "source": [
    "# WT"
   ]
  },
  {
   "cell_type": "code",
   "execution_count": 31,
   "id": "2e3de02a",
   "metadata": {},
   "outputs": [
    {
     "name": "stdout",
     "output_type": "stream",
     "text": [
      "rm -rf ./obj/gemm.o ./obj/utils.o ./obj/cuda.o ./obj/deconvolutional_layer.o ./obj/convolutional_layer.o ./obj/list.o ./obj/image.o ./obj/activations.o ./obj/im2col.o ./obj/col2im.o ./obj/blas.o ./obj/crop_layer.o ./obj/dropout_layer.o ./obj/maxpool_layer.o ./obj/softmax_layer.o ./obj/data.o ./obj/matrix.o ./obj/network.o ./obj/connected_layer.o ./obj/cost_layer.o ./obj/parser.o ./obj/option_list.o ./obj/detection_layer.o ./obj/route_layer.o ./obj/upsample_layer.o ./obj/box.o ./obj/normalization_layer.o ./obj/avgpool_layer.o ./obj/layer.o ./obj/local_layer.o ./obj/shortcut_layer.o ./obj/logistic_layer.o ./obj/activation_layer.o ./obj/rnn_layer.o ./obj/gru_layer.o ./obj/crnn_layer.o ./obj/demo.o ./obj/batchnorm_layer.o ./obj/region_layer.o ./obj/reorg_layer.o ./obj/tree.o ./obj/lstm_layer.o ./obj/l2norm_layer.o ./obj/yolo_layer.o ./obj/iseg_layer.o ./obj/image_opencv.o libdarknet.so libdarknet.a darknet ./obj/captcha.o ./obj/lsd.o ./obj/super.o ./obj/art.o ./obj/tag.o ./obj/cifar.o ./obj/go.o ./obj/rnn.o ./obj/segmenter.o ./obj/regressor.o ./obj/classifier.o ./obj/coco.o ./obj/yolo.o ./obj/detector.o ./obj/nightmare.o ./obj/instance-segmenter.o ./obj/darknet.o ./obj/test.o ./obj//*\n",
      "NNPACK=1\n",
      "WT=1\n",
      "gcc -Iinclude/ -Isrc/ -Wall -Wno-unused-result -Wno-unknown-pragmas -Wfatal-errors -static -Ofast -DNNPACK -c ./src/gemm.c -o obj/gemm.o\n",
      "gcc -Iinclude/ -Isrc/ -Wall -Wno-unused-result -Wno-unknown-pragmas -Wfatal-errors -static -Ofast -DNNPACK -c ./src/utils.c -o obj/utils.o\n",
      "gcc -Iinclude/ -Isrc/ -Wall -Wno-unused-result -Wno-unknown-pragmas -Wfatal-errors -static -Ofast -DNNPACK -c ./src/cuda.c -o obj/cuda.o\n",
      "gcc -Iinclude/ -Isrc/ -Wall -Wno-unused-result -Wno-unknown-pragmas -Wfatal-errors -static -Ofast -DNNPACK -c ./src/deconvolutional_layer.c -o obj/deconvolutional_layer.o\n",
      "gcc -Iinclude/ -Isrc/ -Wall -Wno-unused-result -Wno-unknown-pragmas -Wfatal-errors -static -Ofast -DNNPACK -c ./src/convolutional_layer.c -o obj/convolutional_layer.o\n"
     ]
    },
    {
     "name": "stderr",
     "output_type": "stream",
     "text": [
      "./src/convolutional_layer.c: In function ‘forward_convolutional_layer_nnp’:\n",
      "./src/convolutional_layer.c:549:9: warning: unused variable ‘k’ [-Wunused-variable]\n",
      "  549 |     int k = l.size*l.size*l.c/l.groups;\n",
      "      |         ^\n"
     ]
    },
    {
     "name": "stdout",
     "output_type": "stream",
     "text": [
      "gcc -Iinclude/ -Isrc/ -Wall -Wno-unused-result -Wno-unknown-pragmas -Wfatal-errors -static -Ofast -DNNPACK -c ./src/list.c -o obj/list.o\n",
      "gcc -Iinclude/ -Isrc/ -Wall -Wno-unused-result -Wno-unknown-pragmas -Wfatal-errors -static -Ofast -DNNPACK -c ./src/image.c -o obj/image.o\n",
      "gcc -Iinclude/ -Isrc/ -Wall -Wno-unused-result -Wno-unknown-pragmas -Wfatal-errors -static -Ofast -DNNPACK -c ./src/activations.c -o obj/activations.o\n",
      "gcc -Iinclude/ -Isrc/ -Wall -Wno-unused-result -Wno-unknown-pragmas -Wfatal-errors -static -Ofast -DNNPACK -c ./src/im2col.c -o obj/im2col.o\n",
      "gcc -Iinclude/ -Isrc/ -Wall -Wno-unused-result -Wno-unknown-pragmas -Wfatal-errors -static -Ofast -DNNPACK -c ./src/col2im.c -o obj/col2im.o\n",
      "gcc -Iinclude/ -Isrc/ -Wall -Wno-unused-result -Wno-unknown-pragmas -Wfatal-errors -static -Ofast -DNNPACK -c ./src/blas.c -o obj/blas.o\n",
      "gcc -Iinclude/ -Isrc/ -Wall -Wno-unused-result -Wno-unknown-pragmas -Wfatal-errors -static -Ofast -DNNPACK -c ./src/crop_layer.c -o obj/crop_layer.o\n",
      "gcc -Iinclude/ -Isrc/ -Wall -Wno-unused-result -Wno-unknown-pragmas -Wfatal-errors -static -Ofast -DNNPACK -c ./src/dropout_layer.c -o obj/dropout_layer.o\n",
      "gcc -Iinclude/ -Isrc/ -Wall -Wno-unused-result -Wno-unknown-pragmas -Wfatal-errors -static -Ofast -DNNPACK -c ./src/maxpool_layer.c -o obj/maxpool_layer.o\n",
      "gcc -Iinclude/ -Isrc/ -Wall -Wno-unused-result -Wno-unknown-pragmas -Wfatal-errors -static -Ofast -DNNPACK -c ./src/softmax_layer.c -o obj/softmax_layer.o\n",
      "gcc -Iinclude/ -Isrc/ -Wall -Wno-unused-result -Wno-unknown-pragmas -Wfatal-errors -static -Ofast -DNNPACK -c ./src/data.c -o obj/data.o\n",
      "gcc -Iinclude/ -Isrc/ -Wall -Wno-unused-result -Wno-unknown-pragmas -Wfatal-errors -static -Ofast -DNNPACK -c ./src/matrix.c -o obj/matrix.o\n",
      "gcc -Iinclude/ -Isrc/ -Wall -Wno-unused-result -Wno-unknown-pragmas -Wfatal-errors -static -Ofast -DNNPACK -c ./src/network.c -o obj/network.o\n",
      "gcc -Iinclude/ -Isrc/ -Wall -Wno-unused-result -Wno-unknown-pragmas -Wfatal-errors -static -Ofast -DNNPACK -c ./src/connected_layer.c -o obj/connected_layer.o\n",
      "gcc -Iinclude/ -Isrc/ -Wall -Wno-unused-result -Wno-unknown-pragmas -Wfatal-errors -static -Ofast -DNNPACK -c ./src/cost_layer.c -o obj/cost_layer.o\n",
      "gcc -Iinclude/ -Isrc/ -Wall -Wno-unused-result -Wno-unknown-pragmas -Wfatal-errors -static -Ofast -DNNPACK -c ./src/parser.c -o obj/parser.o\n",
      "gcc -Iinclude/ -Isrc/ -Wall -Wno-unused-result -Wno-unknown-pragmas -Wfatal-errors -static -Ofast -DNNPACK -c ./src/option_list.c -o obj/option_list.o\n",
      "gcc -Iinclude/ -Isrc/ -Wall -Wno-unused-result -Wno-unknown-pragmas -Wfatal-errors -static -Ofast -DNNPACK -c ./src/detection_layer.c -o obj/detection_layer.o\n",
      "gcc -Iinclude/ -Isrc/ -Wall -Wno-unused-result -Wno-unknown-pragmas -Wfatal-errors -static -Ofast -DNNPACK -c ./src/route_layer.c -o obj/route_layer.o\n",
      "gcc -Iinclude/ -Isrc/ -Wall -Wno-unused-result -Wno-unknown-pragmas -Wfatal-errors -static -Ofast -DNNPACK -c ./src/upsample_layer.c -o obj/upsample_layer.o\n",
      "gcc -Iinclude/ -Isrc/ -Wall -Wno-unused-result -Wno-unknown-pragmas -Wfatal-errors -static -Ofast -DNNPACK -c ./src/box.c -o obj/box.o\n",
      "gcc -Iinclude/ -Isrc/ -Wall -Wno-unused-result -Wno-unknown-pragmas -Wfatal-errors -static -Ofast -DNNPACK -c ./src/normalization_layer.c -o obj/normalization_layer.o\n",
      "gcc -Iinclude/ -Isrc/ -Wall -Wno-unused-result -Wno-unknown-pragmas -Wfatal-errors -static -Ofast -DNNPACK -c ./src/avgpool_layer.c -o obj/avgpool_layer.o\n",
      "gcc -Iinclude/ -Isrc/ -Wall -Wno-unused-result -Wno-unknown-pragmas -Wfatal-errors -static -Ofast -DNNPACK -c ./src/layer.c -o obj/layer.o\n",
      "gcc -Iinclude/ -Isrc/ -Wall -Wno-unused-result -Wno-unknown-pragmas -Wfatal-errors -static -Ofast -DNNPACK -c ./src/local_layer.c -o obj/local_layer.o\n",
      "gcc -Iinclude/ -Isrc/ -Wall -Wno-unused-result -Wno-unknown-pragmas -Wfatal-errors -static -Ofast -DNNPACK -c ./src/shortcut_layer.c -o obj/shortcut_layer.o\n",
      "gcc -Iinclude/ -Isrc/ -Wall -Wno-unused-result -Wno-unknown-pragmas -Wfatal-errors -static -Ofast -DNNPACK -c ./src/logistic_layer.c -o obj/logistic_layer.o\n",
      "gcc -Iinclude/ -Isrc/ -Wall -Wno-unused-result -Wno-unknown-pragmas -Wfatal-errors -static -Ofast -DNNPACK -c ./src/activation_layer.c -o obj/activation_layer.o\n",
      "gcc -Iinclude/ -Isrc/ -Wall -Wno-unused-result -Wno-unknown-pragmas -Wfatal-errors -static -Ofast -DNNPACK -c ./src/rnn_layer.c -o obj/rnn_layer.o\n",
      "gcc -Iinclude/ -Isrc/ -Wall -Wno-unused-result -Wno-unknown-pragmas -Wfatal-errors -static -Ofast -DNNPACK -c ./src/gru_layer.c -o obj/gru_layer.o\n",
      "gcc -Iinclude/ -Isrc/ -Wall -Wno-unused-result -Wno-unknown-pragmas -Wfatal-errors -static -Ofast -DNNPACK -c ./src/crnn_layer.c -o obj/crnn_layer.o\n",
      "gcc -Iinclude/ -Isrc/ -Wall -Wno-unused-result -Wno-unknown-pragmas -Wfatal-errors -static -Ofast -DNNPACK -c ./src/demo.c -o obj/demo.o\n",
      "gcc -Iinclude/ -Isrc/ -Wall -Wno-unused-result -Wno-unknown-pragmas -Wfatal-errors -static -Ofast -DNNPACK -c ./src/batchnorm_layer.c -o obj/batchnorm_layer.o\n",
      "gcc -Iinclude/ -Isrc/ -Wall -Wno-unused-result -Wno-unknown-pragmas -Wfatal-errors -static -Ofast -DNNPACK -c ./src/region_layer.c -o obj/region_layer.o\n",
      "gcc -Iinclude/ -Isrc/ -Wall -Wno-unused-result -Wno-unknown-pragmas -Wfatal-errors -static -Ofast -DNNPACK -c ./src/reorg_layer.c -o obj/reorg_layer.o\n",
      "gcc -Iinclude/ -Isrc/ -Wall -Wno-unused-result -Wno-unknown-pragmas -Wfatal-errors -static -Ofast -DNNPACK -c ./src/tree.c -o obj/tree.o\n",
      "gcc -Iinclude/ -Isrc/ -Wall -Wno-unused-result -Wno-unknown-pragmas -Wfatal-errors -static -Ofast -DNNPACK -c ./src/lstm_layer.c -o obj/lstm_layer.o\n",
      "gcc -Iinclude/ -Isrc/ -Wall -Wno-unused-result -Wno-unknown-pragmas -Wfatal-errors -static -Ofast -DNNPACK -c ./src/l2norm_layer.c -o obj/l2norm_layer.o\n",
      "gcc -Iinclude/ -Isrc/ -Wall -Wno-unused-result -Wno-unknown-pragmas -Wfatal-errors -static -Ofast -DNNPACK -c ./src/yolo_layer.c -o obj/yolo_layer.o\n",
      "gcc -Iinclude/ -Isrc/ -Wall -Wno-unused-result -Wno-unknown-pragmas -Wfatal-errors -static -Ofast -DNNPACK -c ./src/iseg_layer.c -o obj/iseg_layer.o\n",
      "g++ -Iinclude/ -Isrc/ -Wall -Wno-unused-result -Wno-unknown-pragmas -Wfatal-errors -static -Ofast -DNNPACK -c ./src/image_opencv.cpp -o obj/image_opencv.o\n",
      "ar rcs libdarknet.a obj/gemm.o obj/utils.o obj/cuda.o obj/deconvolutional_layer.o obj/convolutional_layer.o obj/list.o obj/image.o obj/activations.o obj/im2col.o obj/col2im.o obj/blas.o obj/crop_layer.o obj/dropout_layer.o obj/maxpool_layer.o obj/softmax_layer.o obj/data.o obj/matrix.o obj/network.o obj/connected_layer.o obj/cost_layer.o obj/parser.o obj/option_list.o obj/detection_layer.o obj/route_layer.o obj/upsample_layer.o obj/box.o obj/normalization_layer.o obj/avgpool_layer.o obj/layer.o obj/local_layer.o obj/shortcut_layer.o obj/logistic_layer.o obj/activation_layer.o obj/rnn_layer.o obj/gru_layer.o obj/crnn_layer.o obj/demo.o obj/batchnorm_layer.o obj/region_layer.o obj/reorg_layer.o obj/tree.o obj/lstm_layer.o obj/l2norm_layer.o obj/yolo_layer.o obj/iseg_layer.o obj/image_opencv.o\n",
      "gcc -Iinclude/ -Isrc/ -Wall -Wno-unused-result -Wno-unknown-pragmas -Wfatal-errors -static -Ofast -DNNPACK -c ./examples/captcha.c -o obj/captcha.o\n",
      "gcc -Iinclude/ -Isrc/ -Wall -Wno-unused-result -Wno-unknown-pragmas -Wfatal-errors -static -Ofast -DNNPACK -c ./examples/lsd.c -o obj/lsd.o\n",
      "gcc -Iinclude/ -Isrc/ -Wall -Wno-unused-result -Wno-unknown-pragmas -Wfatal-errors -static -Ofast -DNNPACK -c ./examples/super.c -o obj/super.o\n",
      "gcc -Iinclude/ -Isrc/ -Wall -Wno-unused-result -Wno-unknown-pragmas -Wfatal-errors -static -Ofast -DNNPACK -c ./examples/art.c -o obj/art.o\n",
      "gcc -Iinclude/ -Isrc/ -Wall -Wno-unused-result -Wno-unknown-pragmas -Wfatal-errors -static -Ofast -DNNPACK -c ./examples/tag.c -o obj/tag.o\n",
      "gcc -Iinclude/ -Isrc/ -Wall -Wno-unused-result -Wno-unknown-pragmas -Wfatal-errors -static -Ofast -DNNPACK -c ./examples/cifar.c -o obj/cifar.o\n",
      "gcc -Iinclude/ -Isrc/ -Wall -Wno-unused-result -Wno-unknown-pragmas -Wfatal-errors -static -Ofast -DNNPACK -c ./examples/go.c -o obj/go.o\n",
      "gcc -Iinclude/ -Isrc/ -Wall -Wno-unused-result -Wno-unknown-pragmas -Wfatal-errors -static -Ofast -DNNPACK -c ./examples/rnn.c -o obj/rnn.o\n",
      "gcc -Iinclude/ -Isrc/ -Wall -Wno-unused-result -Wno-unknown-pragmas -Wfatal-errors -static -Ofast -DNNPACK -c ./examples/segmenter.c -o obj/segmenter.o\n",
      "gcc -Iinclude/ -Isrc/ -Wall -Wno-unused-result -Wno-unknown-pragmas -Wfatal-errors -static -Ofast -DNNPACK -c ./examples/regressor.c -o obj/regressor.o\n"
     ]
    },
    {
     "name": "stdout",
     "output_type": "stream",
     "text": [
      "gcc -Iinclude/ -Isrc/ -Wall -Wno-unused-result -Wno-unknown-pragmas -Wfatal-errors -static -Ofast -DNNPACK -c ./examples/classifier.c -o obj/classifier.o\n",
      "gcc -Iinclude/ -Isrc/ -Wall -Wno-unused-result -Wno-unknown-pragmas -Wfatal-errors -static -Ofast -DNNPACK -c ./examples/coco.c -o obj/coco.o\n",
      "gcc -Iinclude/ -Isrc/ -Wall -Wno-unused-result -Wno-unknown-pragmas -Wfatal-errors -static -Ofast -DNNPACK -c ./examples/yolo.c -o obj/yolo.o\n",
      "gcc -Iinclude/ -Isrc/ -Wall -Wno-unused-result -Wno-unknown-pragmas -Wfatal-errors -static -Ofast -DNNPACK -c ./examples/detector.c -o obj/detector.o\n"
     ]
    },
    {
     "name": "stderr",
     "output_type": "stream",
     "text": [
      "./examples/detector.c: In function ‘test_detector’:\n",
      "./examples/detector.c:585:24: warning: ‘return’ with no value, in function returning non-void [-Wreturn-type]\n",
      "  585 |             if(!input) return;\n",
      "      |                        ^~~~~~\n",
      "./examples/detector.c:562:7: note: declared here\n",
      "  562 | float test_detector(char *datacfg, char *cfgfile, char *weightfile, char *filename, float thresh, float hier_thresh, char *outfile, int fullscreen)\n",
      "      |       ^~~~~~~~~~~~~\n"
     ]
    },
    {
     "name": "stdout",
     "output_type": "stream",
     "text": [
      "gcc -Iinclude/ -Isrc/ -Wall -Wno-unused-result -Wno-unknown-pragmas -Wfatal-errors -static -Ofast -DNNPACK -c ./examples/nightmare.c -o obj/nightmare.o\n",
      "gcc -Iinclude/ -Isrc/ -Wall -Wno-unused-result -Wno-unknown-pragmas -Wfatal-errors -static -Ofast -DNNPACK -c ./examples/instance-segmenter.c -o obj/instance-segmenter.o\n",
      "gcc -Iinclude/ -Isrc/ -Wall -Wno-unused-result -Wno-unknown-pragmas -Wfatal-errors -static -Ofast -DNNPACK -c ./examples/darknet.c -o obj/darknet.o\n",
      "gcc -Iinclude/ -Isrc/ -Wall -Wno-unused-result -Wno-unknown-pragmas -Wfatal-errors -static -Ofast -DNNPACK -c ./examples/test.c -o obj/test.o\n",
      "gcc -Iinclude/ -Isrc/ -Wall -Wno-unused-result -Wno-unknown-pragmas -Wfatal-errors -static -Ofast -DNNPACK obj/captcha.o obj/lsd.o obj/super.o obj/art.o obj/tag.o obj/cifar.o obj/go.o obj/rnn.o obj/segmenter.o obj/regressor.o obj/classifier.o obj/coco.o obj/yolo.o obj/detector.o obj/nightmare.o obj/instance-segmenter.o obj/darknet.o obj/test.o libdarknet.a -o darknet -lm -pthread -l:libnnpack.a -l:libpthreadpool.a -l:libcpuinfo.a -l:libclog.a libdarknet.a\n",
      "/home/anton/Master/tools/gem5/gem5-Arm/build/X86/gem5.opt --outdir=./bench/build-X86-gem5-opt/NAN/WT/256MB/ /home/anton/Master/tools/gem5/gem5-Arm/configs/example/se.py --cpu-type=TimingSimpleCPU --cpu-clock=2GHz --l1d_size=64kB --l1i_size=16kB --caches --output=stdout.txt  --errout=stderr.txt --l2_size=256MB --l2cache -c \"./darknet\" --options \"\"\n",
      "\n",
      "\n"
     ]
    },
    {
     "name": "stderr",
     "output_type": "stream",
     "text": [
      "warn: The `get_runtime_isa` function is deprecated. Please migrate away from using this function.\n",
      "warn: The `get_runtime_isa` function is deprecated. Please migrate away from using this function.\n",
      "warn: failed to generate dot output from ./bench/build-X86-gem5-opt/NAN/WT/256MB/config.dot\n",
      "build/X86/mem/dram_interface.cc:690: warn: DRAM device capacity (8192 Mbytes) does not match the address range assigned (512 Mbytes)\n"
     ]
    },
    {
     "name": "stdout",
     "output_type": "stream",
     "text": [
      "Global frequency set at 1000000000000 ticks per second\n"
     ]
    },
    {
     "name": "stderr",
     "output_type": "stream",
     "text": [
      "build/X86/base/remote_gdb.cc:416: warn: Sockets disabled, not accepting gdb connections\n",
      "build/X86/sim/simulate.cc:192: info: Entering event queue @ 0.  Starting simulation...\n",
      "build/X86/sim/syscall_emul.cc:74: warn: ignoring syscall set_robust_list(...)\n",
      "build/X86/sim/syscall_emul.cc:74: warn: ignoring syscall rseq(...)\n",
      "build/X86/sim/mem_state.cc:443: info: Increasing stack size by one page.\n",
      "build/X86/sim/syscall_emul.cc:74: warn: ignoring syscall mprotect(...)\n",
      "build/X86/arch/x86/cpuid.cc:180: warn: x86 cpuid family 0x0000: unimplemented function 2\n",
      "build/X86/sim/mem_state.cc:443: info: Increasing stack size by one page.\n"
     ]
    },
    {
     "name": "stdout",
     "output_type": "stream",
     "text": [
      "gem5 Simulator System.  https://www.gem5.org\n",
      "gem5 is copyrighted software; use the --copyright option for details.\n",
      "\n",
      "gem5 version 22.1.0.0\n",
      "gem5 compiled Jan 24 2023 19:03:31\n",
      "gem5 started Feb 12 2023 17:00:11\n",
      "gem5 executing on anton-mint, pid 15830\n",
      "command line: /home/anton/Master/tools/gem5/gem5-Arm/build/X86/gem5.opt --outdir=./bench/build-X86-gem5-opt/NAN/WT/256MB/ /home/anton/Master/tools/gem5/gem5-Arm/configs/example/se.py --cpu-type=TimingSimpleCPU --cpu-clock=2GHz --l1d_size=64kB --l1i_size=16kB --caches --output=stdout.txt --errout=stderr.txt --l2_size=256MB --l2cache -c ./darknet --options ''\n",
      "\n",
      "info: Standard input is not a terminal, disabling listeners.\n",
      "**** REAL SIMULATION ****\n",
      "Exiting @ tick 177698500 because exiting with last active thread context\n",
      "/home/anton/Master/tools/gem5/gem5-Arm/build/X86/gem5.opt --outdir=./bench/build-X86-gem5-opt/NAN/WT/64MB/ /home/anton/Master/tools/gem5/gem5-Arm/configs/example/se.py --cpu-type=TimingSimpleCPU --cpu-clock=2GHz --l1d_size=64kB --l1i_size=16kB --caches --output=stdout.txt  --errout=stderr.txt --l2_size=64MB --l2cache -c \"./darknet\" --options \"\"\n",
      "\n",
      "\n"
     ]
    },
    {
     "name": "stderr",
     "output_type": "stream",
     "text": [
      "warn: The `get_runtime_isa` function is deprecated. Please migrate away from using this function.\n",
      "warn: The `get_runtime_isa` function is deprecated. Please migrate away from using this function.\n",
      "warn: failed to generate dot output from ./bench/build-X86-gem5-opt/NAN/WT/64MB/config.dot\n",
      "build/X86/mem/dram_interface.cc:690: warn: DRAM device capacity (8192 Mbytes) does not match the address range assigned (512 Mbytes)\n"
     ]
    },
    {
     "name": "stdout",
     "output_type": "stream",
     "text": [
      "Global frequency set at 1000000000000 ticks per second\n"
     ]
    },
    {
     "name": "stderr",
     "output_type": "stream",
     "text": [
      "build/X86/base/remote_gdb.cc:416: warn: Sockets disabled, not accepting gdb connections\n",
      "build/X86/sim/simulate.cc:192: info: Entering event queue @ 0.  Starting simulation...\n",
      "build/X86/sim/syscall_emul.cc:74: warn: ignoring syscall set_robust_list(...)\n",
      "build/X86/sim/syscall_emul.cc:74: warn: ignoring syscall rseq(...)\n",
      "build/X86/sim/mem_state.cc:443: info: Increasing stack size by one page.\n",
      "build/X86/sim/syscall_emul.cc:74: warn: ignoring syscall mprotect(...)\n",
      "build/X86/arch/x86/cpuid.cc:180: warn: x86 cpuid family 0x0000: unimplemented function 2\n",
      "build/X86/sim/mem_state.cc:443: info: Increasing stack size by one page.\n"
     ]
    },
    {
     "name": "stdout",
     "output_type": "stream",
     "text": [
      "gem5 Simulator System.  https://www.gem5.org\n",
      "gem5 is copyrighted software; use the --copyright option for details.\n",
      "\n",
      "gem5 version 22.1.0.0\n",
      "gem5 compiled Jan 24 2023 19:03:31\n",
      "gem5 started Feb 12 2023 17:00:13\n",
      "gem5 executing on anton-mint, pid 15833\n",
      "command line: /home/anton/Master/tools/gem5/gem5-Arm/build/X86/gem5.opt --outdir=./bench/build-X86-gem5-opt/NAN/WT/64MB/ /home/anton/Master/tools/gem5/gem5-Arm/configs/example/se.py --cpu-type=TimingSimpleCPU --cpu-clock=2GHz --l1d_size=64kB --l1i_size=16kB --caches --output=stdout.txt --errout=stderr.txt --l2_size=64MB --l2cache -c ./darknet --options ''\n",
      "\n",
      "info: Standard input is not a terminal, disabling listeners.\n",
      "**** REAL SIMULATION ****\n",
      "Exiting @ tick 177698500 because exiting with last active thread context\n",
      "/home/anton/Master/tools/gem5/gem5-Arm/build/X86/gem5.opt --outdir=./bench/build-X86-gem5-opt/NAN/WT/8MB/ /home/anton/Master/tools/gem5/gem5-Arm/configs/example/se.py --cpu-type=TimingSimpleCPU --cpu-clock=2GHz --l1d_size=64kB --l1i_size=16kB --caches --output=stdout.txt  --errout=stderr.txt --l2_size=8MB --l2cache -c \"./darknet\" --options \"\"\n",
      "\n",
      "\n"
     ]
    },
    {
     "name": "stderr",
     "output_type": "stream",
     "text": [
      "warn: The `get_runtime_isa` function is deprecated. Please migrate away from using this function.\n",
      "warn: The `get_runtime_isa` function is deprecated. Please migrate away from using this function.\n",
      "warn: failed to generate dot output from ./bench/build-X86-gem5-opt/NAN/WT/8MB/config.dot\n",
      "build/X86/mem/dram_interface.cc:690: warn: DRAM device capacity (8192 Mbytes) does not match the address range assigned (512 Mbytes)\n"
     ]
    },
    {
     "name": "stdout",
     "output_type": "stream",
     "text": [
      "Global frequency set at 1000000000000 ticks per second\n"
     ]
    },
    {
     "name": "stderr",
     "output_type": "stream",
     "text": [
      "build/X86/base/remote_gdb.cc:416: warn: Sockets disabled, not accepting gdb connections\n",
      "build/X86/sim/simulate.cc:192: info: Entering event queue @ 0.  Starting simulation...\n",
      "build/X86/sim/syscall_emul.cc:74: warn: ignoring syscall set_robust_list(...)\n",
      "build/X86/sim/syscall_emul.cc:74: warn: ignoring syscall rseq(...)\n",
      "build/X86/sim/mem_state.cc:443: info: Increasing stack size by one page.\n",
      "build/X86/sim/syscall_emul.cc:74: warn: ignoring syscall mprotect(...)\n",
      "build/X86/arch/x86/cpuid.cc:180: warn: x86 cpuid family 0x0000: unimplemented function 2\n",
      "build/X86/sim/mem_state.cc:443: info: Increasing stack size by one page.\n"
     ]
    },
    {
     "name": "stdout",
     "output_type": "stream",
     "text": [
      "gem5 Simulator System.  https://www.gem5.org\n",
      "gem5 is copyrighted software; use the --copyright option for details.\n",
      "\n",
      "gem5 version 22.1.0.0\n",
      "gem5 compiled Jan 24 2023 19:03:31\n",
      "gem5 started Feb 12 2023 17:00:14\n",
      "gem5 executing on anton-mint, pid 15836\n",
      "command line: /home/anton/Master/tools/gem5/gem5-Arm/build/X86/gem5.opt --outdir=./bench/build-X86-gem5-opt/NAN/WT/8MB/ /home/anton/Master/tools/gem5/gem5-Arm/configs/example/se.py --cpu-type=TimingSimpleCPU --cpu-clock=2GHz --l1d_size=64kB --l1i_size=16kB --caches --output=stdout.txt --errout=stderr.txt --l2_size=8MB --l2cache -c ./darknet --options ''\n",
      "\n",
      "info: Standard input is not a terminal, disabling listeners.\n",
      "**** REAL SIMULATION ****\n",
      "Exiting @ tick 177698500 because exiting with last active thread context\n",
      "/home/anton/Master/tools/gem5/gem5-Arm/build/X86/gem5.opt --outdir=./bench/build-X86-gem5-opt/NAN/WT/1MB/ /home/anton/Master/tools/gem5/gem5-Arm/configs/example/se.py --cpu-type=TimingSimpleCPU --cpu-clock=2GHz --l1d_size=64kB --l1i_size=16kB --caches --output=stdout.txt  --errout=stderr.txt --l2_size=1MB --l2cache -c \"./darknet\" --options \"\"\n",
      "\n",
      "\n"
     ]
    },
    {
     "name": "stderr",
     "output_type": "stream",
     "text": [
      "warn: The `get_runtime_isa` function is deprecated. Please migrate away from using this function.\n",
      "warn: The `get_runtime_isa` function is deprecated. Please migrate away from using this function.\n",
      "warn: failed to generate dot output from ./bench/build-X86-gem5-opt/NAN/WT/1MB/config.dot\n",
      "build/X86/mem/dram_interface.cc:690: warn: DRAM device capacity (8192 Mbytes) does not match the address range assigned (512 Mbytes)\n",
      "build/X86/base/remote_gdb.cc:416: warn: Sockets disabled, not accepting gdb connections\n"
     ]
    },
    {
     "name": "stdout",
     "output_type": "stream",
     "text": [
      "Global frequency set at 1000000000000 ticks per second\n",
      "gem5 Simulator System.  https://www.gem5.org\n",
      "gem5 is copyrighted software; use the --copyright option for details.\n",
      "\n",
      "gem5 version 22.1.0.0\n",
      "gem5 compiled Jan 24 2023 19:03:31\n",
      "gem5 started Feb 12 2023 17:00:15\n",
      "gem5 executing on anton-mint, pid 15839\n",
      "command line: /home/anton/Master/tools/gem5/gem5-Arm/build/X86/gem5.opt --outdir=./bench/build-X86-gem5-opt/NAN/WT/1MB/ /home/anton/Master/tools/gem5/gem5-Arm/configs/example/se.py --cpu-type=TimingSimpleCPU --cpu-clock=2GHz --l1d_size=64kB --l1i_size=16kB --caches --output=stdout.txt --errout=stderr.txt --l2_size=1MB --l2cache -c ./darknet --options ''\n",
      "\n",
      "info: Standard input is not a terminal, disabling listeners.\n",
      "**** REAL SIMULATION ****\n"
     ]
    },
    {
     "name": "stderr",
     "output_type": "stream",
     "text": [
      "build/X86/sim/simulate.cc:192: info: Entering event queue @ 0.  Starting simulation...\n",
      "build/X86/sim/syscall_emul.cc:74: warn: ignoring syscall set_robust_list(...)\n",
      "build/X86/sim/syscall_emul.cc:74: warn: ignoring syscall rseq(...)\n",
      "build/X86/sim/mem_state.cc:443: info: Increasing stack size by one page.\n",
      "build/X86/sim/syscall_emul.cc:74: warn: ignoring syscall mprotect(...)\n",
      "build/X86/arch/x86/cpuid.cc:180: warn: x86 cpuid family 0x0000: unimplemented function 2\n",
      "build/X86/sim/mem_state.cc:443: info: Increasing stack size by one page.\n"
     ]
    },
    {
     "name": "stdout",
     "output_type": "stream",
     "text": [
      "Exiting @ tick 177698500 because exiting with last active thread context\n",
      "['./bench/build-X86-gem5-opt/NAN/WT/256MB/', './bench/build-X86-gem5-opt/NAN/WT/64MB/', './bench/build-X86-gem5-opt/NAN/WT/8MB/', './bench/build-X86-gem5-opt/NAN/WT/1MB/']\n",
      "reading data from file:  ./bench/build-X86-gem5-opt/NAN/WT/256MB/stats.txt \n",
      " \n",
      "reading data from file:  ./bench/build-X86-gem5-opt/NAN/WT/64MB/stats.txt \n",
      " \n",
      "reading data from file:  ./bench/build-X86-gem5-opt/NAN/WT/8MB/stats.txt \n",
      " \n",
      "reading data from file:  ./bench/build-X86-gem5-opt/NAN/WT/1MB/stats.txt \n",
      " \n",
      "[[('simTicks', 177698500)], [('simTicks', 177698500)], [('simTicks', 177698500)], [('simTicks', 177698500)]]\n",
      "[0, 0, 0, 0]\n",
      "['1MB', '8MB', '64MB', '256MB']\n"
     ]
    },
    {
     "data": {
      "image/png": "[encoded data removed]",
      "text/plain": [
       "<Figure size 640x480 with 1 Axes>"
      ]
     },
     "metadata": {},
     "output_type": "display_data"
    }
   ],
   "source": [
    "wtResult = runandPlot(Program.NNPACK_WT,yolo ,chaceOptions, chaceSizes, setupnppticks_npp)"
   ]
  },
  {
   "cell_type": "code",
   "execution_count": 32,
   "id": "8315b54a",
   "metadata": {},
   "outputs": [
    {
     "name": "stdout",
     "output_type": "stream",
     "text": [
      "reading data from file:  ./bench/build-X86-gem5-opt/NAN/WT/256MB/stats.txt \n",
      " \n",
      "reading data from file:  ./bench/build-X86-gem5-opt/NAN/WT/64MB/stats.txt \n",
      " \n",
      "reading data from file:  ./bench/build-X86-gem5-opt/NAN/WT/8MB/stats.txt \n",
      " \n",
      "reading data from file:  ./bench/build-X86-gem5-opt/NAN/WT/1MB/stats.txt \n",
      " \n",
      "[0, 0, 0, 0]\n",
      "['256MB', '64MB', '8MB', '1MB']\n"
     ]
    },
    {
     "data": {
      "image/png": "[encoded data removed]",
      "text/plain": [
       "<Figure size 640x480 with 1 Axes>"
      ]
     },
     "metadata": {},
     "output_type": "display_data"
    }
   ],
   "source": [
    "readandplot(wtResult[0],chaceSizes,setupnppticks_npp)"
   ]
  }
 ],
 "metadata": {
  "kernelspec": {
   "display_name": "Python 3 (ipykernel)",
   "language": "python",
   "name": "python3"
  },
  "language_info": {
   "codemirror_mode": {
    "name": "ipython",
    "version": 3
   },
   "file_extension": ".py",
   "mimetype": "text/x-python",
   "name": "python",
   "nbconvert_exporter": "python",
   "pygments_lexer": "ipython3",
   "version": "3.10.6"
  }
 },
 "nbformat": 4,
 "nbformat_minor": 5
}
