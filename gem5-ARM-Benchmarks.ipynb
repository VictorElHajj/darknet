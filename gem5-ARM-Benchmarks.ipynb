{
 "cells": [
  {
   "cell_type": "markdown",
   "id": "01f08edd",
   "metadata": {},
   "source": [
    "# GEM5 ARM"
   ]
  },
  {
   "cell_type": "code",
   "execution_count": 1,
   "id": "dacd2a99",
   "metadata": {},
   "outputs": [],
   "source": [
    "import os\n",
    "import numpy as np\n",
    "import matplotlib.pyplot as plt\n",
    "from enum import Enum"
   ]
  },
  {
   "cell_type": "markdown",
   "id": "fba9a540",
   "metadata": {},
   "source": [
    "### vars"
   ]
  },
  {
   "cell_type": "code",
   "execution_count": 2,
   "id": "a932c2a7",
   "metadata": {},
   "outputs": [],
   "source": [
    "#gem5Path = '/home/anton/Master/tools/gem5/gem5-Arm/' \n",
    "#build = 'build/X86/gem5.opt'\n",
    "gem5Path = '/home/fft_vec/gem5/'\n",
    "build = 'build/ARM/gem5.opt'\n",
    "\n",
    "gem5 = gem5Path + build\n",
    "\n",
    "baseDir = './bench/'  + build.replace('.', '-').replace('/','-') + '/'"
   ]
  },
  {
   "cell_type": "code",
   "execution_count": 3,
   "id": "62c4a9a4",
   "metadata": {},
   "outputs": [],
   "source": [
    "config = gem5Path + 'configs/example/se.py'"
   ]
  },
  {
   "cell_type": "code",
   "execution_count": 4,
   "id": "373de66c",
   "metadata": {},
   "outputs": [],
   "source": [
    "defultOption = \"--cpu-type=TimingSimpleCPU --cpu-clock=2GHz --l1d_size=64kB --l1i_size=16kB --caches\"\n",
    "defultOption = \"--cpu-clock=2GHz --l1d_size=64kB --l1i_size=16kB --caches\""
   ]
  },
  {
   "cell_type": "code",
   "execution_count": 50,
   "id": "be40e636",
   "metadata": {},
   "outputs": [],
   "source": [
    "darknet = './darknet'\n",
    "#yolo = 'bench_yolo-20l'\n",
    "#yolo = 'bench_yolo'\n",
    "yolo = 'bench_yolo-tiny'\n",
    "#vgg = 'todo' \n",
    "#darknet19 = 'bench_darknet19'\n",
    "#test = \"\""
   ]
  },
  {
   "cell_type": "code",
   "execution_count": 6,
   "id": "845e9659",
   "metadata": {},
   "outputs": [],
   "source": [
    "armCompileOptions = 'CC=aarch64-none-linux-gnu-gcc CPP=aarch64-none-linux-gnu-g++' "
   ]
  },
  {
   "cell_type": "code",
   "execution_count": 7,
   "id": "b956401e",
   "metadata": {},
   "outputs": [],
   "source": [
    "class Program(Enum):\n",
    "    BASELINE = 0\n",
    "    NNPACK_FT8 = 1\n",
    "    NO_PREDICT = 2\n",
    "    NO_PREDICT_NPP = 3\n",
    "    NNPACK_GEMM = 4\n",
    "    NNPACK_FT16 = 5\n",
    "    NNPACK_WT = 6"
   ]
  },
  {
   "cell_type": "markdown",
   "id": "a1d28d4d",
   "metadata": {},
   "source": [
    "## utils"
   ]
  },
  {
   "cell_type": "code",
   "execution_count": 39,
   "id": "b35e75f0",
   "metadata": {},
   "outputs": [],
   "source": [
    "def make(program):\n",
    "    \n",
    "    values = \"\"\n",
    "    \n",
    "    match program:\n",
    "        case Program.BASELINE: values = 'NNPACK=0'        \n",
    "        case Program.NNPACK_FT8:   values = 'NNPACK=1 FT8=1'\n",
    "        case Program.NNPACK_FT16:   values = 'NNPACK=1 FT16=1'\n",
    "        case Program.NNPACK_WT:   values = 'NNPACK=1 WT=1'\n",
    "        case Program.NNPACK_GEMM: values = 'NNPACK=1 GEMM=1' \n",
    "        case Program.NO_PREDICT_NPP: values = 'NNPACK=1 PREDICT=0 FT8=1' \n",
    "        case Program.NO_PREDICT: values = 'NNPACK=0 PREDICT=0' \n",
    "        \n",
    "    cmd = 'make clean; make'+ ' ' + values + ' ' + armCompileOptions\n",
    "    print('\\n',cmd,'\\n')\n",
    "    os.system(cmd) "
   ]
  },
  {
   "cell_type": "code",
   "execution_count": 9,
   "id": "b8d96f05",
   "metadata": {},
   "outputs": [],
   "source": [
    "def optionsToSubDir(benchmark, program, tag):\n",
    "    \n",
    "    if benchmark == '':\n",
    "        benchmark = 'NAN' \n",
    "    \n",
    "    programStr = 'NAN'\n",
    "    \n",
    "    match program:\n",
    "        case Program.BASELINE: programStr = 'BASELINE'        \n",
    "        case Program.NNPACK_FT8:   programStr = 'FT8'\n",
    "        case Program.NNPACK_FT16:   programStr = 'FT16'\n",
    "        case Program.NNPACK_WT:   programStr = 'WT'\n",
    "        case Program.NNPACK_GEMM: programStr = 'GEMM' \n",
    "        case Program.NO_PREDICT_NPP: programStr = 'NO_PREDICT_NPP' \n",
    "        case Program.NO_PREDICT: programStr = 'NO_PREDICT' \n",
    "\n",
    "    path = '/'.join([benchmark,programStr,tag]) + '/'\n",
    "    \n",
    "    return path"
   ]
  },
  {
   "cell_type": "code",
   "execution_count": 10,
   "id": "e749436e",
   "metadata": {},
   "outputs": [],
   "source": [
    "def cyclesToSetup(program,option,benchmark_to_run,tag):\n",
    "    make(program);\n",
    "    out = bench(benchmark_to_run,option,program, tag)\n",
    "    print(out)\n",
    "    #data=[]\n",
    "    data = readData([out])[0]\n",
    "    print(data)\n",
    "    return (out, data)\n",
    "\n",
    "def cyclesOptions(program,options,benchmark_to_run,tags):  \n",
    "    data = []\n",
    "    out = []\n",
    "    for i in range(len(options)):\n",
    "        result = cyclesToSetup(program,options[i],benchmark_to_run,tags[i])\n",
    "        data.append(result[0])\n",
    "        out.append(result[1])\n",
    "        \n",
    "    return (out,data)\n",
    "    \n",
    "\n",
    "#def cyclesToSetup_baseline(benchmark_to_run):\n",
    "#    return cyclesToSetup(Program.NO_PREDICT,benchmark_to_run,'setup_baseline')\n",
    "\n",
    "def cyclesToSetup_npp(benchmark_to_run,options,tags):\n",
    "    return cyclesOptions(Program.NO_PREDICT_NPP,options,benchmark_to_run,tags)"
   ]
  },
  {
   "cell_type": "code",
   "execution_count": 11,
   "id": "9be48141",
   "metadata": {},
   "outputs": [],
   "source": [
    "def readData(Dirs):\n",
    "    data = []\n",
    "    names = ['simTicks']\n",
    "    for Dir in Dirs: \n",
    "    \n",
    "        result = []\n",
    "    \n",
    "        file = Dir+'stats.txt'\n",
    "        print(\"reading data from file: \",file,\"\\n \")\n",
    "        with open(file, 'r') as fp:\n",
    "            lines = fp.readlines()\n",
    "            for row in lines:\n",
    "                for name in names:\n",
    "                    if row.find(name) == 0:\n",
    "                        value = int(row.split()[1])\n",
    "                        result.append((name,value))\n",
    "    \n",
    "        data.append(result)                \n",
    "        \n",
    "    return data"
   ]
  },
  {
   "cell_type": "code",
   "execution_count": 12,
   "id": "1e538f5a",
   "metadata": {},
   "outputs": [],
   "source": [
    "def bench(benchmark, options, program, tag):\n",
    "\n",
    "    outDir =  baseDir + optionsToSubDir(benchmark, program, tag)\n",
    "    out = '--outdir='+ outDir\n",
    "    \n",
    "    binary = '-c ' + '\"'+ darknet  + '\"' + ' --options ' + '\"' + benchmark + '\"'\n",
    "    \n",
    "    cmd = ' '.join([gem5,out,config,defultOption,'--output=stdout.txt  --errout=stderr.txt',options,binary])\n",
    "   \n",
    "    print(cmd + '\\n\\n')\n",
    "    \n",
    "    os.system(cmd)\n",
    "    \n",
    "    return(outDir)"
   ]
  },
  {
   "cell_type": "code",
   "execution_count": 13,
   "id": "f82d8104",
   "metadata": {},
   "outputs": [],
   "source": [
    "def run_benchmark(benchmark, options, nnpack, tag):\n",
    "    out = bench(benchmark, options, nnpack, tag)\n",
    "    return(out)"
   ]
  },
  {
   "cell_type": "code",
   "execution_count": 14,
   "id": "c750a6e8",
   "metadata": {},
   "outputs": [],
   "source": [
    "def benchOptions(benchmark, optionsList, program, tags):\n",
    "    \n",
    "    n = len(optionsList)\n",
    "    \n",
    "    out = [None] * n\n",
    "    \n",
    "    for i in range(n):\n",
    "        out[i] = run_benchmark(benchmark, optionsList[i], program, tags[i])\n",
    "        \n",
    "    return(out)"
   ]
  },
  {
   "cell_type": "code",
   "execution_count": 15,
   "id": "17316b87",
   "metadata": {},
   "outputs": [],
   "source": [
    "def benchOptionsMatrix(benchmark, options1, options2, nnpack, tags1, tags2): #to bench vector and l2 chace\n",
    "    options =[opt1 + ' ' + opt2 for opt1 in options1 for opt2 in options2]\n",
    "    tags = [tag1 + '_' + tag2 for tag1 in tags1 for tag2 in tags2]\n",
    "    \n",
    "    out = benchOptions(benchmark, options, nnpack, tags) \n",
    "    return(out)"
   ]
  },
  {
   "cell_type": "markdown",
   "id": "64896ebd",
   "metadata": {},
   "source": [
    "### util graphs"
   ]
  },
  {
   "cell_type": "code",
   "execution_count": 16,
   "id": "ffae44a3",
   "metadata": {},
   "outputs": [],
   "source": [
    "def plotChaceVsCycle(chaces,data, setupcosts):\n",
    "    cycles=[]\n",
    "    print(\"hej--..: \", setupcosts)\n",
    "    print(\"då--..: \", data)\n",
    "    for i in range(len(data)):\n",
    "        cycles.append(data[i][0][1] - setupcosts[i][0][1])\n",
    "    \n",
    "    fig = plt.figure()\n",
    "    ax = fig.add_axes([0,0,1,1])\n",
    "    print(cycles)\n",
    "    print(chaces)\n",
    "    ax.bar(chaces,cycles)\n",
    "    plt.show()\n",
    "    \n",
    "    "
   ]
  },
  {
   "cell_type": "code",
   "execution_count": 17,
   "id": "4a8c6e03",
   "metadata": {},
   "outputs": [],
   "source": [
    "def runandPlot(program,benchmark_to_run ,options, tags, setup_costs ):\n",
    "    make(program)\n",
    "    out = benchOptions(benchmark_to_run,options,program,tags)\n",
    "    print(out)\n",
    "    \n",
    "    data = readData(out)\n",
    "    print(data)\n",
    "    print(setup_costs)\n",
    "    \n",
    "    plotChaceVsCycle(tags[::-1],data[::-1], setup_costs[0][::-1])\n",
    "    return(out,data)\n",
    "    "
   ]
  },
  {
   "cell_type": "code",
   "execution_count": 18,
   "id": "2f588e3e",
   "metadata": {},
   "outputs": [],
   "source": [
    "def readandplot(dirs,x_line,setupticks):\n",
    "    y_line = readData(dirs)\n",
    "    ms = readData(setupticks[1])\n",
    "    plotChaceVsCycle(x_line,y_line, ms)\n",
    "    "
   ]
  },
  {
   "cell_type": "markdown",
   "id": "a07b4619",
   "metadata": {},
   "source": [
    "# X86 YOLO and L2 chace"
   ]
  },
  {
   "cell_type": "code",
   "execution_count": 19,
   "id": "a100c7b5",
   "metadata": {},
   "outputs": [],
   "source": [
    "#yolo = ''"
   ]
  },
  {
   "cell_type": "code",
   "execution_count": 30,
   "id": "edae7335",
   "metadata": {},
   "outputs": [
    {
     "data": {
      "text/plain": [
       "['--l2_size=256MB --l2cache',\n",
       " '--l2_size=64MB --l2cache',\n",
       " '--l2_size=8MB --l2cache']"
      ]
     },
     "execution_count": 30,
     "metadata": {},
     "output_type": "execute_result"
    }
   ],
   "source": [
    "chaceSizes = ['256MB','64MB','8MB','1MB']\n",
    "chaceSizes = ['256MB','64MB','8MB']\n",
    "chaceOptions = ['--l2_size=' + size + ' --l2cache' for size in chaceSizes]\n",
    "chaceOptions"
   ]
  },
  {
   "cell_type": "code",
   "execution_count": 51,
   "id": "7d8a54f5",
   "metadata": {},
   "outputs": [
    {
     "name": "stdout",
     "output_type": "stream",
     "text": [
      "\n",
      " make clean; make NNPACK=1 PREDICT=0 FT8=1 CC=aarch64-none-linux-gnu-gcc CPP=aarch64-none-linux-gnu-g++ \n",
      "\n",
      "rm -rf ./obj/gemm.o ./obj/utils.o ./obj/cuda.o ./obj/deconvolutional_layer.o ./obj/convolutional_layer.o ./obj/list.o ./obj/image.o ./obj/activations.o ./obj/im2col.o ./obj/col2im.o ./obj/blas.o ./obj/crop_layer.o ./obj/dropout_layer.o ./obj/maxpool_layer.o ./obj/softmax_layer.o ./obj/data.o ./obj/matrix.o ./obj/network.o ./obj/connected_layer.o ./obj/cost_layer.o ./obj/parser.o ./obj/option_list.o ./obj/detection_layer.o ./obj/route_layer.o ./obj/upsample_layer.o ./obj/box.o ./obj/normalization_layer.o ./obj/avgpool_layer.o ./obj/layer.o ./obj/local_layer.o ./obj/shortcut_layer.o ./obj/logistic_layer.o ./obj/activation_layer.o ./obj/rnn_layer.o ./obj/gru_layer.o ./obj/crnn_layer.o ./obj/demo.o ./obj/batchnorm_layer.o ./obj/region_layer.o ./obj/reorg_layer.o ./obj/tree.o ./obj/lstm_layer.o ./obj/l2norm_layer.o ./obj/yolo_layer.o ./obj/iseg_layer.o ./obj/image_opencv.o libdarknet.so libdarknet.a darknet ./obj/captcha.o ./obj/lsd.o ./obj/super.o ./obj/art.o ./obj/tag.o ./obj/cifar.o ./obj/go.o ./obj/rnn.o ./obj/segmenter.o ./obj/regressor.o ./obj/classifier.o ./obj/coco.o ./obj/yolo.o ./obj/detector.o ./obj/nightmare.o ./obj/instance-segmenter.o ./obj/darknet.o ./obj/test.o ./obj//*\n",
      "NNPACK=1\n",
      "PREDICT=0\n",
      "FT8=1\n",
      "CPP=aarch64-none-linux-gnu-g++\n",
      "CC=aarch64-none-linux-gnu-gcc\n",
      "aarch64-none-linux-gnu-gcc -Iinclude/ -Isrc/ -Wall -Wno-unused-result -Wno-unknown-pragmas -Wfatal-errors -static -Ofast -fno-tree-vectorize -DNNPACK -c ./src/gemm.c -o obj/gemm.o\n",
      "aarch64-none-linux-gnu-gcc -Iinclude/ -Isrc/ -Wall -Wno-unused-result -Wno-unknown-pragmas -Wfatal-errors -static -Ofast -fno-tree-vectorize -DNNPACK -c ./src/utils.c -o obj/utils.o\n"
     ]
    },
    {
     "name": "stderr",
     "output_type": "stream",
     "text": [
      "In function ‘copy_string’,\n",
      "    inlined from ‘basecfg’ at ./src/utils.c:187:9:\n",
      "./src/utils.c:426:5: warning: ‘strncpy’ specified bound depends on the length of the source argument [-Wstringop-overflow=]\n",
      "  426 |     strncpy(copy, s, strlen(s)+1);\n",
      "      |     ^~~~~~~~~~~~~~~~~~~~~~~~~~~~~\n",
      "./src/utils.c: In function ‘basecfg’:\n",
      "./src/utils.c:426:22: note: length computed here\n",
      "  426 |     strncpy(copy, s, strlen(s)+1);\n",
      "      |                      ^~~~~~~~~\n",
      "./src/utils.c: In function ‘copy_string’:\n",
      "./src/utils.c:426:5: warning: ‘strncpy’ specified bound depends on the length of the source argument [-Wstringop-overflow=]\n",
      "  426 |     strncpy(copy, s, strlen(s)+1);\n",
      "      |     ^~~~~~~~~~~~~~~~~~~~~~~~~~~~~\n",
      "./src/utils.c:426:22: note: length computed here\n",
      "  426 |     strncpy(copy, s, strlen(s)+1);\n",
      "      |                      ^~~~~~~~~\n",
      "In function ‘copy_string’,\n",
      "    inlined from ‘parse_csv_line’ at ./src/utils.c:439:28:\n",
      "./src/utils.c:426:5: warning: ‘strncpy’ specified bound depends on the length of the source argument [-Wstringop-overflow=]\n",
      "  426 |     strncpy(copy, s, strlen(s)+1);\n",
      "      |     ^~~~~~~~~~~~~~~~~~~~~~~~~~~~~\n",
      "./src/utils.c: In function ‘parse_csv_line’:\n",
      "./src/utils.c:426:22: note: length computed here\n",
      "  426 |     strncpy(copy, s, strlen(s)+1);\n",
      "      |                      ^~~~~~~~~\n",
      "In function ‘copy_string’,\n",
      "    inlined from ‘parse_csv_line’ at ./src/utils.c:443:20:\n",
      "./src/utils.c:426:5: warning: ‘strncpy’ specified bound depends on the length of the source argument [-Wstringop-overflow=]\n",
      "  426 |     strncpy(copy, s, strlen(s)+1);\n",
      "      |     ^~~~~~~~~~~~~~~~~~~~~~~~~~~~~\n",
      "./src/utils.c: In function ‘parse_csv_line’:\n",
      "./src/utils.c:426:22: note: length computed here\n",
      "  426 |     strncpy(copy, s, strlen(s)+1);\n",
      "      |                      ^~~~~~~~~\n"
     ]
    },
    {
     "name": "stdout",
     "output_type": "stream",
     "text": [
      "aarch64-none-linux-gnu-gcc -Iinclude/ -Isrc/ -Wall -Wno-unused-result -Wno-unknown-pragmas -Wfatal-errors -static -Ofast -fno-tree-vectorize -DNNPACK -c ./src/cuda.c -o obj/cuda.o\n",
      "aarch64-none-linux-gnu-gcc -Iinclude/ -Isrc/ -Wall -Wno-unused-result -Wno-unknown-pragmas -Wfatal-errors -static -Ofast -fno-tree-vectorize -DNNPACK -c ./src/deconvolutional_layer.c -o obj/deconvolutional_layer.o\n",
      "aarch64-none-linux-gnu-gcc -Iinclude/ -Isrc/ -Wall -Wno-unused-result -Wno-unknown-pragmas -Wfatal-errors -static -Ofast -fno-tree-vectorize -DNNPACK -c ./src/convolutional_layer.c -o obj/convolutional_layer.o\n",
      "aarch64-none-linux-gnu-gcc -Iinclude/ -Isrc/ -Wall -Wno-unused-result -Wno-unknown-pragmas -Wfatal-errors -static -Ofast -fno-tree-vectorize -DNNPACK -c ./src/list.c -o obj/list.o\n",
      "aarch64-none-linux-gnu-gcc -Iinclude/ -Isrc/ -Wall -Wno-unused-result -Wno-unknown-pragmas -Wfatal-errors -static -Ofast -fno-tree-vectorize -DNNPACK -c ./src/image.c -o obj/image.o\n",
      "aarch64-none-linux-gnu-gcc -Iinclude/ -Isrc/ -Wall -Wno-unused-result -Wno-unknown-pragmas -Wfatal-errors -static -Ofast -fno-tree-vectorize -DNNPACK -c ./src/activations.c -o obj/activations.o\n",
      "aarch64-none-linux-gnu-gcc -Iinclude/ -Isrc/ -Wall -Wno-unused-result -Wno-unknown-pragmas -Wfatal-errors -static -Ofast -fno-tree-vectorize -DNNPACK -c ./src/im2col.c -o obj/im2col.o\n",
      "aarch64-none-linux-gnu-gcc -Iinclude/ -Isrc/ -Wall -Wno-unused-result -Wno-unknown-pragmas -Wfatal-errors -static -Ofast -fno-tree-vectorize -DNNPACK -c ./src/col2im.c -o obj/col2im.o\n",
      "aarch64-none-linux-gnu-gcc -Iinclude/ -Isrc/ -Wall -Wno-unused-result -Wno-unknown-pragmas -Wfatal-errors -static -Ofast -fno-tree-vectorize -DNNPACK -c ./src/blas.c -o obj/blas.o\n",
      "aarch64-none-linux-gnu-gcc -Iinclude/ -Isrc/ -Wall -Wno-unused-result -Wno-unknown-pragmas -Wfatal-errors -static -Ofast -fno-tree-vectorize -DNNPACK -c ./src/crop_layer.c -o obj/crop_layer.o\n",
      "aarch64-none-linux-gnu-gcc -Iinclude/ -Isrc/ -Wall -Wno-unused-result -Wno-unknown-pragmas -Wfatal-errors -static -Ofast -fno-tree-vectorize -DNNPACK -c ./src/dropout_layer.c -o obj/dropout_layer.o\n",
      "aarch64-none-linux-gnu-gcc -Iinclude/ -Isrc/ -Wall -Wno-unused-result -Wno-unknown-pragmas -Wfatal-errors -static -Ofast -fno-tree-vectorize -DNNPACK -c ./src/maxpool_layer.c -o obj/maxpool_layer.o\n",
      "aarch64-none-linux-gnu-gcc -Iinclude/ -Isrc/ -Wall -Wno-unused-result -Wno-unknown-pragmas -Wfatal-errors -static -Ofast -fno-tree-vectorize -DNNPACK -c ./src/softmax_layer.c -o obj/softmax_layer.o\n",
      "aarch64-none-linux-gnu-gcc -Iinclude/ -Isrc/ -Wall -Wno-unused-result -Wno-unknown-pragmas -Wfatal-errors -static -Ofast -fno-tree-vectorize -DNNPACK -c ./src/data.c -o obj/data.o\n",
      "aarch64-none-linux-gnu-gcc -Iinclude/ -Isrc/ -Wall -Wno-unused-result -Wno-unknown-pragmas -Wfatal-errors -static -Ofast -fno-tree-vectorize -DNNPACK -c ./src/matrix.c -o obj/matrix.o\n",
      "aarch64-none-linux-gnu-gcc -Iinclude/ -Isrc/ -Wall -Wno-unused-result -Wno-unknown-pragmas -Wfatal-errors -static -Ofast -fno-tree-vectorize -DNNPACK -c ./src/network.c -o obj/network.o\n",
      "aarch64-none-linux-gnu-gcc -Iinclude/ -Isrc/ -Wall -Wno-unused-result -Wno-unknown-pragmas -Wfatal-errors -static -Ofast -fno-tree-vectorize -DNNPACK -c ./src/connected_layer.c -o obj/connected_layer.o\n",
      "aarch64-none-linux-gnu-gcc -Iinclude/ -Isrc/ -Wall -Wno-unused-result -Wno-unknown-pragmas -Wfatal-errors -static -Ofast -fno-tree-vectorize -DNNPACK -c ./src/cost_layer.c -o obj/cost_layer.o\n",
      "aarch64-none-linux-gnu-gcc -Iinclude/ -Isrc/ -Wall -Wno-unused-result -Wno-unknown-pragmas -Wfatal-errors -static -Ofast -fno-tree-vectorize -DNNPACK -c ./src/parser.c -o obj/parser.o\n",
      "aarch64-none-linux-gnu-gcc -Iinclude/ -Isrc/ -Wall -Wno-unused-result -Wno-unknown-pragmas -Wfatal-errors -static -Ofast -fno-tree-vectorize -DNNPACK -c ./src/option_list.c -o obj/option_list.o\n",
      "aarch64-none-linux-gnu-gcc -Iinclude/ -Isrc/ -Wall -Wno-unused-result -Wno-unknown-pragmas -Wfatal-errors -static -Ofast -fno-tree-vectorize -DNNPACK -c ./src/detection_layer.c -o obj/detection_layer.o\n",
      "aarch64-none-linux-gnu-gcc -Iinclude/ -Isrc/ -Wall -Wno-unused-result -Wno-unknown-pragmas -Wfatal-errors -static -Ofast -fno-tree-vectorize -DNNPACK -c ./src/route_layer.c -o obj/route_layer.o\n",
      "aarch64-none-linux-gnu-gcc -Iinclude/ -Isrc/ -Wall -Wno-unused-result -Wno-unknown-pragmas -Wfatal-errors -static -Ofast -fno-tree-vectorize -DNNPACK -c ./src/upsample_layer.c -o obj/upsample_layer.o\n",
      "aarch64-none-linux-gnu-gcc -Iinclude/ -Isrc/ -Wall -Wno-unused-result -Wno-unknown-pragmas -Wfatal-errors -static -Ofast -fno-tree-vectorize -DNNPACK -c ./src/box.c -o obj/box.o\n",
      "aarch64-none-linux-gnu-gcc -Iinclude/ -Isrc/ -Wall -Wno-unused-result -Wno-unknown-pragmas -Wfatal-errors -static -Ofast -fno-tree-vectorize -DNNPACK -c ./src/normalization_layer.c -o obj/normalization_layer.o\n",
      "aarch64-none-linux-gnu-gcc -Iinclude/ -Isrc/ -Wall -Wno-unused-result -Wno-unknown-pragmas -Wfatal-errors -static -Ofast -fno-tree-vectorize -DNNPACK -c ./src/avgpool_layer.c -o obj/avgpool_layer.o\n",
      "aarch64-none-linux-gnu-gcc -Iinclude/ -Isrc/ -Wall -Wno-unused-result -Wno-unknown-pragmas -Wfatal-errors -static -Ofast -fno-tree-vectorize -DNNPACK -c ./src/layer.c -o obj/layer.o\n",
      "aarch64-none-linux-gnu-gcc -Iinclude/ -Isrc/ -Wall -Wno-unused-result -Wno-unknown-pragmas -Wfatal-errors -static -Ofast -fno-tree-vectorize -DNNPACK -c ./src/local_layer.c -o obj/local_layer.o\n",
      "aarch64-none-linux-gnu-gcc -Iinclude/ -Isrc/ -Wall -Wno-unused-result -Wno-unknown-pragmas -Wfatal-errors -static -Ofast -fno-tree-vectorize -DNNPACK -c ./src/shortcut_layer.c -o obj/shortcut_layer.o\n",
      "aarch64-none-linux-gnu-gcc -Iinclude/ -Isrc/ -Wall -Wno-unused-result -Wno-unknown-pragmas -Wfatal-errors -static -Ofast -fno-tree-vectorize -DNNPACK -c ./src/logistic_layer.c -o obj/logistic_layer.o\n",
      "aarch64-none-linux-gnu-gcc -Iinclude/ -Isrc/ -Wall -Wno-unused-result -Wno-unknown-pragmas -Wfatal-errors -static -Ofast -fno-tree-vectorize -DNNPACK -c ./src/activation_layer.c -o obj/activation_layer.o\n",
      "aarch64-none-linux-gnu-gcc -Iinclude/ -Isrc/ -Wall -Wno-unused-result -Wno-unknown-pragmas -Wfatal-errors -static -Ofast -fno-tree-vectorize -DNNPACK -c ./src/rnn_layer.c -o obj/rnn_layer.o\n",
      "aarch64-none-linux-gnu-gcc -Iinclude/ -Isrc/ -Wall -Wno-unused-result -Wno-unknown-pragmas -Wfatal-errors -static -Ofast -fno-tree-vectorize -DNNPACK -c ./src/gru_layer.c -o obj/gru_layer.o\n",
      "aarch64-none-linux-gnu-gcc -Iinclude/ -Isrc/ -Wall -Wno-unused-result -Wno-unknown-pragmas -Wfatal-errors -static -Ofast -fno-tree-vectorize -DNNPACK -c ./src/crnn_layer.c -o obj/crnn_layer.o\n",
      "aarch64-none-linux-gnu-gcc -Iinclude/ -Isrc/ -Wall -Wno-unused-result -Wno-unknown-pragmas -Wfatal-errors -static -Ofast -fno-tree-vectorize -DNNPACK -c ./src/demo.c -o obj/demo.o\n",
      "aarch64-none-linux-gnu-gcc -Iinclude/ -Isrc/ -Wall -Wno-unused-result -Wno-unknown-pragmas -Wfatal-errors -static -Ofast -fno-tree-vectorize -DNNPACK -c ./src/batchnorm_layer.c -o obj/batchnorm_layer.o\n",
      "aarch64-none-linux-gnu-gcc -Iinclude/ -Isrc/ -Wall -Wno-unused-result -Wno-unknown-pragmas -Wfatal-errors -static -Ofast -fno-tree-vectorize -DNNPACK -c ./src/region_layer.c -o obj/region_layer.o\n",
      "aarch64-none-linux-gnu-gcc -Iinclude/ -Isrc/ -Wall -Wno-unused-result -Wno-unknown-pragmas -Wfatal-errors -static -Ofast -fno-tree-vectorize -DNNPACK -c ./src/reorg_layer.c -o obj/reorg_layer.o\n",
      "aarch64-none-linux-gnu-gcc -Iinclude/ -Isrc/ -Wall -Wno-unused-result -Wno-unknown-pragmas -Wfatal-errors -static -Ofast -fno-tree-vectorize -DNNPACK -c ./src/tree.c -o obj/tree.o\n",
      "aarch64-none-linux-gnu-gcc -Iinclude/ -Isrc/ -Wall -Wno-unused-result -Wno-unknown-pragmas -Wfatal-errors -static -Ofast -fno-tree-vectorize -DNNPACK -c ./src/lstm_layer.c -o obj/lstm_layer.o\n",
      "aarch64-none-linux-gnu-gcc -Iinclude/ -Isrc/ -Wall -Wno-unused-result -Wno-unknown-pragmas -Wfatal-errors -static -Ofast -fno-tree-vectorize -DNNPACK -c ./src/l2norm_layer.c -o obj/l2norm_layer.o\n",
      "aarch64-none-linux-gnu-gcc -Iinclude/ -Isrc/ -Wall -Wno-unused-result -Wno-unknown-pragmas -Wfatal-errors -static -Ofast -fno-tree-vectorize -DNNPACK -c ./src/yolo_layer.c -o obj/yolo_layer.o\n",
      "aarch64-none-linux-gnu-gcc -Iinclude/ -Isrc/ -Wall -Wno-unused-result -Wno-unknown-pragmas -Wfatal-errors -static -Ofast -fno-tree-vectorize -DNNPACK -c ./src/iseg_layer.c -o obj/iseg_layer.o\n",
      "aarch64-none-linux-gnu-g++ -Iinclude/ -Isrc/ -Wall -Wno-unused-result -Wno-unknown-pragmas -Wfatal-errors -static -Ofast -fno-tree-vectorize -DNNPACK -c ./src/image_opencv.cpp -o obj/image_opencv.o\n",
      "ar rcs libdarknet.a obj/gemm.o obj/utils.o obj/cuda.o obj/deconvolutional_layer.o obj/convolutional_layer.o obj/list.o obj/image.o obj/activations.o obj/im2col.o obj/col2im.o obj/blas.o obj/crop_layer.o obj/dropout_layer.o obj/maxpool_layer.o obj/softmax_layer.o obj/data.o obj/matrix.o obj/network.o obj/connected_layer.o obj/cost_layer.o obj/parser.o obj/option_list.o obj/detection_layer.o obj/route_layer.o obj/upsample_layer.o obj/box.o obj/normalization_layer.o obj/avgpool_layer.o obj/layer.o obj/local_layer.o obj/shortcut_layer.o obj/logistic_layer.o obj/activation_layer.o obj/rnn_layer.o obj/gru_layer.o obj/crnn_layer.o obj/demo.o obj/batchnorm_layer.o obj/region_layer.o obj/reorg_layer.o obj/tree.o obj/lstm_layer.o obj/l2norm_layer.o obj/yolo_layer.o obj/iseg_layer.o obj/image_opencv.o\n",
      "aarch64-none-linux-gnu-gcc -Iinclude/ -Isrc/ -Wall -Wno-unused-result -Wno-unknown-pragmas -Wfatal-errors -static -Ofast -fno-tree-vectorize -DNNPACK -c ./examples/captcha.c -o obj/captcha.o\n"
     ]
    },
    {
     "name": "stdout",
     "output_type": "stream",
     "text": [
      "aarch64-none-linux-gnu-gcc -Iinclude/ -Isrc/ -Wall -Wno-unused-result -Wno-unknown-pragmas -Wfatal-errors -static -Ofast -fno-tree-vectorize -DNNPACK -c ./examples/lsd.c -o obj/lsd.o\n",
      "aarch64-none-linux-gnu-gcc -Iinclude/ -Isrc/ -Wall -Wno-unused-result -Wno-unknown-pragmas -Wfatal-errors -static -Ofast -fno-tree-vectorize -DNNPACK -c ./examples/super.c -o obj/super.o\n",
      "aarch64-none-linux-gnu-gcc -Iinclude/ -Isrc/ -Wall -Wno-unused-result -Wno-unknown-pragmas -Wfatal-errors -static -Ofast -fno-tree-vectorize -DNNPACK -c ./examples/art.c -o obj/art.o\n",
      "aarch64-none-linux-gnu-gcc -Iinclude/ -Isrc/ -Wall -Wno-unused-result -Wno-unknown-pragmas -Wfatal-errors -static -Ofast -fno-tree-vectorize -DNNPACK -c ./examples/tag.c -o obj/tag.o\n",
      "aarch64-none-linux-gnu-gcc -Iinclude/ -Isrc/ -Wall -Wno-unused-result -Wno-unknown-pragmas -Wfatal-errors -static -Ofast -fno-tree-vectorize -DNNPACK -c ./examples/cifar.c -o obj/cifar.o\n",
      "aarch64-none-linux-gnu-gcc -Iinclude/ -Isrc/ -Wall -Wno-unused-result -Wno-unknown-pragmas -Wfatal-errors -static -Ofast -fno-tree-vectorize -DNNPACK -c ./examples/go.c -o obj/go.o\n",
      "aarch64-none-linux-gnu-gcc -Iinclude/ -Isrc/ -Wall -Wno-unused-result -Wno-unknown-pragmas -Wfatal-errors -static -Ofast -fno-tree-vectorize -DNNPACK -c ./examples/rnn.c -o obj/rnn.o\n",
      "aarch64-none-linux-gnu-gcc -Iinclude/ -Isrc/ -Wall -Wno-unused-result -Wno-unknown-pragmas -Wfatal-errors -static -Ofast -fno-tree-vectorize -DNNPACK -c ./examples/segmenter.c -o obj/segmenter.o\n",
      "aarch64-none-linux-gnu-gcc -Iinclude/ -Isrc/ -Wall -Wno-unused-result -Wno-unknown-pragmas -Wfatal-errors -static -Ofast -fno-tree-vectorize -DNNPACK -c ./examples/regressor.c -o obj/regressor.o\n",
      "aarch64-none-linux-gnu-gcc -Iinclude/ -Isrc/ -Wall -Wno-unused-result -Wno-unknown-pragmas -Wfatal-errors -static -Ofast -fno-tree-vectorize -DNNPACK -c ./examples/classifier.c -o obj/classifier.o\n",
      "aarch64-none-linux-gnu-gcc -Iinclude/ -Isrc/ -Wall -Wno-unused-result -Wno-unknown-pragmas -Wfatal-errors -static -Ofast -fno-tree-vectorize -DNNPACK -c ./examples/coco.c -o obj/coco.o\n",
      "aarch64-none-linux-gnu-gcc -Iinclude/ -Isrc/ -Wall -Wno-unused-result -Wno-unknown-pragmas -Wfatal-errors -static -Ofast -fno-tree-vectorize -DNNPACK -c ./examples/yolo.c -o obj/yolo.o\n",
      "aarch64-none-linux-gnu-gcc -Iinclude/ -Isrc/ -Wall -Wno-unused-result -Wno-unknown-pragmas -Wfatal-errors -static -Ofast -fno-tree-vectorize -DNNPACK -c ./examples/detector.c -o obj/detector.o\n"
     ]
    },
    {
     "name": "stderr",
     "output_type": "stream",
     "text": [
      "./examples/detector.c: In function ‘test_detector’:\n",
      "./examples/detector.c:597:16: warning: unused variable ‘X’ [-Wunused-variable]\n",
      "  597 |         float *X = sized.data;\n",
      "      |                ^\n"
     ]
    },
    {
     "name": "stdout",
     "output_type": "stream",
     "text": [
      "aarch64-none-linux-gnu-gcc -Iinclude/ -Isrc/ -Wall -Wno-unused-result -Wno-unknown-pragmas -Wfatal-errors -static -Ofast -fno-tree-vectorize -DNNPACK -c ./examples/nightmare.c -o obj/nightmare.o\n",
      "aarch64-none-linux-gnu-gcc -Iinclude/ -Isrc/ -Wall -Wno-unused-result -Wno-unknown-pragmas -Wfatal-errors -static -Ofast -fno-tree-vectorize -DNNPACK -c ./examples/instance-segmenter.c -o obj/instance-segmenter.o\n",
      "aarch64-none-linux-gnu-gcc -Iinclude/ -Isrc/ -Wall -Wno-unused-result -Wno-unknown-pragmas -Wfatal-errors -static -Ofast -fno-tree-vectorize -DNNPACK -c ./examples/darknet.c -o obj/darknet.o\n",
      "aarch64-none-linux-gnu-gcc -Iinclude/ -Isrc/ -Wall -Wno-unused-result -Wno-unknown-pragmas -Wfatal-errors -static -Ofast -fno-tree-vectorize -DNNPACK -c ./examples/test.c -o obj/test.o\n",
      "aarch64-none-linux-gnu-gcc -Iinclude/ -Isrc/ -Wall -Wno-unused-result -Wno-unknown-pragmas -Wfatal-errors -static -Ofast -fno-tree-vectorize -DNNPACK obj/captcha.o obj/lsd.o obj/super.o obj/art.o obj/tag.o obj/cifar.o obj/go.o obj/rnn.o obj/segmenter.o obj/regressor.o obj/classifier.o obj/coco.o obj/yolo.o obj/detector.o obj/nightmare.o obj/instance-segmenter.o obj/darknet.o obj/test.o libdarknet.a -o darknet -lm -pthread -L/home/fft_vec/arm-deps/usr/local/lib -l:libnnpack.a -l:libpthreadpool.a -l:libcpuinfo.a -l:libclog.a libdarknet.a\n",
      "/home/fft_vec/gem5/build/ARM/gem5.opt --outdir=./bench/build-ARM-gem5-opt/bench_yolo-20l/NO_PREDICT_NPP/256MB/ /home/fft_vec/gem5/configs/example/se.py --cpu-clock=2GHz --l1d_size=64kB --l1i_size=16kB --caches --output=stdout.txt  --errout=stderr.txt --l2_size=256MB --l2cache -c \"./darknet\" --options \"bench_yolo-20l\"\n",
      "\n",
      "\n"
     ]
    },
    {
     "name": "stderr",
     "output_type": "stream",
     "text": [
      "warn: The `get_runtime_isa` function is deprecated. Please migrate away from using this function.\n",
      "warn: The `get_runtime_isa` function is deprecated. Please migrate away from using this function.\n",
      "warn: No dot file generated. Please install pydot to generate the dot file and pdf.\n",
      "build/ARM/mem/dram_interface.cc:690: warn: DRAM device capacity (8192 Mbytes) does not match the address range assigned (512 Mbytes)\n"
     ]
    },
    {
     "name": "stdout",
     "output_type": "stream",
     "text": [
      "Global frequency set at 1000000000000 ticks per second\n"
     ]
    },
    {
     "name": "stderr",
     "output_type": "stream",
     "text": [
      "build/ARM/base/remote_gdb.cc:416: warn: Sockets disabled, not accepting gdb connections\n",
      "build/ARM/sim/simulate.cc:192: info: Entering event queue @ 0.  Starting simulation...\n",
      "build/ARM/sim/syscall_emul.cc:74: warn: ignoring syscall set_robust_list(...)\n",
      "build/ARM/sim/syscall_emul.cc:74: warn: ignoring syscall rt_sigaction(...)\n",
      "build/ARM/sim/syscall_emul.cc:74: warn: ignoring syscall rt_sigaction(...)\n",
      "build/ARM/sim/syscall_emul.cc:85: warn: ignoring syscall rt_sigprocmask(...)\n",
      "      (further warnings will be suppressed)\n",
      "build/ARM/arch/arm/insts/pseudo.cc:172: warn: \tinstruction 'bti' unimplemented\n",
      "build/ARM/sim/mem_state.cc:443: info: Increasing stack size by one page.\n",
      "build/ARM/sim/syscall_emul.cc:74: warn: ignoring syscall mprotect(...)\n",
      "build/ARM/sim/mem_state.cc:443: info: Increasing stack size by one page.\n"
     ]
    },
    {
     "name": "stdout",
     "output_type": "stream",
     "text": [
      "gem5 Simulator System.  https://www.gem5.org\n",
      "gem5 is copyrighted software; use the --copyright option for details.\n",
      "\n",
      "gem5 version 22.1.0.0\n",
      "gem5 compiled Jan 26 2023 15:06:33\n",
      "gem5 started Feb 14 2023 14:11:43\n",
      "gem5 executing on aldy, pid 2065228\n",
      "command line: /home/fft_vec/gem5/build/ARM/gem5.opt --outdir=./bench/build-ARM-gem5-opt/bench_yolo-20l/NO_PREDICT_NPP/256MB/ /home/fft_vec/gem5/configs/example/se.py --cpu-clock=2GHz --l1d_size=64kB --l1i_size=16kB --caches --output=stdout.txt --errout=stderr.txt --l2_size=256MB --l2cache -c ./darknet --options bench_yolo-20l\n",
      "\n",
      "info: Standard input is not a terminal, disabling listeners.\n",
      "**** REAL SIMULATION ****\n"
     ]
    },
    {
     "name": "stderr",
     "output_type": "stream",
     "text": [
      "build/ARM/sim/mem_state.cc:443: info: Increasing stack size by one page.\n",
      "build/ARM/sim/mem_state.cc:443: info: Increasing stack size by one page.\n"
     ]
    },
    {
     "name": "stdout",
     "output_type": "stream",
     "text": [
      "Exiting @ tick 310389858000 because exiting with last active thread context\n",
      "./bench/build-ARM-gem5-opt/bench_yolo-20l/NO_PREDICT_NPP/256MB/\n",
      "reading data from file:  ./bench/build-ARM-gem5-opt/bench_yolo-20l/NO_PREDICT_NPP/256MB/stats.txt \n",
      " \n",
      "[('simTicks', 310389858000)]\n",
      "\n",
      " make clean; make NNPACK=1 PREDICT=0 FT8=1 CC=aarch64-none-linux-gnu-gcc CPP=aarch64-none-linux-gnu-g++ \n",
      "\n",
      "rm -rf ./obj/gemm.o ./obj/utils.o ./obj/cuda.o ./obj/deconvolutional_layer.o ./obj/convolutional_layer.o ./obj/list.o ./obj/image.o ./obj/activations.o ./obj/im2col.o ./obj/col2im.o ./obj/blas.o ./obj/crop_layer.o ./obj/dropout_layer.o ./obj/maxpool_layer.o ./obj/softmax_layer.o ./obj/data.o ./obj/matrix.o ./obj/network.o ./obj/connected_layer.o ./obj/cost_layer.o ./obj/parser.o ./obj/option_list.o ./obj/detection_layer.o ./obj/route_layer.o ./obj/upsample_layer.o ./obj/box.o ./obj/normalization_layer.o ./obj/avgpool_layer.o ./obj/layer.o ./obj/local_layer.o ./obj/shortcut_layer.o ./obj/logistic_layer.o ./obj/activation_layer.o ./obj/rnn_layer.o ./obj/gru_layer.o ./obj/crnn_layer.o ./obj/demo.o ./obj/batchnorm_layer.o ./obj/region_layer.o ./obj/reorg_layer.o ./obj/tree.o ./obj/lstm_layer.o ./obj/l2norm_layer.o ./obj/yolo_layer.o ./obj/iseg_layer.o ./obj/image_opencv.o libdarknet.so libdarknet.a darknet ./obj/captcha.o ./obj/lsd.o ./obj/super.o ./obj/art.o ./obj/tag.o ./obj/cifar.o ./obj/go.o ./obj/rnn.o ./obj/segmenter.o ./obj/regressor.o ./obj/classifier.o ./obj/coco.o ./obj/yolo.o ./obj/detector.o ./obj/nightmare.o ./obj/instance-segmenter.o ./obj/darknet.o ./obj/test.o ./obj//*\n",
      "NNPACK=1\n",
      "PREDICT=0\n",
      "FT8=1\n",
      "CPP=aarch64-none-linux-gnu-g++\n",
      "CC=aarch64-none-linux-gnu-gcc\n",
      "aarch64-none-linux-gnu-gcc -Iinclude/ -Isrc/ -Wall -Wno-unused-result -Wno-unknown-pragmas -Wfatal-errors -static -Ofast -fno-tree-vectorize -DNNPACK -c ./src/gemm.c -o obj/gemm.o\n",
      "aarch64-none-linux-gnu-gcc -Iinclude/ -Isrc/ -Wall -Wno-unused-result -Wno-unknown-pragmas -Wfatal-errors -static -Ofast -fno-tree-vectorize -DNNPACK -c ./src/utils.c -o obj/utils.o\n"
     ]
    },
    {
     "name": "stderr",
     "output_type": "stream",
     "text": [
      "In function ‘copy_string’,\n",
      "    inlined from ‘basecfg’ at ./src/utils.c:187:9:\n",
      "./src/utils.c:426:5: warning: ‘strncpy’ specified bound depends on the length of the source argument [-Wstringop-overflow=]\n",
      "  426 |     strncpy(copy, s, strlen(s)+1);\n",
      "      |     ^~~~~~~~~~~~~~~~~~~~~~~~~~~~~\n",
      "./src/utils.c: In function ‘basecfg’:\n",
      "./src/utils.c:426:22: note: length computed here\n",
      "  426 |     strncpy(copy, s, strlen(s)+1);\n",
      "      |                      ^~~~~~~~~\n",
      "./src/utils.c: In function ‘copy_string’:\n",
      "./src/utils.c:426:5: warning: ‘strncpy’ specified bound depends on the length of the source argument [-Wstringop-overflow=]\n",
      "  426 |     strncpy(copy, s, strlen(s)+1);\n",
      "      |     ^~~~~~~~~~~~~~~~~~~~~~~~~~~~~\n",
      "./src/utils.c:426:22: note: length computed here\n",
      "  426 |     strncpy(copy, s, strlen(s)+1);\n",
      "      |                      ^~~~~~~~~\n",
      "In function ‘copy_string’,\n",
      "    inlined from ‘parse_csv_line’ at ./src/utils.c:439:28:\n",
      "./src/utils.c:426:5: warning: ‘strncpy’ specified bound depends on the length of the source argument [-Wstringop-overflow=]\n",
      "  426 |     strncpy(copy, s, strlen(s)+1);\n",
      "      |     ^~~~~~~~~~~~~~~~~~~~~~~~~~~~~\n",
      "./src/utils.c: In function ‘parse_csv_line’:\n",
      "./src/utils.c:426:22: note: length computed here\n",
      "  426 |     strncpy(copy, s, strlen(s)+1);\n",
      "      |                      ^~~~~~~~~\n",
      "In function ‘copy_string’,\n",
      "    inlined from ‘parse_csv_line’ at ./src/utils.c:443:20:\n",
      "./src/utils.c:426:5: warning: ‘strncpy’ specified bound depends on the length of the source argument [-Wstringop-overflow=]\n",
      "  426 |     strncpy(copy, s, strlen(s)+1);\n",
      "      |     ^~~~~~~~~~~~~~~~~~~~~~~~~~~~~\n",
      "./src/utils.c: In function ‘parse_csv_line’:\n",
      "./src/utils.c:426:22: note: length computed here\n",
      "  426 |     strncpy(copy, s, strlen(s)+1);\n",
      "      |                      ^~~~~~~~~\n"
     ]
    },
    {
     "name": "stdout",
     "output_type": "stream",
     "text": [
      "aarch64-none-linux-gnu-gcc -Iinclude/ -Isrc/ -Wall -Wno-unused-result -Wno-unknown-pragmas -Wfatal-errors -static -Ofast -fno-tree-vectorize -DNNPACK -c ./src/cuda.c -o obj/cuda.o\n",
      "aarch64-none-linux-gnu-gcc -Iinclude/ -Isrc/ -Wall -Wno-unused-result -Wno-unknown-pragmas -Wfatal-errors -static -Ofast -fno-tree-vectorize -DNNPACK -c ./src/deconvolutional_layer.c -o obj/deconvolutional_layer.o\n",
      "aarch64-none-linux-gnu-gcc -Iinclude/ -Isrc/ -Wall -Wno-unused-result -Wno-unknown-pragmas -Wfatal-errors -static -Ofast -fno-tree-vectorize -DNNPACK -c ./src/convolutional_layer.c -o obj/convolutional_layer.o\n",
      "aarch64-none-linux-gnu-gcc -Iinclude/ -Isrc/ -Wall -Wno-unused-result -Wno-unknown-pragmas -Wfatal-errors -static -Ofast -fno-tree-vectorize -DNNPACK -c ./src/list.c -o obj/list.o\n",
      "aarch64-none-linux-gnu-gcc -Iinclude/ -Isrc/ -Wall -Wno-unused-result -Wno-unknown-pragmas -Wfatal-errors -static -Ofast -fno-tree-vectorize -DNNPACK -c ./src/image.c -o obj/image.o\n",
      "aarch64-none-linux-gnu-gcc -Iinclude/ -Isrc/ -Wall -Wno-unused-result -Wno-unknown-pragmas -Wfatal-errors -static -Ofast -fno-tree-vectorize -DNNPACK -c ./src/activations.c -o obj/activations.o\n",
      "aarch64-none-linux-gnu-gcc -Iinclude/ -Isrc/ -Wall -Wno-unused-result -Wno-unknown-pragmas -Wfatal-errors -static -Ofast -fno-tree-vectorize -DNNPACK -c ./src/im2col.c -o obj/im2col.o\n",
      "aarch64-none-linux-gnu-gcc -Iinclude/ -Isrc/ -Wall -Wno-unused-result -Wno-unknown-pragmas -Wfatal-errors -static -Ofast -fno-tree-vectorize -DNNPACK -c ./src/col2im.c -o obj/col2im.o\n",
      "aarch64-none-linux-gnu-gcc -Iinclude/ -Isrc/ -Wall -Wno-unused-result -Wno-unknown-pragmas -Wfatal-errors -static -Ofast -fno-tree-vectorize -DNNPACK -c ./src/blas.c -o obj/blas.o\n",
      "aarch64-none-linux-gnu-gcc -Iinclude/ -Isrc/ -Wall -Wno-unused-result -Wno-unknown-pragmas -Wfatal-errors -static -Ofast -fno-tree-vectorize -DNNPACK -c ./src/crop_layer.c -o obj/crop_layer.o\n",
      "aarch64-none-linux-gnu-gcc -Iinclude/ -Isrc/ -Wall -Wno-unused-result -Wno-unknown-pragmas -Wfatal-errors -static -Ofast -fno-tree-vectorize -DNNPACK -c ./src/dropout_layer.c -o obj/dropout_layer.o\n",
      "aarch64-none-linux-gnu-gcc -Iinclude/ -Isrc/ -Wall -Wno-unused-result -Wno-unknown-pragmas -Wfatal-errors -static -Ofast -fno-tree-vectorize -DNNPACK -c ./src/maxpool_layer.c -o obj/maxpool_layer.o\n",
      "aarch64-none-linux-gnu-gcc -Iinclude/ -Isrc/ -Wall -Wno-unused-result -Wno-unknown-pragmas -Wfatal-errors -static -Ofast -fno-tree-vectorize -DNNPACK -c ./src/softmax_layer.c -o obj/softmax_layer.o\n",
      "aarch64-none-linux-gnu-gcc -Iinclude/ -Isrc/ -Wall -Wno-unused-result -Wno-unknown-pragmas -Wfatal-errors -static -Ofast -fno-tree-vectorize -DNNPACK -c ./src/data.c -o obj/data.o\n",
      "aarch64-none-linux-gnu-gcc -Iinclude/ -Isrc/ -Wall -Wno-unused-result -Wno-unknown-pragmas -Wfatal-errors -static -Ofast -fno-tree-vectorize -DNNPACK -c ./src/matrix.c -o obj/matrix.o\n",
      "aarch64-none-linux-gnu-gcc -Iinclude/ -Isrc/ -Wall -Wno-unused-result -Wno-unknown-pragmas -Wfatal-errors -static -Ofast -fno-tree-vectorize -DNNPACK -c ./src/network.c -o obj/network.o\n",
      "aarch64-none-linux-gnu-gcc -Iinclude/ -Isrc/ -Wall -Wno-unused-result -Wno-unknown-pragmas -Wfatal-errors -static -Ofast -fno-tree-vectorize -DNNPACK -c ./src/connected_layer.c -o obj/connected_layer.o\n",
      "aarch64-none-linux-gnu-gcc -Iinclude/ -Isrc/ -Wall -Wno-unused-result -Wno-unknown-pragmas -Wfatal-errors -static -Ofast -fno-tree-vectorize -DNNPACK -c ./src/cost_layer.c -o obj/cost_layer.o\n",
      "aarch64-none-linux-gnu-gcc -Iinclude/ -Isrc/ -Wall -Wno-unused-result -Wno-unknown-pragmas -Wfatal-errors -static -Ofast -fno-tree-vectorize -DNNPACK -c ./src/parser.c -o obj/parser.o\n",
      "aarch64-none-linux-gnu-gcc -Iinclude/ -Isrc/ -Wall -Wno-unused-result -Wno-unknown-pragmas -Wfatal-errors -static -Ofast -fno-tree-vectorize -DNNPACK -c ./src/option_list.c -o obj/option_list.o\n",
      "aarch64-none-linux-gnu-gcc -Iinclude/ -Isrc/ -Wall -Wno-unused-result -Wno-unknown-pragmas -Wfatal-errors -static -Ofast -fno-tree-vectorize -DNNPACK -c ./src/detection_layer.c -o obj/detection_layer.o\n",
      "aarch64-none-linux-gnu-gcc -Iinclude/ -Isrc/ -Wall -Wno-unused-result -Wno-unknown-pragmas -Wfatal-errors -static -Ofast -fno-tree-vectorize -DNNPACK -c ./src/route_layer.c -o obj/route_layer.o\n",
      "aarch64-none-linux-gnu-gcc -Iinclude/ -Isrc/ -Wall -Wno-unused-result -Wno-unknown-pragmas -Wfatal-errors -static -Ofast -fno-tree-vectorize -DNNPACK -c ./src/upsample_layer.c -o obj/upsample_layer.o\n",
      "aarch64-none-linux-gnu-gcc -Iinclude/ -Isrc/ -Wall -Wno-unused-result -Wno-unknown-pragmas -Wfatal-errors -static -Ofast -fno-tree-vectorize -DNNPACK -c ./src/box.c -o obj/box.o\n",
      "aarch64-none-linux-gnu-gcc -Iinclude/ -Isrc/ -Wall -Wno-unused-result -Wno-unknown-pragmas -Wfatal-errors -static -Ofast -fno-tree-vectorize -DNNPACK -c ./src/normalization_layer.c -o obj/normalization_layer.o\n",
      "aarch64-none-linux-gnu-gcc -Iinclude/ -Isrc/ -Wall -Wno-unused-result -Wno-unknown-pragmas -Wfatal-errors -static -Ofast -fno-tree-vectorize -DNNPACK -c ./src/avgpool_layer.c -o obj/avgpool_layer.o\n",
      "aarch64-none-linux-gnu-gcc -Iinclude/ -Isrc/ -Wall -Wno-unused-result -Wno-unknown-pragmas -Wfatal-errors -static -Ofast -fno-tree-vectorize -DNNPACK -c ./src/layer.c -o obj/layer.o\n",
      "aarch64-none-linux-gnu-gcc -Iinclude/ -Isrc/ -Wall -Wno-unused-result -Wno-unknown-pragmas -Wfatal-errors -static -Ofast -fno-tree-vectorize -DNNPACK -c ./src/local_layer.c -o obj/local_layer.o\n",
      "aarch64-none-linux-gnu-gcc -Iinclude/ -Isrc/ -Wall -Wno-unused-result -Wno-unknown-pragmas -Wfatal-errors -static -Ofast -fno-tree-vectorize -DNNPACK -c ./src/shortcut_layer.c -o obj/shortcut_layer.o\n",
      "aarch64-none-linux-gnu-gcc -Iinclude/ -Isrc/ -Wall -Wno-unused-result -Wno-unknown-pragmas -Wfatal-errors -static -Ofast -fno-tree-vectorize -DNNPACK -c ./src/logistic_layer.c -o obj/logistic_layer.o\n",
      "aarch64-none-linux-gnu-gcc -Iinclude/ -Isrc/ -Wall -Wno-unused-result -Wno-unknown-pragmas -Wfatal-errors -static -Ofast -fno-tree-vectorize -DNNPACK -c ./src/activation_layer.c -o obj/activation_layer.o\n",
      "aarch64-none-linux-gnu-gcc -Iinclude/ -Isrc/ -Wall -Wno-unused-result -Wno-unknown-pragmas -Wfatal-errors -static -Ofast -fno-tree-vectorize -DNNPACK -c ./src/rnn_layer.c -o obj/rnn_layer.o\n",
      "aarch64-none-linux-gnu-gcc -Iinclude/ -Isrc/ -Wall -Wno-unused-result -Wno-unknown-pragmas -Wfatal-errors -static -Ofast -fno-tree-vectorize -DNNPACK -c ./src/gru_layer.c -o obj/gru_layer.o\n",
      "aarch64-none-linux-gnu-gcc -Iinclude/ -Isrc/ -Wall -Wno-unused-result -Wno-unknown-pragmas -Wfatal-errors -static -Ofast -fno-tree-vectorize -DNNPACK -c ./src/crnn_layer.c -o obj/crnn_layer.o\n",
      "aarch64-none-linux-gnu-gcc -Iinclude/ -Isrc/ -Wall -Wno-unused-result -Wno-unknown-pragmas -Wfatal-errors -static -Ofast -fno-tree-vectorize -DNNPACK -c ./src/demo.c -o obj/demo.o\n",
      "aarch64-none-linux-gnu-gcc -Iinclude/ -Isrc/ -Wall -Wno-unused-result -Wno-unknown-pragmas -Wfatal-errors -static -Ofast -fno-tree-vectorize -DNNPACK -c ./src/batchnorm_layer.c -o obj/batchnorm_layer.o\n",
      "aarch64-none-linux-gnu-gcc -Iinclude/ -Isrc/ -Wall -Wno-unused-result -Wno-unknown-pragmas -Wfatal-errors -static -Ofast -fno-tree-vectorize -DNNPACK -c ./src/region_layer.c -o obj/region_layer.o\n",
      "aarch64-none-linux-gnu-gcc -Iinclude/ -Isrc/ -Wall -Wno-unused-result -Wno-unknown-pragmas -Wfatal-errors -static -Ofast -fno-tree-vectorize -DNNPACK -c ./src/reorg_layer.c -o obj/reorg_layer.o\n",
      "aarch64-none-linux-gnu-gcc -Iinclude/ -Isrc/ -Wall -Wno-unused-result -Wno-unknown-pragmas -Wfatal-errors -static -Ofast -fno-tree-vectorize -DNNPACK -c ./src/tree.c -o obj/tree.o\n",
      "aarch64-none-linux-gnu-gcc -Iinclude/ -Isrc/ -Wall -Wno-unused-result -Wno-unknown-pragmas -Wfatal-errors -static -Ofast -fno-tree-vectorize -DNNPACK -c ./src/lstm_layer.c -o obj/lstm_layer.o\n",
      "aarch64-none-linux-gnu-gcc -Iinclude/ -Isrc/ -Wall -Wno-unused-result -Wno-unknown-pragmas -Wfatal-errors -static -Ofast -fno-tree-vectorize -DNNPACK -c ./src/l2norm_layer.c -o obj/l2norm_layer.o\n",
      "aarch64-none-linux-gnu-gcc -Iinclude/ -Isrc/ -Wall -Wno-unused-result -Wno-unknown-pragmas -Wfatal-errors -static -Ofast -fno-tree-vectorize -DNNPACK -c ./src/yolo_layer.c -o obj/yolo_layer.o\n",
      "aarch64-none-linux-gnu-gcc -Iinclude/ -Isrc/ -Wall -Wno-unused-result -Wno-unknown-pragmas -Wfatal-errors -static -Ofast -fno-tree-vectorize -DNNPACK -c ./src/iseg_layer.c -o obj/iseg_layer.o\n",
      "aarch64-none-linux-gnu-g++ -Iinclude/ -Isrc/ -Wall -Wno-unused-result -Wno-unknown-pragmas -Wfatal-errors -static -Ofast -fno-tree-vectorize -DNNPACK -c ./src/image_opencv.cpp -o obj/image_opencv.o\n",
      "ar rcs libdarknet.a obj/gemm.o obj/utils.o obj/cuda.o obj/deconvolutional_layer.o obj/convolutional_layer.o obj/list.o obj/image.o obj/activations.o obj/im2col.o obj/col2im.o obj/blas.o obj/crop_layer.o obj/dropout_layer.o obj/maxpool_layer.o obj/softmax_layer.o obj/data.o obj/matrix.o obj/network.o obj/connected_layer.o obj/cost_layer.o obj/parser.o obj/option_list.o obj/detection_layer.o obj/route_layer.o obj/upsample_layer.o obj/box.o obj/normalization_layer.o obj/avgpool_layer.o obj/layer.o obj/local_layer.o obj/shortcut_layer.o obj/logistic_layer.o obj/activation_layer.o obj/rnn_layer.o obj/gru_layer.o obj/crnn_layer.o obj/demo.o obj/batchnorm_layer.o obj/region_layer.o obj/reorg_layer.o obj/tree.o obj/lstm_layer.o obj/l2norm_layer.o obj/yolo_layer.o obj/iseg_layer.o obj/image_opencv.o\n",
      "aarch64-none-linux-gnu-gcc -Iinclude/ -Isrc/ -Wall -Wno-unused-result -Wno-unknown-pragmas -Wfatal-errors -static -Ofast -fno-tree-vectorize -DNNPACK -c ./examples/captcha.c -o obj/captcha.o\n"
     ]
    },
    {
     "name": "stdout",
     "output_type": "stream",
     "text": [
      "aarch64-none-linux-gnu-gcc -Iinclude/ -Isrc/ -Wall -Wno-unused-result -Wno-unknown-pragmas -Wfatal-errors -static -Ofast -fno-tree-vectorize -DNNPACK -c ./examples/lsd.c -o obj/lsd.o\n",
      "aarch64-none-linux-gnu-gcc -Iinclude/ -Isrc/ -Wall -Wno-unused-result -Wno-unknown-pragmas -Wfatal-errors -static -Ofast -fno-tree-vectorize -DNNPACK -c ./examples/super.c -o obj/super.o\n",
      "aarch64-none-linux-gnu-gcc -Iinclude/ -Isrc/ -Wall -Wno-unused-result -Wno-unknown-pragmas -Wfatal-errors -static -Ofast -fno-tree-vectorize -DNNPACK -c ./examples/art.c -o obj/art.o\n",
      "aarch64-none-linux-gnu-gcc -Iinclude/ -Isrc/ -Wall -Wno-unused-result -Wno-unknown-pragmas -Wfatal-errors -static -Ofast -fno-tree-vectorize -DNNPACK -c ./examples/tag.c -o obj/tag.o\n",
      "aarch64-none-linux-gnu-gcc -Iinclude/ -Isrc/ -Wall -Wno-unused-result -Wno-unknown-pragmas -Wfatal-errors -static -Ofast -fno-tree-vectorize -DNNPACK -c ./examples/cifar.c -o obj/cifar.o\n",
      "aarch64-none-linux-gnu-gcc -Iinclude/ -Isrc/ -Wall -Wno-unused-result -Wno-unknown-pragmas -Wfatal-errors -static -Ofast -fno-tree-vectorize -DNNPACK -c ./examples/go.c -o obj/go.o\n",
      "aarch64-none-linux-gnu-gcc -Iinclude/ -Isrc/ -Wall -Wno-unused-result -Wno-unknown-pragmas -Wfatal-errors -static -Ofast -fno-tree-vectorize -DNNPACK -c ./examples/rnn.c -o obj/rnn.o\n",
      "aarch64-none-linux-gnu-gcc -Iinclude/ -Isrc/ -Wall -Wno-unused-result -Wno-unknown-pragmas -Wfatal-errors -static -Ofast -fno-tree-vectorize -DNNPACK -c ./examples/segmenter.c -o obj/segmenter.o\n",
      "aarch64-none-linux-gnu-gcc -Iinclude/ -Isrc/ -Wall -Wno-unused-result -Wno-unknown-pragmas -Wfatal-errors -static -Ofast -fno-tree-vectorize -DNNPACK -c ./examples/regressor.c -o obj/regressor.o\n",
      "aarch64-none-linux-gnu-gcc -Iinclude/ -Isrc/ -Wall -Wno-unused-result -Wno-unknown-pragmas -Wfatal-errors -static -Ofast -fno-tree-vectorize -DNNPACK -c ./examples/classifier.c -o obj/classifier.o\n",
      "aarch64-none-linux-gnu-gcc -Iinclude/ -Isrc/ -Wall -Wno-unused-result -Wno-unknown-pragmas -Wfatal-errors -static -Ofast -fno-tree-vectorize -DNNPACK -c ./examples/coco.c -o obj/coco.o\n",
      "aarch64-none-linux-gnu-gcc -Iinclude/ -Isrc/ -Wall -Wno-unused-result -Wno-unknown-pragmas -Wfatal-errors -static -Ofast -fno-tree-vectorize -DNNPACK -c ./examples/yolo.c -o obj/yolo.o\n",
      "aarch64-none-linux-gnu-gcc -Iinclude/ -Isrc/ -Wall -Wno-unused-result -Wno-unknown-pragmas -Wfatal-errors -static -Ofast -fno-tree-vectorize -DNNPACK -c ./examples/detector.c -o obj/detector.o\n"
     ]
    },
    {
     "name": "stderr",
     "output_type": "stream",
     "text": [
      "./examples/detector.c: In function ‘test_detector’:\n",
      "./examples/detector.c:597:16: warning: unused variable ‘X’ [-Wunused-variable]\n",
      "  597 |         float *X = sized.data;\n",
      "      |                ^\n"
     ]
    },
    {
     "name": "stdout",
     "output_type": "stream",
     "text": [
      "aarch64-none-linux-gnu-gcc -Iinclude/ -Isrc/ -Wall -Wno-unused-result -Wno-unknown-pragmas -Wfatal-errors -static -Ofast -fno-tree-vectorize -DNNPACK -c ./examples/nightmare.c -o obj/nightmare.o\n",
      "aarch64-none-linux-gnu-gcc -Iinclude/ -Isrc/ -Wall -Wno-unused-result -Wno-unknown-pragmas -Wfatal-errors -static -Ofast -fno-tree-vectorize -DNNPACK -c ./examples/instance-segmenter.c -o obj/instance-segmenter.o\n",
      "aarch64-none-linux-gnu-gcc -Iinclude/ -Isrc/ -Wall -Wno-unused-result -Wno-unknown-pragmas -Wfatal-errors -static -Ofast -fno-tree-vectorize -DNNPACK -c ./examples/darknet.c -o obj/darknet.o\n",
      "aarch64-none-linux-gnu-gcc -Iinclude/ -Isrc/ -Wall -Wno-unused-result -Wno-unknown-pragmas -Wfatal-errors -static -Ofast -fno-tree-vectorize -DNNPACK -c ./examples/test.c -o obj/test.o\n",
      "aarch64-none-linux-gnu-gcc -Iinclude/ -Isrc/ -Wall -Wno-unused-result -Wno-unknown-pragmas -Wfatal-errors -static -Ofast -fno-tree-vectorize -DNNPACK obj/captcha.o obj/lsd.o obj/super.o obj/art.o obj/tag.o obj/cifar.o obj/go.o obj/rnn.o obj/segmenter.o obj/regressor.o obj/classifier.o obj/coco.o obj/yolo.o obj/detector.o obj/nightmare.o obj/instance-segmenter.o obj/darknet.o obj/test.o libdarknet.a -o darknet -lm -pthread -L/home/fft_vec/arm-deps/usr/local/lib -l:libnnpack.a -l:libpthreadpool.a -l:libcpuinfo.a -l:libclog.a libdarknet.a\n",
      "/home/fft_vec/gem5/build/ARM/gem5.opt --outdir=./bench/build-ARM-gem5-opt/bench_yolo-20l/NO_PREDICT_NPP/64MB/ /home/fft_vec/gem5/configs/example/se.py --cpu-clock=2GHz --l1d_size=64kB --l1i_size=16kB --caches --output=stdout.txt  --errout=stderr.txt --l2_size=64MB --l2cache -c \"./darknet\" --options \"bench_yolo-20l\"\n",
      "\n",
      "\n"
     ]
    },
    {
     "name": "stderr",
     "output_type": "stream",
     "text": [
      "warn: The `get_runtime_isa` function is deprecated. Please migrate away from using this function.\n",
      "warn: The `get_runtime_isa` function is deprecated. Please migrate away from using this function.\n",
      "warn: No dot file generated. Please install pydot to generate the dot file and pdf.\n",
      "build/ARM/mem/dram_interface.cc:690: warn: DRAM device capacity (8192 Mbytes) does not match the address range assigned (512 Mbytes)\n",
      "build/ARM/base/remote_gdb.cc:416: warn: Sockets disabled, not accepting gdb connections\n",
      "build/ARM/sim/simulate.cc:192: info: Entering event queue @ 0.  Starting simulation...\n",
      "build/ARM/sim/syscall_emul.cc:74: warn: ignoring syscall set_robust_list(...)\n",
      "build/ARM/sim/syscall_emul.cc:74: warn: ignoring syscall rt_sigaction(...)\n",
      "build/ARM/sim/syscall_emul.cc:74: warn: ignoring syscall rt_sigaction(...)\n",
      "build/ARM/sim/syscall_emul.cc:85: warn: ignoring syscall rt_sigprocmask(...)\n",
      "      (further warnings will be suppressed)\n",
      "build/ARM/arch/arm/insts/pseudo.cc:172: warn: \tinstruction 'bti' unimplemented\n",
      "build/ARM/sim/mem_state.cc:443: info: Increasing stack size by one page.\n",
      "build/ARM/sim/syscall_emul.cc:74: warn: ignoring syscall mprotect(...)\n",
      "build/ARM/sim/mem_state.cc:443: info: Increasing stack size by one page.\n"
     ]
    },
    {
     "name": "stdout",
     "output_type": "stream",
     "text": [
      "Global frequency set at 1000000000000 ticks per second\n",
      "gem5 Simulator System.  https://www.gem5.org\n",
      "gem5 is copyrighted software; use the --copyright option for details.\n",
      "\n",
      "gem5 version 22.1.0.0\n",
      "gem5 compiled Jan 26 2023 15:06:33\n",
      "gem5 started Feb 14 2023 14:15:47\n",
      "gem5 executing on aldy, pid 2079500\n",
      "command line: /home/fft_vec/gem5/build/ARM/gem5.opt --outdir=./bench/build-ARM-gem5-opt/bench_yolo-20l/NO_PREDICT_NPP/64MB/ /home/fft_vec/gem5/configs/example/se.py --cpu-clock=2GHz --l1d_size=64kB --l1i_size=16kB --caches --output=stdout.txt --errout=stderr.txt --l2_size=64MB --l2cache -c ./darknet --options bench_yolo-20l\n",
      "\n",
      "info: Standard input is not a terminal, disabling listeners.\n",
      "**** REAL SIMULATION ****\n"
     ]
    },
    {
     "name": "stderr",
     "output_type": "stream",
     "text": [
      "build/ARM/sim/mem_state.cc:443: info: Increasing stack size by one page.\n",
      "build/ARM/sim/mem_state.cc:443: info: Increasing stack size by one page.\n"
     ]
    },
    {
     "name": "stdout",
     "output_type": "stream",
     "text": [
      "Exiting @ tick 310389852500 because exiting with last active thread context\n",
      "./bench/build-ARM-gem5-opt/bench_yolo-20l/NO_PREDICT_NPP/64MB/\n",
      "reading data from file:  ./bench/build-ARM-gem5-opt/bench_yolo-20l/NO_PREDICT_NPP/64MB/stats.txt \n",
      " \n",
      "[('simTicks', 310389852500)]\n",
      "\n",
      " make clean; make NNPACK=1 PREDICT=0 FT8=1 CC=aarch64-none-linux-gnu-gcc CPP=aarch64-none-linux-gnu-g++ \n",
      "\n",
      "rm -rf ./obj/gemm.o ./obj/utils.o ./obj/cuda.o ./obj/deconvolutional_layer.o ./obj/convolutional_layer.o ./obj/list.o ./obj/image.o ./obj/activations.o ./obj/im2col.o ./obj/col2im.o ./obj/blas.o ./obj/crop_layer.o ./obj/dropout_layer.o ./obj/maxpool_layer.o ./obj/softmax_layer.o ./obj/data.o ./obj/matrix.o ./obj/network.o ./obj/connected_layer.o ./obj/cost_layer.o ./obj/parser.o ./obj/option_list.o ./obj/detection_layer.o ./obj/route_layer.o ./obj/upsample_layer.o ./obj/box.o ./obj/normalization_layer.o ./obj/avgpool_layer.o ./obj/layer.o ./obj/local_layer.o ./obj/shortcut_layer.o ./obj/logistic_layer.o ./obj/activation_layer.o ./obj/rnn_layer.o ./obj/gru_layer.o ./obj/crnn_layer.o ./obj/demo.o ./obj/batchnorm_layer.o ./obj/region_layer.o ./obj/reorg_layer.o ./obj/tree.o ./obj/lstm_layer.o ./obj/l2norm_layer.o ./obj/yolo_layer.o ./obj/iseg_layer.o ./obj/image_opencv.o libdarknet.so libdarknet.a darknet ./obj/captcha.o ./obj/lsd.o ./obj/super.o ./obj/art.o ./obj/tag.o ./obj/cifar.o ./obj/go.o ./obj/rnn.o ./obj/segmenter.o ./obj/regressor.o ./obj/classifier.o ./obj/coco.o ./obj/yolo.o ./obj/detector.o ./obj/nightmare.o ./obj/instance-segmenter.o ./obj/darknet.o ./obj/test.o ./obj//*\n",
      "NNPACK=1\n",
      "PREDICT=0\n",
      "FT8=1\n",
      "CPP=aarch64-none-linux-gnu-g++\n",
      "CC=aarch64-none-linux-gnu-gcc\n",
      "aarch64-none-linux-gnu-gcc -Iinclude/ -Isrc/ -Wall -Wno-unused-result -Wno-unknown-pragmas -Wfatal-errors -static -Ofast -fno-tree-vectorize -DNNPACK -c ./src/gemm.c -o obj/gemm.o\n",
      "aarch64-none-linux-gnu-gcc -Iinclude/ -Isrc/ -Wall -Wno-unused-result -Wno-unknown-pragmas -Wfatal-errors -static -Ofast -fno-tree-vectorize -DNNPACK -c ./src/utils.c -o obj/utils.o\n"
     ]
    },
    {
     "name": "stderr",
     "output_type": "stream",
     "text": [
      "In function ‘copy_string’,\n",
      "    inlined from ‘basecfg’ at ./src/utils.c:187:9:\n",
      "./src/utils.c:426:5: warning: ‘strncpy’ specified bound depends on the length of the source argument [-Wstringop-overflow=]\n",
      "  426 |     strncpy(copy, s, strlen(s)+1);\n",
      "      |     ^~~~~~~~~~~~~~~~~~~~~~~~~~~~~\n",
      "./src/utils.c: In function ‘basecfg’:\n",
      "./src/utils.c:426:22: note: length computed here\n",
      "  426 |     strncpy(copy, s, strlen(s)+1);\n",
      "      |                      ^~~~~~~~~\n",
      "./src/utils.c: In function ‘copy_string’:\n",
      "./src/utils.c:426:5: warning: ‘strncpy’ specified bound depends on the length of the source argument [-Wstringop-overflow=]\n",
      "  426 |     strncpy(copy, s, strlen(s)+1);\n",
      "      |     ^~~~~~~~~~~~~~~~~~~~~~~~~~~~~\n",
      "./src/utils.c:426:22: note: length computed here\n",
      "  426 |     strncpy(copy, s, strlen(s)+1);\n",
      "      |                      ^~~~~~~~~\n",
      "In function ‘copy_string’,\n",
      "    inlined from ‘parse_csv_line’ at ./src/utils.c:439:28:\n",
      "./src/utils.c:426:5: warning: ‘strncpy’ specified bound depends on the length of the source argument [-Wstringop-overflow=]\n",
      "  426 |     strncpy(copy, s, strlen(s)+1);\n",
      "      |     ^~~~~~~~~~~~~~~~~~~~~~~~~~~~~\n",
      "./src/utils.c: In function ‘parse_csv_line’:\n",
      "./src/utils.c:426:22: note: length computed here\n",
      "  426 |     strncpy(copy, s, strlen(s)+1);\n",
      "      |                      ^~~~~~~~~\n",
      "In function ‘copy_string’,\n",
      "    inlined from ‘parse_csv_line’ at ./src/utils.c:443:20:\n",
      "./src/utils.c:426:5: warning: ‘strncpy’ specified bound depends on the length of the source argument [-Wstringop-overflow=]\n",
      "  426 |     strncpy(copy, s, strlen(s)+1);\n",
      "      |     ^~~~~~~~~~~~~~~~~~~~~~~~~~~~~\n",
      "./src/utils.c: In function ‘parse_csv_line’:\n",
      "./src/utils.c:426:22: note: length computed here\n",
      "  426 |     strncpy(copy, s, strlen(s)+1);\n",
      "      |                      ^~~~~~~~~\n"
     ]
    },
    {
     "name": "stdout",
     "output_type": "stream",
     "text": [
      "aarch64-none-linux-gnu-gcc -Iinclude/ -Isrc/ -Wall -Wno-unused-result -Wno-unknown-pragmas -Wfatal-errors -static -Ofast -fno-tree-vectorize -DNNPACK -c ./src/cuda.c -o obj/cuda.o\n",
      "aarch64-none-linux-gnu-gcc -Iinclude/ -Isrc/ -Wall -Wno-unused-result -Wno-unknown-pragmas -Wfatal-errors -static -Ofast -fno-tree-vectorize -DNNPACK -c ./src/deconvolutional_layer.c -o obj/deconvolutional_layer.o\n",
      "aarch64-none-linux-gnu-gcc -Iinclude/ -Isrc/ -Wall -Wno-unused-result -Wno-unknown-pragmas -Wfatal-errors -static -Ofast -fno-tree-vectorize -DNNPACK -c ./src/convolutional_layer.c -o obj/convolutional_layer.o\n",
      "aarch64-none-linux-gnu-gcc -Iinclude/ -Isrc/ -Wall -Wno-unused-result -Wno-unknown-pragmas -Wfatal-errors -static -Ofast -fno-tree-vectorize -DNNPACK -c ./src/list.c -o obj/list.o\n",
      "aarch64-none-linux-gnu-gcc -Iinclude/ -Isrc/ -Wall -Wno-unused-result -Wno-unknown-pragmas -Wfatal-errors -static -Ofast -fno-tree-vectorize -DNNPACK -c ./src/image.c -o obj/image.o\n",
      "aarch64-none-linux-gnu-gcc -Iinclude/ -Isrc/ -Wall -Wno-unused-result -Wno-unknown-pragmas -Wfatal-errors -static -Ofast -fno-tree-vectorize -DNNPACK -c ./src/activations.c -o obj/activations.o\n",
      "aarch64-none-linux-gnu-gcc -Iinclude/ -Isrc/ -Wall -Wno-unused-result -Wno-unknown-pragmas -Wfatal-errors -static -Ofast -fno-tree-vectorize -DNNPACK -c ./src/im2col.c -o obj/im2col.o\n",
      "aarch64-none-linux-gnu-gcc -Iinclude/ -Isrc/ -Wall -Wno-unused-result -Wno-unknown-pragmas -Wfatal-errors -static -Ofast -fno-tree-vectorize -DNNPACK -c ./src/col2im.c -o obj/col2im.o\n",
      "aarch64-none-linux-gnu-gcc -Iinclude/ -Isrc/ -Wall -Wno-unused-result -Wno-unknown-pragmas -Wfatal-errors -static -Ofast -fno-tree-vectorize -DNNPACK -c ./src/blas.c -o obj/blas.o\n",
      "aarch64-none-linux-gnu-gcc -Iinclude/ -Isrc/ -Wall -Wno-unused-result -Wno-unknown-pragmas -Wfatal-errors -static -Ofast -fno-tree-vectorize -DNNPACK -c ./src/crop_layer.c -o obj/crop_layer.o\n",
      "aarch64-none-linux-gnu-gcc -Iinclude/ -Isrc/ -Wall -Wno-unused-result -Wno-unknown-pragmas -Wfatal-errors -static -Ofast -fno-tree-vectorize -DNNPACK -c ./src/dropout_layer.c -o obj/dropout_layer.o\n",
      "aarch64-none-linux-gnu-gcc -Iinclude/ -Isrc/ -Wall -Wno-unused-result -Wno-unknown-pragmas -Wfatal-errors -static -Ofast -fno-tree-vectorize -DNNPACK -c ./src/maxpool_layer.c -o obj/maxpool_layer.o\n",
      "aarch64-none-linux-gnu-gcc -Iinclude/ -Isrc/ -Wall -Wno-unused-result -Wno-unknown-pragmas -Wfatal-errors -static -Ofast -fno-tree-vectorize -DNNPACK -c ./src/softmax_layer.c -o obj/softmax_layer.o\n",
      "aarch64-none-linux-gnu-gcc -Iinclude/ -Isrc/ -Wall -Wno-unused-result -Wno-unknown-pragmas -Wfatal-errors -static -Ofast -fno-tree-vectorize -DNNPACK -c ./src/data.c -o obj/data.o\n",
      "aarch64-none-linux-gnu-gcc -Iinclude/ -Isrc/ -Wall -Wno-unused-result -Wno-unknown-pragmas -Wfatal-errors -static -Ofast -fno-tree-vectorize -DNNPACK -c ./src/matrix.c -o obj/matrix.o\n",
      "aarch64-none-linux-gnu-gcc -Iinclude/ -Isrc/ -Wall -Wno-unused-result -Wno-unknown-pragmas -Wfatal-errors -static -Ofast -fno-tree-vectorize -DNNPACK -c ./src/network.c -o obj/network.o\n",
      "aarch64-none-linux-gnu-gcc -Iinclude/ -Isrc/ -Wall -Wno-unused-result -Wno-unknown-pragmas -Wfatal-errors -static -Ofast -fno-tree-vectorize -DNNPACK -c ./src/connected_layer.c -o obj/connected_layer.o\n",
      "aarch64-none-linux-gnu-gcc -Iinclude/ -Isrc/ -Wall -Wno-unused-result -Wno-unknown-pragmas -Wfatal-errors -static -Ofast -fno-tree-vectorize -DNNPACK -c ./src/cost_layer.c -o obj/cost_layer.o\n",
      "aarch64-none-linux-gnu-gcc -Iinclude/ -Isrc/ -Wall -Wno-unused-result -Wno-unknown-pragmas -Wfatal-errors -static -Ofast -fno-tree-vectorize -DNNPACK -c ./src/parser.c -o obj/parser.o\n",
      "aarch64-none-linux-gnu-gcc -Iinclude/ -Isrc/ -Wall -Wno-unused-result -Wno-unknown-pragmas -Wfatal-errors -static -Ofast -fno-tree-vectorize -DNNPACK -c ./src/option_list.c -o obj/option_list.o\n",
      "aarch64-none-linux-gnu-gcc -Iinclude/ -Isrc/ -Wall -Wno-unused-result -Wno-unknown-pragmas -Wfatal-errors -static -Ofast -fno-tree-vectorize -DNNPACK -c ./src/detection_layer.c -o obj/detection_layer.o\n",
      "aarch64-none-linux-gnu-gcc -Iinclude/ -Isrc/ -Wall -Wno-unused-result -Wno-unknown-pragmas -Wfatal-errors -static -Ofast -fno-tree-vectorize -DNNPACK -c ./src/route_layer.c -o obj/route_layer.o\n",
      "aarch64-none-linux-gnu-gcc -Iinclude/ -Isrc/ -Wall -Wno-unused-result -Wno-unknown-pragmas -Wfatal-errors -static -Ofast -fno-tree-vectorize -DNNPACK -c ./src/upsample_layer.c -o obj/upsample_layer.o\n",
      "aarch64-none-linux-gnu-gcc -Iinclude/ -Isrc/ -Wall -Wno-unused-result -Wno-unknown-pragmas -Wfatal-errors -static -Ofast -fno-tree-vectorize -DNNPACK -c ./src/box.c -o obj/box.o\n",
      "aarch64-none-linux-gnu-gcc -Iinclude/ -Isrc/ -Wall -Wno-unused-result -Wno-unknown-pragmas -Wfatal-errors -static -Ofast -fno-tree-vectorize -DNNPACK -c ./src/normalization_layer.c -o obj/normalization_layer.o\n",
      "aarch64-none-linux-gnu-gcc -Iinclude/ -Isrc/ -Wall -Wno-unused-result -Wno-unknown-pragmas -Wfatal-errors -static -Ofast -fno-tree-vectorize -DNNPACK -c ./src/avgpool_layer.c -o obj/avgpool_layer.o\n",
      "aarch64-none-linux-gnu-gcc -Iinclude/ -Isrc/ -Wall -Wno-unused-result -Wno-unknown-pragmas -Wfatal-errors -static -Ofast -fno-tree-vectorize -DNNPACK -c ./src/layer.c -o obj/layer.o\n",
      "aarch64-none-linux-gnu-gcc -Iinclude/ -Isrc/ -Wall -Wno-unused-result -Wno-unknown-pragmas -Wfatal-errors -static -Ofast -fno-tree-vectorize -DNNPACK -c ./src/local_layer.c -o obj/local_layer.o\n",
      "aarch64-none-linux-gnu-gcc -Iinclude/ -Isrc/ -Wall -Wno-unused-result -Wno-unknown-pragmas -Wfatal-errors -static -Ofast -fno-tree-vectorize -DNNPACK -c ./src/shortcut_layer.c -o obj/shortcut_layer.o\n",
      "aarch64-none-linux-gnu-gcc -Iinclude/ -Isrc/ -Wall -Wno-unused-result -Wno-unknown-pragmas -Wfatal-errors -static -Ofast -fno-tree-vectorize -DNNPACK -c ./src/logistic_layer.c -o obj/logistic_layer.o\n",
      "aarch64-none-linux-gnu-gcc -Iinclude/ -Isrc/ -Wall -Wno-unused-result -Wno-unknown-pragmas -Wfatal-errors -static -Ofast -fno-tree-vectorize -DNNPACK -c ./src/activation_layer.c -o obj/activation_layer.o\n",
      "aarch64-none-linux-gnu-gcc -Iinclude/ -Isrc/ -Wall -Wno-unused-result -Wno-unknown-pragmas -Wfatal-errors -static -Ofast -fno-tree-vectorize -DNNPACK -c ./src/rnn_layer.c -o obj/rnn_layer.o\n",
      "aarch64-none-linux-gnu-gcc -Iinclude/ -Isrc/ -Wall -Wno-unused-result -Wno-unknown-pragmas -Wfatal-errors -static -Ofast -fno-tree-vectorize -DNNPACK -c ./src/gru_layer.c -o obj/gru_layer.o\n",
      "aarch64-none-linux-gnu-gcc -Iinclude/ -Isrc/ -Wall -Wno-unused-result -Wno-unknown-pragmas -Wfatal-errors -static -Ofast -fno-tree-vectorize -DNNPACK -c ./src/crnn_layer.c -o obj/crnn_layer.o\n",
      "aarch64-none-linux-gnu-gcc -Iinclude/ -Isrc/ -Wall -Wno-unused-result -Wno-unknown-pragmas -Wfatal-errors -static -Ofast -fno-tree-vectorize -DNNPACK -c ./src/demo.c -o obj/demo.o\n",
      "aarch64-none-linux-gnu-gcc -Iinclude/ -Isrc/ -Wall -Wno-unused-result -Wno-unknown-pragmas -Wfatal-errors -static -Ofast -fno-tree-vectorize -DNNPACK -c ./src/batchnorm_layer.c -o obj/batchnorm_layer.o\n",
      "aarch64-none-linux-gnu-gcc -Iinclude/ -Isrc/ -Wall -Wno-unused-result -Wno-unknown-pragmas -Wfatal-errors -static -Ofast -fno-tree-vectorize -DNNPACK -c ./src/region_layer.c -o obj/region_layer.o\n",
      "aarch64-none-linux-gnu-gcc -Iinclude/ -Isrc/ -Wall -Wno-unused-result -Wno-unknown-pragmas -Wfatal-errors -static -Ofast -fno-tree-vectorize -DNNPACK -c ./src/reorg_layer.c -o obj/reorg_layer.o\n",
      "aarch64-none-linux-gnu-gcc -Iinclude/ -Isrc/ -Wall -Wno-unused-result -Wno-unknown-pragmas -Wfatal-errors -static -Ofast -fno-tree-vectorize -DNNPACK -c ./src/tree.c -o obj/tree.o\n",
      "aarch64-none-linux-gnu-gcc -Iinclude/ -Isrc/ -Wall -Wno-unused-result -Wno-unknown-pragmas -Wfatal-errors -static -Ofast -fno-tree-vectorize -DNNPACK -c ./src/lstm_layer.c -o obj/lstm_layer.o\n",
      "aarch64-none-linux-gnu-gcc -Iinclude/ -Isrc/ -Wall -Wno-unused-result -Wno-unknown-pragmas -Wfatal-errors -static -Ofast -fno-tree-vectorize -DNNPACK -c ./src/l2norm_layer.c -o obj/l2norm_layer.o\n",
      "aarch64-none-linux-gnu-gcc -Iinclude/ -Isrc/ -Wall -Wno-unused-result -Wno-unknown-pragmas -Wfatal-errors -static -Ofast -fno-tree-vectorize -DNNPACK -c ./src/yolo_layer.c -o obj/yolo_layer.o\n",
      "aarch64-none-linux-gnu-gcc -Iinclude/ -Isrc/ -Wall -Wno-unused-result -Wno-unknown-pragmas -Wfatal-errors -static -Ofast -fno-tree-vectorize -DNNPACK -c ./src/iseg_layer.c -o obj/iseg_layer.o\n",
      "aarch64-none-linux-gnu-g++ -Iinclude/ -Isrc/ -Wall -Wno-unused-result -Wno-unknown-pragmas -Wfatal-errors -static -Ofast -fno-tree-vectorize -DNNPACK -c ./src/image_opencv.cpp -o obj/image_opencv.o\n",
      "ar rcs libdarknet.a obj/gemm.o obj/utils.o obj/cuda.o obj/deconvolutional_layer.o obj/convolutional_layer.o obj/list.o obj/image.o obj/activations.o obj/im2col.o obj/col2im.o obj/blas.o obj/crop_layer.o obj/dropout_layer.o obj/maxpool_layer.o obj/softmax_layer.o obj/data.o obj/matrix.o obj/network.o obj/connected_layer.o obj/cost_layer.o obj/parser.o obj/option_list.o obj/detection_layer.o obj/route_layer.o obj/upsample_layer.o obj/box.o obj/normalization_layer.o obj/avgpool_layer.o obj/layer.o obj/local_layer.o obj/shortcut_layer.o obj/logistic_layer.o obj/activation_layer.o obj/rnn_layer.o obj/gru_layer.o obj/crnn_layer.o obj/demo.o obj/batchnorm_layer.o obj/region_layer.o obj/reorg_layer.o obj/tree.o obj/lstm_layer.o obj/l2norm_layer.o obj/yolo_layer.o obj/iseg_layer.o obj/image_opencv.o\n",
      "aarch64-none-linux-gnu-gcc -Iinclude/ -Isrc/ -Wall -Wno-unused-result -Wno-unknown-pragmas -Wfatal-errors -static -Ofast -fno-tree-vectorize -DNNPACK -c ./examples/captcha.c -o obj/captcha.o\n"
     ]
    },
    {
     "name": "stdout",
     "output_type": "stream",
     "text": [
      "aarch64-none-linux-gnu-gcc -Iinclude/ -Isrc/ -Wall -Wno-unused-result -Wno-unknown-pragmas -Wfatal-errors -static -Ofast -fno-tree-vectorize -DNNPACK -c ./examples/lsd.c -o obj/lsd.o\n",
      "aarch64-none-linux-gnu-gcc -Iinclude/ -Isrc/ -Wall -Wno-unused-result -Wno-unknown-pragmas -Wfatal-errors -static -Ofast -fno-tree-vectorize -DNNPACK -c ./examples/super.c -o obj/super.o\n",
      "aarch64-none-linux-gnu-gcc -Iinclude/ -Isrc/ -Wall -Wno-unused-result -Wno-unknown-pragmas -Wfatal-errors -static -Ofast -fno-tree-vectorize -DNNPACK -c ./examples/art.c -o obj/art.o\n",
      "aarch64-none-linux-gnu-gcc -Iinclude/ -Isrc/ -Wall -Wno-unused-result -Wno-unknown-pragmas -Wfatal-errors -static -Ofast -fno-tree-vectorize -DNNPACK -c ./examples/tag.c -o obj/tag.o\n",
      "aarch64-none-linux-gnu-gcc -Iinclude/ -Isrc/ -Wall -Wno-unused-result -Wno-unknown-pragmas -Wfatal-errors -static -Ofast -fno-tree-vectorize -DNNPACK -c ./examples/cifar.c -o obj/cifar.o\n",
      "aarch64-none-linux-gnu-gcc -Iinclude/ -Isrc/ -Wall -Wno-unused-result -Wno-unknown-pragmas -Wfatal-errors -static -Ofast -fno-tree-vectorize -DNNPACK -c ./examples/go.c -o obj/go.o\n",
      "aarch64-none-linux-gnu-gcc -Iinclude/ -Isrc/ -Wall -Wno-unused-result -Wno-unknown-pragmas -Wfatal-errors -static -Ofast -fno-tree-vectorize -DNNPACK -c ./examples/rnn.c -o obj/rnn.o\n",
      "aarch64-none-linux-gnu-gcc -Iinclude/ -Isrc/ -Wall -Wno-unused-result -Wno-unknown-pragmas -Wfatal-errors -static -Ofast -fno-tree-vectorize -DNNPACK -c ./examples/segmenter.c -o obj/segmenter.o\n",
      "aarch64-none-linux-gnu-gcc -Iinclude/ -Isrc/ -Wall -Wno-unused-result -Wno-unknown-pragmas -Wfatal-errors -static -Ofast -fno-tree-vectorize -DNNPACK -c ./examples/regressor.c -o obj/regressor.o\n",
      "aarch64-none-linux-gnu-gcc -Iinclude/ -Isrc/ -Wall -Wno-unused-result -Wno-unknown-pragmas -Wfatal-errors -static -Ofast -fno-tree-vectorize -DNNPACK -c ./examples/classifier.c -o obj/classifier.o\n",
      "aarch64-none-linux-gnu-gcc -Iinclude/ -Isrc/ -Wall -Wno-unused-result -Wno-unknown-pragmas -Wfatal-errors -static -Ofast -fno-tree-vectorize -DNNPACK -c ./examples/coco.c -o obj/coco.o\n",
      "aarch64-none-linux-gnu-gcc -Iinclude/ -Isrc/ -Wall -Wno-unused-result -Wno-unknown-pragmas -Wfatal-errors -static -Ofast -fno-tree-vectorize -DNNPACK -c ./examples/yolo.c -o obj/yolo.o\n",
      "aarch64-none-linux-gnu-gcc -Iinclude/ -Isrc/ -Wall -Wno-unused-result -Wno-unknown-pragmas -Wfatal-errors -static -Ofast -fno-tree-vectorize -DNNPACK -c ./examples/detector.c -o obj/detector.o\n"
     ]
    },
    {
     "name": "stderr",
     "output_type": "stream",
     "text": [
      "./examples/detector.c: In function ‘test_detector’:\n",
      "./examples/detector.c:597:16: warning: unused variable ‘X’ [-Wunused-variable]\n",
      "  597 |         float *X = sized.data;\n",
      "      |                ^\n"
     ]
    },
    {
     "name": "stdout",
     "output_type": "stream",
     "text": [
      "aarch64-none-linux-gnu-gcc -Iinclude/ -Isrc/ -Wall -Wno-unused-result -Wno-unknown-pragmas -Wfatal-errors -static -Ofast -fno-tree-vectorize -DNNPACK -c ./examples/nightmare.c -o obj/nightmare.o\n",
      "aarch64-none-linux-gnu-gcc -Iinclude/ -Isrc/ -Wall -Wno-unused-result -Wno-unknown-pragmas -Wfatal-errors -static -Ofast -fno-tree-vectorize -DNNPACK -c ./examples/instance-segmenter.c -o obj/instance-segmenter.o\n",
      "aarch64-none-linux-gnu-gcc -Iinclude/ -Isrc/ -Wall -Wno-unused-result -Wno-unknown-pragmas -Wfatal-errors -static -Ofast -fno-tree-vectorize -DNNPACK -c ./examples/darknet.c -o obj/darknet.o\n",
      "aarch64-none-linux-gnu-gcc -Iinclude/ -Isrc/ -Wall -Wno-unused-result -Wno-unknown-pragmas -Wfatal-errors -static -Ofast -fno-tree-vectorize -DNNPACK -c ./examples/test.c -o obj/test.o\n",
      "aarch64-none-linux-gnu-gcc -Iinclude/ -Isrc/ -Wall -Wno-unused-result -Wno-unknown-pragmas -Wfatal-errors -static -Ofast -fno-tree-vectorize -DNNPACK obj/captcha.o obj/lsd.o obj/super.o obj/art.o obj/tag.o obj/cifar.o obj/go.o obj/rnn.o obj/segmenter.o obj/regressor.o obj/classifier.o obj/coco.o obj/yolo.o obj/detector.o obj/nightmare.o obj/instance-segmenter.o obj/darknet.o obj/test.o libdarknet.a -o darknet -lm -pthread -L/home/fft_vec/arm-deps/usr/local/lib -l:libnnpack.a -l:libpthreadpool.a -l:libcpuinfo.a -l:libclog.a libdarknet.a\n",
      "/home/fft_vec/gem5/build/ARM/gem5.opt --outdir=./bench/build-ARM-gem5-opt/bench_yolo-20l/NO_PREDICT_NPP/8MB/ /home/fft_vec/gem5/configs/example/se.py --cpu-clock=2GHz --l1d_size=64kB --l1i_size=16kB --caches --output=stdout.txt  --errout=stderr.txt --l2_size=8MB --l2cache -c \"./darknet\" --options \"bench_yolo-20l\"\n",
      "\n",
      "\n"
     ]
    },
    {
     "name": "stderr",
     "output_type": "stream",
     "text": [
      "warn: The `get_runtime_isa` function is deprecated. Please migrate away from using this function.\n",
      "warn: The `get_runtime_isa` function is deprecated. Please migrate away from using this function.\n",
      "warn: No dot file generated. Please install pydot to generate the dot file and pdf.\n",
      "build/ARM/mem/dram_interface.cc:690: warn: DRAM device capacity (8192 Mbytes) does not match the address range assigned (512 Mbytes)\n",
      "build/ARM/base/remote_gdb.cc:416: warn: Sockets disabled, not accepting gdb connections\n",
      "build/ARM/sim/simulate.cc:192: info: Entering event queue @ 0.  Starting simulation...\n",
      "build/ARM/sim/syscall_emul.cc:74: warn: ignoring syscall set_robust_list(...)\n",
      "build/ARM/sim/syscall_emul.cc:74: warn: ignoring syscall rt_sigaction(...)\n",
      "build/ARM/sim/syscall_emul.cc:74: warn: ignoring syscall rt_sigaction(...)\n",
      "build/ARM/sim/syscall_emul.cc:85: warn: ignoring syscall rt_sigprocmask(...)\n",
      "      (further warnings will be suppressed)\n",
      "build/ARM/arch/arm/insts/pseudo.cc:172: warn: \tinstruction 'bti' unimplemented\n",
      "build/ARM/sim/mem_state.cc:443: info: Increasing stack size by one page.\n",
      "build/ARM/sim/syscall_emul.cc:74: warn: ignoring syscall mprotect(...)\n",
      "build/ARM/sim/mem_state.cc:443: info: Increasing stack size by one page.\n"
     ]
    },
    {
     "name": "stdout",
     "output_type": "stream",
     "text": [
      "Global frequency set at 1000000000000 ticks per second\n",
      "gem5 Simulator System.  https://www.gem5.org\n",
      "gem5 is copyrighted software; use the --copyright option for details.\n",
      "\n",
      "gem5 version 22.1.0.0\n",
      "gem5 compiled Jan 26 2023 15:06:33\n",
      "gem5 started Feb 14 2023 14:19:51\n",
      "gem5 executing on aldy, pid 2093928\n",
      "command line: /home/fft_vec/gem5/build/ARM/gem5.opt --outdir=./bench/build-ARM-gem5-opt/bench_yolo-20l/NO_PREDICT_NPP/8MB/ /home/fft_vec/gem5/configs/example/se.py --cpu-clock=2GHz --l1d_size=64kB --l1i_size=16kB --caches --output=stdout.txt --errout=stderr.txt --l2_size=8MB --l2cache -c ./darknet --options bench_yolo-20l\n",
      "\n",
      "info: Standard input is not a terminal, disabling listeners.\n",
      "**** REAL SIMULATION ****\n"
     ]
    },
    {
     "name": "stderr",
     "output_type": "stream",
     "text": [
      "build/ARM/sim/mem_state.cc:443: info: Increasing stack size by one page.\n",
      "build/ARM/sim/mem_state.cc:443: info: Increasing stack size by one page.\n"
     ]
    },
    {
     "name": "stdout",
     "output_type": "stream",
     "text": [
      "Exiting @ tick 310389847000 because exiting with last active thread context\n",
      "./bench/build-ARM-gem5-opt/bench_yolo-20l/NO_PREDICT_NPP/8MB/\n",
      "reading data from file:  ./bench/build-ARM-gem5-opt/bench_yolo-20l/NO_PREDICT_NPP/8MB/stats.txt \n",
      " \n",
      "[('simTicks', 310389847000)]\n"
     ]
    },
    {
     "data": {
      "text/plain": [
       "([[('simTicks', 310389858000)],\n",
       "  [('simTicks', 310389852500)],\n",
       "  [('simTicks', 310389847000)]],\n",
       " ['./bench/build-ARM-gem5-opt/bench_yolo-20l/NO_PREDICT_NPP/256MB/',\n",
       "  './bench/build-ARM-gem5-opt/bench_yolo-20l/NO_PREDICT_NPP/64MB/',\n",
       "  './bench/build-ARM-gem5-opt/bench_yolo-20l/NO_PREDICT_NPP/8MB/'])"
      ]
     },
     "execution_count": 51,
     "metadata": {},
     "output_type": "execute_result"
    }
   ],
   "source": [
    "setupnppticks_npp = cyclesToSetup_npp(yolo, chaceOptions,chaceSizes)\n",
    "setupnppticks_npp "
   ]
  },
  {
   "cell_type": "code",
   "execution_count": 29,
   "id": "3d9fbb7f",
   "metadata": {},
   "outputs": [
    {
     "data": {
      "text/plain": [
       "([[('simTicks', 2614375470500)],\n",
       "  [('simTicks', 2614375465000)],\n",
       "  [('simTicks', 2614375459500)]],\n",
       " ['./bench/build-ARM-gem5-opt/bench_yolo-tiny/NO_PREDICT_NPP/256MB/',\n",
       "  './bench/build-ARM-gem5-opt/bench_yolo-tiny/NO_PREDICT_NPP/64MB/',\n",
       "  './bench/build-ARM-gem5-opt/bench_yolo-tiny/NO_PREDICT_NPP/8MB/'])"
      ]
     },
     "execution_count": 29,
     "metadata": {},
     "output_type": "execute_result"
    }
   ],
   "source": []
  },
  {
   "cell_type": "markdown",
   "id": "6b050d5b",
   "metadata": {},
   "source": [
    "# FT8"
   ]
  },
  {
   "cell_type": "code",
   "execution_count": 31,
   "id": "faf4f748",
   "metadata": {},
   "outputs": [
    {
     "name": "stdout",
     "output_type": "stream",
     "text": [
      "\n",
      " make clean; make NNPACK=1 FT8=1 CC=aarch64-none-linux-gnu-gcc CPP=aarch64-none-linux-gnu-g++ \n",
      "\n",
      "rm -rf ./obj/gemm.o ./obj/utils.o ./obj/cuda.o ./obj/deconvolutional_layer.o ./obj/convolutional_layer.o ./obj/list.o ./obj/image.o ./obj/activations.o ./obj/im2col.o ./obj/col2im.o ./obj/blas.o ./obj/crop_layer.o ./obj/dropout_layer.o ./obj/maxpool_layer.o ./obj/softmax_layer.o ./obj/data.o ./obj/matrix.o ./obj/network.o ./obj/connected_layer.o ./obj/cost_layer.o ./obj/parser.o ./obj/option_list.o ./obj/detection_layer.o ./obj/route_layer.o ./obj/upsample_layer.o ./obj/box.o ./obj/normalization_layer.o ./obj/avgpool_layer.o ./obj/layer.o ./obj/local_layer.o ./obj/shortcut_layer.o ./obj/logistic_layer.o ./obj/activation_layer.o ./obj/rnn_layer.o ./obj/gru_layer.o ./obj/crnn_layer.o ./obj/demo.o ./obj/batchnorm_layer.o ./obj/region_layer.o ./obj/reorg_layer.o ./obj/tree.o ./obj/lstm_layer.o ./obj/l2norm_layer.o ./obj/yolo_layer.o ./obj/iseg_layer.o ./obj/image_opencv.o libdarknet.so libdarknet.a darknet ./obj/captcha.o ./obj/lsd.o ./obj/super.o ./obj/art.o ./obj/tag.o ./obj/cifar.o ./obj/go.o ./obj/rnn.o ./obj/segmenter.o ./obj/regressor.o ./obj/classifier.o ./obj/coco.o ./obj/yolo.o ./obj/detector.o ./obj/nightmare.o ./obj/instance-segmenter.o ./obj/darknet.o ./obj/test.o ./obj//*\n",
      "NNPACK=1\n",
      "FT8=1\n",
      "CPP=aarch64-none-linux-gnu-g++\n",
      "CC=aarch64-none-linux-gnu-gcc\n",
      "aarch64-none-linux-gnu-gcc -Iinclude/ -Isrc/ -Wall -Wno-unused-result -Wno-unknown-pragmas -Wfatal-errors -static -Ofast -fno-tree-vectorize -DNNPACK -c ./src/gemm.c -o obj/gemm.o\n",
      "aarch64-none-linux-gnu-gcc -Iinclude/ -Isrc/ -Wall -Wno-unused-result -Wno-unknown-pragmas -Wfatal-errors -static -Ofast -fno-tree-vectorize -DNNPACK -c ./src/utils.c -o obj/utils.o\n"
     ]
    },
    {
     "name": "stderr",
     "output_type": "stream",
     "text": [
      "In function ‘copy_string’,\n",
      "    inlined from ‘basecfg’ at ./src/utils.c:187:9:\n",
      "./src/utils.c:426:5: warning: ‘strncpy’ specified bound depends on the length of the source argument [-Wstringop-overflow=]\n",
      "  426 |     strncpy(copy, s, strlen(s)+1);\n",
      "      |     ^~~~~~~~~~~~~~~~~~~~~~~~~~~~~\n",
      "./src/utils.c: In function ‘basecfg’:\n",
      "./src/utils.c:426:22: note: length computed here\n",
      "  426 |     strncpy(copy, s, strlen(s)+1);\n",
      "      |                      ^~~~~~~~~\n",
      "./src/utils.c: In function ‘copy_string’:\n",
      "./src/utils.c:426:5: warning: ‘strncpy’ specified bound depends on the length of the source argument [-Wstringop-overflow=]\n",
      "  426 |     strncpy(copy, s, strlen(s)+1);\n",
      "      |     ^~~~~~~~~~~~~~~~~~~~~~~~~~~~~\n",
      "./src/utils.c:426:22: note: length computed here\n",
      "  426 |     strncpy(copy, s, strlen(s)+1);\n",
      "      |                      ^~~~~~~~~\n",
      "In function ‘copy_string’,\n",
      "    inlined from ‘parse_csv_line’ at ./src/utils.c:439:28:\n",
      "./src/utils.c:426:5: warning: ‘strncpy’ specified bound depends on the length of the source argument [-Wstringop-overflow=]\n",
      "  426 |     strncpy(copy, s, strlen(s)+1);\n",
      "      |     ^~~~~~~~~~~~~~~~~~~~~~~~~~~~~\n",
      "./src/utils.c: In function ‘parse_csv_line’:\n",
      "./src/utils.c:426:22: note: length computed here\n",
      "  426 |     strncpy(copy, s, strlen(s)+1);\n",
      "      |                      ^~~~~~~~~\n",
      "In function ‘copy_string’,\n",
      "    inlined from ‘parse_csv_line’ at ./src/utils.c:443:20:\n",
      "./src/utils.c:426:5: warning: ‘strncpy’ specified bound depends on the length of the source argument [-Wstringop-overflow=]\n",
      "  426 |     strncpy(copy, s, strlen(s)+1);\n",
      "      |     ^~~~~~~~~~~~~~~~~~~~~~~~~~~~~\n",
      "./src/utils.c: In function ‘parse_csv_line’:\n",
      "./src/utils.c:426:22: note: length computed here\n",
      "  426 |     strncpy(copy, s, strlen(s)+1);\n",
      "      |                      ^~~~~~~~~\n"
     ]
    },
    {
     "name": "stdout",
     "output_type": "stream",
     "text": [
      "aarch64-none-linux-gnu-gcc -Iinclude/ -Isrc/ -Wall -Wno-unused-result -Wno-unknown-pragmas -Wfatal-errors -static -Ofast -fno-tree-vectorize -DNNPACK -c ./src/cuda.c -o obj/cuda.o\n",
      "aarch64-none-linux-gnu-gcc -Iinclude/ -Isrc/ -Wall -Wno-unused-result -Wno-unknown-pragmas -Wfatal-errors -static -Ofast -fno-tree-vectorize -DNNPACK -c ./src/deconvolutional_layer.c -o obj/deconvolutional_layer.o\n",
      "aarch64-none-linux-gnu-gcc -Iinclude/ -Isrc/ -Wall -Wno-unused-result -Wno-unknown-pragmas -Wfatal-errors -static -Ofast -fno-tree-vectorize -DNNPACK -c ./src/convolutional_layer.c -o obj/convolutional_layer.o\n",
      "aarch64-none-linux-gnu-gcc -Iinclude/ -Isrc/ -Wall -Wno-unused-result -Wno-unknown-pragmas -Wfatal-errors -static -Ofast -fno-tree-vectorize -DNNPACK -c ./src/list.c -o obj/list.o\n",
      "aarch64-none-linux-gnu-gcc -Iinclude/ -Isrc/ -Wall -Wno-unused-result -Wno-unknown-pragmas -Wfatal-errors -static -Ofast -fno-tree-vectorize -DNNPACK -c ./src/image.c -o obj/image.o\n",
      "aarch64-none-linux-gnu-gcc -Iinclude/ -Isrc/ -Wall -Wno-unused-result -Wno-unknown-pragmas -Wfatal-errors -static -Ofast -fno-tree-vectorize -DNNPACK -c ./src/activations.c -o obj/activations.o\n",
      "aarch64-none-linux-gnu-gcc -Iinclude/ -Isrc/ -Wall -Wno-unused-result -Wno-unknown-pragmas -Wfatal-errors -static -Ofast -fno-tree-vectorize -DNNPACK -c ./src/im2col.c -o obj/im2col.o\n",
      "aarch64-none-linux-gnu-gcc -Iinclude/ -Isrc/ -Wall -Wno-unused-result -Wno-unknown-pragmas -Wfatal-errors -static -Ofast -fno-tree-vectorize -DNNPACK -c ./src/col2im.c -o obj/col2im.o\n",
      "aarch64-none-linux-gnu-gcc -Iinclude/ -Isrc/ -Wall -Wno-unused-result -Wno-unknown-pragmas -Wfatal-errors -static -Ofast -fno-tree-vectorize -DNNPACK -c ./src/blas.c -o obj/blas.o\n",
      "aarch64-none-linux-gnu-gcc -Iinclude/ -Isrc/ -Wall -Wno-unused-result -Wno-unknown-pragmas -Wfatal-errors -static -Ofast -fno-tree-vectorize -DNNPACK -c ./src/crop_layer.c -o obj/crop_layer.o\n",
      "aarch64-none-linux-gnu-gcc -Iinclude/ -Isrc/ -Wall -Wno-unused-result -Wno-unknown-pragmas -Wfatal-errors -static -Ofast -fno-tree-vectorize -DNNPACK -c ./src/dropout_layer.c -o obj/dropout_layer.o\n",
      "aarch64-none-linux-gnu-gcc -Iinclude/ -Isrc/ -Wall -Wno-unused-result -Wno-unknown-pragmas -Wfatal-errors -static -Ofast -fno-tree-vectorize -DNNPACK -c ./src/maxpool_layer.c -o obj/maxpool_layer.o\n",
      "aarch64-none-linux-gnu-gcc -Iinclude/ -Isrc/ -Wall -Wno-unused-result -Wno-unknown-pragmas -Wfatal-errors -static -Ofast -fno-tree-vectorize -DNNPACK -c ./src/softmax_layer.c -o obj/softmax_layer.o\n",
      "aarch64-none-linux-gnu-gcc -Iinclude/ -Isrc/ -Wall -Wno-unused-result -Wno-unknown-pragmas -Wfatal-errors -static -Ofast -fno-tree-vectorize -DNNPACK -c ./src/data.c -o obj/data.o\n",
      "aarch64-none-linux-gnu-gcc -Iinclude/ -Isrc/ -Wall -Wno-unused-result -Wno-unknown-pragmas -Wfatal-errors -static -Ofast -fno-tree-vectorize -DNNPACK -c ./src/matrix.c -o obj/matrix.o\n",
      "aarch64-none-linux-gnu-gcc -Iinclude/ -Isrc/ -Wall -Wno-unused-result -Wno-unknown-pragmas -Wfatal-errors -static -Ofast -fno-tree-vectorize -DNNPACK -c ./src/network.c -o obj/network.o\n",
      "aarch64-none-linux-gnu-gcc -Iinclude/ -Isrc/ -Wall -Wno-unused-result -Wno-unknown-pragmas -Wfatal-errors -static -Ofast -fno-tree-vectorize -DNNPACK -c ./src/connected_layer.c -o obj/connected_layer.o\n",
      "aarch64-none-linux-gnu-gcc -Iinclude/ -Isrc/ -Wall -Wno-unused-result -Wno-unknown-pragmas -Wfatal-errors -static -Ofast -fno-tree-vectorize -DNNPACK -c ./src/cost_layer.c -o obj/cost_layer.o\n",
      "aarch64-none-linux-gnu-gcc -Iinclude/ -Isrc/ -Wall -Wno-unused-result -Wno-unknown-pragmas -Wfatal-errors -static -Ofast -fno-tree-vectorize -DNNPACK -c ./src/parser.c -o obj/parser.o\n",
      "aarch64-none-linux-gnu-gcc -Iinclude/ -Isrc/ -Wall -Wno-unused-result -Wno-unknown-pragmas -Wfatal-errors -static -Ofast -fno-tree-vectorize -DNNPACK -c ./src/option_list.c -o obj/option_list.o\n",
      "aarch64-none-linux-gnu-gcc -Iinclude/ -Isrc/ -Wall -Wno-unused-result -Wno-unknown-pragmas -Wfatal-errors -static -Ofast -fno-tree-vectorize -DNNPACK -c ./src/detection_layer.c -o obj/detection_layer.o\n",
      "aarch64-none-linux-gnu-gcc -Iinclude/ -Isrc/ -Wall -Wno-unused-result -Wno-unknown-pragmas -Wfatal-errors -static -Ofast -fno-tree-vectorize -DNNPACK -c ./src/route_layer.c -o obj/route_layer.o\n",
      "aarch64-none-linux-gnu-gcc -Iinclude/ -Isrc/ -Wall -Wno-unused-result -Wno-unknown-pragmas -Wfatal-errors -static -Ofast -fno-tree-vectorize -DNNPACK -c ./src/upsample_layer.c -o obj/upsample_layer.o\n",
      "aarch64-none-linux-gnu-gcc -Iinclude/ -Isrc/ -Wall -Wno-unused-result -Wno-unknown-pragmas -Wfatal-errors -static -Ofast -fno-tree-vectorize -DNNPACK -c ./src/box.c -o obj/box.o\n",
      "aarch64-none-linux-gnu-gcc -Iinclude/ -Isrc/ -Wall -Wno-unused-result -Wno-unknown-pragmas -Wfatal-errors -static -Ofast -fno-tree-vectorize -DNNPACK -c ./src/normalization_layer.c -o obj/normalization_layer.o\n",
      "aarch64-none-linux-gnu-gcc -Iinclude/ -Isrc/ -Wall -Wno-unused-result -Wno-unknown-pragmas -Wfatal-errors -static -Ofast -fno-tree-vectorize -DNNPACK -c ./src/avgpool_layer.c -o obj/avgpool_layer.o\n",
      "aarch64-none-linux-gnu-gcc -Iinclude/ -Isrc/ -Wall -Wno-unused-result -Wno-unknown-pragmas -Wfatal-errors -static -Ofast -fno-tree-vectorize -DNNPACK -c ./src/layer.c -o obj/layer.o\n",
      "aarch64-none-linux-gnu-gcc -Iinclude/ -Isrc/ -Wall -Wno-unused-result -Wno-unknown-pragmas -Wfatal-errors -static -Ofast -fno-tree-vectorize -DNNPACK -c ./src/local_layer.c -o obj/local_layer.o\n",
      "aarch64-none-linux-gnu-gcc -Iinclude/ -Isrc/ -Wall -Wno-unused-result -Wno-unknown-pragmas -Wfatal-errors -static -Ofast -fno-tree-vectorize -DNNPACK -c ./src/shortcut_layer.c -o obj/shortcut_layer.o\n",
      "aarch64-none-linux-gnu-gcc -Iinclude/ -Isrc/ -Wall -Wno-unused-result -Wno-unknown-pragmas -Wfatal-errors -static -Ofast -fno-tree-vectorize -DNNPACK -c ./src/logistic_layer.c -o obj/logistic_layer.o\n",
      "aarch64-none-linux-gnu-gcc -Iinclude/ -Isrc/ -Wall -Wno-unused-result -Wno-unknown-pragmas -Wfatal-errors -static -Ofast -fno-tree-vectorize -DNNPACK -c ./src/activation_layer.c -o obj/activation_layer.o\n",
      "aarch64-none-linux-gnu-gcc -Iinclude/ -Isrc/ -Wall -Wno-unused-result -Wno-unknown-pragmas -Wfatal-errors -static -Ofast -fno-tree-vectorize -DNNPACK -c ./src/rnn_layer.c -o obj/rnn_layer.o\n",
      "aarch64-none-linux-gnu-gcc -Iinclude/ -Isrc/ -Wall -Wno-unused-result -Wno-unknown-pragmas -Wfatal-errors -static -Ofast -fno-tree-vectorize -DNNPACK -c ./src/gru_layer.c -o obj/gru_layer.o\n",
      "aarch64-none-linux-gnu-gcc -Iinclude/ -Isrc/ -Wall -Wno-unused-result -Wno-unknown-pragmas -Wfatal-errors -static -Ofast -fno-tree-vectorize -DNNPACK -c ./src/crnn_layer.c -o obj/crnn_layer.o\n",
      "aarch64-none-linux-gnu-gcc -Iinclude/ -Isrc/ -Wall -Wno-unused-result -Wno-unknown-pragmas -Wfatal-errors -static -Ofast -fno-tree-vectorize -DNNPACK -c ./src/demo.c -o obj/demo.o\n",
      "aarch64-none-linux-gnu-gcc -Iinclude/ -Isrc/ -Wall -Wno-unused-result -Wno-unknown-pragmas -Wfatal-errors -static -Ofast -fno-tree-vectorize -DNNPACK -c ./src/batchnorm_layer.c -o obj/batchnorm_layer.o\n",
      "aarch64-none-linux-gnu-gcc -Iinclude/ -Isrc/ -Wall -Wno-unused-result -Wno-unknown-pragmas -Wfatal-errors -static -Ofast -fno-tree-vectorize -DNNPACK -c ./src/region_layer.c -o obj/region_layer.o\n",
      "aarch64-none-linux-gnu-gcc -Iinclude/ -Isrc/ -Wall -Wno-unused-result -Wno-unknown-pragmas -Wfatal-errors -static -Ofast -fno-tree-vectorize -DNNPACK -c ./src/reorg_layer.c -o obj/reorg_layer.o\n",
      "aarch64-none-linux-gnu-gcc -Iinclude/ -Isrc/ -Wall -Wno-unused-result -Wno-unknown-pragmas -Wfatal-errors -static -Ofast -fno-tree-vectorize -DNNPACK -c ./src/tree.c -o obj/tree.o\n",
      "aarch64-none-linux-gnu-gcc -Iinclude/ -Isrc/ -Wall -Wno-unused-result -Wno-unknown-pragmas -Wfatal-errors -static -Ofast -fno-tree-vectorize -DNNPACK -c ./src/lstm_layer.c -o obj/lstm_layer.o\n",
      "aarch64-none-linux-gnu-gcc -Iinclude/ -Isrc/ -Wall -Wno-unused-result -Wno-unknown-pragmas -Wfatal-errors -static -Ofast -fno-tree-vectorize -DNNPACK -c ./src/l2norm_layer.c -o obj/l2norm_layer.o\n",
      "aarch64-none-linux-gnu-gcc -Iinclude/ -Isrc/ -Wall -Wno-unused-result -Wno-unknown-pragmas -Wfatal-errors -static -Ofast -fno-tree-vectorize -DNNPACK -c ./src/yolo_layer.c -o obj/yolo_layer.o\n",
      "aarch64-none-linux-gnu-gcc -Iinclude/ -Isrc/ -Wall -Wno-unused-result -Wno-unknown-pragmas -Wfatal-errors -static -Ofast -fno-tree-vectorize -DNNPACK -c ./src/iseg_layer.c -o obj/iseg_layer.o\n",
      "aarch64-none-linux-gnu-g++ -Iinclude/ -Isrc/ -Wall -Wno-unused-result -Wno-unknown-pragmas -Wfatal-errors -static -Ofast -fno-tree-vectorize -DNNPACK -c ./src/image_opencv.cpp -o obj/image_opencv.o\n",
      "ar rcs libdarknet.a obj/gemm.o obj/utils.o obj/cuda.o obj/deconvolutional_layer.o obj/convolutional_layer.o obj/list.o obj/image.o obj/activations.o obj/im2col.o obj/col2im.o obj/blas.o obj/crop_layer.o obj/dropout_layer.o obj/maxpool_layer.o obj/softmax_layer.o obj/data.o obj/matrix.o obj/network.o obj/connected_layer.o obj/cost_layer.o obj/parser.o obj/option_list.o obj/detection_layer.o obj/route_layer.o obj/upsample_layer.o obj/box.o obj/normalization_layer.o obj/avgpool_layer.o obj/layer.o obj/local_layer.o obj/shortcut_layer.o obj/logistic_layer.o obj/activation_layer.o obj/rnn_layer.o obj/gru_layer.o obj/crnn_layer.o obj/demo.o obj/batchnorm_layer.o obj/region_layer.o obj/reorg_layer.o obj/tree.o obj/lstm_layer.o obj/l2norm_layer.o obj/yolo_layer.o obj/iseg_layer.o obj/image_opencv.o\n",
      "aarch64-none-linux-gnu-gcc -Iinclude/ -Isrc/ -Wall -Wno-unused-result -Wno-unknown-pragmas -Wfatal-errors -static -Ofast -fno-tree-vectorize -DNNPACK -c ./examples/captcha.c -o obj/captcha.o\n"
     ]
    },
    {
     "name": "stdout",
     "output_type": "stream",
     "text": [
      "aarch64-none-linux-gnu-gcc -Iinclude/ -Isrc/ -Wall -Wno-unused-result -Wno-unknown-pragmas -Wfatal-errors -static -Ofast -fno-tree-vectorize -DNNPACK -c ./examples/lsd.c -o obj/lsd.o\n",
      "aarch64-none-linux-gnu-gcc -Iinclude/ -Isrc/ -Wall -Wno-unused-result -Wno-unknown-pragmas -Wfatal-errors -static -Ofast -fno-tree-vectorize -DNNPACK -c ./examples/super.c -o obj/super.o\n",
      "aarch64-none-linux-gnu-gcc -Iinclude/ -Isrc/ -Wall -Wno-unused-result -Wno-unknown-pragmas -Wfatal-errors -static -Ofast -fno-tree-vectorize -DNNPACK -c ./examples/art.c -o obj/art.o\n",
      "aarch64-none-linux-gnu-gcc -Iinclude/ -Isrc/ -Wall -Wno-unused-result -Wno-unknown-pragmas -Wfatal-errors -static -Ofast -fno-tree-vectorize -DNNPACK -c ./examples/tag.c -o obj/tag.o\n",
      "aarch64-none-linux-gnu-gcc -Iinclude/ -Isrc/ -Wall -Wno-unused-result -Wno-unknown-pragmas -Wfatal-errors -static -Ofast -fno-tree-vectorize -DNNPACK -c ./examples/cifar.c -o obj/cifar.o\n",
      "aarch64-none-linux-gnu-gcc -Iinclude/ -Isrc/ -Wall -Wno-unused-result -Wno-unknown-pragmas -Wfatal-errors -static -Ofast -fno-tree-vectorize -DNNPACK -c ./examples/go.c -o obj/go.o\n",
      "aarch64-none-linux-gnu-gcc -Iinclude/ -Isrc/ -Wall -Wno-unused-result -Wno-unknown-pragmas -Wfatal-errors -static -Ofast -fno-tree-vectorize -DNNPACK -c ./examples/rnn.c -o obj/rnn.o\n",
      "aarch64-none-linux-gnu-gcc -Iinclude/ -Isrc/ -Wall -Wno-unused-result -Wno-unknown-pragmas -Wfatal-errors -static -Ofast -fno-tree-vectorize -DNNPACK -c ./examples/segmenter.c -o obj/segmenter.o\n",
      "aarch64-none-linux-gnu-gcc -Iinclude/ -Isrc/ -Wall -Wno-unused-result -Wno-unknown-pragmas -Wfatal-errors -static -Ofast -fno-tree-vectorize -DNNPACK -c ./examples/regressor.c -o obj/regressor.o\n",
      "aarch64-none-linux-gnu-gcc -Iinclude/ -Isrc/ -Wall -Wno-unused-result -Wno-unknown-pragmas -Wfatal-errors -static -Ofast -fno-tree-vectorize -DNNPACK -c ./examples/classifier.c -o obj/classifier.o\n",
      "aarch64-none-linux-gnu-gcc -Iinclude/ -Isrc/ -Wall -Wno-unused-result -Wno-unknown-pragmas -Wfatal-errors -static -Ofast -fno-tree-vectorize -DNNPACK -c ./examples/coco.c -o obj/coco.o\n",
      "aarch64-none-linux-gnu-gcc -Iinclude/ -Isrc/ -Wall -Wno-unused-result -Wno-unknown-pragmas -Wfatal-errors -static -Ofast -fno-tree-vectorize -DNNPACK -c ./examples/yolo.c -o obj/yolo.o\n",
      "aarch64-none-linux-gnu-gcc -Iinclude/ -Isrc/ -Wall -Wno-unused-result -Wno-unknown-pragmas -Wfatal-errors -static -Ofast -fno-tree-vectorize -DNNPACK -c ./examples/detector.c -o obj/detector.o\n",
      "aarch64-none-linux-gnu-gcc -Iinclude/ -Isrc/ -Wall -Wno-unused-result -Wno-unknown-pragmas -Wfatal-errors -static -Ofast -fno-tree-vectorize -DNNPACK -c ./examples/nightmare.c -o obj/nightmare.o\n",
      "aarch64-none-linux-gnu-gcc -Iinclude/ -Isrc/ -Wall -Wno-unused-result -Wno-unknown-pragmas -Wfatal-errors -static -Ofast -fno-tree-vectorize -DNNPACK -c ./examples/instance-segmenter.c -o obj/instance-segmenter.o\n",
      "aarch64-none-linux-gnu-gcc -Iinclude/ -Isrc/ -Wall -Wno-unused-result -Wno-unknown-pragmas -Wfatal-errors -static -Ofast -fno-tree-vectorize -DNNPACK -c ./examples/darknet.c -o obj/darknet.o\n",
      "aarch64-none-linux-gnu-gcc -Iinclude/ -Isrc/ -Wall -Wno-unused-result -Wno-unknown-pragmas -Wfatal-errors -static -Ofast -fno-tree-vectorize -DNNPACK -c ./examples/test.c -o obj/test.o\n",
      "aarch64-none-linux-gnu-gcc -Iinclude/ -Isrc/ -Wall -Wno-unused-result -Wno-unknown-pragmas -Wfatal-errors -static -Ofast -fno-tree-vectorize -DNNPACK obj/captcha.o obj/lsd.o obj/super.o obj/art.o obj/tag.o obj/cifar.o obj/go.o obj/rnn.o obj/segmenter.o obj/regressor.o obj/classifier.o obj/coco.o obj/yolo.o obj/detector.o obj/nightmare.o obj/instance-segmenter.o obj/darknet.o obj/test.o libdarknet.a -o darknet -lm -pthread -L/home/fft_vec/arm-deps/usr/local/lib -l:libnnpack.a -l:libpthreadpool.a -l:libcpuinfo.a -l:libclog.a libdarknet.a\n",
      "/home/fft_vec/gem5/build/ARM/gem5.opt --outdir=./bench/build-ARM-gem5-opt/bench_yolo-tiny/FT8/256MB/ /home/fft_vec/gem5/configs/example/se.py --cpu-clock=2GHz --l1d_size=64kB --l1i_size=16kB --caches --output=stdout.txt  --errout=stderr.txt --l2_size=256MB --l2cache -c \"./darknet\" --options \"bench_yolo-tiny\"\n",
      "\n",
      "\n"
     ]
    },
    {
     "name": "stderr",
     "output_type": "stream",
     "text": [
      "warn: The `get_runtime_isa` function is deprecated. Please migrate away from using this function.\n",
      "warn: The `get_runtime_isa` function is deprecated. Please migrate away from using this function.\n",
      "warn: No dot file generated. Please install pydot to generate the dot file and pdf.\n",
      "build/ARM/mem/dram_interface.cc:690: warn: DRAM device capacity (8192 Mbytes) does not match the address range assigned (512 Mbytes)\n"
     ]
    },
    {
     "name": "stdout",
     "output_type": "stream",
     "text": [
      "Global frequency set at 1000000000000 ticks per second\n"
     ]
    },
    {
     "name": "stderr",
     "output_type": "stream",
     "text": [
      "build/ARM/base/remote_gdb.cc:416: warn: Sockets disabled, not accepting gdb connections\n",
      "build/ARM/sim/simulate.cc:192: info: Entering event queue @ 0.  Starting simulation...\n",
      "build/ARM/sim/syscall_emul.cc:74: warn: ignoring syscall set_robust_list(...)\n",
      "build/ARM/sim/syscall_emul.cc:74: warn: ignoring syscall rt_sigaction(...)\n",
      "build/ARM/sim/syscall_emul.cc:74: warn: ignoring syscall rt_sigaction(...)\n",
      "build/ARM/sim/syscall_emul.cc:85: warn: ignoring syscall rt_sigprocmask(...)\n",
      "      (further warnings will be suppressed)\n",
      "build/ARM/arch/arm/insts/pseudo.cc:172: warn: \tinstruction 'bti' unimplemented\n",
      "build/ARM/sim/mem_state.cc:443: info: Increasing stack size by one page.\n",
      "build/ARM/sim/syscall_emul.cc:74: warn: ignoring syscall mprotect(...)\n",
      "build/ARM/sim/mem_state.cc:443: info: Increasing stack size by one page.\n"
     ]
    },
    {
     "name": "stdout",
     "output_type": "stream",
     "text": [
      "gem5 Simulator System.  https://www.gem5.org\n",
      "gem5 is copyrighted software; use the --copyright option for details.\n",
      "\n",
      "gem5 version 22.1.0.0\n",
      "gem5 compiled Jan 26 2023 15:06:33\n",
      "gem5 started Feb 13 2023 19:06:24\n",
      "gem5 executing on aldy, pid 3603242\n",
      "command line: /home/fft_vec/gem5/build/ARM/gem5.opt --outdir=./bench/build-ARM-gem5-opt/bench_yolo-tiny/FT8/256MB/ /home/fft_vec/gem5/configs/example/se.py --cpu-clock=2GHz --l1d_size=64kB --l1i_size=16kB --caches --output=stdout.txt --errout=stderr.txt --l2_size=256MB --l2cache -c ./darknet --options bench_yolo-tiny\n",
      "\n",
      "info: Standard input is not a terminal, disabling listeners.\n",
      "**** REAL SIMULATION ****\n"
     ]
    },
    {
     "name": "stderr",
     "output_type": "stream",
     "text": [
      "build/ARM/sim/mem_state.cc:443: info: Increasing stack size by one page.\n",
      "build/ARM/sim/mem_state.cc:443: info: Increasing stack size by one page.\n"
     ]
    },
    {
     "name": "stdout",
     "output_type": "stream",
     "text": [
      "Exiting @ tick 2614375470500 because exiting with last active thread context\n",
      "/home/fft_vec/gem5/build/ARM/gem5.opt --outdir=./bench/build-ARM-gem5-opt/bench_yolo-tiny/FT8/64MB/ /home/fft_vec/gem5/configs/example/se.py --cpu-clock=2GHz --l1d_size=64kB --l1i_size=16kB --caches --output=stdout.txt  --errout=stderr.txt --l2_size=64MB --l2cache -c \"./darknet\" --options \"bench_yolo-tiny\"\n",
      "\n",
      "\n"
     ]
    },
    {
     "name": "stderr",
     "output_type": "stream",
     "text": [
      "warn: The `get_runtime_isa` function is deprecated. Please migrate away from using this function.\n",
      "warn: The `get_runtime_isa` function is deprecated. Please migrate away from using this function.\n",
      "warn: No dot file generated. Please install pydot to generate the dot file and pdf.\n",
      "build/ARM/mem/dram_interface.cc:690: warn: DRAM device capacity (8192 Mbytes) does not match the address range assigned (512 Mbytes)\n",
      "build/ARM/base/remote_gdb.cc:416: warn: Sockets disabled, not accepting gdb connections\n",
      "build/ARM/sim/simulate.cc:192: info: Entering event queue @ 0.  Starting simulation...\n",
      "build/ARM/sim/syscall_emul.cc:74: warn: ignoring syscall set_robust_list(...)\n",
      "build/ARM/sim/syscall_emul.cc:74: warn: ignoring syscall rt_sigaction(...)\n",
      "build/ARM/sim/syscall_emul.cc:74: warn: ignoring syscall rt_sigaction(...)\n",
      "build/ARM/sim/syscall_emul.cc:85: warn: ignoring syscall rt_sigprocmask(...)\n",
      "      (further warnings will be suppressed)\n",
      "build/ARM/arch/arm/insts/pseudo.cc:172: warn: \tinstruction 'bti' unimplemented\n",
      "build/ARM/sim/mem_state.cc:443: info: Increasing stack size by one page.\n",
      "build/ARM/sim/syscall_emul.cc:74: warn: ignoring syscall mprotect(...)\n",
      "build/ARM/sim/mem_state.cc:443: info: Increasing stack size by one page.\n"
     ]
    },
    {
     "name": "stdout",
     "output_type": "stream",
     "text": [
      "Global frequency set at 1000000000000 ticks per second\n",
      "gem5 Simulator System.  https://www.gem5.org\n",
      "gem5 is copyrighted software; use the --copyright option for details.\n",
      "\n",
      "gem5 version 22.1.0.0\n",
      "gem5 compiled Jan 26 2023 15:06:33\n",
      "gem5 started Feb 13 2023 19:41:00\n",
      "gem5 executing on aldy, pid 3664436\n",
      "command line: /home/fft_vec/gem5/build/ARM/gem5.opt --outdir=./bench/build-ARM-gem5-opt/bench_yolo-tiny/FT8/64MB/ /home/fft_vec/gem5/configs/example/se.py --cpu-clock=2GHz --l1d_size=64kB --l1i_size=16kB --caches --output=stdout.txt --errout=stderr.txt --l2_size=64MB --l2cache -c ./darknet --options bench_yolo-tiny\n",
      "\n",
      "info: Standard input is not a terminal, disabling listeners.\n",
      "**** REAL SIMULATION ****\n"
     ]
    },
    {
     "name": "stderr",
     "output_type": "stream",
     "text": [
      "build/ARM/sim/mem_state.cc:443: info: Increasing stack size by one page.\n",
      "build/ARM/sim/mem_state.cc:443: info: Increasing stack size by one page.\n"
     ]
    },
    {
     "name": "stdout",
     "output_type": "stream",
     "text": [
      "Exiting @ tick 2614375465000 because exiting with last active thread context\n",
      "/home/fft_vec/gem5/build/ARM/gem5.opt --outdir=./bench/build-ARM-gem5-opt/bench_yolo-tiny/FT8/8MB/ /home/fft_vec/gem5/configs/example/se.py --cpu-clock=2GHz --l1d_size=64kB --l1i_size=16kB --caches --output=stdout.txt  --errout=stderr.txt --l2_size=8MB --l2cache -c \"./darknet\" --options \"bench_yolo-tiny\"\n",
      "\n",
      "\n"
     ]
    },
    {
     "name": "stderr",
     "output_type": "stream",
     "text": [
      "warn: The `get_runtime_isa` function is deprecated. Please migrate away from using this function.\n",
      "warn: The `get_runtime_isa` function is deprecated. Please migrate away from using this function.\n",
      "warn: No dot file generated. Please install pydot to generate the dot file and pdf.\n",
      "build/ARM/mem/dram_interface.cc:690: warn: DRAM device capacity (8192 Mbytes) does not match the address range assigned (512 Mbytes)\n",
      "build/ARM/base/remote_gdb.cc:416: warn: Sockets disabled, not accepting gdb connections\n",
      "build/ARM/sim/simulate.cc:192: info: Entering event queue @ 0.  Starting simulation...\n",
      "build/ARM/sim/syscall_emul.cc:74: warn: ignoring syscall set_robust_list(...)\n",
      "build/ARM/sim/syscall_emul.cc:74: warn: ignoring syscall rt_sigaction(...)\n",
      "build/ARM/sim/syscall_emul.cc:74: warn: ignoring syscall rt_sigaction(...)\n",
      "build/ARM/sim/syscall_emul.cc:85: warn: ignoring syscall rt_sigprocmask(...)\n",
      "      (further warnings will be suppressed)\n",
      "build/ARM/arch/arm/insts/pseudo.cc:172: warn: \tinstruction 'bti' unimplemented\n",
      "build/ARM/sim/mem_state.cc:443: info: Increasing stack size by one page.\n",
      "build/ARM/sim/syscall_emul.cc:74: warn: ignoring syscall mprotect(...)\n",
      "build/ARM/sim/mem_state.cc:443: info: Increasing stack size by one page.\n"
     ]
    },
    {
     "name": "stdout",
     "output_type": "stream",
     "text": [
      "Global frequency set at 1000000000000 ticks per second\n",
      "gem5 Simulator System.  https://www.gem5.org\n",
      "gem5 is copyrighted software; use the --copyright option for details.\n",
      "\n",
      "gem5 version 22.1.0.0\n",
      "gem5 compiled Jan 26 2023 15:06:33\n",
      "gem5 started Feb 13 2023 20:15:32\n",
      "gem5 executing on aldy, pid 3725029\n",
      "command line: /home/fft_vec/gem5/build/ARM/gem5.opt --outdir=./bench/build-ARM-gem5-opt/bench_yolo-tiny/FT8/8MB/ /home/fft_vec/gem5/configs/example/se.py --cpu-clock=2GHz --l1d_size=64kB --l1i_size=16kB --caches --output=stdout.txt --errout=stderr.txt --l2_size=8MB --l2cache -c ./darknet --options bench_yolo-tiny\n",
      "\n",
      "info: Standard input is not a terminal, disabling listeners.\n",
      "**** REAL SIMULATION ****\n"
     ]
    },
    {
     "name": "stderr",
     "output_type": "stream",
     "text": [
      "build/ARM/sim/mem_state.cc:443: info: Increasing stack size by one page.\n",
      "build/ARM/sim/mem_state.cc:443: info: Increasing stack size by one page.\n"
     ]
    },
    {
     "name": "stdout",
     "output_type": "stream",
     "text": [
      "Exiting @ tick 2614375459500 because exiting with last active thread context\n",
      "['./bench/build-ARM-gem5-opt/bench_yolo-tiny/FT8/256MB/', './bench/build-ARM-gem5-opt/bench_yolo-tiny/FT8/64MB/', './bench/build-ARM-gem5-opt/bench_yolo-tiny/FT8/8MB/']\n",
      "reading data from file:  ./bench/build-ARM-gem5-opt/bench_yolo-tiny/FT8/256MB/stats.txt \n",
      " \n",
      "reading data from file:  ./bench/build-ARM-gem5-opt/bench_yolo-tiny/FT8/64MB/stats.txt \n",
      " \n",
      "reading data from file:  ./bench/build-ARM-gem5-opt/bench_yolo-tiny/FT8/8MB/stats.txt \n",
      " \n",
      "[[('simTicks', 2614375470500)], [('simTicks', 2614375465000)], [('simTicks', 2614375459500)]]\n",
      "([[('simTicks', 2614375470500)], [('simTicks', 2614375465000)], [('simTicks', 2614375459500)]], ['./bench/build-ARM-gem5-opt/bench_yolo-tiny/NO_PREDICT_NPP/256MB/', './bench/build-ARM-gem5-opt/bench_yolo-tiny/NO_PREDICT_NPP/64MB/', './bench/build-ARM-gem5-opt/bench_yolo-tiny/NO_PREDICT_NPP/8MB/'])\n",
      "hej--..:  [[('simTicks', 2614375459500)], [('simTicks', 2614375465000)], [('simTicks', 2614375470500)]]\n",
      "då--..:  [[('simTicks', 2614375459500)], [('simTicks', 2614375465000)], [('simTicks', 2614375470500)]]\n",
      "[0, 0, 0]\n",
      "['8MB', '64MB', '256MB']\n"
     ]
    },
    {
     "data": {
      "image/png": "[encoded data removed]",
      "text/plain": [
       "<Figure size 640x480 with 1 Axes>"
      ]
     },
     "metadata": {},
     "output_type": "display_data"
    }
   ],
   "source": [
    "ft8Result = runandPlot(Program.NNPACK_FT8,yolo ,chaceOptions, chaceSizes, setupnppticks_npp)"
   ]
  },
  {
   "cell_type": "code",
   "execution_count": 44,
   "id": "c7560ea6",
   "metadata": {
    "scrolled": false
   },
   "outputs": [
    {
     "name": "stdout",
     "output_type": "stream",
     "text": [
      "reading data from file:  ./bench/build-ARM-gem5-opt/bench_yolo-tiny/FT8/256MB/stats.txt \n",
      " \n",
      "reading data from file:  ./bench/build-ARM-gem5-opt/bench_yolo-tiny/FT8/64MB/stats.txt \n",
      " \n",
      "reading data from file:  ./bench/build-ARM-gem5-opt/bench_yolo-tiny/FT8/8MB/stats.txt \n",
      " \n",
      "reading data from file:  ./bench/build-ARM-gem5-opt/bench_yolo-tiny/NO_PREDICT_NPP/256MB/stats.txt \n",
      " \n",
      "reading data from file:  ./bench/build-ARM-gem5-opt/bench_yolo-tiny/NO_PREDICT_NPP/64MB/stats.txt \n",
      " \n",
      "reading data from file:  ./bench/build-ARM-gem5-opt/bench_yolo-tiny/NO_PREDICT_NPP/8MB/stats.txt \n",
      " \n",
      "hej--..:  [[('simTicks', 1191116040500)], [('simTicks', 1191116035000)], [('simTicks', 1191116029500)]]\n",
      "då--..:  [[('simTicks', 2614375470500)], [('simTicks', 2614375465000)], [('simTicks', 2614375459500)]]\n",
      "[1423259430000, 1423259430000, 1423259430000]\n",
      "['256MB', '64MB', '8MB']\n"
     ]
    },
    {
     "data": {
      "image/png": "[encoded data removed]",
      "text/plain": [
       "<Figure size 640x480 with 1 Axes>"
      ]
     },
     "metadata": {},
     "output_type": "display_data"
    }
   ],
   "source": [
    "readandplot(ft8Result[0],chaceSizes,setupnppticks_npp)"
   ]
  },
  {
   "cell_type": "markdown",
   "id": "4b3ede89",
   "metadata": {},
   "source": [
    "# WT"
   ]
  },
  {
   "cell_type": "code",
   "execution_count": 33,
   "id": "2e3de02a",
   "metadata": {},
   "outputs": [
    {
     "name": "stdout",
     "output_type": "stream",
     "text": [
      "\n",
      " make clean; make NNPACK=1 WT=1 CC=aarch64-none-linux-gnu-gcc CPP=aarch64-none-linux-gnu-g++ \n",
      "\n",
      "rm -rf ./obj/gemm.o ./obj/utils.o ./obj/cuda.o ./obj/deconvolutional_layer.o ./obj/convolutional_layer.o ./obj/list.o ./obj/image.o ./obj/activations.o ./obj/im2col.o ./obj/col2im.o ./obj/blas.o ./obj/crop_layer.o ./obj/dropout_layer.o ./obj/maxpool_layer.o ./obj/softmax_layer.o ./obj/data.o ./obj/matrix.o ./obj/network.o ./obj/connected_layer.o ./obj/cost_layer.o ./obj/parser.o ./obj/option_list.o ./obj/detection_layer.o ./obj/route_layer.o ./obj/upsample_layer.o ./obj/box.o ./obj/normalization_layer.o ./obj/avgpool_layer.o ./obj/layer.o ./obj/local_layer.o ./obj/shortcut_layer.o ./obj/logistic_layer.o ./obj/activation_layer.o ./obj/rnn_layer.o ./obj/gru_layer.o ./obj/crnn_layer.o ./obj/demo.o ./obj/batchnorm_layer.o ./obj/region_layer.o ./obj/reorg_layer.o ./obj/tree.o ./obj/lstm_layer.o ./obj/l2norm_layer.o ./obj/yolo_layer.o ./obj/iseg_layer.o ./obj/image_opencv.o libdarknet.so libdarknet.a darknet ./obj/captcha.o ./obj/lsd.o ./obj/super.o ./obj/art.o ./obj/tag.o ./obj/cifar.o ./obj/go.o ./obj/rnn.o ./obj/segmenter.o ./obj/regressor.o ./obj/classifier.o ./obj/coco.o ./obj/yolo.o ./obj/detector.o ./obj/nightmare.o ./obj/instance-segmenter.o ./obj/darknet.o ./obj/test.o ./obj//*\n",
      "NNPACK=1\n",
      "CPP=aarch64-none-linux-gnu-g++\n",
      "WT=1\n",
      "CC=aarch64-none-linux-gnu-gcc\n",
      "aarch64-none-linux-gnu-gcc -Iinclude/ -Isrc/ -Wall -Wno-unused-result -Wno-unknown-pragmas -Wfatal-errors -static -Ofast -fno-tree-vectorize -DNNPACK -c ./src/gemm.c -o obj/gemm.o\n",
      "aarch64-none-linux-gnu-gcc -Iinclude/ -Isrc/ -Wall -Wno-unused-result -Wno-unknown-pragmas -Wfatal-errors -static -Ofast -fno-tree-vectorize -DNNPACK -c ./src/utils.c -o obj/utils.o\n"
     ]
    },
    {
     "name": "stderr",
     "output_type": "stream",
     "text": [
      "In function ‘copy_string’,\n",
      "    inlined from ‘basecfg’ at ./src/utils.c:187:9:\n",
      "./src/utils.c:426:5: warning: ‘strncpy’ specified bound depends on the length of the source argument [-Wstringop-overflow=]\n",
      "  426 |     strncpy(copy, s, strlen(s)+1);\n",
      "      |     ^~~~~~~~~~~~~~~~~~~~~~~~~~~~~\n",
      "./src/utils.c: In function ‘basecfg’:\n",
      "./src/utils.c:426:22: note: length computed here\n",
      "  426 |     strncpy(copy, s, strlen(s)+1);\n",
      "      |                      ^~~~~~~~~\n",
      "./src/utils.c: In function ‘copy_string’:\n",
      "./src/utils.c:426:5: warning: ‘strncpy’ specified bound depends on the length of the source argument [-Wstringop-overflow=]\n",
      "  426 |     strncpy(copy, s, strlen(s)+1);\n",
      "      |     ^~~~~~~~~~~~~~~~~~~~~~~~~~~~~\n",
      "./src/utils.c:426:22: note: length computed here\n",
      "  426 |     strncpy(copy, s, strlen(s)+1);\n",
      "      |                      ^~~~~~~~~\n",
      "In function ‘copy_string’,\n",
      "    inlined from ‘parse_csv_line’ at ./src/utils.c:439:28:\n",
      "./src/utils.c:426:5: warning: ‘strncpy’ specified bound depends on the length of the source argument [-Wstringop-overflow=]\n",
      "  426 |     strncpy(copy, s, strlen(s)+1);\n",
      "      |     ^~~~~~~~~~~~~~~~~~~~~~~~~~~~~\n",
      "./src/utils.c: In function ‘parse_csv_line’:\n",
      "./src/utils.c:426:22: note: length computed here\n",
      "  426 |     strncpy(copy, s, strlen(s)+1);\n",
      "      |                      ^~~~~~~~~\n",
      "In function ‘copy_string’,\n",
      "    inlined from ‘parse_csv_line’ at ./src/utils.c:443:20:\n",
      "./src/utils.c:426:5: warning: ‘strncpy’ specified bound depends on the length of the source argument [-Wstringop-overflow=]\n",
      "  426 |     strncpy(copy, s, strlen(s)+1);\n",
      "      |     ^~~~~~~~~~~~~~~~~~~~~~~~~~~~~\n",
      "./src/utils.c: In function ‘parse_csv_line’:\n",
      "./src/utils.c:426:22: note: length computed here\n",
      "  426 |     strncpy(copy, s, strlen(s)+1);\n",
      "      |                      ^~~~~~~~~\n"
     ]
    },
    {
     "name": "stdout",
     "output_type": "stream",
     "text": [
      "aarch64-none-linux-gnu-gcc -Iinclude/ -Isrc/ -Wall -Wno-unused-result -Wno-unknown-pragmas -Wfatal-errors -static -Ofast -fno-tree-vectorize -DNNPACK -c ./src/cuda.c -o obj/cuda.o\n",
      "aarch64-none-linux-gnu-gcc -Iinclude/ -Isrc/ -Wall -Wno-unused-result -Wno-unknown-pragmas -Wfatal-errors -static -Ofast -fno-tree-vectorize -DNNPACK -c ./src/deconvolutional_layer.c -o obj/deconvolutional_layer.o\n",
      "aarch64-none-linux-gnu-gcc -Iinclude/ -Isrc/ -Wall -Wno-unused-result -Wno-unknown-pragmas -Wfatal-errors -static -Ofast -fno-tree-vectorize -DNNPACK -c ./src/convolutional_layer.c -o obj/convolutional_layer.o\n",
      "aarch64-none-linux-gnu-gcc -Iinclude/ -Isrc/ -Wall -Wno-unused-result -Wno-unknown-pragmas -Wfatal-errors -static -Ofast -fno-tree-vectorize -DNNPACK -c ./src/list.c -o obj/list.o\n",
      "aarch64-none-linux-gnu-gcc -Iinclude/ -Isrc/ -Wall -Wno-unused-result -Wno-unknown-pragmas -Wfatal-errors -static -Ofast -fno-tree-vectorize -DNNPACK -c ./src/image.c -o obj/image.o\n",
      "aarch64-none-linux-gnu-gcc -Iinclude/ -Isrc/ -Wall -Wno-unused-result -Wno-unknown-pragmas -Wfatal-errors -static -Ofast -fno-tree-vectorize -DNNPACK -c ./src/activations.c -o obj/activations.o\n",
      "aarch64-none-linux-gnu-gcc -Iinclude/ -Isrc/ -Wall -Wno-unused-result -Wno-unknown-pragmas -Wfatal-errors -static -Ofast -fno-tree-vectorize -DNNPACK -c ./src/im2col.c -o obj/im2col.o\n",
      "aarch64-none-linux-gnu-gcc -Iinclude/ -Isrc/ -Wall -Wno-unused-result -Wno-unknown-pragmas -Wfatal-errors -static -Ofast -fno-tree-vectorize -DNNPACK -c ./src/col2im.c -o obj/col2im.o\n",
      "aarch64-none-linux-gnu-gcc -Iinclude/ -Isrc/ -Wall -Wno-unused-result -Wno-unknown-pragmas -Wfatal-errors -static -Ofast -fno-tree-vectorize -DNNPACK -c ./src/blas.c -o obj/blas.o\n",
      "aarch64-none-linux-gnu-gcc -Iinclude/ -Isrc/ -Wall -Wno-unused-result -Wno-unknown-pragmas -Wfatal-errors -static -Ofast -fno-tree-vectorize -DNNPACK -c ./src/crop_layer.c -o obj/crop_layer.o\n",
      "aarch64-none-linux-gnu-gcc -Iinclude/ -Isrc/ -Wall -Wno-unused-result -Wno-unknown-pragmas -Wfatal-errors -static -Ofast -fno-tree-vectorize -DNNPACK -c ./src/dropout_layer.c -o obj/dropout_layer.o\n",
      "aarch64-none-linux-gnu-gcc -Iinclude/ -Isrc/ -Wall -Wno-unused-result -Wno-unknown-pragmas -Wfatal-errors -static -Ofast -fno-tree-vectorize -DNNPACK -c ./src/maxpool_layer.c -o obj/maxpool_layer.o\n",
      "aarch64-none-linux-gnu-gcc -Iinclude/ -Isrc/ -Wall -Wno-unused-result -Wno-unknown-pragmas -Wfatal-errors -static -Ofast -fno-tree-vectorize -DNNPACK -c ./src/softmax_layer.c -o obj/softmax_layer.o\n",
      "aarch64-none-linux-gnu-gcc -Iinclude/ -Isrc/ -Wall -Wno-unused-result -Wno-unknown-pragmas -Wfatal-errors -static -Ofast -fno-tree-vectorize -DNNPACK -c ./src/data.c -o obj/data.o\n",
      "aarch64-none-linux-gnu-gcc -Iinclude/ -Isrc/ -Wall -Wno-unused-result -Wno-unknown-pragmas -Wfatal-errors -static -Ofast -fno-tree-vectorize -DNNPACK -c ./src/matrix.c -o obj/matrix.o\n",
      "aarch64-none-linux-gnu-gcc -Iinclude/ -Isrc/ -Wall -Wno-unused-result -Wno-unknown-pragmas -Wfatal-errors -static -Ofast -fno-tree-vectorize -DNNPACK -c ./src/network.c -o obj/network.o\n",
      "aarch64-none-linux-gnu-gcc -Iinclude/ -Isrc/ -Wall -Wno-unused-result -Wno-unknown-pragmas -Wfatal-errors -static -Ofast -fno-tree-vectorize -DNNPACK -c ./src/connected_layer.c -o obj/connected_layer.o\n",
      "aarch64-none-linux-gnu-gcc -Iinclude/ -Isrc/ -Wall -Wno-unused-result -Wno-unknown-pragmas -Wfatal-errors -static -Ofast -fno-tree-vectorize -DNNPACK -c ./src/cost_layer.c -o obj/cost_layer.o\n",
      "aarch64-none-linux-gnu-gcc -Iinclude/ -Isrc/ -Wall -Wno-unused-result -Wno-unknown-pragmas -Wfatal-errors -static -Ofast -fno-tree-vectorize -DNNPACK -c ./src/parser.c -o obj/parser.o\n",
      "aarch64-none-linux-gnu-gcc -Iinclude/ -Isrc/ -Wall -Wno-unused-result -Wno-unknown-pragmas -Wfatal-errors -static -Ofast -fno-tree-vectorize -DNNPACK -c ./src/option_list.c -o obj/option_list.o\n",
      "aarch64-none-linux-gnu-gcc -Iinclude/ -Isrc/ -Wall -Wno-unused-result -Wno-unknown-pragmas -Wfatal-errors -static -Ofast -fno-tree-vectorize -DNNPACK -c ./src/detection_layer.c -o obj/detection_layer.o\n",
      "aarch64-none-linux-gnu-gcc -Iinclude/ -Isrc/ -Wall -Wno-unused-result -Wno-unknown-pragmas -Wfatal-errors -static -Ofast -fno-tree-vectorize -DNNPACK -c ./src/route_layer.c -o obj/route_layer.o\n",
      "aarch64-none-linux-gnu-gcc -Iinclude/ -Isrc/ -Wall -Wno-unused-result -Wno-unknown-pragmas -Wfatal-errors -static -Ofast -fno-tree-vectorize -DNNPACK -c ./src/upsample_layer.c -o obj/upsample_layer.o\n",
      "aarch64-none-linux-gnu-gcc -Iinclude/ -Isrc/ -Wall -Wno-unused-result -Wno-unknown-pragmas -Wfatal-errors -static -Ofast -fno-tree-vectorize -DNNPACK -c ./src/box.c -o obj/box.o\n",
      "aarch64-none-linux-gnu-gcc -Iinclude/ -Isrc/ -Wall -Wno-unused-result -Wno-unknown-pragmas -Wfatal-errors -static -Ofast -fno-tree-vectorize -DNNPACK -c ./src/normalization_layer.c -o obj/normalization_layer.o\n",
      "aarch64-none-linux-gnu-gcc -Iinclude/ -Isrc/ -Wall -Wno-unused-result -Wno-unknown-pragmas -Wfatal-errors -static -Ofast -fno-tree-vectorize -DNNPACK -c ./src/avgpool_layer.c -o obj/avgpool_layer.o\n",
      "aarch64-none-linux-gnu-gcc -Iinclude/ -Isrc/ -Wall -Wno-unused-result -Wno-unknown-pragmas -Wfatal-errors -static -Ofast -fno-tree-vectorize -DNNPACK -c ./src/layer.c -o obj/layer.o\n",
      "aarch64-none-linux-gnu-gcc -Iinclude/ -Isrc/ -Wall -Wno-unused-result -Wno-unknown-pragmas -Wfatal-errors -static -Ofast -fno-tree-vectorize -DNNPACK -c ./src/local_layer.c -o obj/local_layer.o\n",
      "aarch64-none-linux-gnu-gcc -Iinclude/ -Isrc/ -Wall -Wno-unused-result -Wno-unknown-pragmas -Wfatal-errors -static -Ofast -fno-tree-vectorize -DNNPACK -c ./src/shortcut_layer.c -o obj/shortcut_layer.o\n",
      "aarch64-none-linux-gnu-gcc -Iinclude/ -Isrc/ -Wall -Wno-unused-result -Wno-unknown-pragmas -Wfatal-errors -static -Ofast -fno-tree-vectorize -DNNPACK -c ./src/logistic_layer.c -o obj/logistic_layer.o\n",
      "aarch64-none-linux-gnu-gcc -Iinclude/ -Isrc/ -Wall -Wno-unused-result -Wno-unknown-pragmas -Wfatal-errors -static -Ofast -fno-tree-vectorize -DNNPACK -c ./src/activation_layer.c -o obj/activation_layer.o\n",
      "aarch64-none-linux-gnu-gcc -Iinclude/ -Isrc/ -Wall -Wno-unused-result -Wno-unknown-pragmas -Wfatal-errors -static -Ofast -fno-tree-vectorize -DNNPACK -c ./src/rnn_layer.c -o obj/rnn_layer.o\n",
      "aarch64-none-linux-gnu-gcc -Iinclude/ -Isrc/ -Wall -Wno-unused-result -Wno-unknown-pragmas -Wfatal-errors -static -Ofast -fno-tree-vectorize -DNNPACK -c ./src/gru_layer.c -o obj/gru_layer.o\n",
      "aarch64-none-linux-gnu-gcc -Iinclude/ -Isrc/ -Wall -Wno-unused-result -Wno-unknown-pragmas -Wfatal-errors -static -Ofast -fno-tree-vectorize -DNNPACK -c ./src/crnn_layer.c -o obj/crnn_layer.o\n",
      "aarch64-none-linux-gnu-gcc -Iinclude/ -Isrc/ -Wall -Wno-unused-result -Wno-unknown-pragmas -Wfatal-errors -static -Ofast -fno-tree-vectorize -DNNPACK -c ./src/demo.c -o obj/demo.o\n",
      "aarch64-none-linux-gnu-gcc -Iinclude/ -Isrc/ -Wall -Wno-unused-result -Wno-unknown-pragmas -Wfatal-errors -static -Ofast -fno-tree-vectorize -DNNPACK -c ./src/batchnorm_layer.c -o obj/batchnorm_layer.o\n",
      "aarch64-none-linux-gnu-gcc -Iinclude/ -Isrc/ -Wall -Wno-unused-result -Wno-unknown-pragmas -Wfatal-errors -static -Ofast -fno-tree-vectorize -DNNPACK -c ./src/region_layer.c -o obj/region_layer.o\n",
      "aarch64-none-linux-gnu-gcc -Iinclude/ -Isrc/ -Wall -Wno-unused-result -Wno-unknown-pragmas -Wfatal-errors -static -Ofast -fno-tree-vectorize -DNNPACK -c ./src/reorg_layer.c -o obj/reorg_layer.o\n",
      "aarch64-none-linux-gnu-gcc -Iinclude/ -Isrc/ -Wall -Wno-unused-result -Wno-unknown-pragmas -Wfatal-errors -static -Ofast -fno-tree-vectorize -DNNPACK -c ./src/tree.c -o obj/tree.o\n",
      "aarch64-none-linux-gnu-gcc -Iinclude/ -Isrc/ -Wall -Wno-unused-result -Wno-unknown-pragmas -Wfatal-errors -static -Ofast -fno-tree-vectorize -DNNPACK -c ./src/lstm_layer.c -o obj/lstm_layer.o\n",
      "aarch64-none-linux-gnu-gcc -Iinclude/ -Isrc/ -Wall -Wno-unused-result -Wno-unknown-pragmas -Wfatal-errors -static -Ofast -fno-tree-vectorize -DNNPACK -c ./src/l2norm_layer.c -o obj/l2norm_layer.o\n",
      "aarch64-none-linux-gnu-gcc -Iinclude/ -Isrc/ -Wall -Wno-unused-result -Wno-unknown-pragmas -Wfatal-errors -static -Ofast -fno-tree-vectorize -DNNPACK -c ./src/yolo_layer.c -o obj/yolo_layer.o\n",
      "aarch64-none-linux-gnu-gcc -Iinclude/ -Isrc/ -Wall -Wno-unused-result -Wno-unknown-pragmas -Wfatal-errors -static -Ofast -fno-tree-vectorize -DNNPACK -c ./src/iseg_layer.c -o obj/iseg_layer.o\n",
      "aarch64-none-linux-gnu-g++ -Iinclude/ -Isrc/ -Wall -Wno-unused-result -Wno-unknown-pragmas -Wfatal-errors -static -Ofast -fno-tree-vectorize -DNNPACK -c ./src/image_opencv.cpp -o obj/image_opencv.o\n",
      "ar rcs libdarknet.a obj/gemm.o obj/utils.o obj/cuda.o obj/deconvolutional_layer.o obj/convolutional_layer.o obj/list.o obj/image.o obj/activations.o obj/im2col.o obj/col2im.o obj/blas.o obj/crop_layer.o obj/dropout_layer.o obj/maxpool_layer.o obj/softmax_layer.o obj/data.o obj/matrix.o obj/network.o obj/connected_layer.o obj/cost_layer.o obj/parser.o obj/option_list.o obj/detection_layer.o obj/route_layer.o obj/upsample_layer.o obj/box.o obj/normalization_layer.o obj/avgpool_layer.o obj/layer.o obj/local_layer.o obj/shortcut_layer.o obj/logistic_layer.o obj/activation_layer.o obj/rnn_layer.o obj/gru_layer.o obj/crnn_layer.o obj/demo.o obj/batchnorm_layer.o obj/region_layer.o obj/reorg_layer.o obj/tree.o obj/lstm_layer.o obj/l2norm_layer.o obj/yolo_layer.o obj/iseg_layer.o obj/image_opencv.o\n",
      "aarch64-none-linux-gnu-gcc -Iinclude/ -Isrc/ -Wall -Wno-unused-result -Wno-unknown-pragmas -Wfatal-errors -static -Ofast -fno-tree-vectorize -DNNPACK -c ./examples/captcha.c -o obj/captcha.o\n"
     ]
    },
    {
     "name": "stdout",
     "output_type": "stream",
     "text": [
      "aarch64-none-linux-gnu-gcc -Iinclude/ -Isrc/ -Wall -Wno-unused-result -Wno-unknown-pragmas -Wfatal-errors -static -Ofast -fno-tree-vectorize -DNNPACK -c ./examples/lsd.c -o obj/lsd.o\n",
      "aarch64-none-linux-gnu-gcc -Iinclude/ -Isrc/ -Wall -Wno-unused-result -Wno-unknown-pragmas -Wfatal-errors -static -Ofast -fno-tree-vectorize -DNNPACK -c ./examples/super.c -o obj/super.o\n",
      "aarch64-none-linux-gnu-gcc -Iinclude/ -Isrc/ -Wall -Wno-unused-result -Wno-unknown-pragmas -Wfatal-errors -static -Ofast -fno-tree-vectorize -DNNPACK -c ./examples/art.c -o obj/art.o\n",
      "aarch64-none-linux-gnu-gcc -Iinclude/ -Isrc/ -Wall -Wno-unused-result -Wno-unknown-pragmas -Wfatal-errors -static -Ofast -fno-tree-vectorize -DNNPACK -c ./examples/tag.c -o obj/tag.o\n",
      "aarch64-none-linux-gnu-gcc -Iinclude/ -Isrc/ -Wall -Wno-unused-result -Wno-unknown-pragmas -Wfatal-errors -static -Ofast -fno-tree-vectorize -DNNPACK -c ./examples/cifar.c -o obj/cifar.o\n",
      "aarch64-none-linux-gnu-gcc -Iinclude/ -Isrc/ -Wall -Wno-unused-result -Wno-unknown-pragmas -Wfatal-errors -static -Ofast -fno-tree-vectorize -DNNPACK -c ./examples/go.c -o obj/go.o\n",
      "aarch64-none-linux-gnu-gcc -Iinclude/ -Isrc/ -Wall -Wno-unused-result -Wno-unknown-pragmas -Wfatal-errors -static -Ofast -fno-tree-vectorize -DNNPACK -c ./examples/rnn.c -o obj/rnn.o\n",
      "aarch64-none-linux-gnu-gcc -Iinclude/ -Isrc/ -Wall -Wno-unused-result -Wno-unknown-pragmas -Wfatal-errors -static -Ofast -fno-tree-vectorize -DNNPACK -c ./examples/segmenter.c -o obj/segmenter.o\n",
      "aarch64-none-linux-gnu-gcc -Iinclude/ -Isrc/ -Wall -Wno-unused-result -Wno-unknown-pragmas -Wfatal-errors -static -Ofast -fno-tree-vectorize -DNNPACK -c ./examples/regressor.c -o obj/regressor.o\n",
      "aarch64-none-linux-gnu-gcc -Iinclude/ -Isrc/ -Wall -Wno-unused-result -Wno-unknown-pragmas -Wfatal-errors -static -Ofast -fno-tree-vectorize -DNNPACK -c ./examples/classifier.c -o obj/classifier.o\n",
      "aarch64-none-linux-gnu-gcc -Iinclude/ -Isrc/ -Wall -Wno-unused-result -Wno-unknown-pragmas -Wfatal-errors -static -Ofast -fno-tree-vectorize -DNNPACK -c ./examples/coco.c -o obj/coco.o\n",
      "aarch64-none-linux-gnu-gcc -Iinclude/ -Isrc/ -Wall -Wno-unused-result -Wno-unknown-pragmas -Wfatal-errors -static -Ofast -fno-tree-vectorize -DNNPACK -c ./examples/yolo.c -o obj/yolo.o\n",
      "aarch64-none-linux-gnu-gcc -Iinclude/ -Isrc/ -Wall -Wno-unused-result -Wno-unknown-pragmas -Wfatal-errors -static -Ofast -fno-tree-vectorize -DNNPACK -c ./examples/detector.c -o obj/detector.o\n",
      "aarch64-none-linux-gnu-gcc -Iinclude/ -Isrc/ -Wall -Wno-unused-result -Wno-unknown-pragmas -Wfatal-errors -static -Ofast -fno-tree-vectorize -DNNPACK -c ./examples/nightmare.c -o obj/nightmare.o\n",
      "aarch64-none-linux-gnu-gcc -Iinclude/ -Isrc/ -Wall -Wno-unused-result -Wno-unknown-pragmas -Wfatal-errors -static -Ofast -fno-tree-vectorize -DNNPACK -c ./examples/instance-segmenter.c -o obj/instance-segmenter.o\n",
      "aarch64-none-linux-gnu-gcc -Iinclude/ -Isrc/ -Wall -Wno-unused-result -Wno-unknown-pragmas -Wfatal-errors -static -Ofast -fno-tree-vectorize -DNNPACK -c ./examples/darknet.c -o obj/darknet.o\n",
      "aarch64-none-linux-gnu-gcc -Iinclude/ -Isrc/ -Wall -Wno-unused-result -Wno-unknown-pragmas -Wfatal-errors -static -Ofast -fno-tree-vectorize -DNNPACK -c ./examples/test.c -o obj/test.o\n",
      "aarch64-none-linux-gnu-gcc -Iinclude/ -Isrc/ -Wall -Wno-unused-result -Wno-unknown-pragmas -Wfatal-errors -static -Ofast -fno-tree-vectorize -DNNPACK obj/captcha.o obj/lsd.o obj/super.o obj/art.o obj/tag.o obj/cifar.o obj/go.o obj/rnn.o obj/segmenter.o obj/regressor.o obj/classifier.o obj/coco.o obj/yolo.o obj/detector.o obj/nightmare.o obj/instance-segmenter.o obj/darknet.o obj/test.o libdarknet.a -o darknet -lm -pthread -L/home/fft_vec/arm-deps/usr/local/lib -l:libnnpack.a -l:libpthreadpool.a -l:libcpuinfo.a -l:libclog.a libdarknet.a\n",
      "/home/fft_vec/gem5/build/ARM/gem5.opt --outdir=./bench/build-ARM-gem5-opt/bench_yolo-tiny/WT/256MB/ /home/fft_vec/gem5/configs/example/se.py --cpu-clock=2GHz --l1d_size=64kB --l1i_size=16kB --caches --output=stdout.txt  --errout=stderr.txt --l2_size=256MB --l2cache -c \"./darknet\" --options \"bench_yolo-tiny\"\n",
      "\n",
      "\n"
     ]
    },
    {
     "name": "stderr",
     "output_type": "stream",
     "text": [
      "warn: The `get_runtime_isa` function is deprecated. Please migrate away from using this function.\n",
      "warn: The `get_runtime_isa` function is deprecated. Please migrate away from using this function.\n",
      "warn: No dot file generated. Please install pydot to generate the dot file and pdf.\n",
      "build/ARM/mem/dram_interface.cc:690: warn: DRAM device capacity (8192 Mbytes) does not match the address range assigned (512 Mbytes)\n"
     ]
    },
    {
     "name": "stdout",
     "output_type": "stream",
     "text": [
      "Global frequency set at 1000000000000 ticks per second\n"
     ]
    },
    {
     "name": "stderr",
     "output_type": "stream",
     "text": [
      "build/ARM/base/remote_gdb.cc:416: warn: Sockets disabled, not accepting gdb connections\n",
      "build/ARM/sim/simulate.cc:192: info: Entering event queue @ 0.  Starting simulation...\n",
      "build/ARM/sim/syscall_emul.cc:74: warn: ignoring syscall set_robust_list(...)\n",
      "build/ARM/sim/syscall_emul.cc:74: warn: ignoring syscall rt_sigaction(...)\n",
      "build/ARM/sim/syscall_emul.cc:74: warn: ignoring syscall rt_sigaction(...)\n",
      "build/ARM/sim/syscall_emul.cc:85: warn: ignoring syscall rt_sigprocmask(...)\n",
      "      (further warnings will be suppressed)\n",
      "build/ARM/arch/arm/insts/pseudo.cc:172: warn: \tinstruction 'bti' unimplemented\n",
      "build/ARM/sim/mem_state.cc:443: info: Increasing stack size by one page.\n",
      "build/ARM/sim/syscall_emul.cc:74: warn: ignoring syscall mprotect(...)\n",
      "build/ARM/sim/mem_state.cc:443: info: Increasing stack size by one page.\n"
     ]
    },
    {
     "name": "stdout",
     "output_type": "stream",
     "text": [
      "gem5 Simulator System.  https://www.gem5.org\n",
      "gem5 is copyrighted software; use the --copyright option for details.\n",
      "\n",
      "gem5 version 22.1.0.0\n",
      "gem5 compiled Jan 26 2023 15:06:33\n",
      "gem5 started Feb 13 2023 20:50:20\n",
      "gem5 executing on aldy, pid 3786322\n",
      "command line: /home/fft_vec/gem5/build/ARM/gem5.opt --outdir=./bench/build-ARM-gem5-opt/bench_yolo-tiny/WT/256MB/ /home/fft_vec/gem5/configs/example/se.py --cpu-clock=2GHz --l1d_size=64kB --l1i_size=16kB --caches --output=stdout.txt --errout=stderr.txt --l2_size=256MB --l2cache -c ./darknet --options bench_yolo-tiny\n",
      "\n",
      "info: Standard input is not a terminal, disabling listeners.\n",
      "**** REAL SIMULATION ****\n"
     ]
    },
    {
     "name": "stderr",
     "output_type": "stream",
     "text": [
      "build/ARM/sim/mem_state.cc:443: info: Increasing stack size by one page.\n",
      "build/ARM/sim/mem_state.cc:443: info: Increasing stack size by one page.\n"
     ]
    },
    {
     "name": "stdout",
     "output_type": "stream",
     "text": [
      "Exiting @ tick 2614375470500 because exiting with last active thread context\n",
      "/home/fft_vec/gem5/build/ARM/gem5.opt --outdir=./bench/build-ARM-gem5-opt/bench_yolo-tiny/WT/64MB/ /home/fft_vec/gem5/configs/example/se.py --cpu-clock=2GHz --l1d_size=64kB --l1i_size=16kB --caches --output=stdout.txt  --errout=stderr.txt --l2_size=64MB --l2cache -c \"./darknet\" --options \"bench_yolo-tiny\"\n",
      "\n",
      "\n"
     ]
    },
    {
     "name": "stderr",
     "output_type": "stream",
     "text": [
      "warn: The `get_runtime_isa` function is deprecated. Please migrate away from using this function.\n",
      "warn: The `get_runtime_isa` function is deprecated. Please migrate away from using this function.\n",
      "warn: No dot file generated. Please install pydot to generate the dot file and pdf.\n",
      "build/ARM/mem/dram_interface.cc:690: warn: DRAM device capacity (8192 Mbytes) does not match the address range assigned (512 Mbytes)\n",
      "build/ARM/base/remote_gdb.cc:416: warn: Sockets disabled, not accepting gdb connections\n",
      "build/ARM/sim/simulate.cc:192: info: Entering event queue @ 0.  Starting simulation...\n",
      "build/ARM/sim/syscall_emul.cc:74: warn: ignoring syscall set_robust_list(...)\n",
      "build/ARM/sim/syscall_emul.cc:74: warn: ignoring syscall rt_sigaction(...)\n",
      "build/ARM/sim/syscall_emul.cc:74: warn: ignoring syscall rt_sigaction(...)\n",
      "build/ARM/sim/syscall_emul.cc:85: warn: ignoring syscall rt_sigprocmask(...)\n",
      "      (further warnings will be suppressed)\n",
      "build/ARM/arch/arm/insts/pseudo.cc:172: warn: \tinstruction 'bti' unimplemented\n",
      "build/ARM/sim/mem_state.cc:443: info: Increasing stack size by one page.\n",
      "build/ARM/sim/syscall_emul.cc:74: warn: ignoring syscall mprotect(...)\n",
      "build/ARM/sim/mem_state.cc:443: info: Increasing stack size by one page.\n"
     ]
    },
    {
     "name": "stdout",
     "output_type": "stream",
     "text": [
      "Global frequency set at 1000000000000 ticks per second\n",
      "gem5 Simulator System.  https://www.gem5.org\n",
      "gem5 is copyrighted software; use the --copyright option for details.\n",
      "\n",
      "gem5 version 22.1.0.0\n",
      "gem5 compiled Jan 26 2023 15:06:33\n",
      "gem5 started Feb 13 2023 21:24:56\n",
      "gem5 executing on aldy, pid 3847084\n",
      "command line: /home/fft_vec/gem5/build/ARM/gem5.opt --outdir=./bench/build-ARM-gem5-opt/bench_yolo-tiny/WT/64MB/ /home/fft_vec/gem5/configs/example/se.py --cpu-clock=2GHz --l1d_size=64kB --l1i_size=16kB --caches --output=stdout.txt --errout=stderr.txt --l2_size=64MB --l2cache -c ./darknet --options bench_yolo-tiny\n",
      "\n",
      "info: Standard input is not a terminal, disabling listeners.\n",
      "**** REAL SIMULATION ****\n"
     ]
    },
    {
     "name": "stderr",
     "output_type": "stream",
     "text": [
      "build/ARM/sim/mem_state.cc:443: info: Increasing stack size by one page.\n",
      "build/ARM/sim/mem_state.cc:443: info: Increasing stack size by one page.\n"
     ]
    },
    {
     "name": "stdout",
     "output_type": "stream",
     "text": [
      "Exiting @ tick 2614375465000 because exiting with last active thread context\n",
      "/home/fft_vec/gem5/build/ARM/gem5.opt --outdir=./bench/build-ARM-gem5-opt/bench_yolo-tiny/WT/8MB/ /home/fft_vec/gem5/configs/example/se.py --cpu-clock=2GHz --l1d_size=64kB --l1i_size=16kB --caches --output=stdout.txt  --errout=stderr.txt --l2_size=8MB --l2cache -c \"./darknet\" --options \"bench_yolo-tiny\"\n",
      "\n",
      "\n"
     ]
    },
    {
     "name": "stderr",
     "output_type": "stream",
     "text": [
      "warn: The `get_runtime_isa` function is deprecated. Please migrate away from using this function.\n",
      "warn: The `get_runtime_isa` function is deprecated. Please migrate away from using this function.\n",
      "warn: No dot file generated. Please install pydot to generate the dot file and pdf.\n",
      "build/ARM/mem/dram_interface.cc:690: warn: DRAM device capacity (8192 Mbytes) does not match the address range assigned (512 Mbytes)\n",
      "build/ARM/base/remote_gdb.cc:416: warn: Sockets disabled, not accepting gdb connections\n",
      "build/ARM/sim/simulate.cc:192: info: Entering event queue @ 0.  Starting simulation...\n",
      "build/ARM/sim/syscall_emul.cc:74: warn: ignoring syscall set_robust_list(...)\n",
      "build/ARM/sim/syscall_emul.cc:74: warn: ignoring syscall rt_sigaction(...)\n",
      "build/ARM/sim/syscall_emul.cc:74: warn: ignoring syscall rt_sigaction(...)\n",
      "build/ARM/sim/syscall_emul.cc:85: warn: ignoring syscall rt_sigprocmask(...)\n",
      "      (further warnings will be suppressed)\n",
      "build/ARM/arch/arm/insts/pseudo.cc:172: warn: \tinstruction 'bti' unimplemented\n",
      "build/ARM/sim/mem_state.cc:443: info: Increasing stack size by one page.\n",
      "build/ARM/sim/syscall_emul.cc:74: warn: ignoring syscall mprotect(...)\n",
      "build/ARM/sim/mem_state.cc:443: info: Increasing stack size by one page.\n"
     ]
    },
    {
     "name": "stdout",
     "output_type": "stream",
     "text": [
      "Global frequency set at 1000000000000 ticks per second\n",
      "gem5 Simulator System.  https://www.gem5.org\n",
      "gem5 is copyrighted software; use the --copyright option for details.\n",
      "\n",
      "gem5 version 22.1.0.0\n",
      "gem5 compiled Jan 26 2023 15:06:33\n",
      "gem5 started Feb 13 2023 21:59:38\n",
      "gem5 executing on aldy, pid 3908004\n",
      "command line: /home/fft_vec/gem5/build/ARM/gem5.opt --outdir=./bench/build-ARM-gem5-opt/bench_yolo-tiny/WT/8MB/ /home/fft_vec/gem5/configs/example/se.py --cpu-clock=2GHz --l1d_size=64kB --l1i_size=16kB --caches --output=stdout.txt --errout=stderr.txt --l2_size=8MB --l2cache -c ./darknet --options bench_yolo-tiny\n",
      "\n",
      "info: Standard input is not a terminal, disabling listeners.\n",
      "**** REAL SIMULATION ****\n"
     ]
    },
    {
     "name": "stderr",
     "output_type": "stream",
     "text": [
      "build/ARM/sim/mem_state.cc:443: info: Increasing stack size by one page.\n",
      "build/ARM/sim/mem_state.cc:443: info: Increasing stack size by one page.\n"
     ]
    },
    {
     "name": "stdout",
     "output_type": "stream",
     "text": [
      "Exiting @ tick 2614375459500 because exiting with last active thread context\n",
      "['./bench/build-ARM-gem5-opt/bench_yolo-tiny/WT/256MB/', './bench/build-ARM-gem5-opt/bench_yolo-tiny/WT/64MB/', './bench/build-ARM-gem5-opt/bench_yolo-tiny/WT/8MB/']\n",
      "reading data from file:  ./bench/build-ARM-gem5-opt/bench_yolo-tiny/WT/256MB/stats.txt \n",
      " \n",
      "reading data from file:  ./bench/build-ARM-gem5-opt/bench_yolo-tiny/WT/64MB/stats.txt \n",
      " \n",
      "reading data from file:  ./bench/build-ARM-gem5-opt/bench_yolo-tiny/WT/8MB/stats.txt \n",
      " \n",
      "[[('simTicks', 2614375470500)], [('simTicks', 2614375465000)], [('simTicks', 2614375459500)]]\n",
      "([[('simTicks', 2614375470500)], [('simTicks', 2614375465000)], [('simTicks', 2614375459500)]], ['./bench/build-ARM-gem5-opt/bench_yolo-tiny/NO_PREDICT_NPP/256MB/', './bench/build-ARM-gem5-opt/bench_yolo-tiny/NO_PREDICT_NPP/64MB/', './bench/build-ARM-gem5-opt/bench_yolo-tiny/NO_PREDICT_NPP/8MB/'])\n",
      "hej--..:  [[('simTicks', 2614375459500)], [('simTicks', 2614375465000)], [('simTicks', 2614375470500)]]\n",
      "då--..:  [[('simTicks', 2614375459500)], [('simTicks', 2614375465000)], [('simTicks', 2614375470500)]]\n",
      "[0, 0, 0]\n",
      "['8MB', '64MB', '256MB']\n"
     ]
    },
    {
     "data": {
      "image/png": "[encoded data removed]",
      "text/plain": [
       "<Figure size 640x480 with 1 Axes>"
      ]
     },
     "metadata": {},
     "output_type": "display_data"
    }
   ],
   "source": [
    "wtResult = runandPlot(Program.NNPACK_WT,yolo ,chaceOptions, chaceSizes, setupnppticks_npp)"
   ]
  },
  {
   "cell_type": "code",
   "execution_count": 43,
   "id": "8315b54a",
   "metadata": {},
   "outputs": [
    {
     "name": "stdout",
     "output_type": "stream",
     "text": [
      "reading data from file:  ./bench/build-ARM-gem5-opt/bench_yolo-tiny/WT/256MB/stats.txt \n",
      " \n",
      "reading data from file:  ./bench/build-ARM-gem5-opt/bench_yolo-tiny/WT/64MB/stats.txt \n",
      " \n",
      "reading data from file:  ./bench/build-ARM-gem5-opt/bench_yolo-tiny/WT/8MB/stats.txt \n",
      " \n",
      "reading data from file:  ./bench/build-ARM-gem5-opt/bench_yolo-tiny/NO_PREDICT_NPP/256MB/stats.txt \n",
      " \n",
      "reading data from file:  ./bench/build-ARM-gem5-opt/bench_yolo-tiny/NO_PREDICT_NPP/64MB/stats.txt \n",
      " \n",
      "reading data from file:  ./bench/build-ARM-gem5-opt/bench_yolo-tiny/NO_PREDICT_NPP/8MB/stats.txt \n",
      " \n",
      "hej--..:  [[('simTicks', 1191116040500)], [('simTicks', 1191116035000)], [('simTicks', 1191116029500)]]\n",
      "då--..:  [[('simTicks', 2614375470500)], [('simTicks', 2614375465000)], [('simTicks', 2614375459500)]]\n",
      "[1423259430000, 1423259430000, 1423259430000]\n",
      "['256MB', '64MB', '8MB']\n"
     ]
    },
    {
     "data": {
      "image/png": "[encoded data removed]",
      "text/plain": [
       "<Figure size 640x480 with 1 Axes>"
      ]
     },
     "metadata": {},
     "output_type": "display_data"
    }
   ],
   "source": [
    "readandplot(wtResult[0],chaceSizes,setupnppticks_npp)"
   ]
  },
  {
   "cell_type": "markdown",
   "id": "25c09a1f",
   "metadata": {},
   "source": [
    "# FT16"
   ]
  },
  {
   "cell_type": "code",
   "execution_count": 37,
   "id": "0c40e544",
   "metadata": {
    "scrolled": false
   },
   "outputs": [
    {
     "name": "stdout",
     "output_type": "stream",
     "text": [
      "\n",
      " make clean; make NNPACK=1 FT16=1 CC=aarch64-none-linux-gnu-gcc CPP=aarch64-none-linux-gnu-g++ \n",
      "\n",
      "rm -rf ./obj/gemm.o ./obj/utils.o ./obj/cuda.o ./obj/deconvolutional_layer.o ./obj/convolutional_layer.o ./obj/list.o ./obj/image.o ./obj/activations.o ./obj/im2col.o ./obj/col2im.o ./obj/blas.o ./obj/crop_layer.o ./obj/dropout_layer.o ./obj/maxpool_layer.o ./obj/softmax_layer.o ./obj/data.o ./obj/matrix.o ./obj/network.o ./obj/connected_layer.o ./obj/cost_layer.o ./obj/parser.o ./obj/option_list.o ./obj/detection_layer.o ./obj/route_layer.o ./obj/upsample_layer.o ./obj/box.o ./obj/normalization_layer.o ./obj/avgpool_layer.o ./obj/layer.o ./obj/local_layer.o ./obj/shortcut_layer.o ./obj/logistic_layer.o ./obj/activation_layer.o ./obj/rnn_layer.o ./obj/gru_layer.o ./obj/crnn_layer.o ./obj/demo.o ./obj/batchnorm_layer.o ./obj/region_layer.o ./obj/reorg_layer.o ./obj/tree.o ./obj/lstm_layer.o ./obj/l2norm_layer.o ./obj/yolo_layer.o ./obj/iseg_layer.o ./obj/image_opencv.o libdarknet.so libdarknet.a darknet ./obj/captcha.o ./obj/lsd.o ./obj/super.o ./obj/art.o ./obj/tag.o ./obj/cifar.o ./obj/go.o ./obj/rnn.o ./obj/segmenter.o ./obj/regressor.o ./obj/classifier.o ./obj/coco.o ./obj/yolo.o ./obj/detector.o ./obj/nightmare.o ./obj/instance-segmenter.o ./obj/darknet.o ./obj/test.o ./obj//*\n",
      "NNPACK=1\n",
      "FT16=1\n",
      "CPP=aarch64-none-linux-gnu-g++\n",
      "CC=aarch64-none-linux-gnu-gcc\n",
      "aarch64-none-linux-gnu-gcc -Iinclude/ -Isrc/ -Wall -Wno-unused-result -Wno-unknown-pragmas -Wfatal-errors -static -Ofast -fno-tree-vectorize -DNNPACK -c ./src/gemm.c -o obj/gemm.o\n",
      "aarch64-none-linux-gnu-gcc -Iinclude/ -Isrc/ -Wall -Wno-unused-result -Wno-unknown-pragmas -Wfatal-errors -static -Ofast -fno-tree-vectorize -DNNPACK -c ./src/utils.c -o obj/utils.o\n"
     ]
    },
    {
     "name": "stderr",
     "output_type": "stream",
     "text": [
      "In function ‘copy_string’,\n",
      "    inlined from ‘basecfg’ at ./src/utils.c:187:9:\n",
      "./src/utils.c:426:5: warning: ‘strncpy’ specified bound depends on the length of the source argument [-Wstringop-overflow=]\n",
      "  426 |     strncpy(copy, s, strlen(s)+1);\n",
      "      |     ^~~~~~~~~~~~~~~~~~~~~~~~~~~~~\n",
      "./src/utils.c: In function ‘basecfg’:\n",
      "./src/utils.c:426:22: note: length computed here\n",
      "  426 |     strncpy(copy, s, strlen(s)+1);\n",
      "      |                      ^~~~~~~~~\n",
      "./src/utils.c: In function ‘copy_string’:\n",
      "./src/utils.c:426:5: warning: ‘strncpy’ specified bound depends on the length of the source argument [-Wstringop-overflow=]\n",
      "  426 |     strncpy(copy, s, strlen(s)+1);\n",
      "      |     ^~~~~~~~~~~~~~~~~~~~~~~~~~~~~\n",
      "./src/utils.c:426:22: note: length computed here\n",
      "  426 |     strncpy(copy, s, strlen(s)+1);\n",
      "      |                      ^~~~~~~~~\n",
      "In function ‘copy_string’,\n",
      "    inlined from ‘parse_csv_line’ at ./src/utils.c:439:28:\n",
      "./src/utils.c:426:5: warning: ‘strncpy’ specified bound depends on the length of the source argument [-Wstringop-overflow=]\n",
      "  426 |     strncpy(copy, s, strlen(s)+1);\n",
      "      |     ^~~~~~~~~~~~~~~~~~~~~~~~~~~~~\n",
      "./src/utils.c: In function ‘parse_csv_line’:\n",
      "./src/utils.c:426:22: note: length computed here\n",
      "  426 |     strncpy(copy, s, strlen(s)+1);\n",
      "      |                      ^~~~~~~~~\n",
      "In function ‘copy_string’,\n",
      "    inlined from ‘parse_csv_line’ at ./src/utils.c:443:20:\n",
      "./src/utils.c:426:5: warning: ‘strncpy’ specified bound depends on the length of the source argument [-Wstringop-overflow=]\n",
      "  426 |     strncpy(copy, s, strlen(s)+1);\n",
      "      |     ^~~~~~~~~~~~~~~~~~~~~~~~~~~~~\n",
      "./src/utils.c: In function ‘parse_csv_line’:\n",
      "./src/utils.c:426:22: note: length computed here\n",
      "  426 |     strncpy(copy, s, strlen(s)+1);\n",
      "      |                      ^~~~~~~~~\n"
     ]
    },
    {
     "name": "stdout",
     "output_type": "stream",
     "text": [
      "aarch64-none-linux-gnu-gcc -Iinclude/ -Isrc/ -Wall -Wno-unused-result -Wno-unknown-pragmas -Wfatal-errors -static -Ofast -fno-tree-vectorize -DNNPACK -c ./src/cuda.c -o obj/cuda.o\n",
      "aarch64-none-linux-gnu-gcc -Iinclude/ -Isrc/ -Wall -Wno-unused-result -Wno-unknown-pragmas -Wfatal-errors -static -Ofast -fno-tree-vectorize -DNNPACK -c ./src/deconvolutional_layer.c -o obj/deconvolutional_layer.o\n",
      "aarch64-none-linux-gnu-gcc -Iinclude/ -Isrc/ -Wall -Wno-unused-result -Wno-unknown-pragmas -Wfatal-errors -static -Ofast -fno-tree-vectorize -DNNPACK -c ./src/convolutional_layer.c -o obj/convolutional_layer.o\n",
      "aarch64-none-linux-gnu-gcc -Iinclude/ -Isrc/ -Wall -Wno-unused-result -Wno-unknown-pragmas -Wfatal-errors -static -Ofast -fno-tree-vectorize -DNNPACK -c ./src/list.c -o obj/list.o\n",
      "aarch64-none-linux-gnu-gcc -Iinclude/ -Isrc/ -Wall -Wno-unused-result -Wno-unknown-pragmas -Wfatal-errors -static -Ofast -fno-tree-vectorize -DNNPACK -c ./src/image.c -o obj/image.o\n",
      "aarch64-none-linux-gnu-gcc -Iinclude/ -Isrc/ -Wall -Wno-unused-result -Wno-unknown-pragmas -Wfatal-errors -static -Ofast -fno-tree-vectorize -DNNPACK -c ./src/activations.c -o obj/activations.o\n",
      "aarch64-none-linux-gnu-gcc -Iinclude/ -Isrc/ -Wall -Wno-unused-result -Wno-unknown-pragmas -Wfatal-errors -static -Ofast -fno-tree-vectorize -DNNPACK -c ./src/im2col.c -o obj/im2col.o\n",
      "aarch64-none-linux-gnu-gcc -Iinclude/ -Isrc/ -Wall -Wno-unused-result -Wno-unknown-pragmas -Wfatal-errors -static -Ofast -fno-tree-vectorize -DNNPACK -c ./src/col2im.c -o obj/col2im.o\n",
      "aarch64-none-linux-gnu-gcc -Iinclude/ -Isrc/ -Wall -Wno-unused-result -Wno-unknown-pragmas -Wfatal-errors -static -Ofast -fno-tree-vectorize -DNNPACK -c ./src/blas.c -o obj/blas.o\n",
      "aarch64-none-linux-gnu-gcc -Iinclude/ -Isrc/ -Wall -Wno-unused-result -Wno-unknown-pragmas -Wfatal-errors -static -Ofast -fno-tree-vectorize -DNNPACK -c ./src/crop_layer.c -o obj/crop_layer.o\n",
      "aarch64-none-linux-gnu-gcc -Iinclude/ -Isrc/ -Wall -Wno-unused-result -Wno-unknown-pragmas -Wfatal-errors -static -Ofast -fno-tree-vectorize -DNNPACK -c ./src/dropout_layer.c -o obj/dropout_layer.o\n",
      "aarch64-none-linux-gnu-gcc -Iinclude/ -Isrc/ -Wall -Wno-unused-result -Wno-unknown-pragmas -Wfatal-errors -static -Ofast -fno-tree-vectorize -DNNPACK -c ./src/maxpool_layer.c -o obj/maxpool_layer.o\n",
      "aarch64-none-linux-gnu-gcc -Iinclude/ -Isrc/ -Wall -Wno-unused-result -Wno-unknown-pragmas -Wfatal-errors -static -Ofast -fno-tree-vectorize -DNNPACK -c ./src/softmax_layer.c -o obj/softmax_layer.o\n",
      "aarch64-none-linux-gnu-gcc -Iinclude/ -Isrc/ -Wall -Wno-unused-result -Wno-unknown-pragmas -Wfatal-errors -static -Ofast -fno-tree-vectorize -DNNPACK -c ./src/data.c -o obj/data.o\n",
      "aarch64-none-linux-gnu-gcc -Iinclude/ -Isrc/ -Wall -Wno-unused-result -Wno-unknown-pragmas -Wfatal-errors -static -Ofast -fno-tree-vectorize -DNNPACK -c ./src/matrix.c -o obj/matrix.o\n",
      "aarch64-none-linux-gnu-gcc -Iinclude/ -Isrc/ -Wall -Wno-unused-result -Wno-unknown-pragmas -Wfatal-errors -static -Ofast -fno-tree-vectorize -DNNPACK -c ./src/network.c -o obj/network.o\n",
      "aarch64-none-linux-gnu-gcc -Iinclude/ -Isrc/ -Wall -Wno-unused-result -Wno-unknown-pragmas -Wfatal-errors -static -Ofast -fno-tree-vectorize -DNNPACK -c ./src/connected_layer.c -o obj/connected_layer.o\n",
      "aarch64-none-linux-gnu-gcc -Iinclude/ -Isrc/ -Wall -Wno-unused-result -Wno-unknown-pragmas -Wfatal-errors -static -Ofast -fno-tree-vectorize -DNNPACK -c ./src/cost_layer.c -o obj/cost_layer.o\n",
      "aarch64-none-linux-gnu-gcc -Iinclude/ -Isrc/ -Wall -Wno-unused-result -Wno-unknown-pragmas -Wfatal-errors -static -Ofast -fno-tree-vectorize -DNNPACK -c ./src/parser.c -o obj/parser.o\n",
      "aarch64-none-linux-gnu-gcc -Iinclude/ -Isrc/ -Wall -Wno-unused-result -Wno-unknown-pragmas -Wfatal-errors -static -Ofast -fno-tree-vectorize -DNNPACK -c ./src/option_list.c -o obj/option_list.o\n",
      "aarch64-none-linux-gnu-gcc -Iinclude/ -Isrc/ -Wall -Wno-unused-result -Wno-unknown-pragmas -Wfatal-errors -static -Ofast -fno-tree-vectorize -DNNPACK -c ./src/detection_layer.c -o obj/detection_layer.o\n",
      "aarch64-none-linux-gnu-gcc -Iinclude/ -Isrc/ -Wall -Wno-unused-result -Wno-unknown-pragmas -Wfatal-errors -static -Ofast -fno-tree-vectorize -DNNPACK -c ./src/route_layer.c -o obj/route_layer.o\n",
      "aarch64-none-linux-gnu-gcc -Iinclude/ -Isrc/ -Wall -Wno-unused-result -Wno-unknown-pragmas -Wfatal-errors -static -Ofast -fno-tree-vectorize -DNNPACK -c ./src/upsample_layer.c -o obj/upsample_layer.o\n",
      "aarch64-none-linux-gnu-gcc -Iinclude/ -Isrc/ -Wall -Wno-unused-result -Wno-unknown-pragmas -Wfatal-errors -static -Ofast -fno-tree-vectorize -DNNPACK -c ./src/box.c -o obj/box.o\n",
      "aarch64-none-linux-gnu-gcc -Iinclude/ -Isrc/ -Wall -Wno-unused-result -Wno-unknown-pragmas -Wfatal-errors -static -Ofast -fno-tree-vectorize -DNNPACK -c ./src/normalization_layer.c -o obj/normalization_layer.o\n",
      "aarch64-none-linux-gnu-gcc -Iinclude/ -Isrc/ -Wall -Wno-unused-result -Wno-unknown-pragmas -Wfatal-errors -static -Ofast -fno-tree-vectorize -DNNPACK -c ./src/avgpool_layer.c -o obj/avgpool_layer.o\n",
      "aarch64-none-linux-gnu-gcc -Iinclude/ -Isrc/ -Wall -Wno-unused-result -Wno-unknown-pragmas -Wfatal-errors -static -Ofast -fno-tree-vectorize -DNNPACK -c ./src/layer.c -o obj/layer.o\n",
      "aarch64-none-linux-gnu-gcc -Iinclude/ -Isrc/ -Wall -Wno-unused-result -Wno-unknown-pragmas -Wfatal-errors -static -Ofast -fno-tree-vectorize -DNNPACK -c ./src/local_layer.c -o obj/local_layer.o\n",
      "aarch64-none-linux-gnu-gcc -Iinclude/ -Isrc/ -Wall -Wno-unused-result -Wno-unknown-pragmas -Wfatal-errors -static -Ofast -fno-tree-vectorize -DNNPACK -c ./src/shortcut_layer.c -o obj/shortcut_layer.o\n",
      "aarch64-none-linux-gnu-gcc -Iinclude/ -Isrc/ -Wall -Wno-unused-result -Wno-unknown-pragmas -Wfatal-errors -static -Ofast -fno-tree-vectorize -DNNPACK -c ./src/logistic_layer.c -o obj/logistic_layer.o\n",
      "aarch64-none-linux-gnu-gcc -Iinclude/ -Isrc/ -Wall -Wno-unused-result -Wno-unknown-pragmas -Wfatal-errors -static -Ofast -fno-tree-vectorize -DNNPACK -c ./src/activation_layer.c -o obj/activation_layer.o\n",
      "aarch64-none-linux-gnu-gcc -Iinclude/ -Isrc/ -Wall -Wno-unused-result -Wno-unknown-pragmas -Wfatal-errors -static -Ofast -fno-tree-vectorize -DNNPACK -c ./src/rnn_layer.c -o obj/rnn_layer.o\n",
      "aarch64-none-linux-gnu-gcc -Iinclude/ -Isrc/ -Wall -Wno-unused-result -Wno-unknown-pragmas -Wfatal-errors -static -Ofast -fno-tree-vectorize -DNNPACK -c ./src/gru_layer.c -o obj/gru_layer.o\n",
      "aarch64-none-linux-gnu-gcc -Iinclude/ -Isrc/ -Wall -Wno-unused-result -Wno-unknown-pragmas -Wfatal-errors -static -Ofast -fno-tree-vectorize -DNNPACK -c ./src/crnn_layer.c -o obj/crnn_layer.o\n",
      "aarch64-none-linux-gnu-gcc -Iinclude/ -Isrc/ -Wall -Wno-unused-result -Wno-unknown-pragmas -Wfatal-errors -static -Ofast -fno-tree-vectorize -DNNPACK -c ./src/demo.c -o obj/demo.o\n",
      "aarch64-none-linux-gnu-gcc -Iinclude/ -Isrc/ -Wall -Wno-unused-result -Wno-unknown-pragmas -Wfatal-errors -static -Ofast -fno-tree-vectorize -DNNPACK -c ./src/batchnorm_layer.c -o obj/batchnorm_layer.o\n",
      "aarch64-none-linux-gnu-gcc -Iinclude/ -Isrc/ -Wall -Wno-unused-result -Wno-unknown-pragmas -Wfatal-errors -static -Ofast -fno-tree-vectorize -DNNPACK -c ./src/region_layer.c -o obj/region_layer.o\n",
      "aarch64-none-linux-gnu-gcc -Iinclude/ -Isrc/ -Wall -Wno-unused-result -Wno-unknown-pragmas -Wfatal-errors -static -Ofast -fno-tree-vectorize -DNNPACK -c ./src/reorg_layer.c -o obj/reorg_layer.o\n",
      "aarch64-none-linux-gnu-gcc -Iinclude/ -Isrc/ -Wall -Wno-unused-result -Wno-unknown-pragmas -Wfatal-errors -static -Ofast -fno-tree-vectorize -DNNPACK -c ./src/tree.c -o obj/tree.o\n",
      "aarch64-none-linux-gnu-gcc -Iinclude/ -Isrc/ -Wall -Wno-unused-result -Wno-unknown-pragmas -Wfatal-errors -static -Ofast -fno-tree-vectorize -DNNPACK -c ./src/lstm_layer.c -o obj/lstm_layer.o\n",
      "aarch64-none-linux-gnu-gcc -Iinclude/ -Isrc/ -Wall -Wno-unused-result -Wno-unknown-pragmas -Wfatal-errors -static -Ofast -fno-tree-vectorize -DNNPACK -c ./src/l2norm_layer.c -o obj/l2norm_layer.o\n",
      "aarch64-none-linux-gnu-gcc -Iinclude/ -Isrc/ -Wall -Wno-unused-result -Wno-unknown-pragmas -Wfatal-errors -static -Ofast -fno-tree-vectorize -DNNPACK -c ./src/yolo_layer.c -o obj/yolo_layer.o\n",
      "aarch64-none-linux-gnu-gcc -Iinclude/ -Isrc/ -Wall -Wno-unused-result -Wno-unknown-pragmas -Wfatal-errors -static -Ofast -fno-tree-vectorize -DNNPACK -c ./src/iseg_layer.c -o obj/iseg_layer.o\n",
      "aarch64-none-linux-gnu-g++ -Iinclude/ -Isrc/ -Wall -Wno-unused-result -Wno-unknown-pragmas -Wfatal-errors -static -Ofast -fno-tree-vectorize -DNNPACK -c ./src/image_opencv.cpp -o obj/image_opencv.o\n",
      "ar rcs libdarknet.a obj/gemm.o obj/utils.o obj/cuda.o obj/deconvolutional_layer.o obj/convolutional_layer.o obj/list.o obj/image.o obj/activations.o obj/im2col.o obj/col2im.o obj/blas.o obj/crop_layer.o obj/dropout_layer.o obj/maxpool_layer.o obj/softmax_layer.o obj/data.o obj/matrix.o obj/network.o obj/connected_layer.o obj/cost_layer.o obj/parser.o obj/option_list.o obj/detection_layer.o obj/route_layer.o obj/upsample_layer.o obj/box.o obj/normalization_layer.o obj/avgpool_layer.o obj/layer.o obj/local_layer.o obj/shortcut_layer.o obj/logistic_layer.o obj/activation_layer.o obj/rnn_layer.o obj/gru_layer.o obj/crnn_layer.o obj/demo.o obj/batchnorm_layer.o obj/region_layer.o obj/reorg_layer.o obj/tree.o obj/lstm_layer.o obj/l2norm_layer.o obj/yolo_layer.o obj/iseg_layer.o obj/image_opencv.o\n",
      "aarch64-none-linux-gnu-gcc -Iinclude/ -Isrc/ -Wall -Wno-unused-result -Wno-unknown-pragmas -Wfatal-errors -static -Ofast -fno-tree-vectorize -DNNPACK -c ./examples/captcha.c -o obj/captcha.o\n"
     ]
    },
    {
     "name": "stdout",
     "output_type": "stream",
     "text": [
      "aarch64-none-linux-gnu-gcc -Iinclude/ -Isrc/ -Wall -Wno-unused-result -Wno-unknown-pragmas -Wfatal-errors -static -Ofast -fno-tree-vectorize -DNNPACK -c ./examples/lsd.c -o obj/lsd.o\n",
      "aarch64-none-linux-gnu-gcc -Iinclude/ -Isrc/ -Wall -Wno-unused-result -Wno-unknown-pragmas -Wfatal-errors -static -Ofast -fno-tree-vectorize -DNNPACK -c ./examples/super.c -o obj/super.o\n",
      "aarch64-none-linux-gnu-gcc -Iinclude/ -Isrc/ -Wall -Wno-unused-result -Wno-unknown-pragmas -Wfatal-errors -static -Ofast -fno-tree-vectorize -DNNPACK -c ./examples/art.c -o obj/art.o\n",
      "aarch64-none-linux-gnu-gcc -Iinclude/ -Isrc/ -Wall -Wno-unused-result -Wno-unknown-pragmas -Wfatal-errors -static -Ofast -fno-tree-vectorize -DNNPACK -c ./examples/tag.c -o obj/tag.o\n",
      "aarch64-none-linux-gnu-gcc -Iinclude/ -Isrc/ -Wall -Wno-unused-result -Wno-unknown-pragmas -Wfatal-errors -static -Ofast -fno-tree-vectorize -DNNPACK -c ./examples/cifar.c -o obj/cifar.o\n",
      "aarch64-none-linux-gnu-gcc -Iinclude/ -Isrc/ -Wall -Wno-unused-result -Wno-unknown-pragmas -Wfatal-errors -static -Ofast -fno-tree-vectorize -DNNPACK -c ./examples/go.c -o obj/go.o\n",
      "aarch64-none-linux-gnu-gcc -Iinclude/ -Isrc/ -Wall -Wno-unused-result -Wno-unknown-pragmas -Wfatal-errors -static -Ofast -fno-tree-vectorize -DNNPACK -c ./examples/rnn.c -o obj/rnn.o\n",
      "aarch64-none-linux-gnu-gcc -Iinclude/ -Isrc/ -Wall -Wno-unused-result -Wno-unknown-pragmas -Wfatal-errors -static -Ofast -fno-tree-vectorize -DNNPACK -c ./examples/segmenter.c -o obj/segmenter.o\n",
      "aarch64-none-linux-gnu-gcc -Iinclude/ -Isrc/ -Wall -Wno-unused-result -Wno-unknown-pragmas -Wfatal-errors -static -Ofast -fno-tree-vectorize -DNNPACK -c ./examples/regressor.c -o obj/regressor.o\n",
      "aarch64-none-linux-gnu-gcc -Iinclude/ -Isrc/ -Wall -Wno-unused-result -Wno-unknown-pragmas -Wfatal-errors -static -Ofast -fno-tree-vectorize -DNNPACK -c ./examples/classifier.c -o obj/classifier.o\n",
      "aarch64-none-linux-gnu-gcc -Iinclude/ -Isrc/ -Wall -Wno-unused-result -Wno-unknown-pragmas -Wfatal-errors -static -Ofast -fno-tree-vectorize -DNNPACK -c ./examples/coco.c -o obj/coco.o\n",
      "aarch64-none-linux-gnu-gcc -Iinclude/ -Isrc/ -Wall -Wno-unused-result -Wno-unknown-pragmas -Wfatal-errors -static -Ofast -fno-tree-vectorize -DNNPACK -c ./examples/yolo.c -o obj/yolo.o\n",
      "aarch64-none-linux-gnu-gcc -Iinclude/ -Isrc/ -Wall -Wno-unused-result -Wno-unknown-pragmas -Wfatal-errors -static -Ofast -fno-tree-vectorize -DNNPACK -c ./examples/detector.c -o obj/detector.o\n"
     ]
    },
    {
     "name": "stderr",
     "output_type": "stream",
     "text": [
      "./examples/detector.c: In function ‘test_detector’:\n",
      "./examples/detector.c:597:16: warning: unused variable ‘X’ [-Wunused-variable]\n",
      "  597 |         float *X = sized.data;\n",
      "      |                ^\n"
     ]
    },
    {
     "name": "stdout",
     "output_type": "stream",
     "text": [
      "aarch64-none-linux-gnu-gcc -Iinclude/ -Isrc/ -Wall -Wno-unused-result -Wno-unknown-pragmas -Wfatal-errors -static -Ofast -fno-tree-vectorize -DNNPACK -c ./examples/nightmare.c -o obj/nightmare.o\n",
      "aarch64-none-linux-gnu-gcc -Iinclude/ -Isrc/ -Wall -Wno-unused-result -Wno-unknown-pragmas -Wfatal-errors -static -Ofast -fno-tree-vectorize -DNNPACK -c ./examples/instance-segmenter.c -o obj/instance-segmenter.o\n",
      "aarch64-none-linux-gnu-gcc -Iinclude/ -Isrc/ -Wall -Wno-unused-result -Wno-unknown-pragmas -Wfatal-errors -static -Ofast -fno-tree-vectorize -DNNPACK -c ./examples/darknet.c -o obj/darknet.o\n",
      "aarch64-none-linux-gnu-gcc -Iinclude/ -Isrc/ -Wall -Wno-unused-result -Wno-unknown-pragmas -Wfatal-errors -static -Ofast -fno-tree-vectorize -DNNPACK -c ./examples/test.c -o obj/test.o\n",
      "aarch64-none-linux-gnu-gcc -Iinclude/ -Isrc/ -Wall -Wno-unused-result -Wno-unknown-pragmas -Wfatal-errors -static -Ofast -fno-tree-vectorize -DNNPACK obj/captcha.o obj/lsd.o obj/super.o obj/art.o obj/tag.o obj/cifar.o obj/go.o obj/rnn.o obj/segmenter.o obj/regressor.o obj/classifier.o obj/coco.o obj/yolo.o obj/detector.o obj/nightmare.o obj/instance-segmenter.o obj/darknet.o obj/test.o libdarknet.a -o darknet -lm -pthread -L/home/fft_vec/arm-deps/usr/local/lib -l:libnnpack.a -l:libpthreadpool.a -l:libcpuinfo.a -l:libclog.a libdarknet.a\n",
      "/home/fft_vec/gem5/build/ARM/gem5.opt --outdir=./bench/build-ARM-gem5-opt/bench_yolo-tiny/FT16/256MB/ /home/fft_vec/gem5/configs/example/se.py --cpu-clock=2GHz --l1d_size=64kB --l1i_size=16kB --caches --output=stdout.txt  --errout=stderr.txt --l2_size=256MB --l2cache -c \"./darknet\" --options \"bench_yolo-tiny\"\n",
      "\n",
      "\n"
     ]
    },
    {
     "name": "stderr",
     "output_type": "stream",
     "text": [
      "warn: The `get_runtime_isa` function is deprecated. Please migrate away from using this function.\n",
      "warn: The `get_runtime_isa` function is deprecated. Please migrate away from using this function.\n",
      "warn: No dot file generated. Please install pydot to generate the dot file and pdf.\n",
      "build/ARM/mem/dram_interface.cc:690: warn: DRAM device capacity (8192 Mbytes) does not match the address range assigned (512 Mbytes)\n"
     ]
    },
    {
     "name": "stdout",
     "output_type": "stream",
     "text": [
      "Global frequency set at 1000000000000 ticks per second\n"
     ]
    },
    {
     "name": "stderr",
     "output_type": "stream",
     "text": [
      "build/ARM/base/remote_gdb.cc:416: warn: Sockets disabled, not accepting gdb connections\n",
      "build/ARM/sim/simulate.cc:192: info: Entering event queue @ 0.  Starting simulation...\n",
      "build/ARM/sim/syscall_emul.cc:74: warn: ignoring syscall set_robust_list(...)\n",
      "build/ARM/sim/syscall_emul.cc:74: warn: ignoring syscall rt_sigaction(...)\n",
      "build/ARM/sim/syscall_emul.cc:74: warn: ignoring syscall rt_sigaction(...)\n",
      "build/ARM/sim/syscall_emul.cc:85: warn: ignoring syscall rt_sigprocmask(...)\n",
      "      (further warnings will be suppressed)\n",
      "build/ARM/arch/arm/insts/pseudo.cc:172: warn: \tinstruction 'bti' unimplemented\n",
      "build/ARM/sim/mem_state.cc:443: info: Increasing stack size by one page.\n",
      "build/ARM/sim/syscall_emul.cc:74: warn: ignoring syscall mprotect(...)\n",
      "build/ARM/sim/mem_state.cc:443: info: Increasing stack size by one page.\n"
     ]
    },
    {
     "name": "stdout",
     "output_type": "stream",
     "text": [
      "gem5 Simulator System.  https://www.gem5.org\n",
      "gem5 is copyrighted software; use the --copyright option for details.\n",
      "\n",
      "gem5 version 22.1.0.0\n",
      "gem5 compiled Jan 26 2023 15:06:33\n",
      "gem5 started Feb 14 2023 00:18:42\n",
      "gem5 executing on aldy, pid 4152404\n",
      "command line: /home/fft_vec/gem5/build/ARM/gem5.opt --outdir=./bench/build-ARM-gem5-opt/bench_yolo-tiny/FT16/256MB/ /home/fft_vec/gem5/configs/example/se.py --cpu-clock=2GHz --l1d_size=64kB --l1i_size=16kB --caches --output=stdout.txt --errout=stderr.txt --l2_size=256MB --l2cache -c ./darknet --options bench_yolo-tiny\n",
      "\n",
      "info: Standard input is not a terminal, disabling listeners.\n",
      "**** REAL SIMULATION ****\n"
     ]
    },
    {
     "name": "stderr",
     "output_type": "stream",
     "text": [
      "build/ARM/sim/mem_state.cc:443: info: Increasing stack size by one page.\n",
      "build/ARM/sim/mem_state.cc:443: info: Increasing stack size by one page.\n"
     ]
    },
    {
     "name": "stdout",
     "output_type": "stream",
     "text": [
      "Exiting @ tick 1191116040500 because exiting with last active thread context\n",
      "/home/fft_vec/gem5/build/ARM/gem5.opt --outdir=./bench/build-ARM-gem5-opt/bench_yolo-tiny/FT16/64MB/ /home/fft_vec/gem5/configs/example/se.py --cpu-clock=2GHz --l1d_size=64kB --l1i_size=16kB --caches --output=stdout.txt  --errout=stderr.txt --l2_size=64MB --l2cache -c \"./darknet\" --options \"bench_yolo-tiny\"\n",
      "\n",
      "\n"
     ]
    },
    {
     "name": "stderr",
     "output_type": "stream",
     "text": [
      "warn: The `get_runtime_isa` function is deprecated. Please migrate away from using this function.\n",
      "warn: The `get_runtime_isa` function is deprecated. Please migrate away from using this function.\n",
      "warn: No dot file generated. Please install pydot to generate the dot file and pdf.\n",
      "build/ARM/mem/dram_interface.cc:690: warn: DRAM device capacity (8192 Mbytes) does not match the address range assigned (512 Mbytes)\n",
      "build/ARM/base/remote_gdb.cc:416: warn: Sockets disabled, not accepting gdb connections\n",
      "build/ARM/sim/simulate.cc:192: info: Entering event queue @ 0.  Starting simulation...\n",
      "build/ARM/sim/syscall_emul.cc:74: warn: ignoring syscall set_robust_list(...)\n",
      "build/ARM/sim/syscall_emul.cc:74: warn: ignoring syscall rt_sigaction(...)\n",
      "build/ARM/sim/syscall_emul.cc:74: warn: ignoring syscall rt_sigaction(...)\n",
      "build/ARM/sim/syscall_emul.cc:85: warn: ignoring syscall rt_sigprocmask(...)\n",
      "      (further warnings will be suppressed)\n",
      "build/ARM/arch/arm/insts/pseudo.cc:172: warn: \tinstruction 'bti' unimplemented\n",
      "build/ARM/sim/mem_state.cc:443: info: Increasing stack size by one page.\n",
      "build/ARM/sim/syscall_emul.cc:74: warn: ignoring syscall mprotect(...)\n",
      "build/ARM/sim/mem_state.cc:443: info: Increasing stack size by one page.\n"
     ]
    },
    {
     "name": "stdout",
     "output_type": "stream",
     "text": [
      "Global frequency set at 1000000000000 ticks per second\n",
      "gem5 Simulator System.  https://www.gem5.org\n",
      "gem5 is copyrighted software; use the --copyright option for details.\n",
      "\n",
      "gem5 version 22.1.0.0\n",
      "gem5 compiled Jan 26 2023 15:06:33\n",
      "gem5 started Feb 14 2023 00:33:32\n",
      "gem5 executing on aldy, pid 4178396\n",
      "command line: /home/fft_vec/gem5/build/ARM/gem5.opt --outdir=./bench/build-ARM-gem5-opt/bench_yolo-tiny/FT16/64MB/ /home/fft_vec/gem5/configs/example/se.py --cpu-clock=2GHz --l1d_size=64kB --l1i_size=16kB --caches --output=stdout.txt --errout=stderr.txt --l2_size=64MB --l2cache -c ./darknet --options bench_yolo-tiny\n",
      "\n",
      "info: Standard input is not a terminal, disabling listeners.\n",
      "**** REAL SIMULATION ****\n"
     ]
    },
    {
     "name": "stderr",
     "output_type": "stream",
     "text": [
      "build/ARM/sim/mem_state.cc:443: info: Increasing stack size by one page.\n",
      "build/ARM/sim/mem_state.cc:443: info: Increasing stack size by one page.\n"
     ]
    },
    {
     "name": "stdout",
     "output_type": "stream",
     "text": [
      "Exiting @ tick 1191116035000 because exiting with last active thread context\n",
      "/home/fft_vec/gem5/build/ARM/gem5.opt --outdir=./bench/build-ARM-gem5-opt/bench_yolo-tiny/FT16/8MB/ /home/fft_vec/gem5/configs/example/se.py --cpu-clock=2GHz --l1d_size=64kB --l1i_size=16kB --caches --output=stdout.txt  --errout=stderr.txt --l2_size=8MB --l2cache -c \"./darknet\" --options \"bench_yolo-tiny\"\n",
      "\n",
      "\n"
     ]
    },
    {
     "name": "stderr",
     "output_type": "stream",
     "text": [
      "warn: The `get_runtime_isa` function is deprecated. Please migrate away from using this function.\n",
      "warn: The `get_runtime_isa` function is deprecated. Please migrate away from using this function.\n",
      "warn: No dot file generated. Please install pydot to generate the dot file and pdf.\n",
      "build/ARM/mem/dram_interface.cc:690: warn: DRAM device capacity (8192 Mbytes) does not match the address range assigned (512 Mbytes)\n",
      "build/ARM/base/remote_gdb.cc:416: warn: Sockets disabled, not accepting gdb connections\n",
      "build/ARM/sim/simulate.cc:192: info: Entering event queue @ 0.  Starting simulation...\n",
      "build/ARM/sim/syscall_emul.cc:74: warn: ignoring syscall set_robust_list(...)\n",
      "build/ARM/sim/syscall_emul.cc:74: warn: ignoring syscall rt_sigaction(...)\n",
      "build/ARM/sim/syscall_emul.cc:74: warn: ignoring syscall rt_sigaction(...)\n",
      "build/ARM/sim/syscall_emul.cc:85: warn: ignoring syscall rt_sigprocmask(...)\n",
      "      (further warnings will be suppressed)\n",
      "build/ARM/arch/arm/insts/pseudo.cc:172: warn: \tinstruction 'bti' unimplemented\n",
      "build/ARM/sim/mem_state.cc:443: info: Increasing stack size by one page.\n",
      "build/ARM/sim/syscall_emul.cc:74: warn: ignoring syscall mprotect(...)\n",
      "build/ARM/sim/mem_state.cc:443: info: Increasing stack size by one page.\n"
     ]
    },
    {
     "name": "stdout",
     "output_type": "stream",
     "text": [
      "Global frequency set at 1000000000000 ticks per second\n",
      "gem5 Simulator System.  https://www.gem5.org\n",
      "gem5 is copyrighted software; use the --copyright option for details.\n",
      "\n",
      "gem5 version 22.1.0.0\n",
      "gem5 compiled Jan 26 2023 15:06:33\n",
      "gem5 started Feb 14 2023 00:48:31\n",
      "gem5 executing on aldy, pid 11117\n",
      "command line: /home/fft_vec/gem5/build/ARM/gem5.opt --outdir=./bench/build-ARM-gem5-opt/bench_yolo-tiny/FT16/8MB/ /home/fft_vec/gem5/configs/example/se.py --cpu-clock=2GHz --l1d_size=64kB --l1i_size=16kB --caches --output=stdout.txt --errout=stderr.txt --l2_size=8MB --l2cache -c ./darknet --options bench_yolo-tiny\n",
      "\n",
      "info: Standard input is not a terminal, disabling listeners.\n",
      "**** REAL SIMULATION ****\n"
     ]
    },
    {
     "name": "stderr",
     "output_type": "stream",
     "text": [
      "build/ARM/sim/mem_state.cc:443: info: Increasing stack size by one page.\n",
      "build/ARM/sim/mem_state.cc:443: info: Increasing stack size by one page.\n"
     ]
    },
    {
     "name": "stdout",
     "output_type": "stream",
     "text": [
      "Exiting @ tick 1191116029500 because exiting with last active thread context\n",
      "['./bench/build-ARM-gem5-opt/bench_yolo-tiny/FT16/256MB/', './bench/build-ARM-gem5-opt/bench_yolo-tiny/FT16/64MB/', './bench/build-ARM-gem5-opt/bench_yolo-tiny/FT16/8MB/']\n",
      "reading data from file:  ./bench/build-ARM-gem5-opt/bench_yolo-tiny/FT16/256MB/stats.txt \n",
      " \n",
      "reading data from file:  ./bench/build-ARM-gem5-opt/bench_yolo-tiny/FT16/64MB/stats.txt \n",
      " \n",
      "reading data from file:  ./bench/build-ARM-gem5-opt/bench_yolo-tiny/FT16/8MB/stats.txt \n",
      " \n",
      "[[('simTicks', 1191116040500)], [('simTicks', 1191116035000)], [('simTicks', 1191116029500)]]\n",
      "([[('simTicks', 2614375470500)], [('simTicks', 2614375465000)], [('simTicks', 2614375459500)]], ['./bench/build-ARM-gem5-opt/bench_yolo-tiny/NO_PREDICT_NPP/256MB/', './bench/build-ARM-gem5-opt/bench_yolo-tiny/NO_PREDICT_NPP/64MB/', './bench/build-ARM-gem5-opt/bench_yolo-tiny/NO_PREDICT_NPP/8MB/'])\n",
      "hej--..:  [[('simTicks', 2614375459500)], [('simTicks', 2614375465000)], [('simTicks', 2614375470500)]]\n",
      "då--..:  [[('simTicks', 1191116029500)], [('simTicks', 1191116035000)], [('simTicks', 1191116040500)]]\n",
      "[-1423259430000, -1423259430000, -1423259430000]\n",
      "['8MB', '64MB', '256MB']\n"
     ]
    },
    {
     "data": {
      "image/png": "[encoded data removed]",
      "text/plain": [
       "<Figure size 640x480 with 1 Axes>"
      ]
     },
     "metadata": {},
     "output_type": "display_data"
    }
   ],
   "source": [
    "ft16Result = runandPlot(Program.NNPACK_FT16,yolo ,chaceOptions, chaceSizes, setupnppticks_npp)"
   ]
  },
  {
   "cell_type": "code",
   "execution_count": 42,
   "id": "931e818f",
   "metadata": {
    "scrolled": false
   },
   "outputs": [
    {
     "name": "stdout",
     "output_type": "stream",
     "text": [
      "reading data from file:  ./bench/build-ARM-gem5-opt/bench_yolo-tiny/FT16/256MB/stats.txt \n",
      " \n",
      "reading data from file:  ./bench/build-ARM-gem5-opt/bench_yolo-tiny/FT16/64MB/stats.txt \n",
      " \n",
      "reading data from file:  ./bench/build-ARM-gem5-opt/bench_yolo-tiny/FT16/8MB/stats.txt \n",
      " \n",
      "reading data from file:  ./bench/build-ARM-gem5-opt/bench_yolo-tiny/NO_PREDICT_NPP/256MB/stats.txt \n",
      " \n",
      "reading data from file:  ./bench/build-ARM-gem5-opt/bench_yolo-tiny/NO_PREDICT_NPP/64MB/stats.txt \n",
      " \n",
      "reading data from file:  ./bench/build-ARM-gem5-opt/bench_yolo-tiny/NO_PREDICT_NPP/8MB/stats.txt \n",
      " \n",
      "hej--..:  [[('simTicks', 1191116040500)], [('simTicks', 1191116035000)], [('simTicks', 1191116029500)]]\n",
      "då--..:  [[('simTicks', 1191116040500)], [('simTicks', 1191116035000)], [('simTicks', 1191116029500)]]\n",
      "[0, 0, 0]\n",
      "['256MB', '64MB', '8MB']\n"
     ]
    },
    {
     "data": {
      "image/png": "[encoded data removed]",
      "text/plain": [
       "<Figure size 640x480 with 1 Axes>"
      ]
     },
     "metadata": {},
     "output_type": "display_data"
    }
   ],
   "source": [
    "readandplot(ft16Result[0],chaceSizes,setupnppticks_npp)"
   ]
  },
  {
   "cell_type": "markdown",
   "id": "c360ed52",
   "metadata": {},
   "source": [
    "## baseline"
   ]
  },
  {
   "cell_type": "code",
   "execution_count": null,
   "id": "a7a70aea",
   "metadata": {},
   "outputs": [],
   "source": [
    "#setupticks = cyclesToSetup_baseline(yolo)\n",
    "#setupticks"
   ]
  },
  {
   "cell_type": "code",
   "execution_count": null,
   "id": "8715745f",
   "metadata": {},
   "outputs": [],
   "source": [
    "#baslineResult = runandPlot(Program.BASELINE,yolo ,chaceOptions, chaceSizes, setupticks)"
   ]
  },
  {
   "cell_type": "code",
   "execution_count": null,
   "id": "cedd3292",
   "metadata": {
    "scrolled": true
   },
   "outputs": [],
   "source": [
    "#readandplot(baslineResult[0],chaceSizes,setupticks)"
   ]
  },
  {
   "cell_type": "markdown",
   "id": "0870483e",
   "metadata": {},
   "source": [
    "# GEMM"
   ]
  },
  {
   "cell_type": "code",
   "execution_count": 52,
   "id": "2c2b9960",
   "metadata": {
    "scrolled": false
   },
   "outputs": [
    {
     "name": "stdout",
     "output_type": "stream",
     "text": [
      "\n",
      " make clean; make NNPACK=1 GEMM=1 CC=aarch64-none-linux-gnu-gcc CPP=aarch64-none-linux-gnu-g++ \n",
      "\n",
      "rm -rf ./obj/gemm.o ./obj/utils.o ./obj/cuda.o ./obj/deconvolutional_layer.o ./obj/convolutional_layer.o ./obj/list.o ./obj/image.o ./obj/activations.o ./obj/im2col.o ./obj/col2im.o ./obj/blas.o ./obj/crop_layer.o ./obj/dropout_layer.o ./obj/maxpool_layer.o ./obj/softmax_layer.o ./obj/data.o ./obj/matrix.o ./obj/network.o ./obj/connected_layer.o ./obj/cost_layer.o ./obj/parser.o ./obj/option_list.o ./obj/detection_layer.o ./obj/route_layer.o ./obj/upsample_layer.o ./obj/box.o ./obj/normalization_layer.o ./obj/avgpool_layer.o ./obj/layer.o ./obj/local_layer.o ./obj/shortcut_layer.o ./obj/logistic_layer.o ./obj/activation_layer.o ./obj/rnn_layer.o ./obj/gru_layer.o ./obj/crnn_layer.o ./obj/demo.o ./obj/batchnorm_layer.o ./obj/region_layer.o ./obj/reorg_layer.o ./obj/tree.o ./obj/lstm_layer.o ./obj/l2norm_layer.o ./obj/yolo_layer.o ./obj/iseg_layer.o ./obj/image_opencv.o libdarknet.so libdarknet.a darknet ./obj/captcha.o ./obj/lsd.o ./obj/super.o ./obj/art.o ./obj/tag.o ./obj/cifar.o ./obj/go.o ./obj/rnn.o ./obj/segmenter.o ./obj/regressor.o ./obj/classifier.o ./obj/coco.o ./obj/yolo.o ./obj/detector.o ./obj/nightmare.o ./obj/instance-segmenter.o ./obj/darknet.o ./obj/test.o ./obj//*\n",
      "NNPACK=1\n",
      "GEMM=1\n",
      "CPP=aarch64-none-linux-gnu-g++\n",
      "CC=aarch64-none-linux-gnu-gcc\n",
      "aarch64-none-linux-gnu-gcc -Iinclude/ -Isrc/ -Wall -Wno-unused-result -Wno-unknown-pragmas -Wfatal-errors -static -Ofast -fno-tree-vectorize -DNNPACK -c ./src/gemm.c -o obj/gemm.o\n",
      "aarch64-none-linux-gnu-gcc -Iinclude/ -Isrc/ -Wall -Wno-unused-result -Wno-unknown-pragmas -Wfatal-errors -static -Ofast -fno-tree-vectorize -DNNPACK -c ./src/utils.c -o obj/utils.o\n"
     ]
    },
    {
     "name": "stderr",
     "output_type": "stream",
     "text": [
      "In function ‘copy_string’,\n",
      "    inlined from ‘basecfg’ at ./src/utils.c:187:9:\n",
      "./src/utils.c:426:5: warning: ‘strncpy’ specified bound depends on the length of the source argument [-Wstringop-overflow=]\n",
      "  426 |     strncpy(copy, s, strlen(s)+1);\n",
      "      |     ^~~~~~~~~~~~~~~~~~~~~~~~~~~~~\n",
      "./src/utils.c: In function ‘basecfg’:\n",
      "./src/utils.c:426:22: note: length computed here\n",
      "  426 |     strncpy(copy, s, strlen(s)+1);\n",
      "      |                      ^~~~~~~~~\n",
      "./src/utils.c: In function ‘copy_string’:\n",
      "./src/utils.c:426:5: warning: ‘strncpy’ specified bound depends on the length of the source argument [-Wstringop-overflow=]\n",
      "  426 |     strncpy(copy, s, strlen(s)+1);\n",
      "      |     ^~~~~~~~~~~~~~~~~~~~~~~~~~~~~\n",
      "./src/utils.c:426:22: note: length computed here\n",
      "  426 |     strncpy(copy, s, strlen(s)+1);\n",
      "      |                      ^~~~~~~~~\n",
      "In function ‘copy_string’,\n",
      "    inlined from ‘parse_csv_line’ at ./src/utils.c:439:28:\n",
      "./src/utils.c:426:5: warning: ‘strncpy’ specified bound depends on the length of the source argument [-Wstringop-overflow=]\n",
      "  426 |     strncpy(copy, s, strlen(s)+1);\n",
      "      |     ^~~~~~~~~~~~~~~~~~~~~~~~~~~~~\n",
      "./src/utils.c: In function ‘parse_csv_line’:\n",
      "./src/utils.c:426:22: note: length computed here\n",
      "  426 |     strncpy(copy, s, strlen(s)+1);\n",
      "      |                      ^~~~~~~~~\n",
      "In function ‘copy_string’,\n",
      "    inlined from ‘parse_csv_line’ at ./src/utils.c:443:20:\n",
      "./src/utils.c:426:5: warning: ‘strncpy’ specified bound depends on the length of the source argument [-Wstringop-overflow=]\n",
      "  426 |     strncpy(copy, s, strlen(s)+1);\n",
      "      |     ^~~~~~~~~~~~~~~~~~~~~~~~~~~~~\n",
      "./src/utils.c: In function ‘parse_csv_line’:\n",
      "./src/utils.c:426:22: note: length computed here\n",
      "  426 |     strncpy(copy, s, strlen(s)+1);\n",
      "      |                      ^~~~~~~~~\n"
     ]
    },
    {
     "name": "stdout",
     "output_type": "stream",
     "text": [
      "aarch64-none-linux-gnu-gcc -Iinclude/ -Isrc/ -Wall -Wno-unused-result -Wno-unknown-pragmas -Wfatal-errors -static -Ofast -fno-tree-vectorize -DNNPACK -c ./src/cuda.c -o obj/cuda.o\n",
      "aarch64-none-linux-gnu-gcc -Iinclude/ -Isrc/ -Wall -Wno-unused-result -Wno-unknown-pragmas -Wfatal-errors -static -Ofast -fno-tree-vectorize -DNNPACK -c ./src/deconvolutional_layer.c -o obj/deconvolutional_layer.o\n",
      "aarch64-none-linux-gnu-gcc -Iinclude/ -Isrc/ -Wall -Wno-unused-result -Wno-unknown-pragmas -Wfatal-errors -static -Ofast -fno-tree-vectorize -DNNPACK -c ./src/convolutional_layer.c -o obj/convolutional_layer.o\n",
      "aarch64-none-linux-gnu-gcc -Iinclude/ -Isrc/ -Wall -Wno-unused-result -Wno-unknown-pragmas -Wfatal-errors -static -Ofast -fno-tree-vectorize -DNNPACK -c ./src/list.c -o obj/list.o\n",
      "aarch64-none-linux-gnu-gcc -Iinclude/ -Isrc/ -Wall -Wno-unused-result -Wno-unknown-pragmas -Wfatal-errors -static -Ofast -fno-tree-vectorize -DNNPACK -c ./src/image.c -o obj/image.o\n",
      "aarch64-none-linux-gnu-gcc -Iinclude/ -Isrc/ -Wall -Wno-unused-result -Wno-unknown-pragmas -Wfatal-errors -static -Ofast -fno-tree-vectorize -DNNPACK -c ./src/activations.c -o obj/activations.o\n",
      "aarch64-none-linux-gnu-gcc -Iinclude/ -Isrc/ -Wall -Wno-unused-result -Wno-unknown-pragmas -Wfatal-errors -static -Ofast -fno-tree-vectorize -DNNPACK -c ./src/im2col.c -o obj/im2col.o\n",
      "aarch64-none-linux-gnu-gcc -Iinclude/ -Isrc/ -Wall -Wno-unused-result -Wno-unknown-pragmas -Wfatal-errors -static -Ofast -fno-tree-vectorize -DNNPACK -c ./src/col2im.c -o obj/col2im.o\n",
      "aarch64-none-linux-gnu-gcc -Iinclude/ -Isrc/ -Wall -Wno-unused-result -Wno-unknown-pragmas -Wfatal-errors -static -Ofast -fno-tree-vectorize -DNNPACK -c ./src/blas.c -o obj/blas.o\n",
      "aarch64-none-linux-gnu-gcc -Iinclude/ -Isrc/ -Wall -Wno-unused-result -Wno-unknown-pragmas -Wfatal-errors -static -Ofast -fno-tree-vectorize -DNNPACK -c ./src/crop_layer.c -o obj/crop_layer.o\n",
      "aarch64-none-linux-gnu-gcc -Iinclude/ -Isrc/ -Wall -Wno-unused-result -Wno-unknown-pragmas -Wfatal-errors -static -Ofast -fno-tree-vectorize -DNNPACK -c ./src/dropout_layer.c -o obj/dropout_layer.o\n",
      "aarch64-none-linux-gnu-gcc -Iinclude/ -Isrc/ -Wall -Wno-unused-result -Wno-unknown-pragmas -Wfatal-errors -static -Ofast -fno-tree-vectorize -DNNPACK -c ./src/maxpool_layer.c -o obj/maxpool_layer.o\n",
      "aarch64-none-linux-gnu-gcc -Iinclude/ -Isrc/ -Wall -Wno-unused-result -Wno-unknown-pragmas -Wfatal-errors -static -Ofast -fno-tree-vectorize -DNNPACK -c ./src/softmax_layer.c -o obj/softmax_layer.o\n",
      "aarch64-none-linux-gnu-gcc -Iinclude/ -Isrc/ -Wall -Wno-unused-result -Wno-unknown-pragmas -Wfatal-errors -static -Ofast -fno-tree-vectorize -DNNPACK -c ./src/data.c -o obj/data.o\n",
      "aarch64-none-linux-gnu-gcc -Iinclude/ -Isrc/ -Wall -Wno-unused-result -Wno-unknown-pragmas -Wfatal-errors -static -Ofast -fno-tree-vectorize -DNNPACK -c ./src/matrix.c -o obj/matrix.o\n",
      "aarch64-none-linux-gnu-gcc -Iinclude/ -Isrc/ -Wall -Wno-unused-result -Wno-unknown-pragmas -Wfatal-errors -static -Ofast -fno-tree-vectorize -DNNPACK -c ./src/network.c -o obj/network.o\n",
      "aarch64-none-linux-gnu-gcc -Iinclude/ -Isrc/ -Wall -Wno-unused-result -Wno-unknown-pragmas -Wfatal-errors -static -Ofast -fno-tree-vectorize -DNNPACK -c ./src/connected_layer.c -o obj/connected_layer.o\n",
      "aarch64-none-linux-gnu-gcc -Iinclude/ -Isrc/ -Wall -Wno-unused-result -Wno-unknown-pragmas -Wfatal-errors -static -Ofast -fno-tree-vectorize -DNNPACK -c ./src/cost_layer.c -o obj/cost_layer.o\n",
      "aarch64-none-linux-gnu-gcc -Iinclude/ -Isrc/ -Wall -Wno-unused-result -Wno-unknown-pragmas -Wfatal-errors -static -Ofast -fno-tree-vectorize -DNNPACK -c ./src/parser.c -o obj/parser.o\n",
      "aarch64-none-linux-gnu-gcc -Iinclude/ -Isrc/ -Wall -Wno-unused-result -Wno-unknown-pragmas -Wfatal-errors -static -Ofast -fno-tree-vectorize -DNNPACK -c ./src/option_list.c -o obj/option_list.o\n",
      "aarch64-none-linux-gnu-gcc -Iinclude/ -Isrc/ -Wall -Wno-unused-result -Wno-unknown-pragmas -Wfatal-errors -static -Ofast -fno-tree-vectorize -DNNPACK -c ./src/detection_layer.c -o obj/detection_layer.o\n",
      "aarch64-none-linux-gnu-gcc -Iinclude/ -Isrc/ -Wall -Wno-unused-result -Wno-unknown-pragmas -Wfatal-errors -static -Ofast -fno-tree-vectorize -DNNPACK -c ./src/route_layer.c -o obj/route_layer.o\n",
      "aarch64-none-linux-gnu-gcc -Iinclude/ -Isrc/ -Wall -Wno-unused-result -Wno-unknown-pragmas -Wfatal-errors -static -Ofast -fno-tree-vectorize -DNNPACK -c ./src/upsample_layer.c -o obj/upsample_layer.o\n",
      "aarch64-none-linux-gnu-gcc -Iinclude/ -Isrc/ -Wall -Wno-unused-result -Wno-unknown-pragmas -Wfatal-errors -static -Ofast -fno-tree-vectorize -DNNPACK -c ./src/box.c -o obj/box.o\n",
      "aarch64-none-linux-gnu-gcc -Iinclude/ -Isrc/ -Wall -Wno-unused-result -Wno-unknown-pragmas -Wfatal-errors -static -Ofast -fno-tree-vectorize -DNNPACK -c ./src/normalization_layer.c -o obj/normalization_layer.o\n",
      "aarch64-none-linux-gnu-gcc -Iinclude/ -Isrc/ -Wall -Wno-unused-result -Wno-unknown-pragmas -Wfatal-errors -static -Ofast -fno-tree-vectorize -DNNPACK -c ./src/avgpool_layer.c -o obj/avgpool_layer.o\n",
      "aarch64-none-linux-gnu-gcc -Iinclude/ -Isrc/ -Wall -Wno-unused-result -Wno-unknown-pragmas -Wfatal-errors -static -Ofast -fno-tree-vectorize -DNNPACK -c ./src/layer.c -o obj/layer.o\n",
      "aarch64-none-linux-gnu-gcc -Iinclude/ -Isrc/ -Wall -Wno-unused-result -Wno-unknown-pragmas -Wfatal-errors -static -Ofast -fno-tree-vectorize -DNNPACK -c ./src/local_layer.c -o obj/local_layer.o\n",
      "aarch64-none-linux-gnu-gcc -Iinclude/ -Isrc/ -Wall -Wno-unused-result -Wno-unknown-pragmas -Wfatal-errors -static -Ofast -fno-tree-vectorize -DNNPACK -c ./src/shortcut_layer.c -o obj/shortcut_layer.o\n",
      "aarch64-none-linux-gnu-gcc -Iinclude/ -Isrc/ -Wall -Wno-unused-result -Wno-unknown-pragmas -Wfatal-errors -static -Ofast -fno-tree-vectorize -DNNPACK -c ./src/logistic_layer.c -o obj/logistic_layer.o\n",
      "aarch64-none-linux-gnu-gcc -Iinclude/ -Isrc/ -Wall -Wno-unused-result -Wno-unknown-pragmas -Wfatal-errors -static -Ofast -fno-tree-vectorize -DNNPACK -c ./src/activation_layer.c -o obj/activation_layer.o\n",
      "aarch64-none-linux-gnu-gcc -Iinclude/ -Isrc/ -Wall -Wno-unused-result -Wno-unknown-pragmas -Wfatal-errors -static -Ofast -fno-tree-vectorize -DNNPACK -c ./src/rnn_layer.c -o obj/rnn_layer.o\n",
      "aarch64-none-linux-gnu-gcc -Iinclude/ -Isrc/ -Wall -Wno-unused-result -Wno-unknown-pragmas -Wfatal-errors -static -Ofast -fno-tree-vectorize -DNNPACK -c ./src/gru_layer.c -o obj/gru_layer.o\n",
      "aarch64-none-linux-gnu-gcc -Iinclude/ -Isrc/ -Wall -Wno-unused-result -Wno-unknown-pragmas -Wfatal-errors -static -Ofast -fno-tree-vectorize -DNNPACK -c ./src/crnn_layer.c -o obj/crnn_layer.o\n",
      "aarch64-none-linux-gnu-gcc -Iinclude/ -Isrc/ -Wall -Wno-unused-result -Wno-unknown-pragmas -Wfatal-errors -static -Ofast -fno-tree-vectorize -DNNPACK -c ./src/demo.c -o obj/demo.o\n",
      "aarch64-none-linux-gnu-gcc -Iinclude/ -Isrc/ -Wall -Wno-unused-result -Wno-unknown-pragmas -Wfatal-errors -static -Ofast -fno-tree-vectorize -DNNPACK -c ./src/batchnorm_layer.c -o obj/batchnorm_layer.o\n",
      "aarch64-none-linux-gnu-gcc -Iinclude/ -Isrc/ -Wall -Wno-unused-result -Wno-unknown-pragmas -Wfatal-errors -static -Ofast -fno-tree-vectorize -DNNPACK -c ./src/region_layer.c -o obj/region_layer.o\n",
      "aarch64-none-linux-gnu-gcc -Iinclude/ -Isrc/ -Wall -Wno-unused-result -Wno-unknown-pragmas -Wfatal-errors -static -Ofast -fno-tree-vectorize -DNNPACK -c ./src/reorg_layer.c -o obj/reorg_layer.o\n",
      "aarch64-none-linux-gnu-gcc -Iinclude/ -Isrc/ -Wall -Wno-unused-result -Wno-unknown-pragmas -Wfatal-errors -static -Ofast -fno-tree-vectorize -DNNPACK -c ./src/tree.c -o obj/tree.o\n",
      "aarch64-none-linux-gnu-gcc -Iinclude/ -Isrc/ -Wall -Wno-unused-result -Wno-unknown-pragmas -Wfatal-errors -static -Ofast -fno-tree-vectorize -DNNPACK -c ./src/lstm_layer.c -o obj/lstm_layer.o\n",
      "aarch64-none-linux-gnu-gcc -Iinclude/ -Isrc/ -Wall -Wno-unused-result -Wno-unknown-pragmas -Wfatal-errors -static -Ofast -fno-tree-vectorize -DNNPACK -c ./src/l2norm_layer.c -o obj/l2norm_layer.o\n",
      "aarch64-none-linux-gnu-gcc -Iinclude/ -Isrc/ -Wall -Wno-unused-result -Wno-unknown-pragmas -Wfatal-errors -static -Ofast -fno-tree-vectorize -DNNPACK -c ./src/yolo_layer.c -o obj/yolo_layer.o\n",
      "aarch64-none-linux-gnu-gcc -Iinclude/ -Isrc/ -Wall -Wno-unused-result -Wno-unknown-pragmas -Wfatal-errors -static -Ofast -fno-tree-vectorize -DNNPACK -c ./src/iseg_layer.c -o obj/iseg_layer.o\n",
      "aarch64-none-linux-gnu-g++ -Iinclude/ -Isrc/ -Wall -Wno-unused-result -Wno-unknown-pragmas -Wfatal-errors -static -Ofast -fno-tree-vectorize -DNNPACK -c ./src/image_opencv.cpp -o obj/image_opencv.o\n",
      "ar rcs libdarknet.a obj/gemm.o obj/utils.o obj/cuda.o obj/deconvolutional_layer.o obj/convolutional_layer.o obj/list.o obj/image.o obj/activations.o obj/im2col.o obj/col2im.o obj/blas.o obj/crop_layer.o obj/dropout_layer.o obj/maxpool_layer.o obj/softmax_layer.o obj/data.o obj/matrix.o obj/network.o obj/connected_layer.o obj/cost_layer.o obj/parser.o obj/option_list.o obj/detection_layer.o obj/route_layer.o obj/upsample_layer.o obj/box.o obj/normalization_layer.o obj/avgpool_layer.o obj/layer.o obj/local_layer.o obj/shortcut_layer.o obj/logistic_layer.o obj/activation_layer.o obj/rnn_layer.o obj/gru_layer.o obj/crnn_layer.o obj/demo.o obj/batchnorm_layer.o obj/region_layer.o obj/reorg_layer.o obj/tree.o obj/lstm_layer.o obj/l2norm_layer.o obj/yolo_layer.o obj/iseg_layer.o obj/image_opencv.o\n",
      "aarch64-none-linux-gnu-gcc -Iinclude/ -Isrc/ -Wall -Wno-unused-result -Wno-unknown-pragmas -Wfatal-errors -static -Ofast -fno-tree-vectorize -DNNPACK -c ./examples/captcha.c -o obj/captcha.o\n"
     ]
    },
    {
     "name": "stdout",
     "output_type": "stream",
     "text": [
      "aarch64-none-linux-gnu-gcc -Iinclude/ -Isrc/ -Wall -Wno-unused-result -Wno-unknown-pragmas -Wfatal-errors -static -Ofast -fno-tree-vectorize -DNNPACK -c ./examples/lsd.c -o obj/lsd.o\n",
      "aarch64-none-linux-gnu-gcc -Iinclude/ -Isrc/ -Wall -Wno-unused-result -Wno-unknown-pragmas -Wfatal-errors -static -Ofast -fno-tree-vectorize -DNNPACK -c ./examples/super.c -o obj/super.o\n",
      "aarch64-none-linux-gnu-gcc -Iinclude/ -Isrc/ -Wall -Wno-unused-result -Wno-unknown-pragmas -Wfatal-errors -static -Ofast -fno-tree-vectorize -DNNPACK -c ./examples/art.c -o obj/art.o\n",
      "aarch64-none-linux-gnu-gcc -Iinclude/ -Isrc/ -Wall -Wno-unused-result -Wno-unknown-pragmas -Wfatal-errors -static -Ofast -fno-tree-vectorize -DNNPACK -c ./examples/tag.c -o obj/tag.o\n",
      "aarch64-none-linux-gnu-gcc -Iinclude/ -Isrc/ -Wall -Wno-unused-result -Wno-unknown-pragmas -Wfatal-errors -static -Ofast -fno-tree-vectorize -DNNPACK -c ./examples/cifar.c -o obj/cifar.o\n",
      "aarch64-none-linux-gnu-gcc -Iinclude/ -Isrc/ -Wall -Wno-unused-result -Wno-unknown-pragmas -Wfatal-errors -static -Ofast -fno-tree-vectorize -DNNPACK -c ./examples/go.c -o obj/go.o\n",
      "aarch64-none-linux-gnu-gcc -Iinclude/ -Isrc/ -Wall -Wno-unused-result -Wno-unknown-pragmas -Wfatal-errors -static -Ofast -fno-tree-vectorize -DNNPACK -c ./examples/rnn.c -o obj/rnn.o\n",
      "aarch64-none-linux-gnu-gcc -Iinclude/ -Isrc/ -Wall -Wno-unused-result -Wno-unknown-pragmas -Wfatal-errors -static -Ofast -fno-tree-vectorize -DNNPACK -c ./examples/segmenter.c -o obj/segmenter.o\n",
      "aarch64-none-linux-gnu-gcc -Iinclude/ -Isrc/ -Wall -Wno-unused-result -Wno-unknown-pragmas -Wfatal-errors -static -Ofast -fno-tree-vectorize -DNNPACK -c ./examples/regressor.c -o obj/regressor.o\n",
      "aarch64-none-linux-gnu-gcc -Iinclude/ -Isrc/ -Wall -Wno-unused-result -Wno-unknown-pragmas -Wfatal-errors -static -Ofast -fno-tree-vectorize -DNNPACK -c ./examples/classifier.c -o obj/classifier.o\n",
      "aarch64-none-linux-gnu-gcc -Iinclude/ -Isrc/ -Wall -Wno-unused-result -Wno-unknown-pragmas -Wfatal-errors -static -Ofast -fno-tree-vectorize -DNNPACK -c ./examples/coco.c -o obj/coco.o\n",
      "aarch64-none-linux-gnu-gcc -Iinclude/ -Isrc/ -Wall -Wno-unused-result -Wno-unknown-pragmas -Wfatal-errors -static -Ofast -fno-tree-vectorize -DNNPACK -c ./examples/yolo.c -o obj/yolo.o\n",
      "aarch64-none-linux-gnu-gcc -Iinclude/ -Isrc/ -Wall -Wno-unused-result -Wno-unknown-pragmas -Wfatal-errors -static -Ofast -fno-tree-vectorize -DNNPACK -c ./examples/detector.c -o obj/detector.o\n"
     ]
    },
    {
     "name": "stderr",
     "output_type": "stream",
     "text": [
      "./examples/detector.c: In function ‘test_detector’:\n",
      "./examples/detector.c:597:16: warning: unused variable ‘X’ [-Wunused-variable]\n",
      "  597 |         float *X = sized.data;\n",
      "      |                ^\n"
     ]
    },
    {
     "name": "stdout",
     "output_type": "stream",
     "text": [
      "aarch64-none-linux-gnu-gcc -Iinclude/ -Isrc/ -Wall -Wno-unused-result -Wno-unknown-pragmas -Wfatal-errors -static -Ofast -fno-tree-vectorize -DNNPACK -c ./examples/nightmare.c -o obj/nightmare.o\n",
      "aarch64-none-linux-gnu-gcc -Iinclude/ -Isrc/ -Wall -Wno-unused-result -Wno-unknown-pragmas -Wfatal-errors -static -Ofast -fno-tree-vectorize -DNNPACK -c ./examples/instance-segmenter.c -o obj/instance-segmenter.o\n",
      "aarch64-none-linux-gnu-gcc -Iinclude/ -Isrc/ -Wall -Wno-unused-result -Wno-unknown-pragmas -Wfatal-errors -static -Ofast -fno-tree-vectorize -DNNPACK -c ./examples/darknet.c -o obj/darknet.o\n",
      "aarch64-none-linux-gnu-gcc -Iinclude/ -Isrc/ -Wall -Wno-unused-result -Wno-unknown-pragmas -Wfatal-errors -static -Ofast -fno-tree-vectorize -DNNPACK -c ./examples/test.c -o obj/test.o\n",
      "aarch64-none-linux-gnu-gcc -Iinclude/ -Isrc/ -Wall -Wno-unused-result -Wno-unknown-pragmas -Wfatal-errors -static -Ofast -fno-tree-vectorize -DNNPACK obj/captcha.o obj/lsd.o obj/super.o obj/art.o obj/tag.o obj/cifar.o obj/go.o obj/rnn.o obj/segmenter.o obj/regressor.o obj/classifier.o obj/coco.o obj/yolo.o obj/detector.o obj/nightmare.o obj/instance-segmenter.o obj/darknet.o obj/test.o libdarknet.a -o darknet -lm -pthread -L/home/fft_vec/arm-deps/usr/local/lib -l:libnnpack.a -l:libpthreadpool.a -l:libcpuinfo.a -l:libclog.a libdarknet.a\n",
      "/home/fft_vec/gem5/build/ARM/gem5.opt --outdir=./bench/build-ARM-gem5-opt/bench_yolo-20l/GEMM/256MB/ /home/fft_vec/gem5/configs/example/se.py --cpu-clock=2GHz --l1d_size=64kB --l1i_size=16kB --caches --output=stdout.txt  --errout=stderr.txt --l2_size=256MB --l2cache -c \"./darknet\" --options \"bench_yolo-20l\"\n",
      "\n",
      "\n"
     ]
    },
    {
     "name": "stderr",
     "output_type": "stream",
     "text": [
      "warn: The `get_runtime_isa` function is deprecated. Please migrate away from using this function.\n",
      "warn: The `get_runtime_isa` function is deprecated. Please migrate away from using this function.\n",
      "warn: No dot file generated. Please install pydot to generate the dot file and pdf.\n",
      "build/ARM/mem/dram_interface.cc:690: warn: DRAM device capacity (8192 Mbytes) does not match the address range assigned (512 Mbytes)\n"
     ]
    },
    {
     "name": "stdout",
     "output_type": "stream",
     "text": [
      "Global frequency set at 1000000000000 ticks per second\n"
     ]
    },
    {
     "name": "stderr",
     "output_type": "stream",
     "text": [
      "build/ARM/base/remote_gdb.cc:416: warn: Sockets disabled, not accepting gdb connections\n",
      "build/ARM/sim/simulate.cc:192: info: Entering event queue @ 0.  Starting simulation...\n",
      "build/ARM/sim/syscall_emul.cc:74: warn: ignoring syscall set_robust_list(...)\n",
      "build/ARM/sim/syscall_emul.cc:74: warn: ignoring syscall rt_sigaction(...)\n",
      "build/ARM/sim/syscall_emul.cc:74: warn: ignoring syscall rt_sigaction(...)\n",
      "build/ARM/sim/syscall_emul.cc:85: warn: ignoring syscall rt_sigprocmask(...)\n",
      "      (further warnings will be suppressed)\n",
      "build/ARM/arch/arm/insts/pseudo.cc:172: warn: \tinstruction 'bti' unimplemented\n",
      "build/ARM/sim/mem_state.cc:443: info: Increasing stack size by one page.\n",
      "build/ARM/sim/syscall_emul.cc:74: warn: ignoring syscall mprotect(...)\n",
      "build/ARM/sim/mem_state.cc:443: info: Increasing stack size by one page.\n"
     ]
    },
    {
     "name": "stdout",
     "output_type": "stream",
     "text": [
      "gem5 Simulator System.  https://www.gem5.org\n",
      "gem5 is copyrighted software; use the --copyright option for details.\n",
      "\n",
      "gem5 version 22.1.0.0\n",
      "gem5 compiled Jan 26 2023 15:06:33\n",
      "gem5 started Feb 14 2023 14:23:54\n",
      "gem5 executing on aldy, pid 2108266\n",
      "command line: /home/fft_vec/gem5/build/ARM/gem5.opt --outdir=./bench/build-ARM-gem5-opt/bench_yolo-20l/GEMM/256MB/ /home/fft_vec/gem5/configs/example/se.py --cpu-clock=2GHz --l1d_size=64kB --l1i_size=16kB --caches --output=stdout.txt --errout=stderr.txt --l2_size=256MB --l2cache -c ./darknet --options bench_yolo-20l\n",
      "\n",
      "info: Standard input is not a terminal, disabling listeners.\n",
      "**** REAL SIMULATION ****\n"
     ]
    },
    {
     "name": "stderr",
     "output_type": "stream",
     "text": [
      "build/ARM/sim/mem_state.cc:443: info: Increasing stack size by one page.\n",
      "build/ARM/sim/mem_state.cc:443: info: Increasing stack size by one page.\n"
     ]
    },
    {
     "name": "stdout",
     "output_type": "stream",
     "text": [
      "Exiting @ tick 310389858000 because exiting with last active thread context\n",
      "/home/fft_vec/gem5/build/ARM/gem5.opt --outdir=./bench/build-ARM-gem5-opt/bench_yolo-20l/GEMM/64MB/ /home/fft_vec/gem5/configs/example/se.py --cpu-clock=2GHz --l1d_size=64kB --l1i_size=16kB --caches --output=stdout.txt  --errout=stderr.txt --l2_size=64MB --l2cache -c \"./darknet\" --options \"bench_yolo-20l\"\n",
      "\n",
      "\n"
     ]
    },
    {
     "name": "stderr",
     "output_type": "stream",
     "text": [
      "warn: The `get_runtime_isa` function is deprecated. Please migrate away from using this function.\n",
      "warn: The `get_runtime_isa` function is deprecated. Please migrate away from using this function.\n",
      "warn: No dot file generated. Please install pydot to generate the dot file and pdf.\n",
      "build/ARM/mem/dram_interface.cc:690: warn: DRAM device capacity (8192 Mbytes) does not match the address range assigned (512 Mbytes)\n",
      "build/ARM/base/remote_gdb.cc:416: warn: Sockets disabled, not accepting gdb connections\n",
      "build/ARM/sim/simulate.cc:192: info: Entering event queue @ 0.  Starting simulation...\n",
      "build/ARM/sim/syscall_emul.cc:74: warn: ignoring syscall set_robust_list(...)\n",
      "build/ARM/sim/syscall_emul.cc:74: warn: ignoring syscall rt_sigaction(...)\n",
      "build/ARM/sim/syscall_emul.cc:74: warn: ignoring syscall rt_sigaction(...)\n",
      "build/ARM/sim/syscall_emul.cc:85: warn: ignoring syscall rt_sigprocmask(...)\n",
      "      (further warnings will be suppressed)\n",
      "build/ARM/arch/arm/insts/pseudo.cc:172: warn: \tinstruction 'bti' unimplemented\n",
      "build/ARM/sim/mem_state.cc:443: info: Increasing stack size by one page.\n",
      "build/ARM/sim/syscall_emul.cc:74: warn: ignoring syscall mprotect(...)\n",
      "build/ARM/sim/mem_state.cc:443: info: Increasing stack size by one page.\n"
     ]
    },
    {
     "name": "stdout",
     "output_type": "stream",
     "text": [
      "Global frequency set at 1000000000000 ticks per second\n",
      "gem5 Simulator System.  https://www.gem5.org\n",
      "gem5 is copyrighted software; use the --copyright option for details.\n",
      "\n",
      "gem5 version 22.1.0.0\n",
      "gem5 compiled Jan 26 2023 15:06:33\n",
      "gem5 started Feb 14 2023 14:27:46\n",
      "gem5 executing on aldy, pid 2121752\n",
      "command line: /home/fft_vec/gem5/build/ARM/gem5.opt --outdir=./bench/build-ARM-gem5-opt/bench_yolo-20l/GEMM/64MB/ /home/fft_vec/gem5/configs/example/se.py --cpu-clock=2GHz --l1d_size=64kB --l1i_size=16kB --caches --output=stdout.txt --errout=stderr.txt --l2_size=64MB --l2cache -c ./darknet --options bench_yolo-20l\n",
      "\n",
      "info: Standard input is not a terminal, disabling listeners.\n",
      "**** REAL SIMULATION ****\n"
     ]
    },
    {
     "name": "stderr",
     "output_type": "stream",
     "text": [
      "build/ARM/sim/mem_state.cc:443: info: Increasing stack size by one page.\n",
      "build/ARM/sim/mem_state.cc:443: info: Increasing stack size by one page.\n"
     ]
    },
    {
     "name": "stdout",
     "output_type": "stream",
     "text": [
      "Exiting @ tick 310389852500 because exiting with last active thread context\n",
      "/home/fft_vec/gem5/build/ARM/gem5.opt --outdir=./bench/build-ARM-gem5-opt/bench_yolo-20l/GEMM/8MB/ /home/fft_vec/gem5/configs/example/se.py --cpu-clock=2GHz --l1d_size=64kB --l1i_size=16kB --caches --output=stdout.txt  --errout=stderr.txt --l2_size=8MB --l2cache -c \"./darknet\" --options \"bench_yolo-20l\"\n",
      "\n",
      "\n"
     ]
    },
    {
     "name": "stderr",
     "output_type": "stream",
     "text": [
      "warn: The `get_runtime_isa` function is deprecated. Please migrate away from using this function.\n",
      "warn: The `get_runtime_isa` function is deprecated. Please migrate away from using this function.\n",
      "warn: No dot file generated. Please install pydot to generate the dot file and pdf.\n",
      "build/ARM/mem/dram_interface.cc:690: warn: DRAM device capacity (8192 Mbytes) does not match the address range assigned (512 Mbytes)\n",
      "build/ARM/base/remote_gdb.cc:416: warn: Sockets disabled, not accepting gdb connections\n",
      "build/ARM/sim/simulate.cc:192: info: Entering event queue @ 0.  Starting simulation...\n",
      "build/ARM/sim/syscall_emul.cc:74: warn: ignoring syscall set_robust_list(...)\n",
      "build/ARM/sim/syscall_emul.cc:74: warn: ignoring syscall rt_sigaction(...)\n",
      "build/ARM/sim/syscall_emul.cc:74: warn: ignoring syscall rt_sigaction(...)\n",
      "build/ARM/sim/syscall_emul.cc:85: warn: ignoring syscall rt_sigprocmask(...)\n",
      "      (further warnings will be suppressed)\n",
      "build/ARM/arch/arm/insts/pseudo.cc:172: warn: \tinstruction 'bti' unimplemented\n",
      "build/ARM/sim/mem_state.cc:443: info: Increasing stack size by one page.\n",
      "build/ARM/sim/syscall_emul.cc:74: warn: ignoring syscall mprotect(...)\n",
      "build/ARM/sim/mem_state.cc:443: info: Increasing stack size by one page.\n"
     ]
    },
    {
     "name": "stdout",
     "output_type": "stream",
     "text": [
      "Global frequency set at 1000000000000 ticks per second\n",
      "gem5 Simulator System.  https://www.gem5.org\n",
      "gem5 is copyrighted software; use the --copyright option for details.\n",
      "\n",
      "gem5 version 22.1.0.0\n",
      "gem5 compiled Jan 26 2023 15:06:33\n",
      "gem5 started Feb 14 2023 14:31:37\n",
      "gem5 executing on aldy, pid 2135196\n",
      "command line: /home/fft_vec/gem5/build/ARM/gem5.opt --outdir=./bench/build-ARM-gem5-opt/bench_yolo-20l/GEMM/8MB/ /home/fft_vec/gem5/configs/example/se.py --cpu-clock=2GHz --l1d_size=64kB --l1i_size=16kB --caches --output=stdout.txt --errout=stderr.txt --l2_size=8MB --l2cache -c ./darknet --options bench_yolo-20l\n",
      "\n",
      "info: Standard input is not a terminal, disabling listeners.\n",
      "**** REAL SIMULATION ****\n"
     ]
    },
    {
     "name": "stderr",
     "output_type": "stream",
     "text": [
      "build/ARM/sim/mem_state.cc:443: info: Increasing stack size by one page.\n",
      "build/ARM/sim/mem_state.cc:443: info: Increasing stack size by one page.\n"
     ]
    },
    {
     "name": "stdout",
     "output_type": "stream",
     "text": [
      "Exiting @ tick 310389847000 because exiting with last active thread context\n",
      "['./bench/build-ARM-gem5-opt/bench_yolo-20l/GEMM/256MB/', './bench/build-ARM-gem5-opt/bench_yolo-20l/GEMM/64MB/', './bench/build-ARM-gem5-opt/bench_yolo-20l/GEMM/8MB/']\n",
      "reading data from file:  ./bench/build-ARM-gem5-opt/bench_yolo-20l/GEMM/256MB/stats.txt \n",
      " \n",
      "reading data from file:  ./bench/build-ARM-gem5-opt/bench_yolo-20l/GEMM/64MB/stats.txt \n",
      " \n",
      "reading data from file:  ./bench/build-ARM-gem5-opt/bench_yolo-20l/GEMM/8MB/stats.txt \n",
      " \n",
      "[[('simTicks', 310389858000)], [('simTicks', 310389852500)], [('simTicks', 310389847000)]]\n",
      "([[('simTicks', 310389858000)], [('simTicks', 310389852500)], [('simTicks', 310389847000)]], ['./bench/build-ARM-gem5-opt/bench_yolo-20l/NO_PREDICT_NPP/256MB/', './bench/build-ARM-gem5-opt/bench_yolo-20l/NO_PREDICT_NPP/64MB/', './bench/build-ARM-gem5-opt/bench_yolo-20l/NO_PREDICT_NPP/8MB/'])\n",
      "hej--..:  [[('simTicks', 310389847000)], [('simTicks', 310389852500)], [('simTicks', 310389858000)]]\n",
      "då--..:  [[('simTicks', 310389847000)], [('simTicks', 310389852500)], [('simTicks', 310389858000)]]\n",
      "[0, 0, 0]\n",
      "['8MB', '64MB', '256MB']\n"
     ]
    },
    {
     "data": {
      "image/png": "[encoded data removed]",
      "text/plain": [
       "<Figure size 640x480 with 1 Axes>"
      ]
     },
     "metadata": {},
     "output_type": "display_data"
    }
   ],
   "source": [
    "gemmResult = runandPlot(Program.NNPACK_GEMM,yolo ,chaceOptions, chaceSizes, setupnppticks_npp)"
   ]
  },
  {
   "cell_type": "code",
   "execution_count": 53,
   "id": "614fc483",
   "metadata": {
    "scrolled": true
   },
   "outputs": [
    {
     "name": "stdout",
     "output_type": "stream",
     "text": [
      "reading data from file:  ./bench/build-ARM-gem5-opt/bench_yolo-20l/GEMM/256MB/stats.txt \n",
      " \n",
      "reading data from file:  ./bench/build-ARM-gem5-opt/bench_yolo-20l/GEMM/64MB/stats.txt \n",
      " \n",
      "reading data from file:  ./bench/build-ARM-gem5-opt/bench_yolo-20l/GEMM/8MB/stats.txt \n",
      " \n",
      "reading data from file:  ./bench/build-ARM-gem5-opt/bench_yolo-20l/NO_PREDICT_NPP/256MB/stats.txt \n",
      " \n",
      "reading data from file:  ./bench/build-ARM-gem5-opt/bench_yolo-20l/NO_PREDICT_NPP/64MB/stats.txt \n",
      " \n",
      "reading data from file:  ./bench/build-ARM-gem5-opt/bench_yolo-20l/NO_PREDICT_NPP/8MB/stats.txt \n",
      " \n",
      "hej--..:  [[('simTicks', 310389858000)], [('simTicks', 310389852500)], [('simTicks', 310389847000)]]\n",
      "då--..:  [[('simTicks', 310389858000)], [('simTicks', 310389852500)], [('simTicks', 310389847000)]]\n",
      "[0, 0, 0]\n",
      "['256MB', '64MB', '8MB']\n"
     ]
    },
    {
     "data": {
      "image/png": "[encoded data removed]",
      "text/plain": [
       "<Figure size 640x480 with 1 Axes>"
      ]
     },
     "metadata": {},
     "output_type": "display_data"
    }
   ],
   "source": [
    "readandplot(gemmResult[0],chaceSizes,setupnppticks_npp)"
   ]
  },
  {
   "cell_type": "code",
   "execution_count": 28,
   "id": "886c958a",
   "metadata": {},
   "outputs": [
    {
     "data": {
      "text/plain": [
       "[1, 2, 3]"
      ]
     },
     "execution_count": 28,
     "metadata": {},
     "output_type": "execute_result"
    }
   ],
   "source": [
    "LIST=[1,2,3,4]\n",
    "LIST[0:3:1]"
   ]
  }
 ],
 "metadata": {
  "kernelspec": {
   "display_name": "Python 3 (ipykernel)",
   "language": "python",
   "name": "python3"
  },
  "language_info": {
   "codemirror_mode": {
    "name": "ipython",
    "version": 3
   },
   "file_extension": ".py",
   "mimetype": "text/x-python",
   "name": "python",
   "nbconvert_exporter": "python",
   "pygments_lexer": "ipython3",
   "version": "3.10.6"
  }
 },
 "nbformat": 4,
 "nbformat_minor": 5
}
