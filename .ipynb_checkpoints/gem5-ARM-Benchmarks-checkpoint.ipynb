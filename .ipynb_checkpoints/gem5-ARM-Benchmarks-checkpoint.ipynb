{
 "cells": [
  {
   "cell_type": "markdown",
   "id": "01f08edd",
   "metadata": {},
   "source": [
    "# GEM5 ARM"
   ]
  },
  {
   "cell_type": "code",
   "execution_count": 1,
   "id": "dacd2a99",
   "metadata": {},
   "outputs": [],
   "source": [
    "import os\n",
    "import numpy as np\n",
    "import matplotlib.pyplot as plt\n",
    "from enum import Enum"
   ]
  },
  {
   "cell_type": "markdown",
   "id": "fba9a540",
   "metadata": {},
   "source": [
    "### vars"
   ]
  },
  {
   "cell_type": "code",
   "execution_count": 2,
   "id": "a932c2a7",
   "metadata": {},
   "outputs": [],
   "source": [
    "gem5Path = '/home/anton/Master/tools/gem5/gem5-Arm/' \n",
    "build = 'build/X86/gem5.opt'\n",
    "gem5 = gem5Path + build\n",
    "\n",
    "baseDir = './bench/'  + build.replace('.', '-').replace('/','-') + '/'"
   ]
  },
  {
   "cell_type": "code",
   "execution_count": 3,
   "id": "62c4a9a4",
   "metadata": {},
   "outputs": [],
   "source": [
    "config = gem5Path + 'configs/example/se.py'"
   ]
  },
  {
   "cell_type": "code",
   "execution_count": 4,
   "id": "b08d9e3c",
   "metadata": {},
   "outputs": [],
   "source": [
    "defultOption = \"--cpu-type=TimingSimpleCPU --cpu-clock=2GHz --l1d_size=64kB --l1i_size=16kB --caches\""
   ]
  },
  {
   "cell_type": "code",
   "execution_count": 5,
   "id": "be40e636",
   "metadata": {},
   "outputs": [],
   "source": [
    "darknet = './darknet'\n",
    "yolo = 'benc_yolo'\n",
    "vgg = 'todo' \n",
    "darknet19 = 'bench_darknet19'\n",
    "test = \"\""
   ]
  },
  {
   "cell_type": "code",
   "execution_count": 6,
   "id": "36988150",
   "metadata": {},
   "outputs": [],
   "source": [
    "class Program(Enum):\n",
    "    BASELINE = 0\n",
    "    NNPACK = 1"
   ]
  },
  {
   "cell_type": "markdown",
   "id": "a1d28d4d",
   "metadata": {},
   "source": [
    "## utils"
   ]
  },
  {
   "cell_type": "code",
   "execution_count": 7,
   "id": "b35e75f0",
   "metadata": {},
   "outputs": [],
   "source": [
    "def make(program):\n",
    "    \n",
    "    values = \"\"\n",
    "    \n",
    "    match program:\n",
    "        case Program.BASELINE: values = 'NNPACK=0'        \n",
    "        case Program.NNPACK:   values = 'NNPACK=1'\n",
    "            \n",
    "    os.system('make clean; make'+ ' ' +values ) "
   ]
  },
  {
   "cell_type": "code",
   "execution_count": 8,
   "id": "b8d96f05",
   "metadata": {},
   "outputs": [],
   "source": [
    "def optionsToSubDir(benchmark, program, tag):\n",
    "    #options, benchmark\n",
    "    #benchmark/nnpack/tag/\n",
    "    #benchmark/base/tag/\n",
    "    #ex : darknet19/base/256MB\n",
    "    \n",
    "    programStr = 'nan'\n",
    "    \n",
    "    match program:\n",
    "        case Program.BASELINE: programStr = 'baseline'        \n",
    "        case Program.NNPACK: programStr = 'nnpack'\n",
    "\n",
    "    path = '/'.join([benchmark,programStr,tag]) + '/'\n",
    "    \n",
    "    return path"
   ]
  },
  {
   "cell_type": "code",
   "execution_count": 9,
   "id": "e749436e",
   "metadata": {},
   "outputs": [],
   "source": [
    "def cyclesToSetup():\n",
    "    return 0"
   ]
  },
  {
   "cell_type": "code",
   "execution_count": 10,
   "id": "9be48141",
   "metadata": {},
   "outputs": [],
   "source": [
    "def readData(Dirs):\n",
    "    data = []\n",
    "    names = ['simTicks']\n",
    "    for Dir in Dirs: \n",
    "    \n",
    "        result = []\n",
    "    \n",
    "        with open(Dir+'stats.txt', 'r') as fp:\n",
    "            lines = fp.readlines()\n",
    "            for row in lines:\n",
    "                for name in names:\n",
    "                    if row.find(name) == 0:\n",
    "                        value = int(row.split()[1])\n",
    "                        result.append((name,value))\n",
    "    \n",
    "        data.append(result)                \n",
    "        \n",
    "    return data"
   ]
  },
  {
   "cell_type": "code",
   "execution_count": 11,
   "id": "1e538f5a",
   "metadata": {},
   "outputs": [],
   "source": [
    "def bench(benchmark, options, program, tag):\n",
    "\n",
    "    outDir =  baseDir + optionsToSubDir(benchmark, program, tag)\n",
    "    out = '--outdir='+ outDir\n",
    "    \n",
    "    binary = '-c ' + '\"'+ darknet  + '\"' + ' --options ' + '\"' + benchmark + '\"'\n",
    "    \n",
    "    cmd = ' '.join([gem5,out,config,defultOption,options,binary])\n",
    "   \n",
    "    print(cmd + '\\n\\n')\n",
    "    \n",
    "    os.system(cmd)\n",
    "    \n",
    "    return(outDir)"
   ]
  },
  {
   "cell_type": "code",
   "execution_count": 12,
   "id": "f82d8104",
   "metadata": {},
   "outputs": [],
   "source": [
    "def run_benchmark(benchmark, options, nnpack, tag):\n",
    "    out = bench(benchmark, options, nnpack, tag)\n",
    "    return(out)"
   ]
  },
  {
   "cell_type": "code",
   "execution_count": 13,
   "id": "c750a6e8",
   "metadata": {},
   "outputs": [],
   "source": [
    "def benchOptions(benchmark, optionsList, program, tags):\n",
    "    \n",
    "    n = len(optionsList)\n",
    "    \n",
    "    out = [None] * n\n",
    "    \n",
    "    for i in range(n):\n",
    "        out[i] = run_benchmark(benchmark, optionsList[i], program, tags[i])\n",
    "        \n",
    "    return(out)"
   ]
  },
  {
   "cell_type": "code",
   "execution_count": 14,
   "id": "17316b87",
   "metadata": {},
   "outputs": [],
   "source": [
    "def benchOptionsMatrix(benchmark, options1, options2, nnpack, tags1, tags2): #to bench vector and l2 chace\n",
    "    options =[opt1 + ' ' + opt2 for opt1 in options1 for opt2 in options2]\n",
    "    tags = [tag1 + '_' + tag2 for tag1 in tags1 for tag2 in tags2]\n",
    "    \n",
    "    out = benchOptions(benchmark, options, nnpack, tags) \n",
    "    return(out)"
   ]
  },
  {
   "cell_type": "markdown",
   "id": "64896ebd",
   "metadata": {},
   "source": [
    "### util graphs"
   ]
  },
  {
   "cell_type": "code",
   "execution_count": 15,
   "id": "ffae44a3",
   "metadata": {},
   "outputs": [],
   "source": [
    "def plotChaceVsCycle(chaces,data):\n",
    "    cycles = [ i[0][1] for i in data]\n",
    "    fig = plt.figure()\n",
    "    ax = fig.add_axes([0,0,1,1])\n",
    "    ax.bar(chaces,cycles)\n",
    "    plt.show()\n",
    "    \n",
    "    "
   ]
  },
  {
   "cell_type": "markdown",
   "id": "a07b4619",
   "metadata": {},
   "source": [
    "# X86 Darknet19 and L2 chace"
   ]
  },
  {
   "cell_type": "code",
   "execution_count": 16,
   "id": "257a0492",
   "metadata": {},
   "outputs": [
    {
     "data": {
      "text/plain": [
       "['--l2_size=256MB --l2cache',\n",
       " '--l2_size=64MB --l2cache',\n",
       " '--l2_size=8MB --l2cache',\n",
       " '--l2_size=1MB --l2cache']"
      ]
     },
     "execution_count": 16,
     "metadata": {},
     "output_type": "execute_result"
    }
   ],
   "source": [
    "chaceSizes = ['256MB','64MB','8MB','1MB']\n",
    "chaceOptions = ['--l2_size=' + size + ' --l2cache' for size in chaceSizes]\n",
    "chaceOptions"
   ]
  },
  {
   "cell_type": "markdown",
   "id": "c360ed52",
   "metadata": {},
   "source": [
    "## baseline"
   ]
  },
  {
   "cell_type": "code",
   "execution_count": 21,
   "id": "0059c848",
   "metadata": {
    "scrolled": false
   },
   "outputs": [],
   "source": [
    "#make(Program.BASELINE)"
   ]
  },
  {
   "cell_type": "code",
   "execution_count": 18,
   "id": "89105d53",
   "metadata": {
    "scrolled": true
   },
   "outputs": [],
   "source": [
    "#baseline_darknet19_chace_out = benchOptions(darknet19,chaceOptions,Program.BASELINE,chaceSizes)"
   ]
  },
  {
   "cell_type": "code",
   "execution_count": 19,
   "id": "c6f7537c",
   "metadata": {},
   "outputs": [],
   "source": [
    "#baseline_darknet19_chace_data = readData(baseline_darknet19_chace_out)"
   ]
  },
  {
   "cell_type": "code",
   "execution_count": 20,
   "id": "0163c412",
   "metadata": {},
   "outputs": [],
   "source": [
    "plotChaceVsCycle(reversed(chaceSizes),reversed(baseline_darknet19_chace_data))"
   ]
  },
  {
   "cell_type": "code",
   "execution_count": null,
   "id": "6f32ab34",
   "metadata": {},
   "outputs": [],
   "source": []
  },
  {
   "cell_type": "markdown",
   "id": "14cc4663",
   "metadata": {},
   "source": [
    "## nnpack"
   ]
  },
  {
   "cell_type": "code",
   "execution_count": null,
   "id": "3fb088d7",
   "metadata": {},
   "outputs": [],
   "source": [
    "#make(Program.NNPACK)"
   ]
  },
  {
   "cell_type": "code",
   "execution_count": null,
   "id": "c65f3dd8",
   "metadata": {},
   "outputs": [],
   "source": [
    "#nnpack_darknet19_chace_out = benchOptions(darknet19,chaceOptions,Program.NNPACK,chaceSizes)"
   ]
  },
  {
   "cell_type": "code",
   "execution_count": null,
   "id": "38ea7def",
   "metadata": {},
   "outputs": [],
   "source": [
    "#nnpack_darknet19_chace_data = readdata(nnpack_darknet19_chace_out)"
   ]
  },
  {
   "cell_type": "code",
   "execution_count": null,
   "id": "44497512",
   "metadata": {},
   "outputs": [],
   "source": [
    "plotChaceVsCycle(chaceSize.reverse(),baseline_darknet19_chace_data.reverse())"
   ]
  },
  {
   "cell_type": "code",
   "execution_count": null,
   "id": "b08a0418",
   "metadata": {},
   "outputs": [],
   "source": [
    "\n"
   ]
  }
 ],
 "metadata": {
  "kernelspec": {
   "display_name": "Python 3 (ipykernel)",
   "language": "python",
   "name": "python3"
  },
  "language_info": {
   "codemirror_mode": {
    "name": "ipython",
    "version": 3
   },
   "file_extension": ".py",
   "mimetype": "text/x-python",
   "name": "python",
   "nbconvert_exporter": "python",
   "pygments_lexer": "ipython3",
   "version": "3.10.6"
  }
 },
 "nbformat": 4,
 "nbformat_minor": 5
}
